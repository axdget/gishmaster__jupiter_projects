{
 "cells": [
  {
   "cell_type": "code",
   "execution_count": null,
   "metadata": {},
   "outputs": [],
   "source": []
  },
  {
   "cell_type": "markdown",
   "metadata": {},
   "source": [
    "# Исследование объявлений о продаже квартир\n",
    "\n",
    "В вашем распоряжении данные сервиса Яндекс.Недвижимость — архив объявлений о продаже квартир в Санкт-Петербурге и соседних населённых пунктов за несколько лет. Нужно научиться определять рыночную стоимость объектов недвижимости. Ваша задача — установить параметры. Это позволит построить автоматизированную систему: она отследит аномалии и мошенническую деятельность. \n",
    "\n",
    "По каждой квартире на продажу доступны два вида данных. Первые вписаны пользователем, вторые — получены автоматически на основе картографических данных. Например, расстояние до центра, аэропорта, ближайшего парка и водоёма. "
   ]
  },
  {
   "cell_type": "markdown",
   "metadata": {},
   "source": [
    "### Откройте файл с данными и изучите общую информацию. "
   ]
  },
  {
   "cell_type": "code",
   "execution_count": 1,
   "metadata": {},
   "outputs": [],
   "source": [
    "import pandas as pd\n",
    "import matplotlib.pyplot as plt\n",
    "import seaborn as sb\n",
    "import math \n",
    "pd.set_option('display.max_rows',None)\n",
    "pd.set_option('display.max_columns',None)"
   ]
  },
  {
   "cell_type": "code",
   "execution_count": 2,
   "metadata": {},
   "outputs": [],
   "source": [
    "data = pd.read_csv('/datasets/real_estate_data.csv',sep ='\\t')"
   ]
  },
  {
   "cell_type": "code",
   "execution_count": 3,
   "metadata": {},
   "outputs": [
    {
     "name": "stdout",
     "output_type": "stream",
     "text": [
      "<class 'pandas.core.frame.DataFrame'>\n",
      "RangeIndex: 23699 entries, 0 to 23698\n",
      "Data columns (total 22 columns):\n",
      " #   Column                Non-Null Count  Dtype  \n",
      "---  ------                --------------  -----  \n",
      " 0   total_images          23699 non-null  int64  \n",
      " 1   last_price            23699 non-null  float64\n",
      " 2   total_area            23699 non-null  float64\n",
      " 3   first_day_exposition  23699 non-null  object \n",
      " 4   rooms                 23699 non-null  int64  \n",
      " 5   ceiling_height        14504 non-null  float64\n",
      " 6   floors_total          23613 non-null  float64\n",
      " 7   living_area           21796 non-null  float64\n",
      " 8   floor                 23699 non-null  int64  \n",
      " 9   is_apartment          2775 non-null   object \n",
      " 10  studio                23699 non-null  bool   \n",
      " 11  open_plan             23699 non-null  bool   \n",
      " 12  kitchen_area          21421 non-null  float64\n",
      " 13  balcony               12180 non-null  float64\n",
      " 14  locality_name         23650 non-null  object \n",
      " 15  airports_nearest      18157 non-null  float64\n",
      " 16  cityCenters_nearest   18180 non-null  float64\n",
      " 17  parks_around3000      18181 non-null  float64\n",
      " 18  parks_nearest         8079 non-null   float64\n",
      " 19  ponds_around3000      18181 non-null  float64\n",
      " 20  ponds_nearest         9110 non-null   float64\n",
      " 21  days_exposition       20518 non-null  float64\n",
      "dtypes: bool(2), float64(14), int64(3), object(3)\n",
      "memory usage: 3.7+ MB\n"
     ]
    },
    {
     "data": {
      "text/html": [
       "<div>\n",
       "<style scoped>\n",
       "    .dataframe tbody tr th:only-of-type {\n",
       "        vertical-align: middle;\n",
       "    }\n",
       "\n",
       "    .dataframe tbody tr th {\n",
       "        vertical-align: top;\n",
       "    }\n",
       "\n",
       "    .dataframe thead th {\n",
       "        text-align: right;\n",
       "    }\n",
       "</style>\n",
       "<table border=\"1\" class=\"dataframe\">\n",
       "  <thead>\n",
       "    <tr style=\"text-align: right;\">\n",
       "      <th></th>\n",
       "      <th>total_images</th>\n",
       "      <th>last_price</th>\n",
       "      <th>total_area</th>\n",
       "      <th>first_day_exposition</th>\n",
       "      <th>rooms</th>\n",
       "      <th>ceiling_height</th>\n",
       "      <th>floors_total</th>\n",
       "      <th>living_area</th>\n",
       "      <th>floor</th>\n",
       "      <th>is_apartment</th>\n",
       "      <th>studio</th>\n",
       "      <th>open_plan</th>\n",
       "      <th>kitchen_area</th>\n",
       "      <th>balcony</th>\n",
       "      <th>locality_name</th>\n",
       "      <th>airports_nearest</th>\n",
       "      <th>cityCenters_nearest</th>\n",
       "      <th>parks_around3000</th>\n",
       "      <th>parks_nearest</th>\n",
       "      <th>ponds_around3000</th>\n",
       "      <th>ponds_nearest</th>\n",
       "      <th>days_exposition</th>\n",
       "    </tr>\n",
       "  </thead>\n",
       "  <tbody>\n",
       "    <tr>\n",
       "      <th>0</th>\n",
       "      <td>20</td>\n",
       "      <td>13000000.0</td>\n",
       "      <td>108.0</td>\n",
       "      <td>2019-03-07T00:00:00</td>\n",
       "      <td>3</td>\n",
       "      <td>2.70</td>\n",
       "      <td>16.0</td>\n",
       "      <td>51.0</td>\n",
       "      <td>8</td>\n",
       "      <td>NaN</td>\n",
       "      <td>False</td>\n",
       "      <td>False</td>\n",
       "      <td>25.0</td>\n",
       "      <td>NaN</td>\n",
       "      <td>Санкт-Петербург</td>\n",
       "      <td>18863.0</td>\n",
       "      <td>16028.0</td>\n",
       "      <td>1.0</td>\n",
       "      <td>482.0</td>\n",
       "      <td>2.0</td>\n",
       "      <td>755.0</td>\n",
       "      <td>NaN</td>\n",
       "    </tr>\n",
       "    <tr>\n",
       "      <th>1</th>\n",
       "      <td>7</td>\n",
       "      <td>3350000.0</td>\n",
       "      <td>40.4</td>\n",
       "      <td>2018-12-04T00:00:00</td>\n",
       "      <td>1</td>\n",
       "      <td>NaN</td>\n",
       "      <td>11.0</td>\n",
       "      <td>18.6</td>\n",
       "      <td>1</td>\n",
       "      <td>NaN</td>\n",
       "      <td>False</td>\n",
       "      <td>False</td>\n",
       "      <td>11.0</td>\n",
       "      <td>2.0</td>\n",
       "      <td>посёлок Шушары</td>\n",
       "      <td>12817.0</td>\n",
       "      <td>18603.0</td>\n",
       "      <td>0.0</td>\n",
       "      <td>NaN</td>\n",
       "      <td>0.0</td>\n",
       "      <td>NaN</td>\n",
       "      <td>81.0</td>\n",
       "    </tr>\n",
       "    <tr>\n",
       "      <th>2</th>\n",
       "      <td>10</td>\n",
       "      <td>5196000.0</td>\n",
       "      <td>56.0</td>\n",
       "      <td>2015-08-20T00:00:00</td>\n",
       "      <td>2</td>\n",
       "      <td>NaN</td>\n",
       "      <td>5.0</td>\n",
       "      <td>34.3</td>\n",
       "      <td>4</td>\n",
       "      <td>NaN</td>\n",
       "      <td>False</td>\n",
       "      <td>False</td>\n",
       "      <td>8.3</td>\n",
       "      <td>0.0</td>\n",
       "      <td>Санкт-Петербург</td>\n",
       "      <td>21741.0</td>\n",
       "      <td>13933.0</td>\n",
       "      <td>1.0</td>\n",
       "      <td>90.0</td>\n",
       "      <td>2.0</td>\n",
       "      <td>574.0</td>\n",
       "      <td>558.0</td>\n",
       "    </tr>\n",
       "    <tr>\n",
       "      <th>3</th>\n",
       "      <td>0</td>\n",
       "      <td>64900000.0</td>\n",
       "      <td>159.0</td>\n",
       "      <td>2015-07-24T00:00:00</td>\n",
       "      <td>3</td>\n",
       "      <td>NaN</td>\n",
       "      <td>14.0</td>\n",
       "      <td>NaN</td>\n",
       "      <td>9</td>\n",
       "      <td>NaN</td>\n",
       "      <td>False</td>\n",
       "      <td>False</td>\n",
       "      <td>NaN</td>\n",
       "      <td>0.0</td>\n",
       "      <td>Санкт-Петербург</td>\n",
       "      <td>28098.0</td>\n",
       "      <td>6800.0</td>\n",
       "      <td>2.0</td>\n",
       "      <td>84.0</td>\n",
       "      <td>3.0</td>\n",
       "      <td>234.0</td>\n",
       "      <td>424.0</td>\n",
       "    </tr>\n",
       "    <tr>\n",
       "      <th>4</th>\n",
       "      <td>2</td>\n",
       "      <td>10000000.0</td>\n",
       "      <td>100.0</td>\n",
       "      <td>2018-06-19T00:00:00</td>\n",
       "      <td>2</td>\n",
       "      <td>3.03</td>\n",
       "      <td>14.0</td>\n",
       "      <td>32.0</td>\n",
       "      <td>13</td>\n",
       "      <td>NaN</td>\n",
       "      <td>False</td>\n",
       "      <td>False</td>\n",
       "      <td>41.0</td>\n",
       "      <td>NaN</td>\n",
       "      <td>Санкт-Петербург</td>\n",
       "      <td>31856.0</td>\n",
       "      <td>8098.0</td>\n",
       "      <td>2.0</td>\n",
       "      <td>112.0</td>\n",
       "      <td>1.0</td>\n",
       "      <td>48.0</td>\n",
       "      <td>121.0</td>\n",
       "    </tr>\n",
       "  </tbody>\n",
       "</table>\n",
       "</div>"
      ],
      "text/plain": [
       "   total_images  last_price  total_area first_day_exposition  rooms  \\\n",
       "0            20  13000000.0       108.0  2019-03-07T00:00:00      3   \n",
       "1             7   3350000.0        40.4  2018-12-04T00:00:00      1   \n",
       "2            10   5196000.0        56.0  2015-08-20T00:00:00      2   \n",
       "3             0  64900000.0       159.0  2015-07-24T00:00:00      3   \n",
       "4             2  10000000.0       100.0  2018-06-19T00:00:00      2   \n",
       "\n",
       "   ceiling_height  floors_total  living_area  floor is_apartment  studio  \\\n",
       "0            2.70          16.0         51.0      8          NaN   False   \n",
       "1             NaN          11.0         18.6      1          NaN   False   \n",
       "2             NaN           5.0         34.3      4          NaN   False   \n",
       "3             NaN          14.0          NaN      9          NaN   False   \n",
       "4            3.03          14.0         32.0     13          NaN   False   \n",
       "\n",
       "   open_plan  kitchen_area  balcony    locality_name  airports_nearest  \\\n",
       "0      False          25.0      NaN  Санкт-Петербург           18863.0   \n",
       "1      False          11.0      2.0   посёлок Шушары           12817.0   \n",
       "2      False           8.3      0.0  Санкт-Петербург           21741.0   \n",
       "3      False           NaN      0.0  Санкт-Петербург           28098.0   \n",
       "4      False          41.0      NaN  Санкт-Петербург           31856.0   \n",
       "\n",
       "   cityCenters_nearest  parks_around3000  parks_nearest  ponds_around3000  \\\n",
       "0              16028.0               1.0          482.0               2.0   \n",
       "1              18603.0               0.0            NaN               0.0   \n",
       "2              13933.0               1.0           90.0               2.0   \n",
       "3               6800.0               2.0           84.0               3.0   \n",
       "4               8098.0               2.0          112.0               1.0   \n",
       "\n",
       "   ponds_nearest  days_exposition  \n",
       "0          755.0              NaN  \n",
       "1            NaN             81.0  \n",
       "2          574.0            558.0  \n",
       "3          234.0            424.0  \n",
       "4           48.0            121.0  "
      ]
     },
     "metadata": {},
     "output_type": "display_data"
    },
    {
     "data": {
      "image/png": "[encoded data removed]",
      "text/plain": [
       "<Figure size 1080x1440 with 20 Axes>"
      ]
     },
     "metadata": {
      "needs_background": "light"
     },
     "output_type": "display_data"
    }
   ],
   "source": [
    "data.info()\n",
    "display(data.head())\n",
    "data.hist(figsize=(15, 20));"
   ]
  },
  {
   "cell_type": "markdown",
   "metadata": {},
   "source": [
    "#### Промежуточные выводы\n",
    "Файл прочтен успешно. В столбцах с данными о балконах,апартаментах, наличии прудов и парков много пропусков.Тип в столбцах о колличестве этажей и балконов нужно заменить на целочисленный тип. В столбце о дате публикации нужно будет форматировать строку в дату.\n",
    "\n",
    "Наблюдаются выбросы на графиках о длительности размещения объявления, жилой площади и площади кухни."
   ]
  },
  {
   "cell_type": "markdown",
   "metadata": {},
   "source": [
    "### Предобработка данных"
   ]
  },
  {
   "cell_type": "markdown",
   "metadata": {},
   "source": [
    "Считаем и удаляем дубликаты:"
   ]
  },
  {
   "cell_type": "code",
   "execution_count": 4,
   "metadata": {},
   "outputs": [],
   "source": [
    "data.duplicated().sum()\n",
    "data = data.drop_duplicates().reset_index(drop=True)"
   ]
  },
  {
   "cell_type": "markdown",
   "metadata": {},
   "source": [
    "Считаем и удаляем пропуски:"
   ]
  },
  {
   "cell_type": "code",
   "execution_count": 5,
   "metadata": {},
   "outputs": [
    {
     "name": "stdout",
     "output_type": "stream",
     "text": [
      "total_images                0\n",
      "last_price                  0\n",
      "total_area                  0\n",
      "first_day_exposition        0\n",
      "rooms                       0\n",
      "ceiling_height           9195\n",
      "floors_total               86\n",
      "living_area              1903\n",
      "floor                       0\n",
      "is_apartment            20924\n",
      "studio                      0\n",
      "open_plan                   0\n",
      "kitchen_area             2278\n",
      "balcony                 11519\n",
      "locality_name              49\n",
      "airports_nearest         5542\n",
      "cityCenters_nearest      5519\n",
      "parks_around3000         5518\n",
      "parks_nearest           15620\n",
      "ponds_around3000         5518\n",
      "ponds_nearest           14589\n",
      "days_exposition          3181\n",
      "dtype: int64\n"
     ]
    }
   ],
   "source": [
    "print(data.isna().sum())"
   ]
  },
  {
   "cell_type": "code",
   "execution_count": 6,
   "metadata": {},
   "outputs": [],
   "source": [
    "data = data.dropna(subset =['floors_total','locality_name']).reset_index(drop=True)\n"
   ]
  },
  {
   "cell_type": "markdown",
   "metadata": {},
   "source": [
    "В столбцах *locality_name* и *floors_total* строки с пропусками будут удалены так как их кол-во не значительно и востановить эти пропуски не получится, однако этажность и населенный пункт сильно влияют на стоимость жилья. Поэтому удаление этих строк не повлияет на качество вывода"
   ]
  },
  {
   "cell_type": "code",
   "execution_count": 7,
   "metadata": {},
   "outputs": [],
   "source": [
    "data.loc[data['ceiling_height'] > 19 ,'ceiling_height'] = data.loc[data['ceiling_height'] > 19 ,'ceiling_height'] = data['ceiling_height'] / 10"
   ]
  },
  {
   "cell_type": "code",
   "execution_count": 8,
   "metadata": {},
   "outputs": [],
   "source": [
    "data['balcony'] = data['balcony'].fillna(0)\n",
    "data['is_apartment'] = data['is_apartment'].fillna(False)\n",
    "#data['kitchen_area'] = data['kitchen_area'].fillna(0)"
   ]
  },
  {
   "cell_type": "markdown",
   "metadata": {},
   "source": [
    "Значения в высоты потолков больше 14м были уменьшены. Пропущенные данные по кол-ву балконов заменены на 0, так как скорей всего балкона в данной квартире нети люди ничего не указали. Также косательно статуса аппартамента, было всего 50 аппартаментов из указаных, значит люди скорей всего просто не указвали статус."
   ]
  },
  {
   "cell_type": "code",
   "execution_count": 9,
   "metadata": {},
   "outputs": [],
   "source": [
    "to_integers = ['floors_total','last_price','balcony','parks_around3000','ponds_around3000','days_exposition']\n",
    "for i in to_integers:\n",
    "    #data[i] = pd.to_numeric(data[i],downcast='integer')\n",
    "    data[i] = data[i].astype('int64', errors='ignore')"
   ]
  },
  {
   "cell_type": "markdown",
   "metadata": {},
   "source": [
    "Поменял тип данных на int64, так как это значения могут быть только целые.Изменил в столбцах:'floors_total','last_price','balcony'"
   ]
  },
  {
   "cell_type": "markdown",
   "metadata": {},
   "source": [
    "Удаляем неявные дубликаты:"
   ]
  },
  {
   "cell_type": "code",
   "execution_count": 10,
   "metadata": {},
   "outputs": [],
   "source": [
    "def local_type(row):\n",
    "    if 'поселок' in row['locality_name'] and 'коттедж' not in row['locality_name']:\n",
    "        if  len(row['locality_name'].split()) >= 3 and 'тип' not in row['locality_name'] and 'город' not in row['locality_name']:\n",
    "            a = \" \".join(row['locality_name'].split()[-1])\n",
    "            return 'поселок ' + a.replace(\" \", \"\")\n",
    "        else:\n",
    "            a = \" \".join(row['locality_name'].split()[-1])\n",
    "            return 'поселок '+a.replace(\" \", \"\")\n",
    "    elif 'поселок' in row['locality_name'] and 'коттедж' in row['locality_name']:\n",
    "          if  len(row['locality_name'].split()) > 3:\n",
    "            return 'коттеджный поселок '+ \" \".join(row['locality_name'].split()[-2:])\n",
    "          else:\n",
    "            return 'коттеджный поселок '+str(row['locality_name'].split()[-1])\n",
    "        \n",
    "    if 'село' in row['locality_name']:\n",
    "        if  len(row['locality_name'].split()) > 2:\n",
    "            return 'село '+\" \".join(row['locality_name'].split()[-2:])\n",
    "        else:\n",
    "            return 'село '+str(row['locality_name'].split()[-1])\n",
    "        \n",
    "    if 'товарищество' in row['locality_name']:\n",
    "        if  len(row['locality_name'].split()) >= 3 and 'тип' not in row['locality_name'] and 'город' not in row['locality_name']:\n",
    "            a = \" \".join(row['locality_name'].split()[-1])\n",
    "            return 'товарищество ' + a.replace(\" \", \"\")\n",
    "        else:\n",
    "            a = \" \".join(row['locality_name'].split()[-1])\n",
    "            return 'товарищество '+a.replace(\" \", \"\")\n",
    "    \n",
    "    if 'деревня' in row['locality_name']:\n",
    "        if  len(row['locality_name'].split()) >= 3:\n",
    "            return 'деревня '+ \" \".join(row['locality_name'].split()[-2:])\n",
    "        else:\n",
    "            return 'деревня '+str(row['locality_name'].split()[-1])\n",
    "    \n",
    "    if 'коттедж' in row['locality_name']:\n",
    "        if  len(row['locality_name'].split()) >= 3:\n",
    "            return 'коттеджный поселок '+ \" \".join(row['locality_name'].split()[-2:])\n",
    "        else:\n",
    "            return 'коттеджный поселок '+str(row['locality_name'].split()[-1])\n",
    "    \n",
    "    else:\n",
    "        return row['locality_name']"
   ]
  },
  {
   "cell_type": "code",
   "execution_count": 11,
   "metadata": {},
   "outputs": [],
   "source": [
    "def del_letter(row):\n",
    "    word = ''\n",
    "    for i in row['locality_name']:\n",
    "        if i == 'ё':\n",
    "            word += 'е'\n",
    "            continue\n",
    "        word += i    \n",
    "    row['locality_name'] = word    \n",
    "    return row['locality_name'] \n",
    "data['locality_name'] = data.apply(del_letter, axis = 1)\n",
    "data['new_toponims'] = data.apply(local_type,axis = 1)\n"
   ]
  },
  {
   "cell_type": "code",
   "execution_count": 12,
   "metadata": {},
   "outputs": [],
   "source": [
    "uniq_local = data['new_toponims'].unique()\n",
    "list_of_types = []\n",
    "for local in uniq_local:\n",
    "    if len(local.split()) > 1:\n",
    "        list_of_types.append(local.split()[-1])\n",
    "df = pd.DataFrame(list_of_types, columns=['a'])        \n",
    "list_of_towns = data['new_toponims'].value_counts().sort_values() \n",
    "list_of_towns.rename_axis('index').reset_index().sort_values(by ='index') \n",
    "df = df.value_counts()\n",
    "df = df.rename_axis('town').reset_index()\n",
    "df.columns = ['town','s']\n",
    "df = df.query('s > 1')"
   ]
  },
  {
   "cell_type": "markdown",
   "metadata": {},
   "source": [
    "полные названия дуликатов:"
   ]
  },
  {
   "cell_type": "code",
   "execution_count": 13,
   "metadata": {
    "scrolled": true
   },
   "outputs": [
    {
     "data": {
      "text/plain": [
       "108                                         Новая Ладога\n",
       "52                                          Сосновый Бор\n",
       "89                       городской поселок Большая Ижора\n",
       "93                         городской поселок Лесогорский\n",
       "120                                городской поселок Мга\n",
       "155                              городской поселок Назия\n",
       "90                             городской поселок Павлово\n",
       "223                             городской поселок Рощино\n",
       "262                          городской поселок Советский\n",
       "106                        городской поселок Федоровское\n",
       "118                                     деревня Бегуницы\n",
       "100                              деревня Большие Колпаны\n",
       "258                                          деревня Бор\n",
       "328                               деревня Борисова Грива\n",
       "166                                    деревня Гарболово\n",
       "269                                     деревня Зимитицы\n",
       "138                                     деревня Калитино\n",
       "321                              деревня Малая Романовка\n",
       "153                                деревня Малые Колпаны\n",
       "150                                     деревня Рабитицы\n",
       "161                              деревня Старые Бегуницы\n",
       "307                                деревня Трубников Бор\n",
       "14                                   деревня Федоровское\n",
       "140                                  деревня Чудской Бор\n",
       "237                                      деревня Щеглово\n",
       "326                            коттеджный поселок Лесное\n",
       "280                                    поселок Гарболово\n",
       "305                                      поселок Громово\n",
       "109                                     поселок Зимитицы\n",
       "308                                     поселок Калитино\n",
       "272                                       поселок Лесное\n",
       "311                        поселок Пансионат Зеленый Бор\n",
       "316                                     поселок Рабитицы\n",
       "56                                     поселок Романовка\n",
       "145                                        поселок Ропша\n",
       "114                                       поселок Рябово\n",
       "302                                   поселок Усть-Ижора\n",
       "245                           поселок Форт Красная Горка\n",
       "147                                      поселок Щеглово\n",
       "293                поселок городского типа Большая Ижора\n",
       "209                поселок городского типа Дружная Горка\n",
       "12                   поселок городского типа Красный Бор\n",
       "231                  поселок городского типа Лесогорский\n",
       "184                          поселок городского типа Мга\n",
       "249                        поселок городского типа Назия\n",
       "220                      поселок городского типа Павлово\n",
       "146                 поселок городского типа Приладожский\n",
       "96                         поселок городского типа Рахья\n",
       "58                        поселок городского типа Рощино\n",
       "178                       поселок городского типа Рябово\n",
       "78                     поселок городского типа Советский\n",
       "240           поселок при железнодорожной станции Вещево\n",
       "256    поселок при железнодорожной станции Приветнинское\n",
       "136                               поселок станции Вещево\n",
       "247                              поселок станции Громово\n",
       "168                        поселок станции Приветнинское\n",
       "24                      садовое товарищество Новая Ропша\n",
       "310                    садовое товарищество Приладожский\n",
       "159                           садовое товарищество Рахья\n",
       "63                                          село Павлово\n",
       "192                                   село Старая Ладога\n",
       "dtype: object"
      ]
     },
     "execution_count": 13,
     "metadata": {},
     "output_type": "execute_result"
    }
   ],
   "source": [
    "uniq_local = data['locality_name'].unique()\n",
    "list_of_types = []\n",
    "for local in uniq_local:\n",
    "    if len(local.split()) > 1:\n",
    "        list_of_types.append(local.split()[-1])\n",
    "    else:\n",
    "        local\n",
    "df = pd.DataFrame(list_of_types, \n",
    "    columns=['a'])        \n",
    "list_of_towns = data['locality_name'].value_counts().sort_values() \n",
    "list_of_towns.rename_axis('index').reset_index().sort_values(by ='index') \n",
    "df = df.value_counts()\n",
    "df = df.rename_axis('town').reset_index()\n",
    "df.columns = ['town','s']\n",
    "df = df.query('s > 1')\n",
    "def fuck(row):\n",
    "    for d in df['town']:\n",
    "        if d in str(row['locality_name']):\n",
    "            \n",
    "            return row['locality_name']\n",
    "uniq_local = pd.DataFrame(uniq_local, \n",
    "    columns=['locality_name'])\n",
    "final = uniq_local.apply(fuck, axis=1).dropna()\n",
    "final.sort_values()"
   ]
  },
  {
   "cell_type": "markdown",
   "metadata": {},
   "source": [
    "удаление слишком низких потолков и замена NAN на медианную высоту:"
   ]
  },
  {
   "cell_type": "code",
   "execution_count": 14,
   "metadata": {},
   "outputs": [],
   "source": [
    "data['ceiling_height'] = data.loc[data['ceiling_height']>2,'ceiling_height']\n",
    "data['ceiling_height'] = data.loc[data['ceiling_height']<8,'ceiling_height']\n",
    "data['ceiling_height'] = data['ceiling_height'].fillna(data['ceiling_height'].median())"
   ]
  },
  {
   "cell_type": "markdown",
   "metadata": {},
   "source": [
    "Удаление выбросов в столбцах:Стоимость недвижиости,кол-ва комнат,общей площади, время продажи "
   ]
  },
  {
   "cell_type": "code",
   "execution_count": 15,
   "metadata": {},
   "outputs": [
    {
     "data": {
      "text/html": [
       "<div>\n",
       "<style scoped>\n",
       "    .dataframe tbody tr th:only-of-type {\n",
       "        vertical-align: middle;\n",
       "    }\n",
       "\n",
       "    .dataframe tbody tr th {\n",
       "        vertical-align: top;\n",
       "    }\n",
       "\n",
       "    .dataframe thead th {\n",
       "        text-align: right;\n",
       "    }\n",
       "</style>\n",
       "<table border=\"1\" class=\"dataframe\">\n",
       "  <thead>\n",
       "    <tr style=\"text-align: right;\">\n",
       "      <th></th>\n",
       "      <th>price_mln</th>\n",
       "      <th>rooms</th>\n",
       "      <th>total_area</th>\n",
       "    </tr>\n",
       "  </thead>\n",
       "  <tbody>\n",
       "    <tr>\n",
       "      <th>count</th>\n",
       "      <td>23565.000000</td>\n",
       "      <td>23565.000000</td>\n",
       "      <td>23565.000000</td>\n",
       "    </tr>\n",
       "    <tr>\n",
       "      <th>mean</th>\n",
       "      <td>6.540058</td>\n",
       "      <td>2.070656</td>\n",
       "      <td>60.322824</td>\n",
       "    </tr>\n",
       "    <tr>\n",
       "      <th>std</th>\n",
       "      <td>10.910935</td>\n",
       "      <td>1.078591</td>\n",
       "      <td>35.657060</td>\n",
       "    </tr>\n",
       "    <tr>\n",
       "      <th>min</th>\n",
       "      <td>0.012190</td>\n",
       "      <td>0.000000</td>\n",
       "      <td>12.000000</td>\n",
       "    </tr>\n",
       "    <tr>\n",
       "      <th>25%</th>\n",
       "      <td>3.400000</td>\n",
       "      <td>1.000000</td>\n",
       "      <td>40.000000</td>\n",
       "    </tr>\n",
       "    <tr>\n",
       "      <th>50%</th>\n",
       "      <td>4.646000</td>\n",
       "      <td>2.000000</td>\n",
       "      <td>52.000000</td>\n",
       "    </tr>\n",
       "    <tr>\n",
       "      <th>75%</th>\n",
       "      <td>6.790000</td>\n",
       "      <td>3.000000</td>\n",
       "      <td>69.700000</td>\n",
       "    </tr>\n",
       "    <tr>\n",
       "      <th>max</th>\n",
       "      <td>763.000000</td>\n",
       "      <td>19.000000</td>\n",
       "      <td>900.000000</td>\n",
       "    </tr>\n",
       "  </tbody>\n",
       "</table>\n",
       "</div>"
      ],
      "text/plain": [
       "          price_mln         rooms    total_area\n",
       "count  23565.000000  23565.000000  23565.000000\n",
       "mean       6.540058      2.070656     60.322824\n",
       "std       10.910935      1.078591     35.657060\n",
       "min        0.012190      0.000000     12.000000\n",
       "25%        3.400000      1.000000     40.000000\n",
       "50%        4.646000      2.000000     52.000000\n",
       "75%        6.790000      3.000000     69.700000\n",
       "max      763.000000     19.000000    900.000000"
      ]
     },
     "metadata": {},
     "output_type": "display_data"
    },
    {
     "data": {
      "image/png": "[encoded data removed]",
      "text/plain": [
       "<Figure size 432x288 with 1 Axes>"
      ]
     },
     "metadata": {
      "needs_background": "light"
     },
     "output_type": "display_data"
    },
    {
     "data": {
      "image/png": "[encoded data removed]",
      "text/plain": [
       "<Figure size 432x288 with 1 Axes>"
      ]
     },
     "metadata": {
      "needs_background": "light"
     },
     "output_type": "display_data"
    },
    {
     "data": {
      "text/plain": [
       "<AxesSubplot:>"
      ]
     },
     "execution_count": 15,
     "metadata": {},
     "output_type": "execute_result"
    },
    {
     "data": {
      "image/png": "[encoded data removed]",
      "text/plain": [
       "<Figure size 432x288 with 1 Axes>"
      ]
     },
     "metadata": {
      "needs_background": "light"
     },
     "output_type": "display_data"
    }
   ],
   "source": [
    "#добавим столбец цена в миллионах чтобы было проще оценивать значения\n",
    "data['price_mln'] = data['last_price'] / 1000000\n",
    "display(data[['price_mln', 'rooms','total_area']].describe())\n",
    "data.boxplot(column='price_mln')\n",
    "plt.show()\n",
    "data.boxplot(column='rooms')\n",
    "plt.show()\n",
    "data.boxplot(column='total_area')"
   ]
  },
  {
   "cell_type": "markdown",
   "metadata": {},
   "source": [
    "Удаляются выбросы по:\n",
    "цене за пределеами интервала 600 тыс руб - 100млн\n",
    "кол-ву комнат больше 7и и больше 0\n",
    "общей площади меньше 200кв м и больше 20 кв. м \n",
    "удалены объявления страше 300 дней и меньше 2 дней.\n",
    "\n",
    "Возможно маленькая площадь так как продают комнату.\n",
    "Указывают 0 комнат так как продают студию\n",
    "длинный хвост в цене говорит об отдельном виде объектов: Элитная недвижимость."
   ]
  },
  {
   "cell_type": "code",
   "execution_count": 18,
   "metadata": {},
   "outputs": [],
   "source": [
    "\n",
    "data['last_price'] = data.loc[(data['last_price']>600000) & (data['last_price'] <100000000),'last_price']\n",
    "data['rooms'] = data.loc[(data['rooms']>0) & (data['rooms']<7),'rooms']\n",
    "data['total_area'] = data.loc[(data['total_area']>20)  & (data['total_area']<200),'total_area']\n",
    "data['days_exposition'] = data.loc[(data['days_exposition']>1)  & (data['days_exposition']<300),'days_exposition']"
   ]
  },
  {
   "cell_type": "code",
   "execution_count": 19,
   "metadata": {},
   "outputs": [
    {
     "data": {
      "text/plain": [
       "0.994345752985358"
      ]
     },
     "execution_count": 19,
     "metadata": {},
     "output_type": "execute_result"
    }
   ],
   "source": [
    "d = pd.read_csv('/datasets/real_estate_data.csv',sep ='\\t')\n",
    "\n",
    "data.shape[0] / d.shape[0]"
   ]
  },
  {
   "cell_type": "markdown",
   "metadata": {},
   "source": [
    "#### Промежуточный вывод\n",
    "Были удалены строки без информации о населеном пункте и этажности. Также устранены аномалии в высоте полков общей площади, кол-ве комнат и цене объекта,сменен тип данных у значений которые могут быть только целыми.Удалены дубликаты, неявные дубликаты устранны добавлением нового столбца."
   ]
  },
  {
   "cell_type": "markdown",
   "metadata": {},
   "source": [
    "### Посчитайте и добавьте в таблицу новые столбцы"
   ]
  },
  {
   "cell_type": "code",
   "execution_count": 20,
   "metadata": {},
   "outputs": [],
   "source": [
    "#цена одного квадратного метра;\n",
    "data['total_area'].dropna()\n",
    "data['meter_price'] = data['last_price'] / data['total_area']"
   ]
  },
  {
   "cell_type": "code",
   "execution_count": 21,
   "metadata": {},
   "outputs": [],
   "source": [
    "#день недели публикации объявления (0 — понедельник, 1 — вторник и так далее);\n",
    "#месяц публикации объявления;\n",
    "#год публикации объявления;\n",
    "data['first_day_exposition'] = pd.to_datetime(data['first_day_exposition'],format = '%Y-%m-%dT%H:%M:%S')\n",
    "data['day_exposition'] = data['first_day_exposition'].dt.weekday\n",
    "data['month_exposition'] = data['first_day_exposition'].dt.month\n",
    "data['year_exposition'] = data['first_day_exposition'].dt.year\n",
    "#расстояние до центра города в километрах (переведите из м в км и округлите до целых значений).\n",
    "data['cityCenters_nearest_km'] = data['cityCenters_nearest'] / 1000\n",
    "data['cityCenters_nearest_km'] = data['cityCenters_nearest_km'].round()\n",
    "\n",
    "#расстояние до аэропорта в километрах (переведите из м в км и округлите до целых значений).\n",
    "data['airports_nearest_km'] = data['airports_nearest'] / 1000\n",
    "data['airports_nearest_km'] = data['airports_nearest'].round()"
   ]
  },
  {
   "cell_type": "code",
   "execution_count": 22,
   "metadata": {},
   "outputs": [],
   "source": [
    "def flor(row):\n",
    "    if row['floor'] == row['floors_total']:\n",
    "        return 'последний'\n",
    "    if row['floor'] == 1:\n",
    "        return 'первый'\n",
    "    else:\n",
    "        return 'другой'"
   ]
  },
  {
   "cell_type": "code",
   "execution_count": 23,
   "metadata": {},
   "outputs": [],
   "source": [
    "#тип этажа квартиры (значения — «‎первый», «последний», «другой»);\n",
    "data['floor_type'] = data.apply(flor,axis = 1)"
   ]
  },
  {
   "cell_type": "code",
   "execution_count": 24,
   "metadata": {},
   "outputs": [
    {
     "data": {
      "text/html": [
       "<div>\n",
       "<style scoped>\n",
       "    .dataframe tbody tr th:only-of-type {\n",
       "        vertical-align: middle;\n",
       "    }\n",
       "\n",
       "    .dataframe tbody tr th {\n",
       "        vertical-align: top;\n",
       "    }\n",
       "\n",
       "    .dataframe thead th {\n",
       "        text-align: right;\n",
       "    }\n",
       "</style>\n",
       "<table border=\"1\" class=\"dataframe\">\n",
       "  <thead>\n",
       "    <tr style=\"text-align: right;\">\n",
       "      <th></th>\n",
       "      <th>total_images</th>\n",
       "      <th>last_price</th>\n",
       "      <th>total_area</th>\n",
       "      <th>first_day_exposition</th>\n",
       "      <th>rooms</th>\n",
       "      <th>ceiling_height</th>\n",
       "      <th>floors_total</th>\n",
       "      <th>living_area</th>\n",
       "      <th>floor</th>\n",
       "      <th>is_apartment</th>\n",
       "      <th>studio</th>\n",
       "      <th>open_plan</th>\n",
       "      <th>kitchen_area</th>\n",
       "      <th>balcony</th>\n",
       "      <th>locality_name</th>\n",
       "      <th>airports_nearest</th>\n",
       "      <th>cityCenters_nearest</th>\n",
       "      <th>parks_around3000</th>\n",
       "      <th>parks_nearest</th>\n",
       "      <th>ponds_around3000</th>\n",
       "      <th>ponds_nearest</th>\n",
       "      <th>days_exposition</th>\n",
       "      <th>new_toponims</th>\n",
       "      <th>price_mln</th>\n",
       "      <th>meter_price</th>\n",
       "      <th>day_exposition</th>\n",
       "      <th>month_exposition</th>\n",
       "      <th>year_exposition</th>\n",
       "      <th>cityCenters_nearest_km</th>\n",
       "      <th>airports_nearest_km</th>\n",
       "      <th>floor_type</th>\n",
       "    </tr>\n",
       "  </thead>\n",
       "  <tbody>\n",
       "    <tr>\n",
       "      <th>0</th>\n",
       "      <td>20</td>\n",
       "      <td>13000000.0</td>\n",
       "      <td>108.00</td>\n",
       "      <td>2019-03-07</td>\n",
       "      <td>3.0</td>\n",
       "      <td>2.70</td>\n",
       "      <td>16</td>\n",
       "      <td>51.00</td>\n",
       "      <td>8</td>\n",
       "      <td>False</td>\n",
       "      <td>False</td>\n",
       "      <td>False</td>\n",
       "      <td>25.00</td>\n",
       "      <td>0</td>\n",
       "      <td>Санкт-Петербург</td>\n",
       "      <td>18863.0</td>\n",
       "      <td>16028.0</td>\n",
       "      <td>1.0</td>\n",
       "      <td>482.0</td>\n",
       "      <td>2.0</td>\n",
       "      <td>755.0</td>\n",
       "      <td>NaN</td>\n",
       "      <td>Санкт-Петербург</td>\n",
       "      <td>13.000</td>\n",
       "      <td>120370.370370</td>\n",
       "      <td>3</td>\n",
       "      <td>3</td>\n",
       "      <td>2019</td>\n",
       "      <td>16.0</td>\n",
       "      <td>18863.0</td>\n",
       "      <td>другой</td>\n",
       "    </tr>\n",
       "    <tr>\n",
       "      <th>1</th>\n",
       "      <td>7</td>\n",
       "      <td>3350000.0</td>\n",
       "      <td>40.40</td>\n",
       "      <td>2018-12-04</td>\n",
       "      <td>1.0</td>\n",
       "      <td>2.65</td>\n",
       "      <td>11</td>\n",
       "      <td>18.60</td>\n",
       "      <td>1</td>\n",
       "      <td>False</td>\n",
       "      <td>False</td>\n",
       "      <td>False</td>\n",
       "      <td>11.00</td>\n",
       "      <td>2</td>\n",
       "      <td>поселок Шушары</td>\n",
       "      <td>12817.0</td>\n",
       "      <td>18603.0</td>\n",
       "      <td>0.0</td>\n",
       "      <td>NaN</td>\n",
       "      <td>0.0</td>\n",
       "      <td>NaN</td>\n",
       "      <td>81.0</td>\n",
       "      <td>поселок Шушары</td>\n",
       "      <td>3.350</td>\n",
       "      <td>82920.792079</td>\n",
       "      <td>1</td>\n",
       "      <td>12</td>\n",
       "      <td>2018</td>\n",
       "      <td>19.0</td>\n",
       "      <td>12817.0</td>\n",
       "      <td>первый</td>\n",
       "    </tr>\n",
       "    <tr>\n",
       "      <th>2</th>\n",
       "      <td>10</td>\n",
       "      <td>5196000.0</td>\n",
       "      <td>56.00</td>\n",
       "      <td>2015-08-20</td>\n",
       "      <td>2.0</td>\n",
       "      <td>2.65</td>\n",
       "      <td>5</td>\n",
       "      <td>34.30</td>\n",
       "      <td>4</td>\n",
       "      <td>False</td>\n",
       "      <td>False</td>\n",
       "      <td>False</td>\n",
       "      <td>8.30</td>\n",
       "      <td>0</td>\n",
       "      <td>Санкт-Петербург</td>\n",
       "      <td>21741.0</td>\n",
       "      <td>13933.0</td>\n",
       "      <td>1.0</td>\n",
       "      <td>90.0</td>\n",
       "      <td>2.0</td>\n",
       "      <td>574.0</td>\n",
       "      <td>NaN</td>\n",
       "      <td>Санкт-Петербург</td>\n",
       "      <td>5.196</td>\n",
       "      <td>92785.714286</td>\n",
       "      <td>3</td>\n",
       "      <td>8</td>\n",
       "      <td>2015</td>\n",
       "      <td>14.0</td>\n",
       "      <td>21741.0</td>\n",
       "      <td>другой</td>\n",
       "    </tr>\n",
       "    <tr>\n",
       "      <th>3</th>\n",
       "      <td>0</td>\n",
       "      <td>64900000.0</td>\n",
       "      <td>159.00</td>\n",
       "      <td>2015-07-24</td>\n",
       "      <td>3.0</td>\n",
       "      <td>2.65</td>\n",
       "      <td>14</td>\n",
       "      <td>NaN</td>\n",
       "      <td>9</td>\n",
       "      <td>False</td>\n",
       "      <td>False</td>\n",
       "      <td>False</td>\n",
       "      <td>NaN</td>\n",
       "      <td>0</td>\n",
       "      <td>Санкт-Петербург</td>\n",
       "      <td>28098.0</td>\n",
       "      <td>6800.0</td>\n",
       "      <td>2.0</td>\n",
       "      <td>84.0</td>\n",
       "      <td>3.0</td>\n",
       "      <td>234.0</td>\n",
       "      <td>NaN</td>\n",
       "      <td>Санкт-Петербург</td>\n",
       "      <td>64.900</td>\n",
       "      <td>408176.100629</td>\n",
       "      <td>4</td>\n",
       "      <td>7</td>\n",
       "      <td>2015</td>\n",
       "      <td>7.0</td>\n",
       "      <td>28098.0</td>\n",
       "      <td>другой</td>\n",
       "    </tr>\n",
       "    <tr>\n",
       "      <th>4</th>\n",
       "      <td>2</td>\n",
       "      <td>10000000.0</td>\n",
       "      <td>100.00</td>\n",
       "      <td>2018-06-19</td>\n",
       "      <td>2.0</td>\n",
       "      <td>3.03</td>\n",
       "      <td>14</td>\n",
       "      <td>32.00</td>\n",
       "      <td>13</td>\n",
       "      <td>False</td>\n",
       "      <td>False</td>\n",
       "      <td>False</td>\n",
       "      <td>41.00</td>\n",
       "      <td>0</td>\n",
       "      <td>Санкт-Петербург</td>\n",
       "      <td>31856.0</td>\n",
       "      <td>8098.0</td>\n",
       "      <td>2.0</td>\n",
       "      <td>112.0</td>\n",
       "      <td>1.0</td>\n",
       "      <td>48.0</td>\n",
       "      <td>121.0</td>\n",
       "      <td>Санкт-Петербург</td>\n",
       "      <td>10.000</td>\n",
       "      <td>100000.000000</td>\n",
       "      <td>1</td>\n",
       "      <td>6</td>\n",
       "      <td>2018</td>\n",
       "      <td>8.0</td>\n",
       "      <td>31856.0</td>\n",
       "      <td>другой</td>\n",
       "    </tr>\n",
       "    <tr>\n",
       "      <th>5</th>\n",
       "      <td>10</td>\n",
       "      <td>2890000.0</td>\n",
       "      <td>30.40</td>\n",
       "      <td>2018-09-10</td>\n",
       "      <td>1.0</td>\n",
       "      <td>2.65</td>\n",
       "      <td>12</td>\n",
       "      <td>14.40</td>\n",
       "      <td>5</td>\n",
       "      <td>False</td>\n",
       "      <td>False</td>\n",
       "      <td>False</td>\n",
       "      <td>9.10</td>\n",
       "      <td>0</td>\n",
       "      <td>городской поселок Янино-1</td>\n",
       "      <td>NaN</td>\n",
       "      <td>NaN</td>\n",
       "      <td>NaN</td>\n",
       "      <td>NaN</td>\n",
       "      <td>NaN</td>\n",
       "      <td>NaN</td>\n",
       "      <td>55.0</td>\n",
       "      <td>поселок Янино-1</td>\n",
       "      <td>2.890</td>\n",
       "      <td>95065.789474</td>\n",
       "      <td>0</td>\n",
       "      <td>9</td>\n",
       "      <td>2018</td>\n",
       "      <td>NaN</td>\n",
       "      <td>NaN</td>\n",
       "      <td>другой</td>\n",
       "    </tr>\n",
       "    <tr>\n",
       "      <th>6</th>\n",
       "      <td>6</td>\n",
       "      <td>3700000.0</td>\n",
       "      <td>37.30</td>\n",
       "      <td>2017-11-02</td>\n",
       "      <td>1.0</td>\n",
       "      <td>2.65</td>\n",
       "      <td>26</td>\n",
       "      <td>10.60</td>\n",
       "      <td>6</td>\n",
       "      <td>False</td>\n",
       "      <td>False</td>\n",
       "      <td>False</td>\n",
       "      <td>14.40</td>\n",
       "      <td>1</td>\n",
       "      <td>поселок Парголово</td>\n",
       "      <td>52996.0</td>\n",
       "      <td>19143.0</td>\n",
       "      <td>0.0</td>\n",
       "      <td>NaN</td>\n",
       "      <td>0.0</td>\n",
       "      <td>NaN</td>\n",
       "      <td>155.0</td>\n",
       "      <td>поселок Парголово</td>\n",
       "      <td>3.700</td>\n",
       "      <td>99195.710456</td>\n",
       "      <td>3</td>\n",
       "      <td>11</td>\n",
       "      <td>2017</td>\n",
       "      <td>19.0</td>\n",
       "      <td>52996.0</td>\n",
       "      <td>другой</td>\n",
       "    </tr>\n",
       "    <tr>\n",
       "      <th>7</th>\n",
       "      <td>5</td>\n",
       "      <td>7915000.0</td>\n",
       "      <td>71.60</td>\n",
       "      <td>2019-04-18</td>\n",
       "      <td>2.0</td>\n",
       "      <td>2.65</td>\n",
       "      <td>24</td>\n",
       "      <td>NaN</td>\n",
       "      <td>22</td>\n",
       "      <td>False</td>\n",
       "      <td>False</td>\n",
       "      <td>False</td>\n",
       "      <td>18.90</td>\n",
       "      <td>2</td>\n",
       "      <td>Санкт-Петербург</td>\n",
       "      <td>23982.0</td>\n",
       "      <td>11634.0</td>\n",
       "      <td>0.0</td>\n",
       "      <td>NaN</td>\n",
       "      <td>0.0</td>\n",
       "      <td>NaN</td>\n",
       "      <td>NaN</td>\n",
       "      <td>Санкт-Петербург</td>\n",
       "      <td>7.915</td>\n",
       "      <td>110544.692737</td>\n",
       "      <td>3</td>\n",
       "      <td>4</td>\n",
       "      <td>2019</td>\n",
       "      <td>12.0</td>\n",
       "      <td>23982.0</td>\n",
       "      <td>другой</td>\n",
       "    </tr>\n",
       "    <tr>\n",
       "      <th>8</th>\n",
       "      <td>20</td>\n",
       "      <td>2900000.0</td>\n",
       "      <td>33.16</td>\n",
       "      <td>2018-05-23</td>\n",
       "      <td>1.0</td>\n",
       "      <td>2.65</td>\n",
       "      <td>27</td>\n",
       "      <td>15.43</td>\n",
       "      <td>26</td>\n",
       "      <td>False</td>\n",
       "      <td>False</td>\n",
       "      <td>False</td>\n",
       "      <td>8.81</td>\n",
       "      <td>0</td>\n",
       "      <td>поселок Мурино</td>\n",
       "      <td>NaN</td>\n",
       "      <td>NaN</td>\n",
       "      <td>NaN</td>\n",
       "      <td>NaN</td>\n",
       "      <td>NaN</td>\n",
       "      <td>NaN</td>\n",
       "      <td>189.0</td>\n",
       "      <td>поселок Мурино</td>\n",
       "      <td>2.900</td>\n",
       "      <td>87454.764777</td>\n",
       "      <td>2</td>\n",
       "      <td>5</td>\n",
       "      <td>2018</td>\n",
       "      <td>NaN</td>\n",
       "      <td>NaN</td>\n",
       "      <td>другой</td>\n",
       "    </tr>\n",
       "    <tr>\n",
       "      <th>9</th>\n",
       "      <td>18</td>\n",
       "      <td>5400000.0</td>\n",
       "      <td>61.00</td>\n",
       "      <td>2017-02-26</td>\n",
       "      <td>3.0</td>\n",
       "      <td>2.50</td>\n",
       "      <td>9</td>\n",
       "      <td>43.60</td>\n",
       "      <td>7</td>\n",
       "      <td>False</td>\n",
       "      <td>False</td>\n",
       "      <td>False</td>\n",
       "      <td>6.50</td>\n",
       "      <td>2</td>\n",
       "      <td>Санкт-Петербург</td>\n",
       "      <td>50898.0</td>\n",
       "      <td>15008.0</td>\n",
       "      <td>0.0</td>\n",
       "      <td>NaN</td>\n",
       "      <td>0.0</td>\n",
       "      <td>NaN</td>\n",
       "      <td>289.0</td>\n",
       "      <td>Санкт-Петербург</td>\n",
       "      <td>5.400</td>\n",
       "      <td>88524.590164</td>\n",
       "      <td>6</td>\n",
       "      <td>2</td>\n",
       "      <td>2017</td>\n",
       "      <td>15.0</td>\n",
       "      <td>50898.0</td>\n",
       "      <td>другой</td>\n",
       "    </tr>\n",
       "  </tbody>\n",
       "</table>\n",
       "</div>"
      ],
      "text/plain": [
       "   total_images  last_price  total_area first_day_exposition  rooms  \\\n",
       "0            20  13000000.0      108.00           2019-03-07    3.0   \n",
       "1             7   3350000.0       40.40           2018-12-04    1.0   \n",
       "2            10   5196000.0       56.00           2015-08-20    2.0   \n",
       "3             0  64900000.0      159.00           2015-07-24    3.0   \n",
       "4             2  10000000.0      100.00           2018-06-19    2.0   \n",
       "5            10   2890000.0       30.40           2018-09-10    1.0   \n",
       "6             6   3700000.0       37.30           2017-11-02    1.0   \n",
       "7             5   7915000.0       71.60           2019-04-18    2.0   \n",
       "8            20   2900000.0       33.16           2018-05-23    1.0   \n",
       "9            18   5400000.0       61.00           2017-02-26    3.0   \n",
       "\n",
       "   ceiling_height  floors_total  living_area  floor  is_apartment  studio  \\\n",
       "0            2.70            16        51.00      8         False   False   \n",
       "1            2.65            11        18.60      1         False   False   \n",
       "2            2.65             5        34.30      4         False   False   \n",
       "3            2.65            14          NaN      9         False   False   \n",
       "4            3.03            14        32.00     13         False   False   \n",
       "5            2.65            12        14.40      5         False   False   \n",
       "6            2.65            26        10.60      6         False   False   \n",
       "7            2.65            24          NaN     22         False   False   \n",
       "8            2.65            27        15.43     26         False   False   \n",
       "9            2.50             9        43.60      7         False   False   \n",
       "\n",
       "   open_plan  kitchen_area  balcony              locality_name  \\\n",
       "0      False         25.00        0            Санкт-Петербург   \n",
       "1      False         11.00        2             поселок Шушары   \n",
       "2      False          8.30        0            Санкт-Петербург   \n",
       "3      False           NaN        0            Санкт-Петербург   \n",
       "4      False         41.00        0            Санкт-Петербург   \n",
       "5      False          9.10        0  городской поселок Янино-1   \n",
       "6      False         14.40        1          поселок Парголово   \n",
       "7      False         18.90        2            Санкт-Петербург   \n",
       "8      False          8.81        0             поселок Мурино   \n",
       "9      False          6.50        2            Санкт-Петербург   \n",
       "\n",
       "   airports_nearest  cityCenters_nearest  parks_around3000  parks_nearest  \\\n",
       "0           18863.0              16028.0               1.0          482.0   \n",
       "1           12817.0              18603.0               0.0            NaN   \n",
       "2           21741.0              13933.0               1.0           90.0   \n",
       "3           28098.0               6800.0               2.0           84.0   \n",
       "4           31856.0               8098.0               2.0          112.0   \n",
       "5               NaN                  NaN               NaN            NaN   \n",
       "6           52996.0              19143.0               0.0            NaN   \n",
       "7           23982.0              11634.0               0.0            NaN   \n",
       "8               NaN                  NaN               NaN            NaN   \n",
       "9           50898.0              15008.0               0.0            NaN   \n",
       "\n",
       "   ponds_around3000  ponds_nearest  days_exposition       new_toponims  \\\n",
       "0               2.0          755.0              NaN    Санкт-Петербург   \n",
       "1               0.0            NaN             81.0     поселок Шушары   \n",
       "2               2.0          574.0              NaN    Санкт-Петербург   \n",
       "3               3.0          234.0              NaN    Санкт-Петербург   \n",
       "4               1.0           48.0            121.0    Санкт-Петербург   \n",
       "5               NaN            NaN             55.0    поселок Янино-1   \n",
       "6               0.0            NaN            155.0  поселок Парголово   \n",
       "7               0.0            NaN              NaN    Санкт-Петербург   \n",
       "8               NaN            NaN            189.0     поселок Мурино   \n",
       "9               0.0            NaN            289.0    Санкт-Петербург   \n",
       "\n",
       "   price_mln    meter_price  day_exposition  month_exposition  \\\n",
       "0     13.000  120370.370370               3                 3   \n",
       "1      3.350   82920.792079               1                12   \n",
       "2      5.196   92785.714286               3                 8   \n",
       "3     64.900  408176.100629               4                 7   \n",
       "4     10.000  100000.000000               1                 6   \n",
       "5      2.890   95065.789474               0                 9   \n",
       "6      3.700   99195.710456               3                11   \n",
       "7      7.915  110544.692737               3                 4   \n",
       "8      2.900   87454.764777               2                 5   \n",
       "9      5.400   88524.590164               6                 2   \n",
       "\n",
       "   year_exposition  cityCenters_nearest_km  airports_nearest_km floor_type  \n",
       "0             2019                    16.0              18863.0     другой  \n",
       "1             2018                    19.0              12817.0     первый  \n",
       "2             2015                    14.0              21741.0     другой  \n",
       "3             2015                     7.0              28098.0     другой  \n",
       "4             2018                     8.0              31856.0     другой  \n",
       "5             2018                     NaN                  NaN     другой  \n",
       "6             2017                    19.0              52996.0     другой  \n",
       "7             2019                    12.0              23982.0     другой  \n",
       "8             2018                     NaN                  NaN     другой  \n",
       "9             2017                    15.0              50898.0     другой  "
      ]
     },
     "execution_count": 24,
     "metadata": {},
     "output_type": "execute_result"
    }
   ],
   "source": [
    "data.head(10)"
   ]
  },
  {
   "cell_type": "markdown",
   "metadata": {},
   "source": [
    "#### Промежуточные выводы\n",
    "Добалены стлобцы успешно."
   ]
  },
  {
   "cell_type": "markdown",
   "metadata": {},
   "source": [
    "### Проведите исследовательский анализ данных"
   ]
  },
  {
   "cell_type": "markdown",
   "metadata": {},
   "source": [
    " Изучены и описаны следующие параметры:\n",
    "        - общая площадь;\n",
    "        - жилая площадь;\n",
    "        - площадь кухни;\n",
    "        - цена объекта;\n",
    "        - количество комнат;\n",
    "        - высота потолков;\n",
    "        - этаж квартиры;\n",
    "        - тип этажа квартиры («первый», «последний», «другой»);\n",
    "        - общее количество этажей в доме;\n",
    "        - расстояние до центра города в метрах;\n",
    "        - расстояние до ближайшего аэропорта;\n",
    "        - расстояние до ближайшего парка;\n",
    "        - день и месяц публикации объявления"
   ]
  },
  {
   "cell_type": "code",
   "execution_count": 25,
   "metadata": {},
   "outputs": [
    {
     "name": "stdout",
     "output_type": "stream",
     "text": [
      "count    23300.000000\n",
      "mean        58.187836\n",
      "std         26.422135\n",
      "min         20.100000\n",
      "25%         40.000000\n",
      "50%         51.900000\n",
      "75%         68.857500\n",
      "max        199.200000\n",
      "Name: total_area, dtype: float64\n"
     ]
    },
    {
     "data": {
      "text/plain": [
       "825"
      ]
     },
     "execution_count": 25,
     "metadata": {},
     "output_type": "execute_result"
    },
    {
     "data": {
      "image/png": "[encoded data removed]",
      "text/plain": [
       "<Figure size 432x288 with 1 Axes>"
      ]
     },
     "metadata": {
      "needs_background": "light"
     },
     "output_type": "display_data"
    }
   ],
   "source": [
    "#data.plot(kind='hist',y = 'total_area',range=(0,200),bins = 100, grid = True)\n",
    "plt.ylim(0, 200)\n",
    "data.boxplot(column='total_area')\n",
    "print(data['total_area'].describe())\n",
    "\n",
    "data.loc[data['total_area'] > 120,'total_area'].count()"
   ]
  },
  {
   "cell_type": "markdown",
   "metadata": {},
   "source": [
    "Большую часть объявлений составляют помещения до 60 кв.м. Также наблюдается длинный хвост в 1000 шт из значений выше 120 кв.м, что указвает на преобладаение объявлений по продаже  квартир малой квадратуры над продажами частных домов или квартир с большой площадью."
   ]
  },
  {
   "cell_type": "code",
   "execution_count": 26,
   "metadata": {},
   "outputs": [
    {
     "name": "stdout",
     "output_type": "stream",
     "text": [
      "count    21700.000000\n",
      "mean        34.454822\n",
      "std         22.045359\n",
      "min          2.000000\n",
      "25%         18.600000\n",
      "50%         30.000000\n",
      "75%         42.300000\n",
      "max        409.700000\n",
      "Name: living_area, dtype: float64\n"
     ]
    },
    {
     "data": {
      "image/png": "[encoded data removed]",
      "text/plain": [
       "<Figure size 432x288 with 1 Axes>"
      ]
     },
     "metadata": {
      "needs_background": "light"
     },
     "output_type": "display_data"
    }
   ],
   "source": [
    "data.boxplot(column='living_area')\n",
    "plt.ylim(0, 200)\n",
    "data.boxplot(column='living_area')\n",
    "print(data['living_area'].describe())\n"
   ]
  },
  {
   "cell_type": "markdown",
   "metadata": {},
   "source": [
    "Значения жилой площади в объявления скоцентрированы в диапозоне 18-42 кв.м. Также наблюдается сокращение стандартного отклонения. "
   ]
  },
  {
   "cell_type": "code",
   "execution_count": 27,
   "metadata": {},
   "outputs": [
    {
     "name": "stdout",
     "output_type": "stream",
     "text": [
      "count    21343.000000\n",
      "mean        10.560994\n",
      "std          5.900630\n",
      "min          1.300000\n",
      "25%          7.000000\n",
      "50%          9.100000\n",
      "75%         12.000000\n",
      "max        112.000000\n",
      "Name: kitchen_area, dtype: float64\n"
     ]
    },
    {
     "data": {
      "image/png": "[encoded data removed]",
      "text/plain": [
       "<Figure size 432x288 with 1 Axes>"
      ]
     },
     "metadata": {
      "needs_background": "light"
     },
     "output_type": "display_data"
    }
   ],
   "source": [
    "plt.ylim(0, 200)\n",
    "data.boxplot(column='kitchen_area')\n",
    "print(data['kitchen_area'].describe())"
   ]
  },
  {
   "cell_type": "markdown",
   "metadata": {},
   "source": [
    "львиная доля квартир имеет схожую площадь кухонь, однако также виден длинный хвост с объявлениями о продаже недвижимости с большими кухнями"
   ]
  },
  {
   "cell_type": "code",
   "execution_count": 28,
   "metadata": {},
   "outputs": [
    {
     "name": "stdout",
     "output_type": "stream",
     "text": [
      "count    23565.000000\n",
      "mean         2.697208\n",
      "std          0.220861\n",
      "min          2.200000\n",
      "25%          2.600000\n",
      "50%          2.650000\n",
      "75%          2.700000\n",
      "max          6.000000\n",
      "Name: ceiling_height, dtype: float64\n"
     ]
    },
    {
     "data": {
      "image/png": "[encoded data removed]",
      "text/plain": [
       "<Figure size 432x288 with 1 Axes>"
      ]
     },
     "metadata": {
      "needs_background": "light"
     },
     "output_type": "display_data"
    }
   ],
   "source": [
    "plt.ylim(0, 7)\n",
    "data.boxplot(column='ceiling_height')\n",
    "print(data['ceiling_height'].describe())"
   ]
  },
  {
   "cell_type": "markdown",
   "metadata": {},
   "source": [
    "Высота потолков в квартирах практически одинаковая. Сказывается массовая стандартизированная застройка по гостам высоты потолков."
   ]
  },
  {
   "cell_type": "code",
   "execution_count": 29,
   "metadata": {},
   "outputs": [
    {
     "name": "stdout",
     "output_type": "stream",
     "text": [
      "count    23565.000000\n",
      "mean         5.878124\n",
      "std          4.871485\n",
      "min          1.000000\n",
      "25%          2.000000\n",
      "50%          4.000000\n",
      "75%          8.000000\n",
      "max         33.000000\n",
      "Name: floor, dtype: float64\n"
     ]
    },
    {
     "data": {
      "image/png": "[encoded data removed]",
      "text/plain": [
       "<Figure size 432x288 with 1 Axes>"
      ]
     },
     "metadata": {
      "needs_background": "light"
     },
     "output_type": "display_data"
    }
   ],
   "source": [
    "plt.ylim(0, 50)\n",
    "data.boxplot(column='floor')\n",
    "print(data['floor'].describe())"
   ]
  },
  {
   "cell_type": "markdown",
   "metadata": {},
   "source": [
    "Большая часть объявления о продаже недвижимости не выше 9 этажа."
   ]
  },
  {
   "cell_type": "code",
   "execution_count": 30,
   "metadata": {},
   "outputs": [
    {
     "data": {
      "text/plain": [
       "<AxesSubplot:>"
      ]
     },
     "execution_count": 30,
     "metadata": {},
     "output_type": "execute_result"
    },
    {
     "data": {
      "image/png": "[encoded data removed]",
      "text/plain": [
       "<Figure size 432x288 with 1 Axes>"
      ]
     },
     "metadata": {
      "needs_background": "light"
     },
     "output_type": "display_data"
    }
   ],
   "source": [
    "data['floor_type'].hist()"
   ]
  },
  {
   "cell_type": "markdown",
   "metadata": {},
   "source": [
    "объявления о продаже квартир на первом или последнем этаже относительно равны, с небольшым преобладанием квартир на последних этажах."
   ]
  },
  {
   "cell_type": "code",
   "execution_count": 31,
   "metadata": {},
   "outputs": [
    {
     "name": "stdout",
     "output_type": "stream",
     "text": [
      "count    23565.000000\n",
      "mean        10.675875\n",
      "std          6.594823\n",
      "min          1.000000\n",
      "25%          5.000000\n",
      "50%          9.000000\n",
      "75%         16.000000\n",
      "max         60.000000\n",
      "Name: floors_total, dtype: float64\n"
     ]
    },
    {
     "data": {
      "image/png": "[encoded data removed]",
      "text/plain": [
       "<Figure size 432x288 with 1 Axes>"
      ]
     },
     "metadata": {
      "needs_background": "light"
     },
     "output_type": "display_data"
    }
   ],
   "source": [
    "plt.ylim(0, 80)\n",
    "data.boxplot(column='floors_total')\n",
    "print(data['floors_total'].describe())"
   ]
  },
  {
   "cell_type": "markdown",
   "metadata": {},
   "source": [
    "Наиболее распространненая высота застройки это 16 этажей, однако есть единичные случаи высотного строительства."
   ]
  },
  {
   "cell_type": "code",
   "execution_count": 32,
   "metadata": {},
   "outputs": [
    {
     "name": "stdout",
     "output_type": "stream",
     "text": [
      "count    18064.000000\n",
      "mean     14192.656056\n",
      "std       8613.348153\n",
      "min        181.000000\n",
      "25%       9238.000000\n",
      "50%      13096.500000\n",
      "75%      16285.000000\n",
      "max      65968.000000\n",
      "Name: cityCenters_nearest, dtype: float64\n"
     ]
    },
    {
     "data": {
      "image/png": "[encoded data removed]",
      "text/plain": [
       "<Figure size 432x288 with 1 Axes>"
      ]
     },
     "metadata": {
      "needs_background": "light"
     },
     "output_type": "display_data"
    }
   ],
   "source": [
    "data.boxplot(column='cityCenters_nearest')\n",
    "print(data['cityCenters_nearest'].describe())"
   ]
  },
  {
   "cell_type": "markdown",
   "metadata": {},
   "source": [
    "Наибольшее колличество квартир продается в радиусе 16 км от центра города."
   ]
  },
  {
   "cell_type": "code",
   "execution_count": 33,
   "metadata": {},
   "outputs": [
    {
     "data": {
      "image/png": "[encoded data removed]",
      "text/plain": [
       "<Figure size 432x288 with 1 Axes>"
      ]
     },
     "metadata": {
      "needs_background": "light"
     },
     "output_type": "display_data"
    },
    {
     "name": "stdout",
     "output_type": "stream",
     "text": [
      "count    18041.000000\n",
      "mean     28797.082701\n",
      "std      12632.499735\n",
      "min          0.000000\n",
      "25%      18565.000000\n",
      "50%      26757.000000\n",
      "75%      37273.000000\n",
      "max      84869.000000\n",
      "Name: airports_nearest, dtype: float64\n"
     ]
    }
   ],
   "source": [
    "\n",
    "data.boxplot(column='airports_nearest')\n",
    "plt.show()\n",
    "print(data['airports_nearest'].describe())"
   ]
  },
  {
   "cell_type": "markdown",
   "metadata": {},
   "source": [
    "Большая часть квартир находится в удалении от 19 до 37 км от аэропорта. "
   ]
  },
  {
   "cell_type": "code",
   "execution_count": 34,
   "metadata": {
    "scrolled": true
   },
   "outputs": [
    {
     "name": "stdout",
     "output_type": "stream",
     "text": [
      "count    8030.000000\n",
      "mean      490.580448\n",
      "std       341.572956\n",
      "min         1.000000\n",
      "25%       288.000000\n",
      "50%       455.000000\n",
      "75%       612.000000\n",
      "max      3190.000000\n",
      "Name: parks_nearest, dtype: float64\n"
     ]
    },
    {
     "data": {
      "image/png": "[encoded data removed]",
      "text/plain": [
       "<Figure size 432x288 with 1 Axes>"
      ]
     },
     "metadata": {
      "needs_background": "light"
     },
     "output_type": "display_data"
    }
   ],
   "source": [
    "plt.ylim(0, 3200)\n",
    "data.boxplot(column='parks_nearest')\n",
    "print(data['parks_nearest'].describe())"
   ]
  },
  {
   "cell_type": "markdown",
   "metadata": {},
   "source": [
    "В большинстве объявлений до парка будет от 300 до 600 метров."
   ]
  },
  {
   "cell_type": "code",
   "execution_count": 35,
   "metadata": {},
   "outputs": [
    {
     "name": "stdout",
     "output_type": "stream",
     "text": [
      "count    23565.000000\n",
      "mean         2.567367\n",
      "std          1.788279\n",
      "min          0.000000\n",
      "25%          1.000000\n",
      "50%          3.000000\n",
      "75%          4.000000\n",
      "max          6.000000\n",
      "Name: day_exposition, dtype: float64\n"
     ]
    },
    {
     "data": {
      "image/png": "[encoded data removed]",
      "text/plain": [
       "<Figure size 432x288 with 1 Axes>"
      ]
     },
     "metadata": {
      "needs_background": "light"
     },
     "output_type": "display_data"
    }
   ],
   "source": [
    "#plt.ylim(0, 200)\n",
    "data.hist(column='day_exposition', bins =7 )\n",
    "print(data['day_exposition'].describe())"
   ]
  },
  {
   "cell_type": "markdown",
   "metadata": {},
   "source": [
    "Чаще объявления публикуют с понедельника по пятницу, в выходные это происходит в два раза реже.Пики наблюдаются во вторник и четверг."
   ]
  },
  {
   "cell_type": "code",
   "execution_count": 36,
   "metadata": {},
   "outputs": [
    {
     "name": "stdout",
     "output_type": "stream",
     "text": [
      "                  month_exposition\n",
      "month_exposition                  \n",
      "1                             1487\n",
      "2                             2636\n",
      "3                             2575\n",
      "4                             2356\n",
      "5                             1261\n",
      "6                             1747\n",
      "7                             1686\n",
      "8                             1739\n",
      "9                             1972\n",
      "10                            2108\n",
      "11                            2360\n",
      "12                            1638\n"
     ]
    },
    {
     "data": {
      "image/png": "[encoded data removed]",
      "text/plain": [
       "<Figure size 432x288 with 1 Axes>"
      ]
     },
     "metadata": {
      "needs_background": "light"
     },
     "output_type": "display_data"
    }
   ],
   "source": [
    "#plt.ylim(0, 200)\n",
    "data.hist(column='month_exposition',bins = 12)\n",
    "print(data.groupby('month_exposition').agg({'month_exposition':'count'}))"
   ]
  },
  {
   "cell_type": "markdown",
   "metadata": {},
   "source": [
    "Весной и осенью наблюдается повышение кол-ва публикаций объявлений. Пик приходится на Февраль и Март.Минимумы находятся в январе, июле и декабре."
   ]
  },
  {
   "cell_type": "code",
   "execution_count": 37,
   "metadata": {},
   "outputs": [
    {
     "data": {
      "image/png": "[encoded data removed]",
      "text/plain": [
       "<Figure size 432x288 with 1 Axes>"
      ]
     },
     "metadata": {
      "needs_background": "light"
     },
     "output_type": "display_data"
    },
    {
     "data": {
      "image/png": "[encoded data removed]",
      "text/plain": [
       "<Figure size 432x288 with 1 Axes>"
      ]
     },
     "metadata": {
      "needs_background": "light"
     },
     "output_type": "display_data"
    },
    {
     "data": {
      "text/plain": [
       "count    23565.000000\n",
       "mean         6.540058\n",
       "std         10.910935\n",
       "min          0.012190\n",
       "25%          3.400000\n",
       "50%          4.646000\n",
       "75%          6.790000\n",
       "max        763.000000\n",
       "Name: price_mln, dtype: float64"
      ]
     },
     "execution_count": 37,
     "metadata": {},
     "output_type": "execute_result"
    }
   ],
   "source": [
    "data['price_mln'].hist(range=(1,40), bins = 50)\n",
    "plt.show()\n",
    "data['rooms'].hist(range=(1,8), bins = 7)\n",
    "plt.show()\n",
    "data['price_mln'].describe()"
   ]
  },
  {
   "cell_type": "code",
   "execution_count": 38,
   "metadata": {},
   "outputs": [
    {
     "data": {
      "image/png": "[encoded data removed]",
      "text/plain": [
       "<Figure size 432x288 with 1 Axes>"
      ]
     },
     "metadata": {
      "needs_background": "light"
     },
     "output_type": "display_data"
    },
    {
     "data": {
      "image/png": "[encoded data removed]",
      "text/plain": [
       "<Figure size 432x288 with 1 Axes>"
      ]
     },
     "metadata": {
      "needs_background": "light"
     },
     "output_type": "display_data"
    }
   ],
   "source": [
    "data.boxplot(column='price_mln')\n",
    "plt.show()\n",
    "data.boxplot(column='rooms')\n",
    "plt.show()"
   ]
  },
  {
   "cell_type": "markdown",
   "metadata": {},
   "source": [
    "Как быстро продавались квартиры:"
   ]
  },
  {
   "cell_type": "code",
   "execution_count": 39,
   "metadata": {},
   "outputs": [
    {
     "name": "stdout",
     "output_type": "stream",
     "text": [
      "count    16489.000000\n",
      "mean        92.774577\n",
      "std         74.701688\n",
      "min          2.000000\n",
      "25%         35.000000\n",
      "50%         68.000000\n",
      "75%        138.000000\n",
      "max        299.000000\n",
      "Name: days_exposition, dtype: float64\n"
     ]
    },
    {
     "data": {
      "image/png": "[encoded data removed]",
      "text/plain": [
       "<Figure size 432x288 with 1 Axes>"
      ]
     },
     "metadata": {
      "needs_background": "light"
     },
     "output_type": "display_data"
    },
    {
     "data": {
      "text/plain": [
       "<AxesSubplot:ylabel='Frequency'>"
      ]
     },
     "execution_count": 39,
     "metadata": {},
     "output_type": "execute_result"
    },
    {
     "data": {
      "image/png": "[encoded data removed]",
      "text/plain": [
       "<Figure size 432x288 with 1 Axes>"
      ]
     },
     "metadata": {
      "needs_background": "light"
     },
     "output_type": "display_data"
    },
    {
     "data": {
      "image/png": "[encoded data removed]",
      "text/plain": [
       "<Figure size 432x288 with 1 Axes>"
      ]
     },
     "metadata": {
      "needs_background": "light"
     },
     "output_type": "display_data"
    }
   ],
   "source": [
    "#data['days_exposition'] =data['days_exposition'] > 1000\n",
    "data.plot(kind='hist', y='days_exposition',grid = True,bins = 100, range = (0, 100))\n",
    "print(data['days_exposition'].describe())\n",
    "plt.show()\n",
    "data.boxplot(column='days_exposition')\n",
    "data.plot(kind='hist', y='days_exposition',grid = True,bins = 100, range = (0, 100))\n",
    "#data.pivot_table(index='days_exposition', values='price_mln').hist(range = (30, 70),bins = 100)"
   ]
  },
  {
   "cell_type": "markdown",
   "metadata": {},
   "source": [
    "Обычное объявление продается в районе 95 дней. Слишком быстрая продажа это срок до 9 дней, слишком долгая продажа считается более 500 дней.Также видны пики в районе 45 и 60 дней, скорей всего это связанно со сроком одобрения ипотеки, который как раз составляет 2-3 месяца."
   ]
  },
  {
   "cell_type": "code",
   "execution_count": 40,
   "metadata": {},
   "outputs": [
    {
     "name": "stdout",
     "output_type": "stream",
     "text": [
      "              floors_total  kitchen_area  last_price  living_area     rooms  \\\n",
      "floors_total      1.000000      0.236906    0.240226    -0.108803 -0.148762   \n",
      "kitchen_area      0.236906      1.000000    0.548883     0.253187  0.033042   \n",
      "last_price        0.240226      0.548883    1.000000     0.592242  0.239058   \n",
      "living_area      -0.108803      0.253187    0.592242     1.000000  0.727871   \n",
      "rooms            -0.148762      0.033042    0.239058     0.727871  1.000000   \n",
      "total_area       -0.031455      0.532744    0.542588     0.839468  0.742826   \n",
      "\n",
      "              total_area  \n",
      "floors_total   -0.031455  \n",
      "kitchen_area    0.532744  \n",
      "last_price      0.542588  \n",
      "living_area     0.839468  \n",
      "rooms           0.742826  \n",
      "total_area      1.000000  \n"
     ]
    },
    {
     "data": {
      "image/png": "[encoded data removed]",
      "text/plain": [
       "<Figure size 432x288 with 2 Axes>"
      ]
     },
     "metadata": {
      "needs_background": "light"
     },
     "output_type": "display_data"
    },
    {
     "data": {
      "text/plain": [
       "<AxesSubplot:xlabel='year_exposition'>"
      ]
     },
     "execution_count": 40,
     "metadata": {},
     "output_type": "execute_result"
    },
    {
     "data": {
      "image/png": "[encoded data removed]",
      "text/plain": [
       "<Figure size 432x288 with 1 Axes>"
      ]
     },
     "metadata": {
      "needs_background": "light"
     },
     "output_type": "display_data"
    },
    {
     "data": {
      "image/png": "[encoded data removed]",
      "text/plain": [
       "<Figure size 432x288 with 1 Axes>"
      ]
     },
     "metadata": {
      "needs_background": "light"
     },
     "output_type": "display_data"
    },
    {
     "data": {
      "image/png": "[encoded data removed]",
      "text/plain": [
       "<Figure size 432x288 with 1 Axes>"
      ]
     },
     "metadata": {
      "needs_background": "light"
     },
     "output_type": "display_data"
    }
   ],
   "source": [
    "#таблица корреляций\n",
    "real_estat_stat = \\\n",
    "data.pivot_table(index = 'new_toponims',\\\n",
    "                 values =['last_price','total_area','living_area','kitchen_area','rooms','floors_total'])\n",
    "flr_type = data.pivot_table(index = 'floor_type', values ='last_price')\n",
    "print(real_estat_stat.corr()) \n",
    "#pd.plotting.scatter_matrix(real_estat_stat, figsize = (9,9))\n",
    "sb.heatmap(real_estat_stat.corr(), annot=True)\n",
    "plt.show()\n",
    "data.pivot_table(index = 'day_exposition', values ='price_mln').plot(kind='bar')\n",
    "data.pivot_table(index = 'month_exposition', values ='price_mln').plot(kind='bar')\n",
    "data.pivot_table(index = 'year_exposition', values ='price_mln', aggfunc='median').plot(kind='bar')"
   ]
  },
  {
   "cell_type": "markdown",
   "metadata": {},
   "source": [
    "Данные были сгрупированны по населенным пунктам. Наблюдается корреляция с площедью кухни,общей площадью а также с жилой площадью. Время публикации объявления не оказали существенного влияния на стоимость квартиры. Так же наблюдается сильная связь этажа и цены. Квартиры на первых этажах на 30% дешевле квартир выше."
   ]
  },
  {
   "cell_type": "markdown",
   "metadata": {},
   "source": [
    "Средняя цена одного квадратного метра в 10 населённых пунктах с наибольшим числом объявлений.И выделение населённых пунктов с самой высокой и низкой стоимостью квадратного метра."
   ]
  },
  {
   "cell_type": "code",
   "execution_count": 41,
   "metadata": {},
   "outputs": [
    {
     "data": {
      "text/html": [
       "<div>\n",
       "<style scoped>\n",
       "    .dataframe tbody tr th:only-of-type {\n",
       "        vertical-align: middle;\n",
       "    }\n",
       "\n",
       "    .dataframe tbody tr th {\n",
       "        vertical-align: top;\n",
       "    }\n",
       "\n",
       "    .dataframe thead th {\n",
       "        text-align: right;\n",
       "    }\n",
       "</style>\n",
       "<table border=\"1\" class=\"dataframe\">\n",
       "  <thead>\n",
       "    <tr style=\"text-align: right;\">\n",
       "      <th></th>\n",
       "      <th>offers</th>\n",
       "      <th>mean_price</th>\n",
       "    </tr>\n",
       "    <tr>\n",
       "      <th>new_toponims</th>\n",
       "      <th></th>\n",
       "      <th></th>\n",
       "    </tr>\n",
       "  </thead>\n",
       "  <tbody>\n",
       "    <tr>\n",
       "      <th>Санкт-Петербург</th>\n",
       "      <td>15405</td>\n",
       "      <td>113156.945033</td>\n",
       "    </tr>\n",
       "    <tr>\n",
       "      <th>поселок Мурино</th>\n",
       "      <td>551</td>\n",
       "      <td>85626.174066</td>\n",
       "    </tr>\n",
       "    <tr>\n",
       "      <th>поселок Шушары</th>\n",
       "      <td>438</td>\n",
       "      <td>78529.235071</td>\n",
       "    </tr>\n",
       "    <tr>\n",
       "      <th>Всеволожск</th>\n",
       "      <td>397</td>\n",
       "      <td>68682.570898</td>\n",
       "    </tr>\n",
       "    <tr>\n",
       "      <th>Пушкин</th>\n",
       "      <td>363</td>\n",
       "      <td>103077.242205</td>\n",
       "    </tr>\n",
       "    <tr>\n",
       "      <th>Колпино</th>\n",
       "      <td>337</td>\n",
       "      <td>75333.295801</td>\n",
       "    </tr>\n",
       "    <tr>\n",
       "      <th>поселок Парголово</th>\n",
       "      <td>326</td>\n",
       "      <td>90332.263023</td>\n",
       "    </tr>\n",
       "    <tr>\n",
       "      <th>Гатчина</th>\n",
       "      <td>307</td>\n",
       "      <td>68746.146763</td>\n",
       "    </tr>\n",
       "    <tr>\n",
       "      <th>деревня Кудрово</th>\n",
       "      <td>298</td>\n",
       "      <td>92481.848071</td>\n",
       "    </tr>\n",
       "    <tr>\n",
       "      <th>Выборг</th>\n",
       "      <td>236</td>\n",
       "      <td>58308.824023</td>\n",
       "    </tr>\n",
       "  </tbody>\n",
       "</table>\n",
       "</div>"
      ],
      "text/plain": [
       "                   offers     mean_price\n",
       "new_toponims                            \n",
       "Санкт-Петербург     15405  113156.945033\n",
       "поселок Мурино        551   85626.174066\n",
       "поселок Шушары        438   78529.235071\n",
       "Всеволожск            397   68682.570898\n",
       "Пушкин                363  103077.242205\n",
       "Колпино               337   75333.295801\n",
       "поселок Парголово     326   90332.263023\n",
       "Гатчина               307   68746.146763\n",
       "деревня Кудрово       298   92481.848071\n",
       "Выборг                236   58308.824023"
      ]
     },
     "execution_count": 41,
     "metadata": {},
     "output_type": "execute_result"
    }
   ],
   "source": [
    "\n",
    "price_sq_met = data.pivot_table(index = 'new_toponims', values = 'meter_price', aggfunc=['count','mean'])\n",
    "price_sq_met.columns = ['offers','mean_price']\n",
    "sub_data = price_sq_met.nlargest(10,'offers')\n",
    "hieghest_price = price_sq_met.nlargest(1,'mean_price')\n",
    "lowest_price = price_sq_met.sort_values('mean_price').head(1)\n",
    "sub_data"
   ]
  },
  {
   "cell_type": "markdown",
   "metadata": {},
   "source": [
    "Самый дорогой квадратный метр в городе Зеленогорск, самая дешевая недвижимость в деревне Старополье. \n",
    "Наибольшее число объявлений приходится на Питер и его окресности"
   ]
  },
  {
   "cell_type": "code",
   "execution_count": 42,
   "metadata": {},
   "outputs": [
    {
     "data": {
      "text/plain": [
       "<AxesSubplot:xlabel='cityCenters_nearest_km'>"
      ]
     },
     "execution_count": 42,
     "metadata": {},
     "output_type": "execute_result"
    },
    {
     "data": {
      "image/png": "[encoded data removed]",
      "text/plain": [
       "<Figure size 432x288 with 1 Axes>"
      ]
     },
     "metadata": {
      "needs_background": "light"
     },
     "output_type": "display_data"
    }
   ],
   "source": [
    "# Считаем среднюю цену для каждого километра в питере\n",
    "sub_data_spb = data.loc[data['locality_name'] == 'Санкт-Петербург'].pivot_table(index='cityCenters_nearest_km', values='price_mln')\n",
    "sub_data_spb.plot(kind='bar')\n"
   ]
  },
  {
   "cell_type": "markdown",
   "metadata": {},
   "source": [
    "На графике ярко выражена зависимость цены от удаления от центра. Однако стоит обратить внимание, что есть два пика: в самом центре и небольшом удалении от него. Начиная с 7 км цена на недвижимость в питере выходит на плато. Из чего можно сделать вывод.Наиболее популярные районы это центр и небольшое удаление от него(4 - 7 км). "
   ]
  },
  {
   "cell_type": "markdown",
   "metadata": {},
   "source": [
    "#### Промежуточный вывод\n"
   ]
  },
  {
   "cell_type": "markdown",
   "metadata": {},
   "source": [
    "Самым распространным объевлением является продажа квартиры в питере в шестнадести этажке до 9 этажа.\n",
    "Типичный объект недвижимости представляет собой  60кв. м, высота потолка 2.6м, жилая от 20-40 кв.м, кухня площадью 9 кв.м.\n",
    "В радиаусе 600 метров будет находится парк, в 30 км аэропорт.\n",
    "Продажа занимает около 3 месяцев, пик продаж осенью и весной. Виден спад средней стоимость объекта и медианной стоимости после 2014 года, причной может служить известное событие марта 2014. также наблюдается плавное возвразение от года к году средних  цен к до кризисному уровню."
   ]
  },
  {
   "cell_type": "markdown",
   "metadata": {},
   "source": [
    "### Общий вывод"
   ]
  },
  {
   "cell_type": "markdown",
   "metadata": {},
   "source": [
    "Данные для анализа содержали много пропусков, данные о парках и прудах видимо игнорировались составителем объявления. Как и является ли недвижимость аппартаментом. Данные которые не указаны пользователем должны быть обязательными перед публикацией и либо быть выбраны из списка готовых значений, либо подставляться автоматически.\n",
    "\n",
    "Тоже касается неявных дубликатов, человек должен выбирать населенный пункт из списка или на карте.Нужно ввести ограничение на величину значения для высоты потолков, чтобы не было 20 метровых или 1 метровых потолков.\n",
    "\n",
    "По данным представленным в таблице можно сделать вывод, что больше всего общая площадь и площадь кухни коррелирует с ценой. Как и удаление от центра города. В Питере есть 3 группы радиуса цены. Квартиры в центре(0км-3км), среднем удалении (4км-7км), остальные(от 9км). Медианная цена объекта 4,6 млн рублей за весь период наблюдений. Видны пики в продажах на 45 и 60 дней, судя по всему это связано со сроками одобрения ипотеки.\n",
    "\n",
    "Рынок недвижимости после 2014 года начал свое востановление и наблюдается рост средних цен на объект.В дальнейшем нужно провести сравнение общих показателей по году и по населенному пункту для постраения тепловой карты изменения средних показателей цен и характеристик недвижимости.\n",
    "\n",
    "Самая дорогая недвижимость в Зеленграде.\n",
    "Самая деешвая в деревне Старополье.\n",
    "\n",
    "Краткий список действий:\n",
    "Были удалены выбросы в кол-ве комнат,общей площади,цене объекта, высоте потолков.\n",
    "Заменены пропуски и удалены пропуски.\n",
    "Анализированы зависимости разлиных факторов относильно цены объекта."
   ]
  }
 ],
 "metadata": {
  "ExecuteTimeLog": [
   {
    "duration": 627,
    "start_time": "2022-08-16T13:36:28.684Z"
   },
   {
    "duration": 85,
    "start_time": "2022-08-16T13:36:36.581Z"
   },
   {
    "duration": 14,
    "start_time": "2022-08-16T13:37:07.421Z"
   },
   {
    "duration": 23,
    "start_time": "2022-08-16T13:38:07.321Z"
   },
   {
    "duration": 340,
    "start_time": "2022-08-16T13:38:43.541Z"
   },
   {
    "duration": 15,
    "start_time": "2022-08-16T13:38:45.831Z"
   },
   {
    "duration": 85,
    "start_time": "2022-08-16T13:38:52.803Z"
   },
   {
    "duration": 14,
    "start_time": "2022-08-16T13:38:53.877Z"
   },
   {
    "duration": 382,
    "start_time": "2022-08-16T13:39:03.431Z"
   },
   {
    "duration": 33,
    "start_time": "2022-08-16T13:39:04.352Z"
   },
   {
    "duration": 105,
    "start_time": "2022-08-16T13:39:12.431Z"
   },
   {
    "duration": 37,
    "start_time": "2022-08-16T13:39:16.361Z"
   },
   {
    "duration": 8,
    "start_time": "2022-08-16T13:45:56.929Z"
   },
   {
    "duration": 8,
    "start_time": "2022-08-16T13:46:52.612Z"
   },
   {
    "duration": 443,
    "start_time": "2022-08-16T13:47:32.737Z"
   },
   {
    "duration": 92,
    "start_time": "2022-08-16T13:48:06.135Z"
   },
   {
    "duration": 202,
    "start_time": "2022-08-16T13:48:11.491Z"
   },
   {
    "duration": 129,
    "start_time": "2022-08-16T13:48:33.519Z"
   },
   {
    "duration": 156,
    "start_time": "2022-08-16T13:48:40.387Z"
   },
   {
    "duration": 121,
    "start_time": "2022-08-16T13:48:59.979Z"
   },
   {
    "duration": 116,
    "start_time": "2022-08-16T13:49:15.376Z"
   },
   {
    "duration": 267,
    "start_time": "2022-08-16T13:49:54.035Z"
   },
   {
    "duration": 145,
    "start_time": "2022-08-16T13:50:08.990Z"
   },
   {
    "duration": 137,
    "start_time": "2022-08-16T13:52:13.788Z"
   },
   {
    "duration": 200,
    "start_time": "2022-08-16T13:52:36.258Z"
   },
   {
    "duration": 10,
    "start_time": "2022-08-16T13:53:10.725Z"
   },
   {
    "duration": 176,
    "start_time": "2022-08-16T13:53:39.285Z"
   },
   {
    "duration": 232,
    "start_time": "2022-08-16T13:54:04.745Z"
   },
   {
    "duration": 10,
    "start_time": "2022-08-16T13:54:16.258Z"
   },
   {
    "duration": 19,
    "start_time": "2022-08-16T13:54:40.621Z"
   },
   {
    "duration": 16,
    "start_time": "2022-08-16T13:58:31.147Z"
   },
   {
    "duration": 104,
    "start_time": "2022-08-16T14:03:10.073Z"
   },
   {
    "duration": 89,
    "start_time": "2022-08-16T14:03:15.373Z"
   },
   {
    "duration": 8,
    "start_time": "2022-08-16T14:03:23.553Z"
   },
   {
    "duration": 11,
    "start_time": "2022-08-16T14:03:31.465Z"
   },
   {
    "duration": 8,
    "start_time": "2022-08-16T14:03:36.993Z"
   },
   {
    "duration": 92,
    "start_time": "2022-08-16T14:04:08.805Z"
   },
   {
    "duration": 10,
    "start_time": "2022-08-16T14:04:16.193Z"
   },
   {
    "duration": 94,
    "start_time": "2022-08-16T14:04:32.706Z"
   },
   {
    "duration": 37,
    "start_time": "2022-08-16T14:04:34.746Z"
   },
   {
    "duration": 8,
    "start_time": "2022-08-16T14:04:50.673Z"
   },
   {
    "duration": 85,
    "start_time": "2022-08-16T14:05:32.621Z"
   },
   {
    "duration": 33,
    "start_time": "2022-08-16T14:05:32.708Z"
   },
   {
    "duration": 9,
    "start_time": "2022-08-16T14:05:32.742Z"
   },
   {
    "duration": 3,
    "start_time": "2022-08-16T14:05:43.797Z"
   },
   {
    "duration": 11,
    "start_time": "2022-08-16T14:05:53.941Z"
   },
   {
    "duration": 9,
    "start_time": "2022-08-16T14:10:42.882Z"
   },
   {
    "duration": 70,
    "start_time": "2022-08-16T14:10:47.842Z"
   },
   {
    "duration": 4,
    "start_time": "2022-08-16T14:11:12.382Z"
   },
   {
    "duration": 4,
    "start_time": "2022-08-16T14:11:47.231Z"
   },
   {
    "duration": 5,
    "start_time": "2022-08-16T14:11:57.058Z"
   },
   {
    "duration": 5,
    "start_time": "2022-08-16T14:12:16.271Z"
   },
   {
    "duration": 78,
    "start_time": "2022-08-16T14:12:45.631Z"
   },
   {
    "duration": 33,
    "start_time": "2022-08-16T14:12:47.122Z"
   },
   {
    "duration": 9,
    "start_time": "2022-08-16T14:12:59.558Z"
   },
   {
    "duration": 8,
    "start_time": "2022-08-16T14:13:45.732Z"
   },
   {
    "duration": 8,
    "start_time": "2022-08-16T14:19:54.289Z"
   },
   {
    "duration": 7,
    "start_time": "2022-08-16T14:20:17.857Z"
   },
   {
    "duration": 6,
    "start_time": "2022-08-16T14:20:32.373Z"
   },
   {
    "duration": 6,
    "start_time": "2022-08-16T14:20:55.977Z"
   },
   {
    "duration": 4,
    "start_time": "2022-08-16T14:21:14.846Z"
   },
   {
    "duration": 11,
    "start_time": "2022-08-16T14:21:27.105Z"
   },
   {
    "duration": 13,
    "start_time": "2022-08-16T14:21:59.327Z"
   },
   {
    "duration": 8,
    "start_time": "2022-08-16T14:22:02.866Z"
   },
   {
    "duration": 80,
    "start_time": "2022-08-16T14:22:39.346Z"
   },
   {
    "duration": 82,
    "start_time": "2022-08-16T14:22:47.858Z"
   },
   {
    "duration": 36,
    "start_time": "2022-08-16T14:22:47.942Z"
   },
   {
    "duration": 27,
    "start_time": "2022-08-16T14:22:47.980Z"
   },
   {
    "duration": 15,
    "start_time": "2022-08-16T14:22:48.008Z"
   },
   {
    "duration": 16,
    "start_time": "2022-08-16T14:24:48.120Z"
   },
   {
    "duration": 13,
    "start_time": "2022-08-16T14:25:00.719Z"
   },
   {
    "duration": 82,
    "start_time": "2022-08-16T14:25:19.831Z"
   },
   {
    "duration": 32,
    "start_time": "2022-08-16T14:25:19.915Z"
   },
   {
    "duration": 7,
    "start_time": "2022-08-16T14:25:19.949Z"
   },
   {
    "duration": 9,
    "start_time": "2022-08-16T14:25:23.827Z"
   },
   {
    "duration": 8,
    "start_time": "2022-08-16T14:25:34.895Z"
   },
   {
    "duration": 7,
    "start_time": "2022-08-16T14:25:50.271Z"
   },
   {
    "duration": 82,
    "start_time": "2022-08-16T14:25:57.835Z"
   },
   {
    "duration": 36,
    "start_time": "2022-08-16T14:25:59.355Z"
   },
   {
    "duration": 4,
    "start_time": "2022-08-16T14:26:18.795Z"
   },
   {
    "duration": 10,
    "start_time": "2022-08-16T14:26:24.228Z"
   },
   {
    "duration": 9,
    "start_time": "2022-08-16T14:27:00.048Z"
   },
   {
    "duration": 91,
    "start_time": "2022-08-16T14:28:25.039Z"
   },
   {
    "duration": 34,
    "start_time": "2022-08-16T14:28:27.368Z"
   },
   {
    "duration": 11,
    "start_time": "2022-08-16T14:28:49.044Z"
   },
   {
    "duration": 22,
    "start_time": "2022-08-16T14:30:06.869Z"
   },
   {
    "duration": 16,
    "start_time": "2022-08-16T14:30:30.909Z"
   },
   {
    "duration": 15,
    "start_time": "2022-08-16T14:30:39.433Z"
   },
   {
    "duration": 1931,
    "start_time": "2022-08-16T14:32:45.734Z"
   },
   {
    "duration": 651,
    "start_time": "2022-08-17T13:49:32.626Z"
   },
   {
    "duration": 2547,
    "start_time": "2022-08-17T13:49:33.998Z"
   },
   {
    "duration": 83,
    "start_time": "2022-08-17T13:59:50.450Z"
   },
   {
    "duration": 8,
    "start_time": "2022-08-17T13:59:57.607Z"
   },
   {
    "duration": 10,
    "start_time": "2022-08-17T14:00:10.427Z"
   },
   {
    "duration": 43,
    "start_time": "2022-08-17T14:00:25.675Z"
   },
   {
    "duration": 114,
    "start_time": "2022-08-17T14:01:12.128Z"
   },
   {
    "duration": 72,
    "start_time": "2022-08-17T14:01:12.244Z"
   },
   {
    "duration": 10,
    "start_time": "2022-08-17T14:01:12.317Z"
   },
   {
    "duration": 11,
    "start_time": "2022-08-17T14:03:53.184Z"
   },
   {
    "duration": 10,
    "start_time": "2022-08-17T14:04:10.404Z"
   },
   {
    "duration": 11,
    "start_time": "2022-08-17T14:04:32.072Z"
   },
   {
    "duration": 10,
    "start_time": "2022-08-17T14:05:19.770Z"
   },
   {
    "duration": 10,
    "start_time": "2022-08-17T14:07:20.170Z"
   },
   {
    "duration": 10,
    "start_time": "2022-08-17T14:08:55.662Z"
   },
   {
    "duration": 12,
    "start_time": "2022-08-17T14:09:00.123Z"
   },
   {
    "duration": 111,
    "start_time": "2022-08-17T14:09:15.779Z"
   },
   {
    "duration": 40,
    "start_time": "2022-08-17T14:09:15.892Z"
   },
   {
    "duration": 10,
    "start_time": "2022-08-17T14:09:15.934Z"
   },
   {
    "duration": 40,
    "start_time": "2022-08-17T14:09:20.256Z"
   },
   {
    "duration": 33,
    "start_time": "2022-08-17T14:09:29.816Z"
   },
   {
    "duration": 46,
    "start_time": "2022-08-17T14:10:06.043Z"
   },
   {
    "duration": 9,
    "start_time": "2022-08-17T14:11:42.568Z"
   },
   {
    "duration": 10,
    "start_time": "2022-08-17T14:15:00.041Z"
   },
   {
    "duration": 9,
    "start_time": "2022-08-17T14:15:17.813Z"
   },
   {
    "duration": 12,
    "start_time": "2022-08-17T14:15:38.741Z"
   },
   {
    "duration": 10,
    "start_time": "2022-08-17T14:15:54.734Z"
   },
   {
    "duration": 9,
    "start_time": "2022-08-17T14:16:18.693Z"
   },
   {
    "duration": 12,
    "start_time": "2022-08-17T14:17:02.338Z"
   },
   {
    "duration": 9,
    "start_time": "2022-08-17T14:17:42.742Z"
   },
   {
    "duration": 11,
    "start_time": "2022-08-17T14:17:53.842Z"
   },
   {
    "duration": 10,
    "start_time": "2022-08-17T14:28:44.498Z"
   },
   {
    "duration": 9,
    "start_time": "2022-08-17T14:28:54.071Z"
   },
   {
    "duration": 9,
    "start_time": "2022-08-17T14:30:19.383Z"
   },
   {
    "duration": 12,
    "start_time": "2022-08-17T14:30:21.359Z"
   },
   {
    "duration": 16,
    "start_time": "2022-08-17T14:30:49.959Z"
   },
   {
    "duration": 149,
    "start_time": "2022-08-17T14:31:20.050Z"
   },
   {
    "duration": 98,
    "start_time": "2022-08-17T14:31:32.367Z"
   },
   {
    "duration": 66,
    "start_time": "2022-08-17T14:31:32.467Z"
   },
   {
    "duration": 57,
    "start_time": "2022-08-17T14:31:32.535Z"
   },
   {
    "duration": 77,
    "start_time": "2022-08-17T14:31:32.593Z"
   },
   {
    "duration": 0,
    "start_time": "2022-08-17T14:31:32.673Z"
   },
   {
    "duration": 1,
    "start_time": "2022-08-17T14:31:32.675Z"
   },
   {
    "duration": 16,
    "start_time": "2022-08-17T14:31:35.208Z"
   },
   {
    "duration": 163,
    "start_time": "2022-08-17T14:31:54.860Z"
   },
   {
    "duration": 147,
    "start_time": "2022-08-17T14:32:14.788Z"
   },
   {
    "duration": 158,
    "start_time": "2022-08-17T14:32:24.450Z"
   },
   {
    "duration": 12,
    "start_time": "2022-08-17T14:33:05.568Z"
   },
   {
    "duration": 10,
    "start_time": "2022-08-17T14:33:44.930Z"
   },
   {
    "duration": 0,
    "start_time": "2022-08-17T14:34:39.794Z"
   },
   {
    "duration": 0,
    "start_time": "2022-08-17T14:35:14.207Z"
   },
   {
    "duration": 93,
    "start_time": "2022-08-17T14:39:33.049Z"
   },
   {
    "duration": 4,
    "start_time": "2022-08-17T14:39:33.205Z"
   },
   {
    "duration": 3,
    "start_time": "2022-08-17T14:39:41.724Z"
   },
   {
    "duration": 116,
    "start_time": "2022-08-17T14:39:41.729Z"
   },
   {
    "duration": 66,
    "start_time": "2022-08-17T14:39:41.848Z"
   },
   {
    "duration": 55,
    "start_time": "2022-08-17T14:39:41.916Z"
   },
   {
    "duration": 84,
    "start_time": "2022-08-17T14:39:41.991Z"
   },
   {
    "duration": 0,
    "start_time": "2022-08-17T14:39:42.078Z"
   },
   {
    "duration": 1307,
    "start_time": "2022-08-17T14:40:14.930Z"
   },
   {
    "duration": 115,
    "start_time": "2022-08-17T14:40:16.239Z"
   },
   {
    "duration": 52,
    "start_time": "2022-08-17T14:40:16.356Z"
   },
   {
    "duration": 53,
    "start_time": "2022-08-17T14:40:16.410Z"
   },
   {
    "duration": 34,
    "start_time": "2022-08-17T14:40:16.465Z"
   },
   {
    "duration": 13,
    "start_time": "2022-08-17T14:40:16.501Z"
   },
   {
    "duration": 9,
    "start_time": "2022-08-17T14:45:53.812Z"
   },
   {
    "duration": 75,
    "start_time": "2022-08-17T14:45:58.292Z"
   },
   {
    "duration": 11,
    "start_time": "2022-08-17T14:46:06.729Z"
   },
   {
    "duration": 9,
    "start_time": "2022-08-17T14:46:14.269Z"
   },
   {
    "duration": 9,
    "start_time": "2022-08-17T14:46:17.189Z"
   },
   {
    "duration": 9,
    "start_time": "2022-08-17T14:48:24.270Z"
   },
   {
    "duration": 13,
    "start_time": "2022-08-17T14:48:31.457Z"
   },
   {
    "duration": 137,
    "start_time": "2022-08-17T14:50:07.126Z"
   },
   {
    "duration": 1651,
    "start_time": "2022-08-17T14:51:11.282Z"
   },
   {
    "duration": 1883,
    "start_time": "2022-08-17T14:51:47.507Z"
   },
   {
    "duration": 1580,
    "start_time": "2022-08-17T14:52:04.916Z"
   },
   {
    "duration": 8,
    "start_time": "2022-08-17T14:54:14.027Z"
   },
   {
    "duration": 43,
    "start_time": "2022-08-17T14:55:46.423Z"
   },
   {
    "duration": 7,
    "start_time": "2022-08-17T14:57:45.785Z"
   },
   {
    "duration": 6,
    "start_time": "2022-08-17T14:57:59.169Z"
   },
   {
    "duration": 12,
    "start_time": "2022-08-17T15:00:00.446Z"
   },
   {
    "duration": 10,
    "start_time": "2022-08-17T15:01:07.174Z"
   },
   {
    "duration": 1247,
    "start_time": "2022-08-17T15:01:36.362Z"
   },
   {
    "duration": 114,
    "start_time": "2022-08-17T15:01:37.612Z"
   },
   {
    "duration": 49,
    "start_time": "2022-08-17T15:01:37.728Z"
   },
   {
    "duration": 53,
    "start_time": "2022-08-17T15:01:37.793Z"
   },
   {
    "duration": 9,
    "start_time": "2022-08-17T15:01:37.847Z"
   },
   {
    "duration": 35,
    "start_time": "2022-08-17T15:01:37.857Z"
   },
   {
    "duration": 7,
    "start_time": "2022-08-17T15:01:37.894Z"
   },
   {
    "duration": 9,
    "start_time": "2022-08-17T15:01:37.902Z"
   },
   {
    "duration": 11,
    "start_time": "2022-08-17T15:01:44.062Z"
   },
   {
    "duration": 10,
    "start_time": "2022-08-17T15:01:53.835Z"
   },
   {
    "duration": 14,
    "start_time": "2022-08-17T15:02:20.334Z"
   },
   {
    "duration": 10,
    "start_time": "2022-08-17T15:02:22.830Z"
   },
   {
    "duration": 11,
    "start_time": "2022-08-17T15:02:34.610Z"
   },
   {
    "duration": 12,
    "start_time": "2022-08-17T15:02:53.487Z"
   },
   {
    "duration": 14,
    "start_time": "2022-08-17T15:02:59.664Z"
   },
   {
    "duration": 21,
    "start_time": "2022-08-17T15:04:47.952Z"
   },
   {
    "duration": 11,
    "start_time": "2022-08-17T15:04:52.571Z"
   },
   {
    "duration": 36,
    "start_time": "2022-08-17T15:05:30.139Z"
   },
   {
    "duration": 24,
    "start_time": "2022-08-17T15:05:45.603Z"
   },
   {
    "duration": 48,
    "start_time": "2022-08-18T12:22:04.322Z"
   },
   {
    "duration": 1307,
    "start_time": "2022-08-18T12:22:18.272Z"
   },
   {
    "duration": 312,
    "start_time": "2022-08-18T12:22:19.581Z"
   },
   {
    "duration": 37,
    "start_time": "2022-08-18T12:22:19.895Z"
   },
   {
    "duration": 48,
    "start_time": "2022-08-18T12:22:19.934Z"
   },
   {
    "duration": 7,
    "start_time": "2022-08-18T12:22:19.985Z"
   },
   {
    "duration": 40,
    "start_time": "2022-08-18T12:22:19.993Z"
   },
   {
    "duration": 8,
    "start_time": "2022-08-18T12:22:20.035Z"
   },
   {
    "duration": 10,
    "start_time": "2022-08-18T12:22:20.045Z"
   },
   {
    "duration": 43,
    "start_time": "2022-08-18T12:22:20.056Z"
   },
   {
    "duration": 6,
    "start_time": "2022-08-18T12:26:27.972Z"
   },
   {
    "duration": 16,
    "start_time": "2022-08-18T12:27:27.711Z"
   },
   {
    "duration": 283,
    "start_time": "2022-08-18T12:28:13.170Z"
   },
   {
    "duration": 5,
    "start_time": "2022-08-18T12:28:30.121Z"
   },
   {
    "duration": 154,
    "start_time": "2022-08-18T12:29:07.854Z"
   },
   {
    "duration": 168,
    "start_time": "2022-08-18T12:29:33.510Z"
   },
   {
    "duration": 125,
    "start_time": "2022-08-18T12:30:09.382Z"
   },
   {
    "duration": 175,
    "start_time": "2022-08-18T12:30:29.123Z"
   },
   {
    "duration": 116,
    "start_time": "2022-08-18T12:30:37.311Z"
   },
   {
    "duration": 151,
    "start_time": "2022-08-18T12:30:42.523Z"
   },
   {
    "duration": 15,
    "start_time": "2022-08-18T12:34:37.393Z"
   },
   {
    "duration": 64,
    "start_time": "2022-08-18T12:39:27.952Z"
   },
   {
    "duration": 21,
    "start_time": "2022-08-18T12:41:51.007Z"
   },
   {
    "duration": 15,
    "start_time": "2022-08-18T12:43:45.070Z"
   },
   {
    "duration": 18,
    "start_time": "2022-08-18T12:45:03.120Z"
   },
   {
    "duration": 12,
    "start_time": "2022-08-18T12:46:15.592Z"
   },
   {
    "duration": 6,
    "start_time": "2022-08-18T12:51:50.791Z"
   },
   {
    "duration": 13,
    "start_time": "2022-08-18T12:52:10.628Z"
   },
   {
    "duration": 8,
    "start_time": "2022-08-18T12:52:57.744Z"
   },
   {
    "duration": 9,
    "start_time": "2022-08-18T12:53:02.993Z"
   },
   {
    "duration": 14,
    "start_time": "2022-08-18T12:53:05.201Z"
   },
   {
    "duration": 7,
    "start_time": "2022-08-18T12:55:34.662Z"
   },
   {
    "duration": 14,
    "start_time": "2022-08-18T12:55:44.519Z"
   },
   {
    "duration": 9,
    "start_time": "2022-08-18T12:55:50.235Z"
   },
   {
    "duration": 12,
    "start_time": "2022-08-18T12:55:51.484Z"
   },
   {
    "duration": 6,
    "start_time": "2022-08-18T13:02:30.822Z"
   },
   {
    "duration": 15,
    "start_time": "2022-08-18T13:02:32.150Z"
   },
   {
    "duration": 3,
    "start_time": "2022-08-18T13:07:05.521Z"
   },
   {
    "duration": 92,
    "start_time": "2022-08-18T13:07:05.528Z"
   },
   {
    "duration": 44,
    "start_time": "2022-08-18T13:07:05.622Z"
   },
   {
    "duration": 16,
    "start_time": "2022-08-18T13:07:05.667Z"
   },
   {
    "duration": 52,
    "start_time": "2022-08-18T13:07:05.685Z"
   },
   {
    "duration": 11,
    "start_time": "2022-08-18T13:07:05.757Z"
   },
   {
    "duration": 17,
    "start_time": "2022-08-18T13:07:05.770Z"
   },
   {
    "duration": 8,
    "start_time": "2022-08-18T13:07:05.789Z"
   },
   {
    "duration": 13,
    "start_time": "2022-08-18T13:07:05.798Z"
   },
   {
    "duration": 23,
    "start_time": "2022-08-18T13:07:05.813Z"
   },
   {
    "duration": 6,
    "start_time": "2022-08-18T13:09:12.141Z"
   },
   {
    "duration": 14,
    "start_time": "2022-08-18T13:17:44.158Z"
   },
   {
    "duration": 18,
    "start_time": "2022-08-18T13:17:52.427Z"
   },
   {
    "duration": 16,
    "start_time": "2022-08-18T13:23:08.630Z"
   },
   {
    "duration": 24,
    "start_time": "2022-08-18T13:23:28.270Z"
   },
   {
    "duration": 29,
    "start_time": "2022-08-18T13:23:46.682Z"
   },
   {
    "duration": 23,
    "start_time": "2022-08-18T13:24:42.642Z"
   },
   {
    "duration": 137,
    "start_time": "2022-08-18T13:32:58.227Z"
   },
   {
    "duration": 700,
    "start_time": "2022-08-18T13:33:04.179Z"
   },
   {
    "duration": 1696,
    "start_time": "2022-08-18T13:33:38.667Z"
   },
   {
    "duration": 22,
    "start_time": "2022-08-18T13:33:40.443Z"
   },
   {
    "duration": 24,
    "start_time": "2022-08-18T13:34:09.627Z"
   },
   {
    "duration": 12,
    "start_time": "2022-08-18T13:34:16.900Z"
   },
   {
    "duration": 15,
    "start_time": "2022-08-18T13:34:24.847Z"
   },
   {
    "duration": 16,
    "start_time": "2022-08-18T13:35:32.236Z"
   },
   {
    "duration": 6,
    "start_time": "2022-08-18T13:35:42.556Z"
   },
   {
    "duration": 28,
    "start_time": "2022-08-18T13:36:16.609Z"
   },
   {
    "duration": 3,
    "start_time": "2022-08-18T13:36:33.236Z"
   },
   {
    "duration": 97,
    "start_time": "2022-08-18T13:36:33.251Z"
   },
   {
    "duration": 37,
    "start_time": "2022-08-18T13:36:33.351Z"
   },
   {
    "duration": 13,
    "start_time": "2022-08-18T13:36:33.390Z"
   },
   {
    "duration": 62,
    "start_time": "2022-08-18T13:36:33.404Z"
   },
   {
    "duration": 8,
    "start_time": "2022-08-18T13:36:33.468Z"
   },
   {
    "duration": 19,
    "start_time": "2022-08-18T13:36:33.478Z"
   },
   {
    "duration": 6,
    "start_time": "2022-08-18T13:36:33.499Z"
   },
   {
    "duration": 9,
    "start_time": "2022-08-18T13:36:33.506Z"
   },
   {
    "duration": 41,
    "start_time": "2022-08-18T13:36:33.516Z"
   },
   {
    "duration": 441,
    "start_time": "2022-08-18T13:36:35.828Z"
   },
   {
    "duration": 6,
    "start_time": "2022-08-18T13:36:38.217Z"
   },
   {
    "duration": 26,
    "start_time": "2022-08-18T13:37:01.520Z"
   },
   {
    "duration": 6,
    "start_time": "2022-08-18T13:39:51.538Z"
   },
   {
    "duration": 5,
    "start_time": "2022-08-18T13:40:01.447Z"
   },
   {
    "duration": 9,
    "start_time": "2022-08-18T13:43:14.017Z"
   },
   {
    "duration": 8,
    "start_time": "2022-08-18T13:43:44.829Z"
   },
   {
    "duration": 8,
    "start_time": "2022-08-18T13:45:14.877Z"
   },
   {
    "duration": 11,
    "start_time": "2022-08-18T13:45:56.570Z"
   },
   {
    "duration": 13,
    "start_time": "2022-08-18T13:46:06.501Z"
   },
   {
    "duration": 12,
    "start_time": "2022-08-18T13:46:23.286Z"
   },
   {
    "duration": 12,
    "start_time": "2022-08-18T13:47:23.182Z"
   },
   {
    "duration": 6,
    "start_time": "2022-08-18T13:48:25.975Z"
   },
   {
    "duration": 7,
    "start_time": "2022-08-18T13:48:39.159Z"
   },
   {
    "duration": 21,
    "start_time": "2022-08-18T13:50:43.001Z"
   },
   {
    "duration": 15,
    "start_time": "2022-08-18T13:52:09.574Z"
   },
   {
    "duration": 10,
    "start_time": "2022-08-18T13:53:51.080Z"
   },
   {
    "duration": 13,
    "start_time": "2022-08-18T13:54:22.579Z"
   },
   {
    "duration": 14,
    "start_time": "2022-08-18T13:54:39.010Z"
   },
   {
    "duration": 13,
    "start_time": "2022-08-18T13:55:20.475Z"
   },
   {
    "duration": 14,
    "start_time": "2022-08-18T13:55:51.075Z"
   },
   {
    "duration": 14,
    "start_time": "2022-08-18T13:56:28.074Z"
   },
   {
    "duration": 15,
    "start_time": "2022-08-18T13:56:43.410Z"
   },
   {
    "duration": 9,
    "start_time": "2022-08-18T13:56:58.250Z"
   },
   {
    "duration": 18,
    "start_time": "2022-08-18T13:57:05.757Z"
   },
   {
    "duration": 9,
    "start_time": "2022-08-18T13:57:16.137Z"
   },
   {
    "duration": 9,
    "start_time": "2022-08-18T13:57:51.078Z"
   },
   {
    "duration": 11,
    "start_time": "2022-08-18T13:58:08.998Z"
   },
   {
    "duration": 8,
    "start_time": "2022-08-18T13:58:28.470Z"
   },
   {
    "duration": 14,
    "start_time": "2022-08-18T13:58:52.177Z"
   },
   {
    "duration": 7,
    "start_time": "2022-08-18T13:59:50.938Z"
   },
   {
    "duration": 12,
    "start_time": "2022-08-18T13:59:56.926Z"
   },
   {
    "duration": 15,
    "start_time": "2022-08-18T14:00:42.174Z"
   },
   {
    "duration": 13,
    "start_time": "2022-08-18T14:00:54.855Z"
   },
   {
    "duration": 21,
    "start_time": "2022-08-18T14:01:18.377Z"
   },
   {
    "duration": 12,
    "start_time": "2022-08-18T14:02:26.235Z"
   },
   {
    "duration": 14,
    "start_time": "2022-08-18T14:02:56.081Z"
   },
   {
    "duration": 14,
    "start_time": "2022-08-18T14:03:43.830Z"
   },
   {
    "duration": 16,
    "start_time": "2022-08-18T14:04:07.076Z"
   },
   {
    "duration": 17,
    "start_time": "2022-08-18T14:04:40.645Z"
   },
   {
    "duration": 3,
    "start_time": "2022-08-18T14:07:26.439Z"
   },
   {
    "duration": 16,
    "start_time": "2022-08-18T14:07:29.766Z"
   },
   {
    "duration": 15,
    "start_time": "2022-08-18T14:07:56.826Z"
   },
   {
    "duration": 18,
    "start_time": "2022-08-18T14:08:18.130Z"
   },
   {
    "duration": 9,
    "start_time": "2022-08-18T14:09:08.275Z"
   },
   {
    "duration": 14,
    "start_time": "2022-08-18T14:09:29.900Z"
   },
   {
    "duration": 24,
    "start_time": "2022-08-18T14:10:49.965Z"
   },
   {
    "duration": 21,
    "start_time": "2022-08-18T14:11:24.248Z"
   },
   {
    "duration": 8,
    "start_time": "2022-08-18T14:12:50.793Z"
   },
   {
    "duration": 7,
    "start_time": "2022-08-18T14:12:57.917Z"
   },
   {
    "duration": 6,
    "start_time": "2022-08-18T14:13:08.717Z"
   },
   {
    "duration": 11,
    "start_time": "2022-08-18T14:13:19.051Z"
   },
   {
    "duration": 21,
    "start_time": "2022-08-18T14:14:16.560Z"
   },
   {
    "duration": 51,
    "start_time": "2022-08-18T14:15:31.791Z"
   },
   {
    "duration": 18,
    "start_time": "2022-08-18T14:15:58.299Z"
   },
   {
    "duration": 46,
    "start_time": "2022-08-18T14:16:11.750Z"
   },
   {
    "duration": 110,
    "start_time": "2022-08-18T14:18:29.137Z"
   },
   {
    "duration": 118,
    "start_time": "2022-08-18T14:19:55.633Z"
   },
   {
    "duration": 116,
    "start_time": "2022-08-18T14:20:13.190Z"
   },
   {
    "duration": 39,
    "start_time": "2022-08-18T14:21:29.134Z"
   },
   {
    "duration": 31,
    "start_time": "2022-08-18T14:24:24.690Z"
   },
   {
    "duration": 34,
    "start_time": "2022-08-18T14:24:53.187Z"
   },
   {
    "duration": 25,
    "start_time": "2022-08-18T14:24:57.789Z"
   },
   {
    "duration": 32,
    "start_time": "2022-08-18T14:25:20.666Z"
   },
   {
    "duration": 21,
    "start_time": "2022-08-18T14:25:59.887Z"
   },
   {
    "duration": 19,
    "start_time": "2022-08-18T14:27:22.328Z"
   },
   {
    "duration": 19,
    "start_time": "2022-08-18T14:28:02.228Z"
   },
   {
    "duration": 18,
    "start_time": "2022-08-18T14:28:47.128Z"
   },
   {
    "duration": 30,
    "start_time": "2022-08-18T14:29:20.778Z"
   },
   {
    "duration": 14,
    "start_time": "2022-08-18T14:29:46.942Z"
   },
   {
    "duration": 16,
    "start_time": "2022-08-18T14:30:10.638Z"
   },
   {
    "duration": 29,
    "start_time": "2022-08-18T14:30:41.601Z"
   },
   {
    "duration": 2500,
    "start_time": "2022-08-18T14:30:49.614Z"
   },
   {
    "duration": 22,
    "start_time": "2022-08-18T14:30:58.263Z"
   },
   {
    "duration": 3592,
    "start_time": "2022-08-18T14:31:05.332Z"
   },
   {
    "duration": 134,
    "start_time": "2022-08-18T14:31:15.290Z"
   },
   {
    "duration": 17,
    "start_time": "2022-08-18T14:31:17.997Z"
   },
   {
    "duration": 20,
    "start_time": "2022-08-18T14:32:12.155Z"
   },
   {
    "duration": 795,
    "start_time": "2022-08-18T14:32:41.515Z"
   },
   {
    "duration": 21,
    "start_time": "2022-08-18T14:32:56.121Z"
   },
   {
    "duration": 29,
    "start_time": "2022-08-18T14:33:05.058Z"
   },
   {
    "duration": 24,
    "start_time": "2022-08-18T14:34:19.513Z"
   },
   {
    "duration": 55,
    "start_time": "2022-08-18T14:36:03.230Z"
   },
   {
    "duration": 38,
    "start_time": "2022-08-18T14:37:10.139Z"
   },
   {
    "duration": 27,
    "start_time": "2022-08-18T14:37:21.975Z"
   },
   {
    "duration": 352,
    "start_time": "2022-08-18T14:40:24.933Z"
   },
   {
    "duration": 384,
    "start_time": "2022-08-18T14:41:34.491Z"
   },
   {
    "duration": 1,
    "start_time": "2022-08-18T14:43:22.015Z"
   },
   {
    "duration": 203234,
    "start_time": "2022-08-18T14:43:23.990Z"
   },
   {
    "duration": 389,
    "start_time": "2022-08-18T14:47:16.841Z"
   },
   {
    "duration": 146,
    "start_time": "2022-08-18T14:47:50.096Z"
   },
   {
    "duration": 412,
    "start_time": "2022-08-18T14:47:58.997Z"
   },
   {
    "duration": 8,
    "start_time": "2022-08-18T14:51:35.822Z"
   },
   {
    "duration": 474,
    "start_time": "2022-08-18T14:51:40.348Z"
   },
   {
    "duration": 37,
    "start_time": "2022-08-18T14:51:49.556Z"
   },
   {
    "duration": 404,
    "start_time": "2022-08-18T14:52:19.320Z"
   },
   {
    "duration": 252,
    "start_time": "2022-08-18T14:54:06.688Z"
   },
   {
    "duration": 2446,
    "start_time": "2022-08-18T14:55:21.603Z"
   },
   {
    "duration": 281,
    "start_time": "2022-08-18T15:00:26.230Z"
   },
   {
    "duration": 2464,
    "start_time": "2022-08-18T15:01:59.722Z"
   },
   {
    "duration": 54,
    "start_time": "2022-08-18T15:04:12.486Z"
   },
   {
    "duration": 32,
    "start_time": "2022-08-18T15:04:32.864Z"
   },
   {
    "duration": 84,
    "start_time": "2022-08-18T15:04:42.952Z"
   },
   {
    "duration": 33,
    "start_time": "2022-08-18T15:04:59.914Z"
   },
   {
    "duration": 90,
    "start_time": "2022-08-18T15:07:39.950Z"
   },
   {
    "duration": 110,
    "start_time": "2022-08-18T15:08:00.310Z"
   },
   {
    "duration": 142,
    "start_time": "2022-08-18T15:08:20.147Z"
   },
   {
    "duration": 179,
    "start_time": "2022-08-18T15:10:35.539Z"
   },
   {
    "duration": 1334,
    "start_time": "2022-08-19T09:30:39.152Z"
   },
   {
    "duration": 145,
    "start_time": "2022-08-19T09:30:40.488Z"
   },
   {
    "duration": 41,
    "start_time": "2022-08-19T09:30:40.635Z"
   },
   {
    "duration": 13,
    "start_time": "2022-08-19T09:30:40.677Z"
   },
   {
    "duration": 46,
    "start_time": "2022-08-19T09:30:40.692Z"
   },
   {
    "duration": 7,
    "start_time": "2022-08-19T09:30:40.740Z"
   },
   {
    "duration": 13,
    "start_time": "2022-08-19T09:30:40.767Z"
   },
   {
    "duration": 10,
    "start_time": "2022-08-19T09:30:40.782Z"
   },
   {
    "duration": 21,
    "start_time": "2022-08-19T09:30:40.793Z"
   },
   {
    "duration": 12,
    "start_time": "2022-08-19T09:30:40.816Z"
   },
   {
    "duration": 84,
    "start_time": "2022-08-19T09:30:40.830Z"
   },
   {
    "duration": 0,
    "start_time": "2022-08-19T09:30:40.916Z"
   },
   {
    "duration": 0,
    "start_time": "2022-08-19T09:30:40.917Z"
   },
   {
    "duration": 0,
    "start_time": "2022-08-19T09:30:40.918Z"
   },
   {
    "duration": 4,
    "start_time": "2022-08-19T09:30:59.821Z"
   },
   {
    "duration": 457,
    "start_time": "2022-08-19T09:30:59.840Z"
   },
   {
    "duration": 3,
    "start_time": "2022-08-19T09:31:00.299Z"
   },
   {
    "duration": 93,
    "start_time": "2022-08-19T09:31:00.303Z"
   },
   {
    "duration": 78,
    "start_time": "2022-08-19T09:33:13.474Z"
   },
   {
    "duration": 18,
    "start_time": "2022-08-19T09:35:32.414Z"
   },
   {
    "duration": 22,
    "start_time": "2022-08-19T09:35:38.625Z"
   },
   {
    "duration": 105,
    "start_time": "2022-08-19T09:46:27.211Z"
   },
   {
    "duration": 1498,
    "start_time": "2022-08-19T09:47:37.512Z"
   },
   {
    "duration": 70,
    "start_time": "2022-08-19T09:48:36.251Z"
   },
   {
    "duration": 54,
    "start_time": "2022-08-19T09:51:29.115Z"
   },
   {
    "duration": 215,
    "start_time": "2022-08-19T09:52:29.641Z"
   },
   {
    "duration": 66,
    "start_time": "2022-08-19T09:52:34.881Z"
   },
   {
    "duration": 47,
    "start_time": "2022-08-19T09:54:10.256Z"
   },
   {
    "duration": 84,
    "start_time": "2022-08-19T09:58:20.331Z"
   },
   {
    "duration": 45,
    "start_time": "2022-08-19T09:58:30.569Z"
   },
   {
    "duration": 77,
    "start_time": "2022-08-19T10:05:57.835Z"
   },
   {
    "duration": 4,
    "start_time": "2022-08-19T10:06:09.153Z"
   },
   {
    "duration": 6,
    "start_time": "2022-08-19T10:10:05.013Z"
   },
   {
    "duration": 842,
    "start_time": "2022-08-19T10:10:53.777Z"
   },
   {
    "duration": 86,
    "start_time": "2022-08-19T10:11:20.957Z"
   },
   {
    "duration": 5,
    "start_time": "2022-08-19T10:11:30.796Z"
   },
   {
    "duration": 6,
    "start_time": "2022-08-19T10:12:07.345Z"
   },
   {
    "duration": 87,
    "start_time": "2022-08-19T10:12:10.780Z"
   },
   {
    "duration": 6,
    "start_time": "2022-08-19T10:12:18.067Z"
   },
   {
    "duration": 5,
    "start_time": "2022-08-19T10:12:29.249Z"
   },
   {
    "duration": 7,
    "start_time": "2022-08-19T10:13:13.985Z"
   },
   {
    "duration": 10,
    "start_time": "2022-08-19T10:13:57.221Z"
   },
   {
    "duration": 506,
    "start_time": "2022-08-19T10:14:00.525Z"
   },
   {
    "duration": 5,
    "start_time": "2022-08-19T10:14:07.585Z"
   },
   {
    "duration": 7,
    "start_time": "2022-08-19T10:15:00.992Z"
   },
   {
    "duration": 522,
    "start_time": "2022-08-19T10:15:04.723Z"
   },
   {
    "duration": 9,
    "start_time": "2022-08-19T10:16:56.625Z"
   },
   {
    "duration": 1011,
    "start_time": "2022-08-19T10:16:59.341Z"
   },
   {
    "duration": 12,
    "start_time": "2022-08-19T10:17:01.366Z"
   },
   {
    "duration": 11,
    "start_time": "2022-08-19T10:20:23.223Z"
   },
   {
    "duration": 1019,
    "start_time": "2022-08-19T10:20:24.894Z"
   },
   {
    "duration": 4,
    "start_time": "2022-08-19T10:20:25.915Z"
   },
   {
    "duration": 6,
    "start_time": "2022-08-19T10:21:22.831Z"
   },
   {
    "duration": 985,
    "start_time": "2022-08-19T10:21:24.232Z"
   },
   {
    "duration": 5,
    "start_time": "2022-08-19T10:21:25.219Z"
   },
   {
    "duration": 7,
    "start_time": "2022-08-19T10:21:52.452Z"
   },
   {
    "duration": 531,
    "start_time": "2022-08-19T10:21:53.295Z"
   },
   {
    "duration": 5,
    "start_time": "2022-08-19T10:21:54.042Z"
   },
   {
    "duration": 7,
    "start_time": "2022-08-19T10:23:09.210Z"
   },
   {
    "duration": 985,
    "start_time": "2022-08-19T10:23:10.252Z"
   },
   {
    "duration": 6,
    "start_time": "2022-08-19T10:23:11.239Z"
   },
   {
    "duration": 13,
    "start_time": "2022-08-19T10:25:26.062Z"
   },
   {
    "duration": 1006,
    "start_time": "2022-08-19T10:25:27.599Z"
   },
   {
    "duration": 5,
    "start_time": "2022-08-19T10:25:28.608Z"
   },
   {
    "duration": 10,
    "start_time": "2022-08-19T10:28:25.878Z"
   },
   {
    "duration": 5,
    "start_time": "2022-08-19T10:28:42.460Z"
   },
   {
    "duration": 138,
    "start_time": "2022-08-19T10:29:06.611Z"
   },
   {
    "duration": 14,
    "start_time": "2022-08-19T10:29:13.587Z"
   },
   {
    "duration": 13,
    "start_time": "2022-08-19T10:29:18.891Z"
   },
   {
    "duration": 6,
    "start_time": "2022-08-19T10:29:36.179Z"
   },
   {
    "duration": 5,
    "start_time": "2022-08-19T10:31:51.687Z"
   },
   {
    "duration": 6,
    "start_time": "2022-08-19T10:32:48.410Z"
   },
   {
    "duration": 11,
    "start_time": "2022-08-19T10:33:08.053Z"
   },
   {
    "duration": 922,
    "start_time": "2022-08-19T10:33:08.837Z"
   },
   {
    "duration": 18,
    "start_time": "2022-08-19T10:33:09.761Z"
   },
   {
    "duration": 7,
    "start_time": "2022-08-19T10:33:44.316Z"
   },
   {
    "duration": 967,
    "start_time": "2022-08-19T10:33:44.793Z"
   },
   {
    "duration": 10,
    "start_time": "2022-08-19T10:33:45.762Z"
   },
   {
    "duration": 8,
    "start_time": "2022-08-19T10:34:20.038Z"
   },
   {
    "duration": 948,
    "start_time": "2022-08-19T10:34:21.283Z"
   },
   {
    "duration": 6,
    "start_time": "2022-08-19T10:34:22.233Z"
   },
   {
    "duration": 7,
    "start_time": "2022-08-19T10:35:01.081Z"
   },
   {
    "duration": 929,
    "start_time": "2022-08-19T10:35:01.593Z"
   },
   {
    "duration": 5,
    "start_time": "2022-08-19T10:35:02.805Z"
   },
   {
    "duration": 46,
    "start_time": "2022-08-19T10:35:48.012Z"
   },
   {
    "duration": 10,
    "start_time": "2022-08-19T10:36:41.399Z"
   },
   {
    "duration": 908,
    "start_time": "2022-08-19T10:36:43.725Z"
   },
   {
    "duration": 53,
    "start_time": "2022-08-19T10:36:44.635Z"
   },
   {
    "duration": 7,
    "start_time": "2022-08-19T10:39:31.642Z"
   },
   {
    "duration": 925,
    "start_time": "2022-08-19T10:39:32.245Z"
   },
   {
    "duration": 61,
    "start_time": "2022-08-19T10:39:33.171Z"
   },
   {
    "duration": 3,
    "start_time": "2022-08-19T10:39:33.658Z"
   },
   {
    "duration": 62,
    "start_time": "2022-08-19T10:40:24.912Z"
   },
   {
    "duration": 68,
    "start_time": "2022-08-19T10:40:36.140Z"
   },
   {
    "duration": 74,
    "start_time": "2022-08-19T10:40:42.351Z"
   },
   {
    "duration": 9,
    "start_time": "2022-08-19T10:41:46.909Z"
   },
   {
    "duration": 985,
    "start_time": "2022-08-19T10:41:47.544Z"
   },
   {
    "duration": 68,
    "start_time": "2022-08-19T10:41:48.531Z"
   },
   {
    "duration": 12,
    "start_time": "2022-08-19T10:42:22.465Z"
   },
   {
    "duration": 1042,
    "start_time": "2022-08-19T10:42:24.236Z"
   },
   {
    "duration": 54,
    "start_time": "2022-08-19T10:42:25.280Z"
   },
   {
    "duration": 7,
    "start_time": "2022-08-19T10:43:54.908Z"
   },
   {
    "duration": 995,
    "start_time": "2022-08-19T10:43:55.707Z"
   },
   {
    "duration": 66,
    "start_time": "2022-08-19T10:43:56.707Z"
   },
   {
    "duration": 8,
    "start_time": "2022-08-19T10:44:37.353Z"
   },
   {
    "duration": 1004,
    "start_time": "2022-08-19T10:44:37.967Z"
   },
   {
    "duration": 52,
    "start_time": "2022-08-19T10:44:38.983Z"
   },
   {
    "duration": 7,
    "start_time": "2022-08-19T10:48:55.935Z"
   },
   {
    "duration": 1163,
    "start_time": "2022-08-19T10:48:56.447Z"
   },
   {
    "duration": 46,
    "start_time": "2022-08-19T10:48:57.612Z"
   },
   {
    "duration": 117,
    "start_time": "2022-08-19T10:50:30.766Z"
   },
   {
    "duration": 99,
    "start_time": "2022-08-19T10:51:11.493Z"
   },
   {
    "duration": 149,
    "start_time": "2022-08-19T10:51:24.028Z"
   },
   {
    "duration": 92,
    "start_time": "2022-08-19T10:51:55.506Z"
   },
   {
    "duration": 90,
    "start_time": "2022-08-19T10:52:58.344Z"
   },
   {
    "duration": 95,
    "start_time": "2022-08-19T10:53:21.862Z"
   },
   {
    "duration": 109,
    "start_time": "2022-08-19T10:53:47.207Z"
   },
   {
    "duration": 938,
    "start_time": "2022-08-19T10:53:48.433Z"
   },
   {
    "duration": 85,
    "start_time": "2022-08-19T10:53:59.741Z"
   },
   {
    "duration": 90,
    "start_time": "2022-08-19T10:56:01.892Z"
   },
   {
    "duration": 77,
    "start_time": "2022-08-19T10:56:22.050Z"
   },
   {
    "duration": 101,
    "start_time": "2022-08-19T10:56:51.493Z"
   },
   {
    "duration": 98,
    "start_time": "2022-08-19T10:57:11.246Z"
   },
   {
    "duration": 903,
    "start_time": "2022-08-19T10:57:12.208Z"
   },
   {
    "duration": 54,
    "start_time": "2022-08-19T10:57:13.209Z"
   },
   {
    "duration": 3,
    "start_time": "2022-08-19T10:57:30.531Z"
   },
   {
    "duration": 128,
    "start_time": "2022-08-19T10:57:30.556Z"
   },
   {
    "duration": 46,
    "start_time": "2022-08-19T10:57:30.687Z"
   },
   {
    "duration": 12,
    "start_time": "2022-08-19T10:57:30.735Z"
   },
   {
    "duration": 47,
    "start_time": "2022-08-19T10:57:30.767Z"
   },
   {
    "duration": 7,
    "start_time": "2022-08-19T10:57:30.817Z"
   },
   {
    "duration": 13,
    "start_time": "2022-08-19T10:57:30.826Z"
   },
   {
    "duration": 6,
    "start_time": "2022-08-19T10:57:30.841Z"
   },
   {
    "duration": 28,
    "start_time": "2022-08-19T10:57:30.848Z"
   },
   {
    "duration": 97,
    "start_time": "2022-08-19T10:57:50.445Z"
   },
   {
    "duration": 120,
    "start_time": "2022-08-19T10:58:24.417Z"
   },
   {
    "duration": 79,
    "start_time": "2022-08-19T11:50:04.139Z"
   },
   {
    "duration": 95,
    "start_time": "2022-08-19T11:50:45.232Z"
   },
   {
    "duration": 78,
    "start_time": "2022-08-19T11:51:32.981Z"
   },
   {
    "duration": 887,
    "start_time": "2022-08-19T11:51:35.684Z"
   },
   {
    "duration": 2,
    "start_time": "2022-08-19T11:52:22.085Z"
   },
   {
    "duration": 104,
    "start_time": "2022-08-19T11:52:22.089Z"
   },
   {
    "duration": 34,
    "start_time": "2022-08-19T11:52:22.195Z"
   },
   {
    "duration": 14,
    "start_time": "2022-08-19T11:52:22.231Z"
   },
   {
    "duration": 38,
    "start_time": "2022-08-19T11:52:22.267Z"
   },
   {
    "duration": 8,
    "start_time": "2022-08-19T11:52:22.307Z"
   },
   {
    "duration": 11,
    "start_time": "2022-08-19T11:52:22.317Z"
   },
   {
    "duration": 9,
    "start_time": "2022-08-19T11:52:22.329Z"
   },
   {
    "duration": 8,
    "start_time": "2022-08-19T11:52:22.339Z"
   },
   {
    "duration": 8,
    "start_time": "2022-08-19T11:52:22.368Z"
   },
   {
    "duration": 82,
    "start_time": "2022-08-19T11:52:25.557Z"
   },
   {
    "duration": 129,
    "start_time": "2022-08-19T11:52:55.630Z"
   },
   {
    "duration": 80,
    "start_time": "2022-08-19T11:53:33.975Z"
   },
   {
    "duration": 7,
    "start_time": "2022-08-19T11:54:11.145Z"
   },
   {
    "duration": 801,
    "start_time": "2022-08-19T11:54:13.661Z"
   },
   {
    "duration": 13,
    "start_time": "2022-08-19T11:54:14.467Z"
   },
   {
    "duration": 3,
    "start_time": "2022-08-19T11:54:14.785Z"
   },
   {
    "duration": 14,
    "start_time": "2022-08-19T11:54:23.411Z"
   },
   {
    "duration": 3,
    "start_time": "2022-08-19T11:54:24.177Z"
   },
   {
    "duration": 66,
    "start_time": "2022-08-19T11:54:24.991Z"
   },
   {
    "duration": 52,
    "start_time": "2022-08-19T11:54:30.285Z"
   },
   {
    "duration": 17,
    "start_time": "2022-08-19T11:54:44.712Z"
   },
   {
    "duration": 835,
    "start_time": "2022-08-19T11:56:37.489Z"
   },
   {
    "duration": 14,
    "start_time": "2022-08-19T11:56:38.466Z"
   },
   {
    "duration": 13,
    "start_time": "2022-08-19T11:56:51.587Z"
   },
   {
    "duration": 816,
    "start_time": "2022-08-19T11:57:17.134Z"
   },
   {
    "duration": 850,
    "start_time": "2022-08-19T11:57:22.370Z"
   },
   {
    "duration": 988,
    "start_time": "2022-08-19T11:57:28.929Z"
   },
   {
    "duration": 8,
    "start_time": "2022-08-19T11:58:12.819Z"
   },
   {
    "duration": 1108,
    "start_time": "2022-08-19T11:58:14.319Z"
   },
   {
    "duration": 36,
    "start_time": "2022-08-19T11:58:26.889Z"
   },
   {
    "duration": 9,
    "start_time": "2022-08-19T11:59:09.179Z"
   },
   {
    "duration": 1109,
    "start_time": "2022-08-19T11:59:10.563Z"
   },
   {
    "duration": 44,
    "start_time": "2022-08-19T11:59:11.674Z"
   },
   {
    "duration": 3,
    "start_time": "2022-08-19T11:59:11.929Z"
   },
   {
    "duration": 8,
    "start_time": "2022-08-19T12:00:42.485Z"
   },
   {
    "duration": 8,
    "start_time": "2022-08-19T12:00:58.179Z"
   },
   {
    "duration": 1105,
    "start_time": "2022-08-19T12:01:07.241Z"
   },
   {
    "duration": 7,
    "start_time": "2022-08-19T12:01:40.911Z"
   },
   {
    "duration": 1215,
    "start_time": "2022-08-19T12:01:46.029Z"
   },
   {
    "duration": 48,
    "start_time": "2022-08-19T12:02:22.408Z"
   },
   {
    "duration": 46,
    "start_time": "2022-08-19T12:02:33.978Z"
   },
   {
    "duration": 88,
    "start_time": "2022-08-19T12:03:45.959Z"
   },
   {
    "duration": 37,
    "start_time": "2022-08-19T12:03:50.610Z"
   },
   {
    "duration": 7,
    "start_time": "2022-08-19T12:05:51.137Z"
   },
   {
    "duration": 1296,
    "start_time": "2022-08-19T12:05:51.784Z"
   },
   {
    "duration": 39,
    "start_time": "2022-08-19T12:05:53.083Z"
   },
   {
    "duration": 8,
    "start_time": "2022-08-19T12:07:57.922Z"
   },
   {
    "duration": 1168,
    "start_time": "2022-08-19T12:07:59.981Z"
   },
   {
    "duration": 47,
    "start_time": "2022-08-19T12:08:04.086Z"
   },
   {
    "duration": 58,
    "start_time": "2022-08-19T12:10:40.331Z"
   },
   {
    "duration": 9,
    "start_time": "2022-08-19T12:11:39.391Z"
   },
   {
    "duration": 1153,
    "start_time": "2022-08-19T12:11:41.120Z"
   },
   {
    "duration": 47,
    "start_time": "2022-08-19T12:11:43.819Z"
   },
   {
    "duration": 8,
    "start_time": "2022-08-19T12:12:41.442Z"
   },
   {
    "duration": 1176,
    "start_time": "2022-08-19T12:12:42.971Z"
   },
   {
    "duration": 49,
    "start_time": "2022-08-19T12:12:44.216Z"
   },
   {
    "duration": 9,
    "start_time": "2022-08-19T12:13:34.457Z"
   },
   {
    "duration": 1211,
    "start_time": "2022-08-19T12:13:35.375Z"
   },
   {
    "duration": 109,
    "start_time": "2022-08-19T12:13:36.590Z"
   },
   {
    "duration": 9,
    "start_time": "2022-08-19T12:14:43.956Z"
   },
   {
    "duration": 1172,
    "start_time": "2022-08-19T12:14:44.784Z"
   },
   {
    "duration": 66,
    "start_time": "2022-08-19T12:14:45.958Z"
   },
   {
    "duration": 9,
    "start_time": "2022-08-19T12:16:57.011Z"
   },
   {
    "duration": 1196,
    "start_time": "2022-08-19T12:16:57.892Z"
   },
   {
    "duration": 91,
    "start_time": "2022-08-19T12:16:59.090Z"
   },
   {
    "duration": 4,
    "start_time": "2022-08-19T12:16:59.216Z"
   },
   {
    "duration": 58,
    "start_time": "2022-08-19T12:17:00.112Z"
   },
   {
    "duration": 9,
    "start_time": "2022-08-19T12:17:04.078Z"
   },
   {
    "duration": 13,
    "start_time": "2022-08-19T12:18:47.371Z"
   },
   {
    "duration": 1242,
    "start_time": "2022-08-19T12:18:48.179Z"
   },
   {
    "duration": 99,
    "start_time": "2022-08-19T12:18:49.423Z"
   },
   {
    "duration": 53,
    "start_time": "2022-08-19T12:19:54.243Z"
   },
   {
    "duration": 1016,
    "start_time": "2022-08-19T12:21:55.421Z"
   },
   {
    "duration": 5,
    "start_time": "2022-08-19T12:24:36.085Z"
   },
   {
    "duration": 15,
    "start_time": "2022-08-19T12:25:01.602Z"
   },
   {
    "duration": 839,
    "start_time": "2022-08-19T12:25:02.684Z"
   },
   {
    "duration": 25,
    "start_time": "2022-08-19T12:25:03.528Z"
   },
   {
    "duration": 864,
    "start_time": "2022-08-19T12:25:34.608Z"
   },
   {
    "duration": 919,
    "start_time": "2022-08-19T12:25:46.764Z"
   },
   {
    "duration": 849,
    "start_time": "2022-08-19T12:25:53.582Z"
   },
   {
    "duration": 86,
    "start_time": "2022-08-19T12:26:18.534Z"
   },
   {
    "duration": 858,
    "start_time": "2022-08-19T12:26:23.132Z"
   },
   {
    "duration": 866,
    "start_time": "2022-08-19T12:26:33.920Z"
   },
   {
    "duration": 857,
    "start_time": "2022-08-19T12:26:42.632Z"
   },
   {
    "duration": 875,
    "start_time": "2022-08-19T12:27:05.432Z"
   },
   {
    "duration": 14,
    "start_time": "2022-08-19T12:27:24.657Z"
   },
   {
    "duration": 10,
    "start_time": "2022-08-19T12:27:36.227Z"
   },
   {
    "duration": 869,
    "start_time": "2022-08-19T12:27:37.083Z"
   },
   {
    "duration": 10,
    "start_time": "2022-08-19T12:29:34.026Z"
   },
   {
    "duration": 1124,
    "start_time": "2022-08-19T12:29:34.822Z"
   },
   {
    "duration": 30,
    "start_time": "2022-08-19T12:29:37.162Z"
   },
   {
    "duration": 77,
    "start_time": "2022-08-19T12:29:41.665Z"
   },
   {
    "duration": 12,
    "start_time": "2022-08-19T12:30:31.510Z"
   },
   {
    "duration": 1113,
    "start_time": "2022-08-19T12:30:32.482Z"
   },
   {
    "duration": 26,
    "start_time": "2022-08-19T12:30:33.596Z"
   },
   {
    "duration": 1088,
    "start_time": "2022-08-19T12:31:31.883Z"
   },
   {
    "duration": 1395,
    "start_time": "2022-08-19T12:31:51.714Z"
   },
   {
    "duration": 4163,
    "start_time": "2022-08-19T12:35:52.416Z"
   },
   {
    "duration": 6,
    "start_time": "2022-08-19T12:36:21.021Z"
   },
   {
    "duration": 8,
    "start_time": "2022-08-19T12:39:47.631Z"
   },
   {
    "duration": 1069,
    "start_time": "2022-08-19T13:09:26.243Z"
   },
   {
    "duration": 4,
    "start_time": "2022-08-19T13:13:36.115Z"
   },
   {
    "duration": 3,
    "start_time": "2022-08-19T13:22:12.384Z"
   },
   {
    "duration": 106,
    "start_time": "2022-08-19T13:22:12.389Z"
   },
   {
    "duration": 39,
    "start_time": "2022-08-19T13:22:12.498Z"
   },
   {
    "duration": 39,
    "start_time": "2022-08-19T13:22:12.538Z"
   },
   {
    "duration": 43,
    "start_time": "2022-08-19T13:22:12.579Z"
   },
   {
    "duration": 9,
    "start_time": "2022-08-19T13:22:12.623Z"
   },
   {
    "duration": 42,
    "start_time": "2022-08-19T13:22:12.634Z"
   },
   {
    "duration": 7,
    "start_time": "2022-08-19T13:22:12.677Z"
   },
   {
    "duration": 12,
    "start_time": "2022-08-19T13:22:12.686Z"
   },
   {
    "duration": 8,
    "start_time": "2022-08-19T13:22:12.700Z"
   },
   {
    "duration": 10,
    "start_time": "2022-08-19T13:22:12.711Z"
   },
   {
    "duration": 1017,
    "start_time": "2022-08-19T13:22:12.723Z"
   },
   {
    "duration": 33,
    "start_time": "2022-08-19T13:22:13.742Z"
   },
   {
    "duration": 54,
    "start_time": "2022-08-19T13:22:13.776Z"
   },
   {
    "duration": 7,
    "start_time": "2022-08-19T13:22:13.832Z"
   },
   {
    "duration": 28,
    "start_time": "2022-08-19T13:22:13.840Z"
   },
   {
    "duration": 15,
    "start_time": "2022-08-19T13:22:13.869Z"
   },
   {
    "duration": 28,
    "start_time": "2022-08-19T13:25:24.146Z"
   },
   {
    "duration": 28,
    "start_time": "2022-08-19T13:25:50.505Z"
   },
   {
    "duration": 10,
    "start_time": "2022-08-19T13:29:14.911Z"
   },
   {
    "duration": 10,
    "start_time": "2022-08-19T13:29:35.652Z"
   },
   {
    "duration": 4,
    "start_time": "2022-08-19T13:29:40.740Z"
   },
   {
    "duration": 351,
    "start_time": "2022-08-19T13:29:42.289Z"
   },
   {
    "duration": 7,
    "start_time": "2022-08-19T13:30:09.509Z"
   },
   {
    "duration": 2042,
    "start_time": "2022-08-19T13:30:29.158Z"
   },
   {
    "duration": 1319,
    "start_time": "2022-08-19T13:30:39.920Z"
   },
   {
    "duration": 38,
    "start_time": "2022-08-19T13:30:51.569Z"
   },
   {
    "duration": 23,
    "start_time": "2022-08-19T13:31:31.782Z"
   },
   {
    "duration": 4,
    "start_time": "2022-08-19T13:31:32.849Z"
   },
   {
    "duration": 472,
    "start_time": "2022-08-19T13:31:33.469Z"
   },
   {
    "duration": 45,
    "start_time": "2022-08-19T13:31:36.670Z"
   },
   {
    "duration": 3,
    "start_time": "2022-08-19T13:32:44.232Z"
   },
   {
    "duration": 105,
    "start_time": "2022-08-19T13:32:44.237Z"
   },
   {
    "duration": 39,
    "start_time": "2022-08-19T13:32:44.344Z"
   },
   {
    "duration": 17,
    "start_time": "2022-08-19T13:32:44.385Z"
   },
   {
    "duration": 73,
    "start_time": "2022-08-19T13:32:44.405Z"
   },
   {
    "duration": 9,
    "start_time": "2022-08-19T13:32:44.480Z"
   },
   {
    "duration": 16,
    "start_time": "2022-08-19T13:32:44.491Z"
   },
   {
    "duration": 10,
    "start_time": "2022-08-19T13:32:44.509Z"
   },
   {
    "duration": 9,
    "start_time": "2022-08-19T13:32:44.521Z"
   },
   {
    "duration": 42,
    "start_time": "2022-08-19T13:32:44.532Z"
   },
   {
    "duration": 10,
    "start_time": "2022-08-19T13:32:44.576Z"
   },
   {
    "duration": 1050,
    "start_time": "2022-08-19T13:32:44.588Z"
   },
   {
    "duration": 33,
    "start_time": "2022-08-19T13:32:45.640Z"
   },
   {
    "duration": 52,
    "start_time": "2022-08-19T13:32:45.676Z"
   },
   {
    "duration": 7,
    "start_time": "2022-08-19T13:32:45.730Z"
   },
   {
    "duration": 553,
    "start_time": "2022-08-19T13:34:09.143Z"
   },
   {
    "duration": 392,
    "start_time": "2022-08-19T13:34:28.331Z"
   },
   {
    "duration": 4,
    "start_time": "2022-08-19T13:35:28.072Z"
   },
   {
    "duration": 103,
    "start_time": "2022-08-19T13:35:28.078Z"
   },
   {
    "duration": 36,
    "start_time": "2022-08-19T13:35:28.182Z"
   },
   {
    "duration": 14,
    "start_time": "2022-08-19T13:35:28.220Z"
   },
   {
    "duration": 70,
    "start_time": "2022-08-19T13:35:28.236Z"
   },
   {
    "duration": 9,
    "start_time": "2022-08-19T13:35:28.308Z"
   },
   {
    "duration": 12,
    "start_time": "2022-08-19T13:35:28.319Z"
   },
   {
    "duration": 6,
    "start_time": "2022-08-19T13:35:28.333Z"
   },
   {
    "duration": 7,
    "start_time": "2022-08-19T13:35:28.367Z"
   },
   {
    "duration": 9,
    "start_time": "2022-08-19T13:35:28.376Z"
   },
   {
    "duration": 10,
    "start_time": "2022-08-19T13:35:28.387Z"
   },
   {
    "duration": 1029,
    "start_time": "2022-08-19T13:35:28.399Z"
   },
   {
    "duration": 19,
    "start_time": "2022-08-19T13:35:29.430Z"
   },
   {
    "duration": 68,
    "start_time": "2022-08-19T13:35:29.451Z"
   },
   {
    "duration": 8,
    "start_time": "2022-08-19T13:35:29.521Z"
   },
   {
    "duration": 5,
    "start_time": "2022-08-19T13:35:32.408Z"
   },
   {
    "duration": 24,
    "start_time": "2022-08-19T13:35:33.913Z"
   },
   {
    "duration": 3,
    "start_time": "2022-08-19T13:35:35.788Z"
   },
   {
    "duration": 394,
    "start_time": "2022-08-19T13:35:36.660Z"
   },
   {
    "duration": 30,
    "start_time": "2022-08-19T13:35:37.556Z"
   },
   {
    "duration": 2825,
    "start_time": "2022-08-19T13:40:01.727Z"
   },
   {
    "duration": 151,
    "start_time": "2022-08-19T13:43:07.337Z"
   },
   {
    "duration": 180,
    "start_time": "2022-08-19T13:43:45.429Z"
   },
   {
    "duration": 176,
    "start_time": "2022-08-19T13:44:16.089Z"
   },
   {
    "duration": 412,
    "start_time": "2022-08-19T13:44:23.029Z"
   },
   {
    "duration": 336,
    "start_time": "2022-08-19T13:44:46.778Z"
   },
   {
    "duration": 312,
    "start_time": "2022-08-19T13:44:56.834Z"
   },
   {
    "duration": 314,
    "start_time": "2022-08-19T13:45:55.054Z"
   },
   {
    "duration": 314,
    "start_time": "2022-08-19T13:46:44.981Z"
   },
   {
    "duration": 454,
    "start_time": "2022-08-19T13:47:13.978Z"
   },
   {
    "duration": 364,
    "start_time": "2022-08-19T13:47:26.247Z"
   },
   {
    "duration": 661,
    "start_time": "2022-08-19T13:48:05.027Z"
   },
   {
    "duration": 315,
    "start_time": "2022-08-19T13:48:35.713Z"
   },
   {
    "duration": 337,
    "start_time": "2022-08-19T13:48:40.129Z"
   },
   {
    "duration": 478,
    "start_time": "2022-08-19T13:49:21.439Z"
   },
   {
    "duration": 367,
    "start_time": "2022-08-19T13:49:56.677Z"
   },
   {
    "duration": 332,
    "start_time": "2022-08-19T13:50:24.064Z"
   },
   {
    "duration": 342,
    "start_time": "2022-08-19T13:50:38.896Z"
   },
   {
    "duration": 388,
    "start_time": "2022-08-19T13:52:42.966Z"
   },
   {
    "duration": 328,
    "start_time": "2022-08-19T13:54:33.527Z"
   },
   {
    "duration": 507,
    "start_time": "2022-08-19T13:58:09.064Z"
   },
   {
    "duration": 415,
    "start_time": "2022-08-19T13:58:36.596Z"
   },
   {
    "duration": 130,
    "start_time": "2022-08-19T13:58:47.725Z"
   },
   {
    "duration": 130,
    "start_time": "2022-08-19T14:00:51.749Z"
   },
   {
    "duration": 142,
    "start_time": "2022-08-19T14:01:03.473Z"
   },
   {
    "duration": 124,
    "start_time": "2022-08-19T14:02:20.933Z"
   },
   {
    "duration": 123,
    "start_time": "2022-08-19T14:02:32.674Z"
   },
   {
    "duration": 3,
    "start_time": "2022-08-19T14:02:40.856Z"
   },
   {
    "duration": 1251,
    "start_time": "2022-08-19T14:02:56.645Z"
   },
   {
    "duration": 112,
    "start_time": "2022-08-19T14:02:57.898Z"
   },
   {
    "duration": 2229,
    "start_time": "2022-08-19T14:02:58.012Z"
   },
   {
    "duration": 16,
    "start_time": "2022-08-19T14:03:00.244Z"
   },
   {
    "duration": 48,
    "start_time": "2022-08-19T14:03:00.262Z"
   },
   {
    "duration": 9,
    "start_time": "2022-08-19T14:03:00.312Z"
   },
   {
    "duration": 20,
    "start_time": "2022-08-19T14:03:00.322Z"
   },
   {
    "duration": 7,
    "start_time": "2022-08-19T14:03:00.344Z"
   },
   {
    "duration": 7,
    "start_time": "2022-08-19T14:03:00.367Z"
   },
   {
    "duration": 11,
    "start_time": "2022-08-19T14:03:00.377Z"
   },
   {
    "duration": 10,
    "start_time": "2022-08-19T14:03:00.391Z"
   },
   {
    "duration": 1067,
    "start_time": "2022-08-19T14:03:00.403Z"
   },
   {
    "duration": 22,
    "start_time": "2022-08-19T14:03:01.472Z"
   },
   {
    "duration": 82,
    "start_time": "2022-08-19T14:03:01.496Z"
   },
   {
    "duration": 9,
    "start_time": "2022-08-19T14:03:01.580Z"
   },
   {
    "duration": 22,
    "start_time": "2022-08-19T14:03:01.590Z"
   },
   {
    "duration": 40,
    "start_time": "2022-08-19T14:03:01.614Z"
   },
   {
    "duration": 3,
    "start_time": "2022-08-19T14:03:01.656Z"
   },
   {
    "duration": 356,
    "start_time": "2022-08-19T14:03:01.661Z"
   },
   {
    "duration": 31,
    "start_time": "2022-08-19T14:03:02.019Z"
   },
   {
    "duration": 251,
    "start_time": "2022-08-19T14:03:02.051Z"
   },
   {
    "duration": 0,
    "start_time": "2022-08-19T14:03:02.304Z"
   },
   {
    "duration": 132,
    "start_time": "2022-08-19T14:06:36.091Z"
   },
   {
    "duration": 158,
    "start_time": "2022-08-19T14:07:47.473Z"
   },
   {
    "duration": 173,
    "start_time": "2022-08-19T14:08:06.705Z"
   },
   {
    "duration": 137,
    "start_time": "2022-08-19T14:09:17.269Z"
   },
   {
    "duration": 164,
    "start_time": "2022-08-19T14:09:35.173Z"
   },
   {
    "duration": 113,
    "start_time": "2022-08-19T14:09:48.636Z"
   },
   {
    "duration": 84,
    "start_time": "2022-08-19T14:09:56.997Z"
   },
   {
    "duration": 136,
    "start_time": "2022-08-19T14:10:07.361Z"
   },
   {
    "duration": 151,
    "start_time": "2022-08-19T14:10:21.537Z"
   },
   {
    "duration": 249,
    "start_time": "2022-08-19T14:13:28.483Z"
   },
   {
    "duration": 146,
    "start_time": "2022-08-19T14:16:22.838Z"
   },
   {
    "duration": 143,
    "start_time": "2022-08-19T14:16:43.381Z"
   },
   {
    "duration": 128,
    "start_time": "2022-08-19T14:16:51.881Z"
   },
   {
    "duration": 351,
    "start_time": "2022-08-19T14:20:19.291Z"
   },
   {
    "duration": 6,
    "start_time": "2022-08-19T14:20:29.044Z"
   },
   {
    "duration": 151,
    "start_time": "2022-08-19T14:23:06.139Z"
   },
   {
    "duration": 149,
    "start_time": "2022-08-19T14:23:16.890Z"
   },
   {
    "duration": 180,
    "start_time": "2022-08-19T14:23:26.655Z"
   },
   {
    "duration": 167,
    "start_time": "2022-08-19T14:26:33.286Z"
   },
   {
    "duration": 168,
    "start_time": "2022-08-19T14:26:53.743Z"
   },
   {
    "duration": 1247,
    "start_time": "2022-08-19T14:52:17.046Z"
   },
   {
    "duration": 107,
    "start_time": "2022-08-19T14:52:18.295Z"
   },
   {
    "duration": 2334,
    "start_time": "2022-08-19T14:52:18.404Z"
   },
   {
    "duration": 42,
    "start_time": "2022-08-19T14:52:20.741Z"
   },
   {
    "duration": 75,
    "start_time": "2022-08-19T14:52:20.785Z"
   },
   {
    "duration": 20,
    "start_time": "2022-08-19T14:52:20.862Z"
   },
   {
    "duration": 28,
    "start_time": "2022-08-19T14:52:20.888Z"
   },
   {
    "duration": 9,
    "start_time": "2022-08-19T14:52:20.919Z"
   },
   {
    "duration": 27,
    "start_time": "2022-08-19T14:52:20.930Z"
   },
   {
    "duration": 40,
    "start_time": "2022-08-19T14:52:20.960Z"
   },
   {
    "duration": 12,
    "start_time": "2022-08-19T14:52:21.002Z"
   },
   {
    "duration": 1203,
    "start_time": "2022-08-19T14:52:21.017Z"
   },
   {
    "duration": 23,
    "start_time": "2022-08-19T14:52:22.222Z"
   },
   {
    "duration": 89,
    "start_time": "2022-08-19T14:52:22.247Z"
   },
   {
    "duration": 9,
    "start_time": "2022-08-19T14:52:22.338Z"
   },
   {
    "duration": 37,
    "start_time": "2022-08-19T14:52:22.350Z"
   },
   {
    "duration": 114,
    "start_time": "2022-08-19T14:52:22.390Z"
   },
   {
    "duration": 57,
    "start_time": "2022-08-19T14:52:22.507Z"
   },
   {
    "duration": 457,
    "start_time": "2022-08-19T14:52:22.566Z"
   },
   {
    "duration": 53,
    "start_time": "2022-08-19T14:52:23.025Z"
   },
   {
    "duration": 167,
    "start_time": "2022-08-19T14:52:23.083Z"
   },
   {
    "duration": 193,
    "start_time": "2022-08-19T14:52:23.252Z"
   },
   {
    "duration": 186,
    "start_time": "2022-08-19T14:52:23.447Z"
   },
   {
    "duration": 168,
    "start_time": "2022-08-19T14:52:23.635Z"
   },
   {
    "duration": 191,
    "start_time": "2022-08-19T14:52:23.805Z"
   },
   {
    "duration": 256,
    "start_time": "2022-08-19T14:52:23.999Z"
   },
   {
    "duration": 0,
    "start_time": "2022-08-19T14:52:24.258Z"
   },
   {
    "duration": 0,
    "start_time": "2022-08-19T14:52:24.271Z"
   },
   {
    "duration": 0,
    "start_time": "2022-08-19T14:52:24.272Z"
   },
   {
    "duration": 0,
    "start_time": "2022-08-19T14:52:24.273Z"
   },
   {
    "duration": 0,
    "start_time": "2022-08-19T14:52:24.274Z"
   },
   {
    "duration": 0,
    "start_time": "2022-08-19T14:52:24.274Z"
   },
   {
    "duration": 145,
    "start_time": "2022-08-19T14:53:47.655Z"
   },
   {
    "duration": 298,
    "start_time": "2022-08-19T14:59:29.809Z"
   },
   {
    "duration": 191,
    "start_time": "2022-08-19T14:59:53.207Z"
   },
   {
    "duration": 312,
    "start_time": "2022-08-19T15:00:27.630Z"
   },
   {
    "duration": 166,
    "start_time": "2022-08-19T15:01:46.650Z"
   },
   {
    "duration": 1280,
    "start_time": "2022-08-20T04:30:41.830Z"
   },
   {
    "duration": 322,
    "start_time": "2022-08-20T04:30:43.112Z"
   },
   {
    "duration": 2054,
    "start_time": "2022-08-20T04:30:43.436Z"
   },
   {
    "duration": 16,
    "start_time": "2022-08-20T04:30:45.493Z"
   },
   {
    "duration": 44,
    "start_time": "2022-08-20T04:30:45.512Z"
   },
   {
    "duration": 7,
    "start_time": "2022-08-20T04:30:45.558Z"
   },
   {
    "duration": 14,
    "start_time": "2022-08-20T04:30:45.567Z"
   },
   {
    "duration": 6,
    "start_time": "2022-08-20T04:30:45.601Z"
   },
   {
    "duration": 12,
    "start_time": "2022-08-20T04:30:45.608Z"
   },
   {
    "duration": 8,
    "start_time": "2022-08-20T04:30:45.623Z"
   },
   {
    "duration": 10,
    "start_time": "2022-08-20T04:30:45.632Z"
   },
   {
    "duration": 935,
    "start_time": "2022-08-20T04:30:45.643Z"
   },
   {
    "duration": 23,
    "start_time": "2022-08-20T04:30:46.580Z"
   },
   {
    "duration": 46,
    "start_time": "2022-08-20T04:30:46.604Z"
   },
   {
    "duration": 6,
    "start_time": "2022-08-20T04:30:46.652Z"
   },
   {
    "duration": 4,
    "start_time": "2022-08-20T04:30:46.660Z"
   },
   {
    "duration": 39,
    "start_time": "2022-08-20T04:30:46.666Z"
   },
   {
    "duration": 3,
    "start_time": "2022-08-20T04:30:46.707Z"
   },
   {
    "duration": 317,
    "start_time": "2022-08-20T04:30:46.711Z"
   },
   {
    "duration": 28,
    "start_time": "2022-08-20T04:30:47.029Z"
   },
   {
    "duration": 130,
    "start_time": "2022-08-20T04:30:47.059Z"
   },
   {
    "duration": 136,
    "start_time": "2022-08-20T04:30:47.199Z"
   },
   {
    "duration": 122,
    "start_time": "2022-08-20T04:30:47.337Z"
   },
   {
    "duration": 126,
    "start_time": "2022-08-20T04:30:47.461Z"
   },
   {
    "duration": 115,
    "start_time": "2022-08-20T04:30:47.589Z"
   },
   {
    "duration": 122,
    "start_time": "2022-08-20T04:30:47.706Z"
   },
   {
    "duration": 118,
    "start_time": "2022-08-20T04:30:47.830Z"
   },
   {
    "duration": 230,
    "start_time": "2022-08-20T04:30:47.951Z"
   },
   {
    "duration": 139,
    "start_time": "2022-08-20T04:30:48.183Z"
   },
   {
    "duration": 105,
    "start_time": "2022-08-20T04:30:48.324Z"
   },
   {
    "duration": 117,
    "start_time": "2022-08-20T04:30:48.430Z"
   },
   {
    "duration": 115,
    "start_time": "2022-08-20T04:30:48.548Z"
   },
   {
    "duration": 269,
    "start_time": "2022-08-20T04:30:48.664Z"
   },
   {
    "duration": 127,
    "start_time": "2022-08-20T04:30:48.935Z"
   },
   {
    "duration": 113,
    "start_time": "2022-08-20T04:40:38.679Z"
   },
   {
    "duration": 95,
    "start_time": "2022-08-20T04:41:37.680Z"
   },
   {
    "duration": 109,
    "start_time": "2022-08-20T04:43:05.569Z"
   },
   {
    "duration": 107,
    "start_time": "2022-08-20T04:44:16.129Z"
   },
   {
    "duration": 141,
    "start_time": "2022-08-20T04:46:44.371Z"
   },
   {
    "duration": 109,
    "start_time": "2022-08-20T04:47:16.375Z"
   },
   {
    "duration": 101,
    "start_time": "2022-08-20T04:49:35.820Z"
   },
   {
    "duration": 96,
    "start_time": "2022-08-20T04:49:52.840Z"
   },
   {
    "duration": 139,
    "start_time": "2022-08-20T04:51:45.557Z"
   },
   {
    "duration": 142,
    "start_time": "2022-08-20T04:51:58.009Z"
   },
   {
    "duration": 216,
    "start_time": "2022-08-20T04:52:08.769Z"
   },
   {
    "duration": 129,
    "start_time": "2022-08-20T04:52:39.141Z"
   },
   {
    "duration": 135,
    "start_time": "2022-08-20T04:52:59.810Z"
   },
   {
    "duration": 221,
    "start_time": "2022-08-20T04:56:00.500Z"
   },
   {
    "duration": 115,
    "start_time": "2022-08-20T04:56:15.843Z"
   },
   {
    "duration": 49,
    "start_time": "2022-08-20T04:58:14.196Z"
   },
   {
    "duration": 125,
    "start_time": "2022-08-20T04:58:21.796Z"
   },
   {
    "duration": 126,
    "start_time": "2022-08-20T04:59:14.709Z"
   },
   {
    "duration": 426,
    "start_time": "2022-08-20T05:45:35.596Z"
   },
   {
    "duration": 292,
    "start_time": "2022-08-20T05:45:57.985Z"
   },
   {
    "duration": 286,
    "start_time": "2022-08-20T05:46:35.565Z"
   },
   {
    "duration": 345,
    "start_time": "2022-08-20T05:48:41.894Z"
   },
   {
    "duration": 354,
    "start_time": "2022-08-20T05:49:13.198Z"
   },
   {
    "duration": 580,
    "start_time": "2022-08-20T05:49:30.183Z"
   },
   {
    "duration": 2,
    "start_time": "2022-08-20T05:54:49.054Z"
   },
   {
    "duration": 3055,
    "start_time": "2022-08-20T06:02:31.020Z"
   },
   {
    "duration": 2723,
    "start_time": "2022-08-20T06:03:08.681Z"
   },
   {
    "duration": 476,
    "start_time": "2022-08-20T06:03:56.661Z"
   },
   {
    "duration": 17,
    "start_time": "2022-08-20T06:06:36.878Z"
   },
   {
    "duration": 92,
    "start_time": "2022-08-20T06:07:26.066Z"
   },
   {
    "duration": 2620,
    "start_time": "2022-08-20T06:08:17.351Z"
   },
   {
    "duration": 3377,
    "start_time": "2022-08-20T06:14:26.262Z"
   },
   {
    "duration": 3573,
    "start_time": "2022-08-20T06:17:09.092Z"
   },
   {
    "duration": 12,
    "start_time": "2022-08-20T06:24:35.243Z"
   },
   {
    "duration": 28,
    "start_time": "2022-08-20T06:24:41.259Z"
   },
   {
    "duration": 38,
    "start_time": "2022-08-20T06:25:33.896Z"
   },
   {
    "duration": 25,
    "start_time": "2022-08-20T06:25:48.555Z"
   },
   {
    "duration": 26,
    "start_time": "2022-08-20T06:26:11.284Z"
   },
   {
    "duration": 32,
    "start_time": "2022-08-20T06:26:18.931Z"
   },
   {
    "duration": 40,
    "start_time": "2022-08-20T06:26:27.668Z"
   },
   {
    "duration": 33,
    "start_time": "2022-08-20T06:26:42.836Z"
   },
   {
    "duration": 23,
    "start_time": "2022-08-20T06:28:28.273Z"
   },
   {
    "duration": 36,
    "start_time": "2022-08-20T06:29:02.085Z"
   },
   {
    "duration": 47,
    "start_time": "2022-08-20T06:29:24.864Z"
   },
   {
    "duration": 45,
    "start_time": "2022-08-20T06:30:57.198Z"
   },
   {
    "duration": 30,
    "start_time": "2022-08-20T06:32:14.903Z"
   },
   {
    "duration": 35,
    "start_time": "2022-08-20T06:32:21.983Z"
   },
   {
    "duration": 56,
    "start_time": "2022-08-20T06:33:37.344Z"
   },
   {
    "duration": 34,
    "start_time": "2022-08-20T06:34:41.565Z"
   },
   {
    "duration": 33,
    "start_time": "2022-08-20T06:37:50.582Z"
   },
   {
    "duration": 27,
    "start_time": "2022-08-20T06:38:06.054Z"
   },
   {
    "duration": 26,
    "start_time": "2022-08-20T06:38:25.774Z"
   },
   {
    "duration": 32,
    "start_time": "2022-08-20T06:39:35.851Z"
   },
   {
    "duration": 34,
    "start_time": "2022-08-20T06:41:14.328Z"
   },
   {
    "duration": 42,
    "start_time": "2022-08-20T06:41:38.572Z"
   },
   {
    "duration": 33,
    "start_time": "2022-08-20T06:42:00.088Z"
   },
   {
    "duration": 42,
    "start_time": "2022-08-20T06:43:18.181Z"
   },
   {
    "duration": 25,
    "start_time": "2022-08-20T06:43:51.922Z"
   },
   {
    "duration": 21,
    "start_time": "2022-08-20T06:44:24.221Z"
   },
   {
    "duration": 25,
    "start_time": "2022-08-20T06:49:45.932Z"
   },
   {
    "duration": 25,
    "start_time": "2022-08-20T06:51:24.033Z"
   },
   {
    "duration": 125,
    "start_time": "2022-08-20T06:56:16.125Z"
   },
   {
    "duration": 146,
    "start_time": "2022-08-20T06:56:42.233Z"
   },
   {
    "duration": 18,
    "start_time": "2022-08-20T06:57:07.726Z"
   },
   {
    "duration": 32,
    "start_time": "2022-08-20T06:57:44.926Z"
   },
   {
    "duration": 530,
    "start_time": "2022-08-20T06:59:41.539Z"
   },
   {
    "duration": 26,
    "start_time": "2022-08-20T07:00:36.259Z"
   },
   {
    "duration": 1118,
    "start_time": "2022-08-20T07:00:55.866Z"
   },
   {
    "duration": 94,
    "start_time": "2022-08-20T07:00:56.986Z"
   },
   {
    "duration": 1917,
    "start_time": "2022-08-20T07:00:57.082Z"
   },
   {
    "duration": 14,
    "start_time": "2022-08-20T07:00:59.001Z"
   },
   {
    "duration": 44,
    "start_time": "2022-08-20T07:00:59.016Z"
   },
   {
    "duration": 8,
    "start_time": "2022-08-20T07:00:59.062Z"
   },
   {
    "duration": 40,
    "start_time": "2022-08-20T07:00:59.071Z"
   },
   {
    "duration": 6,
    "start_time": "2022-08-20T07:00:59.112Z"
   },
   {
    "duration": 7,
    "start_time": "2022-08-20T07:00:59.119Z"
   },
   {
    "duration": 7,
    "start_time": "2022-08-20T07:00:59.129Z"
   },
   {
    "duration": 9,
    "start_time": "2022-08-20T07:00:59.137Z"
   },
   {
    "duration": 997,
    "start_time": "2022-08-20T07:00:59.147Z"
   },
   {
    "duration": 19,
    "start_time": "2022-08-20T07:01:00.146Z"
   },
   {
    "duration": 60,
    "start_time": "2022-08-20T07:01:00.166Z"
   },
   {
    "duration": 8,
    "start_time": "2022-08-20T07:01:00.228Z"
   },
   {
    "duration": 4,
    "start_time": "2022-08-20T07:01:00.238Z"
   },
   {
    "duration": 29,
    "start_time": "2022-08-20T07:01:00.244Z"
   },
   {
    "duration": 13,
    "start_time": "2022-08-20T07:01:00.275Z"
   },
   {
    "duration": 335,
    "start_time": "2022-08-20T07:01:00.289Z"
   },
   {
    "duration": 27,
    "start_time": "2022-08-20T07:01:00.626Z"
   },
   {
    "duration": 135,
    "start_time": "2022-08-20T07:01:00.655Z"
   },
   {
    "duration": 150,
    "start_time": "2022-08-20T07:01:00.800Z"
   },
   {
    "duration": 156,
    "start_time": "2022-08-20T07:01:00.951Z"
   },
   {
    "duration": 134,
    "start_time": "2022-08-20T07:01:01.108Z"
   },
   {
    "duration": 117,
    "start_time": "2022-08-20T07:01:01.244Z"
   },
   {
    "duration": 156,
    "start_time": "2022-08-20T07:01:01.362Z"
   },
   {
    "duration": 148,
    "start_time": "2022-08-20T07:01:01.520Z"
   },
   {
    "duration": 232,
    "start_time": "2022-08-20T07:01:01.672Z"
   },
   {
    "duration": 123,
    "start_time": "2022-08-20T07:01:01.905Z"
   },
   {
    "duration": 115,
    "start_time": "2022-08-20T07:01:02.029Z"
   },
   {
    "duration": 149,
    "start_time": "2022-08-20T07:01:02.146Z"
   },
   {
    "duration": 143,
    "start_time": "2022-08-20T07:01:02.300Z"
   },
   {
    "duration": 423,
    "start_time": "2022-08-20T07:01:02.445Z"
   },
   {
    "duration": 68,
    "start_time": "2022-08-20T07:01:02.871Z"
   },
   {
    "duration": 0,
    "start_time": "2022-08-20T07:01:02.941Z"
   },
   {
    "duration": 0,
    "start_time": "2022-08-20T07:01:02.943Z"
   },
   {
    "duration": 0,
    "start_time": "2022-08-20T07:01:02.944Z"
   },
   {
    "duration": 0,
    "start_time": "2022-08-20T07:01:02.946Z"
   },
   {
    "duration": 3016,
    "start_time": "2022-08-20T07:01:22.025Z"
   },
   {
    "duration": 30,
    "start_time": "2022-08-20T07:01:28.261Z"
   },
   {
    "duration": 50,
    "start_time": "2022-08-20T07:01:31.113Z"
   },
   {
    "duration": 497,
    "start_time": "2022-08-20T07:01:36.841Z"
   },
   {
    "duration": 21,
    "start_time": "2022-08-20T07:01:49.241Z"
   },
   {
    "duration": 142,
    "start_time": "2022-08-20T07:02:19.213Z"
   },
   {
    "duration": 106,
    "start_time": "2022-08-20T07:02:30.666Z"
   },
   {
    "duration": 148,
    "start_time": "2022-08-20T07:02:43.274Z"
   },
   {
    "duration": 199,
    "start_time": "2022-08-20T07:02:50.382Z"
   },
   {
    "duration": 485,
    "start_time": "2022-08-20T07:03:22.762Z"
   },
   {
    "duration": 92,
    "start_time": "2022-08-20T07:44:13.603Z"
   },
   {
    "duration": 48,
    "start_time": "2022-08-20T07:44:19.636Z"
   },
   {
    "duration": 1613,
    "start_time": "2022-08-20T21:40:11.938Z"
   },
   {
    "duration": 103,
    "start_time": "2022-08-20T21:40:13.553Z"
   },
   {
    "duration": 2173,
    "start_time": "2022-08-20T21:40:13.660Z"
   },
   {
    "duration": 58,
    "start_time": "2022-08-20T21:40:15.835Z"
   },
   {
    "duration": 8,
    "start_time": "2022-08-20T21:40:15.895Z"
   },
   {
    "duration": 13,
    "start_time": "2022-08-20T21:40:15.905Z"
   },
   {
    "duration": 7,
    "start_time": "2022-08-20T21:40:15.920Z"
   },
   {
    "duration": 7,
    "start_time": "2022-08-20T21:40:15.929Z"
   },
   {
    "duration": 38,
    "start_time": "2022-08-20T21:40:15.938Z"
   },
   {
    "duration": 10,
    "start_time": "2022-08-20T21:40:15.977Z"
   },
   {
    "duration": 1071,
    "start_time": "2022-08-20T21:40:15.989Z"
   },
   {
    "duration": 20,
    "start_time": "2022-08-20T21:40:17.062Z"
   },
   {
    "duration": 51,
    "start_time": "2022-08-20T21:40:17.085Z"
   },
   {
    "duration": 36,
    "start_time": "2022-08-20T21:40:17.138Z"
   },
   {
    "duration": 4,
    "start_time": "2022-08-20T21:40:17.176Z"
   },
   {
    "duration": 23,
    "start_time": "2022-08-20T21:40:17.181Z"
   },
   {
    "duration": 3,
    "start_time": "2022-08-20T21:40:17.206Z"
   },
   {
    "duration": 370,
    "start_time": "2022-08-20T21:40:17.211Z"
   },
   {
    "duration": 30,
    "start_time": "2022-08-20T21:40:17.583Z"
   },
   {
    "duration": 165,
    "start_time": "2022-08-20T21:40:17.615Z"
   },
   {
    "duration": 172,
    "start_time": "2022-08-20T21:40:17.782Z"
   },
   {
    "duration": 148,
    "start_time": "2022-08-20T21:40:17.956Z"
   },
   {
    "duration": 151,
    "start_time": "2022-08-20T21:40:18.105Z"
   },
   {
    "duration": 133,
    "start_time": "2022-08-20T21:40:18.258Z"
   },
   {
    "duration": 146,
    "start_time": "2022-08-20T21:40:18.393Z"
   },
   {
    "duration": 133,
    "start_time": "2022-08-20T21:40:18.541Z"
   },
   {
    "duration": 240,
    "start_time": "2022-08-20T21:40:18.675Z"
   },
   {
    "duration": 152,
    "start_time": "2022-08-20T21:40:18.917Z"
   },
   {
    "duration": 129,
    "start_time": "2022-08-20T21:40:19.071Z"
   },
   {
    "duration": 178,
    "start_time": "2022-08-20T21:40:19.202Z"
   },
   {
    "duration": 173,
    "start_time": "2022-08-20T21:40:19.382Z"
   },
   {
    "duration": 490,
    "start_time": "2022-08-20T21:40:19.557Z"
   },
   {
    "duration": 3591,
    "start_time": "2022-08-20T21:40:20.049Z"
   },
   {
    "duration": 42,
    "start_time": "2022-08-20T21:40:23.642Z"
   },
   {
    "duration": 317,
    "start_time": "2022-08-20T21:40:23.686Z"
   },
   {
    "duration": 28,
    "start_time": "2022-08-20T21:42:40.018Z"
   },
   {
    "duration": 101,
    "start_time": "2022-08-20T21:42:43.761Z"
   },
   {
    "duration": 7,
    "start_time": "2022-08-20T21:44:15.352Z"
   },
   {
    "duration": 50,
    "start_time": "2022-08-21T04:28:51.017Z"
   },
   {
    "duration": 1312,
    "start_time": "2022-08-21T04:28:54.869Z"
   },
   {
    "duration": 312,
    "start_time": "2022-08-21T04:28:57.029Z"
   },
   {
    "duration": 1813,
    "start_time": "2022-08-21T04:28:58.357Z"
   },
   {
    "duration": 47,
    "start_time": "2022-08-21T04:29:23.657Z"
   },
   {
    "duration": 1859,
    "start_time": "2022-08-21T04:37:09.009Z"
   },
   {
    "duration": 1988,
    "start_time": "2022-08-21T04:37:31.141Z"
   },
   {
    "duration": 3349,
    "start_time": "2022-08-21T04:54:23.695Z"
   },
   {
    "duration": 68,
    "start_time": "2022-08-21T04:55:00.328Z"
   },
   {
    "duration": 10,
    "start_time": "2022-08-21T04:55:14.563Z"
   },
   {
    "duration": 36,
    "start_time": "2022-08-21T04:56:13.440Z"
   },
   {
    "duration": 26,
    "start_time": "2022-08-21T04:57:33.220Z"
   },
   {
    "duration": 22,
    "start_time": "2022-08-21T04:58:13.164Z"
   },
   {
    "duration": 46,
    "start_time": "2022-08-21T04:59:05.086Z"
   },
   {
    "duration": 322,
    "start_time": "2022-08-21T04:59:13.657Z"
   },
   {
    "duration": 546,
    "start_time": "2022-08-21T04:59:31.128Z"
   },
   {
    "duration": 434,
    "start_time": "2022-08-21T05:00:49.328Z"
   },
   {
    "duration": 445,
    "start_time": "2022-08-21T05:02:29.955Z"
   },
   {
    "duration": 135,
    "start_time": "2022-08-21T05:07:44.693Z"
   },
   {
    "duration": 262,
    "start_time": "2022-08-21T05:08:03.061Z"
   },
   {
    "duration": 359,
    "start_time": "2022-08-21T05:09:33.762Z"
   },
   {
    "duration": 168,
    "start_time": "2022-08-21T05:09:41.094Z"
   },
   {
    "duration": 1106,
    "start_time": "2022-08-21T05:12:35.882Z"
   },
   {
    "duration": 100,
    "start_time": "2022-08-21T05:12:36.990Z"
   },
   {
    "duration": 1988,
    "start_time": "2022-08-21T05:12:37.091Z"
   },
   {
    "duration": 59,
    "start_time": "2022-08-21T05:12:39.081Z"
   },
   {
    "duration": 0,
    "start_time": "2022-08-21T05:12:39.143Z"
   },
   {
    "duration": 0,
    "start_time": "2022-08-21T05:12:39.144Z"
   },
   {
    "duration": 0,
    "start_time": "2022-08-21T05:12:39.145Z"
   },
   {
    "duration": 0,
    "start_time": "2022-08-21T05:12:39.146Z"
   },
   {
    "duration": 0,
    "start_time": "2022-08-21T05:12:39.147Z"
   },
   {
    "duration": 0,
    "start_time": "2022-08-21T05:12:39.148Z"
   },
   {
    "duration": 0,
    "start_time": "2022-08-21T05:12:39.150Z"
   },
   {
    "duration": 0,
    "start_time": "2022-08-21T05:12:39.151Z"
   },
   {
    "duration": 0,
    "start_time": "2022-08-21T05:12:39.152Z"
   },
   {
    "duration": 0,
    "start_time": "2022-08-21T05:12:39.154Z"
   },
   {
    "duration": 0,
    "start_time": "2022-08-21T05:12:39.155Z"
   },
   {
    "duration": 0,
    "start_time": "2022-08-21T05:12:39.157Z"
   },
   {
    "duration": 0,
    "start_time": "2022-08-21T05:12:39.158Z"
   },
   {
    "duration": 0,
    "start_time": "2022-08-21T05:12:39.159Z"
   },
   {
    "duration": 0,
    "start_time": "2022-08-21T05:12:39.160Z"
   },
   {
    "duration": 0,
    "start_time": "2022-08-21T05:12:39.161Z"
   },
   {
    "duration": 0,
    "start_time": "2022-08-21T05:12:39.162Z"
   },
   {
    "duration": 0,
    "start_time": "2022-08-21T05:12:39.163Z"
   },
   {
    "duration": 0,
    "start_time": "2022-08-21T05:12:39.164Z"
   },
   {
    "duration": 0,
    "start_time": "2022-08-21T05:12:39.165Z"
   },
   {
    "duration": 0,
    "start_time": "2022-08-21T05:12:39.166Z"
   },
   {
    "duration": 0,
    "start_time": "2022-08-21T05:12:39.167Z"
   },
   {
    "duration": 0,
    "start_time": "2022-08-21T05:12:39.168Z"
   },
   {
    "duration": 0,
    "start_time": "2022-08-21T05:12:39.169Z"
   },
   {
    "duration": 0,
    "start_time": "2022-08-21T05:12:39.170Z"
   },
   {
    "duration": 0,
    "start_time": "2022-08-21T05:12:39.172Z"
   },
   {
    "duration": 0,
    "start_time": "2022-08-21T05:12:39.173Z"
   },
   {
    "duration": 0,
    "start_time": "2022-08-21T05:12:39.173Z"
   },
   {
    "duration": 0,
    "start_time": "2022-08-21T05:12:39.174Z"
   },
   {
    "duration": 0,
    "start_time": "2022-08-21T05:12:39.175Z"
   },
   {
    "duration": 0,
    "start_time": "2022-08-21T05:12:39.176Z"
   },
   {
    "duration": 0,
    "start_time": "2022-08-21T05:12:39.177Z"
   },
   {
    "duration": 0,
    "start_time": "2022-08-21T05:12:39.200Z"
   },
   {
    "duration": 0,
    "start_time": "2022-08-21T05:12:39.201Z"
   },
   {
    "duration": 1053,
    "start_time": "2022-08-21T05:13:31.629Z"
   },
   {
    "duration": 95,
    "start_time": "2022-08-21T05:13:32.683Z"
   },
   {
    "duration": 1979,
    "start_time": "2022-08-21T05:13:32.780Z"
   },
   {
    "duration": 52,
    "start_time": "2022-08-21T05:13:34.761Z"
   },
   {
    "duration": 8,
    "start_time": "2022-08-21T05:13:34.815Z"
   },
   {
    "duration": 21,
    "start_time": "2022-08-21T05:13:34.824Z"
   },
   {
    "duration": 6,
    "start_time": "2022-08-21T05:13:34.847Z"
   },
   {
    "duration": 9,
    "start_time": "2022-08-21T05:13:34.854Z"
   },
   {
    "duration": 7,
    "start_time": "2022-08-21T05:13:34.865Z"
   },
   {
    "duration": 9,
    "start_time": "2022-08-21T05:13:34.875Z"
   },
   {
    "duration": 937,
    "start_time": "2022-08-21T05:13:34.885Z"
   },
   {
    "duration": 18,
    "start_time": "2022-08-21T05:13:35.824Z"
   },
   {
    "duration": 67,
    "start_time": "2022-08-21T05:13:35.843Z"
   },
   {
    "duration": 10,
    "start_time": "2022-08-21T05:13:35.911Z"
   },
   {
    "duration": 337,
    "start_time": "2022-08-21T05:13:35.922Z"
   },
   {
    "duration": 1149,
    "start_time": "2022-08-21T05:14:38.322Z"
   },
   {
    "duration": 96,
    "start_time": "2022-08-21T05:14:39.473Z"
   },
   {
    "duration": 2972,
    "start_time": "2022-08-21T05:14:39.571Z"
   },
   {
    "duration": 92,
    "start_time": "2022-08-21T05:14:42.545Z"
   },
   {
    "duration": 77,
    "start_time": "2022-08-21T05:14:42.640Z"
   },
   {
    "duration": 17,
    "start_time": "2022-08-21T05:14:42.719Z"
   },
   {
    "duration": 6,
    "start_time": "2022-08-21T05:14:42.738Z"
   },
   {
    "duration": 61,
    "start_time": "2022-08-21T05:14:42.746Z"
   },
   {
    "duration": 11,
    "start_time": "2022-08-21T05:14:42.809Z"
   },
   {
    "duration": 10,
    "start_time": "2022-08-21T05:14:42.823Z"
   },
   {
    "duration": 985,
    "start_time": "2022-08-21T05:14:42.835Z"
   },
   {
    "duration": 18,
    "start_time": "2022-08-21T05:14:43.821Z"
   },
   {
    "duration": 66,
    "start_time": "2022-08-21T05:14:43.841Z"
   },
   {
    "duration": 12,
    "start_time": "2022-08-21T05:14:43.913Z"
   },
   {
    "duration": 385,
    "start_time": "2022-08-21T05:14:43.927Z"
   },
   {
    "duration": 301,
    "start_time": "2022-08-21T05:14:44.314Z"
   },
   {
    "duration": 0,
    "start_time": "2022-08-21T05:14:44.617Z"
   },
   {
    "duration": 0,
    "start_time": "2022-08-21T05:14:44.618Z"
   },
   {
    "duration": 0,
    "start_time": "2022-08-21T05:14:44.619Z"
   },
   {
    "duration": 0,
    "start_time": "2022-08-21T05:14:44.620Z"
   },
   {
    "duration": 0,
    "start_time": "2022-08-21T05:14:44.621Z"
   },
   {
    "duration": 0,
    "start_time": "2022-08-21T05:14:44.622Z"
   },
   {
    "duration": 0,
    "start_time": "2022-08-21T05:14:44.623Z"
   },
   {
    "duration": 0,
    "start_time": "2022-08-21T05:14:44.623Z"
   },
   {
    "duration": 0,
    "start_time": "2022-08-21T05:14:44.625Z"
   },
   {
    "duration": 0,
    "start_time": "2022-08-21T05:14:44.625Z"
   },
   {
    "duration": 0,
    "start_time": "2022-08-21T05:14:44.626Z"
   },
   {
    "duration": 0,
    "start_time": "2022-08-21T05:14:44.627Z"
   },
   {
    "duration": 0,
    "start_time": "2022-08-21T05:14:44.628Z"
   },
   {
    "duration": 0,
    "start_time": "2022-08-21T05:14:44.629Z"
   },
   {
    "duration": 0,
    "start_time": "2022-08-21T05:14:44.630Z"
   },
   {
    "duration": 0,
    "start_time": "2022-08-21T05:14:44.631Z"
   },
   {
    "duration": 0,
    "start_time": "2022-08-21T05:14:44.632Z"
   },
   {
    "duration": 0,
    "start_time": "2022-08-21T05:14:44.632Z"
   },
   {
    "duration": 0,
    "start_time": "2022-08-21T05:14:44.633Z"
   },
   {
    "duration": 0,
    "start_time": "2022-08-21T05:14:44.634Z"
   },
   {
    "duration": 0,
    "start_time": "2022-08-21T05:14:44.635Z"
   },
   {
    "duration": 142,
    "start_time": "2022-08-21T05:15:13.154Z"
   },
   {
    "duration": 240,
    "start_time": "2022-08-21T05:15:17.119Z"
   },
   {
    "duration": 836,
    "start_time": "2022-08-21T05:15:32.347Z"
   },
   {
    "duration": 182,
    "start_time": "2022-08-21T05:15:48.611Z"
   },
   {
    "duration": 210,
    "start_time": "2022-08-21T05:16:45.960Z"
   },
   {
    "duration": 157,
    "start_time": "2022-08-21T05:18:25.419Z"
   },
   {
    "duration": 195,
    "start_time": "2022-08-21T05:18:43.668Z"
   },
   {
    "duration": 240,
    "start_time": "2022-08-21T05:18:51.424Z"
   },
   {
    "duration": 178,
    "start_time": "2022-08-21T05:19:40.155Z"
   },
   {
    "duration": 196,
    "start_time": "2022-08-21T05:23:51.279Z"
   },
   {
    "duration": 391,
    "start_time": "2022-08-21T05:24:06.264Z"
   },
   {
    "duration": 133,
    "start_time": "2022-08-21T05:24:12.556Z"
   },
   {
    "duration": 137,
    "start_time": "2022-08-21T05:32:33.186Z"
   },
   {
    "duration": 86,
    "start_time": "2022-08-21T05:33:27.119Z"
   },
   {
    "duration": 47,
    "start_time": "2022-08-21T05:35:14.739Z"
   },
   {
    "duration": 422,
    "start_time": "2022-08-21T05:45:14.395Z"
   },
   {
    "duration": 1104,
    "start_time": "2022-08-21T05:46:11.891Z"
   },
   {
    "duration": 94,
    "start_time": "2022-08-21T05:46:12.997Z"
   },
   {
    "duration": 1970,
    "start_time": "2022-08-21T05:46:13.093Z"
   },
   {
    "duration": 41,
    "start_time": "2022-08-21T05:46:15.065Z"
   },
   {
    "duration": 8,
    "start_time": "2022-08-21T05:46:15.107Z"
   },
   {
    "duration": 27,
    "start_time": "2022-08-21T05:46:15.116Z"
   },
   {
    "duration": 24,
    "start_time": "2022-08-21T05:46:15.144Z"
   },
   {
    "duration": 8,
    "start_time": "2022-08-21T05:46:15.170Z"
   },
   {
    "duration": 7,
    "start_time": "2022-08-21T05:46:15.180Z"
   },
   {
    "duration": 8,
    "start_time": "2022-08-21T05:46:15.190Z"
   },
   {
    "duration": 881,
    "start_time": "2022-08-21T05:46:15.200Z"
   },
   {
    "duration": 25,
    "start_time": "2022-08-21T05:46:16.082Z"
   },
   {
    "duration": 43,
    "start_time": "2022-08-21T05:46:16.109Z"
   },
   {
    "duration": 9,
    "start_time": "2022-08-21T05:46:16.154Z"
   },
   {
    "duration": 347,
    "start_time": "2022-08-21T05:46:16.165Z"
   },
   {
    "duration": 2,
    "start_time": "2022-08-21T05:46:16.514Z"
   },
   {
    "duration": 139,
    "start_time": "2022-08-21T05:46:16.518Z"
   },
   {
    "duration": 85,
    "start_time": "2022-08-21T05:46:16.659Z"
   },
   {
    "duration": 101,
    "start_time": "2022-08-21T05:46:16.746Z"
   },
   {
    "duration": 0,
    "start_time": "2022-08-21T05:46:16.849Z"
   },
   {
    "duration": 0,
    "start_time": "2022-08-21T05:46:16.850Z"
   },
   {
    "duration": 0,
    "start_time": "2022-08-21T05:46:16.851Z"
   },
   {
    "duration": 0,
    "start_time": "2022-08-21T05:46:16.852Z"
   },
   {
    "duration": 0,
    "start_time": "2022-08-21T05:46:16.853Z"
   },
   {
    "duration": 0,
    "start_time": "2022-08-21T05:46:16.854Z"
   },
   {
    "duration": 0,
    "start_time": "2022-08-21T05:46:16.855Z"
   },
   {
    "duration": 0,
    "start_time": "2022-08-21T05:46:16.856Z"
   },
   {
    "duration": 0,
    "start_time": "2022-08-21T05:46:16.856Z"
   },
   {
    "duration": 0,
    "start_time": "2022-08-21T05:46:16.857Z"
   },
   {
    "duration": 0,
    "start_time": "2022-08-21T05:46:16.858Z"
   },
   {
    "duration": 0,
    "start_time": "2022-08-21T05:46:16.859Z"
   },
   {
    "duration": 0,
    "start_time": "2022-08-21T05:46:16.860Z"
   },
   {
    "duration": 0,
    "start_time": "2022-08-21T05:46:16.861Z"
   },
   {
    "duration": 0,
    "start_time": "2022-08-21T05:46:16.862Z"
   },
   {
    "duration": 0,
    "start_time": "2022-08-21T05:46:16.863Z"
   },
   {
    "duration": 0,
    "start_time": "2022-08-21T05:46:16.863Z"
   },
   {
    "duration": 0,
    "start_time": "2022-08-21T05:46:16.864Z"
   },
   {
    "duration": 0,
    "start_time": "2022-08-21T05:46:16.865Z"
   },
   {
    "duration": 0,
    "start_time": "2022-08-21T05:46:16.866Z"
   },
   {
    "duration": 0,
    "start_time": "2022-08-21T05:46:16.867Z"
   },
   {
    "duration": 119,
    "start_time": "2022-08-21T05:47:42.148Z"
   },
   {
    "duration": 115,
    "start_time": "2022-08-21T05:47:55.340Z"
   },
   {
    "duration": 3,
    "start_time": "2022-08-21T05:48:24.060Z"
   },
   {
    "duration": 91,
    "start_time": "2022-08-21T05:48:24.064Z"
   },
   {
    "duration": 1933,
    "start_time": "2022-08-21T05:48:24.157Z"
   },
   {
    "duration": 45,
    "start_time": "2022-08-21T05:48:26.092Z"
   },
   {
    "duration": 9,
    "start_time": "2022-08-21T05:48:26.139Z"
   },
   {
    "duration": 10,
    "start_time": "2022-08-21T05:48:26.150Z"
   },
   {
    "duration": 6,
    "start_time": "2022-08-21T05:48:26.162Z"
   },
   {
    "duration": 30,
    "start_time": "2022-08-21T05:48:26.170Z"
   },
   {
    "duration": 8,
    "start_time": "2022-08-21T05:48:26.202Z"
   },
   {
    "duration": 10,
    "start_time": "2022-08-21T05:48:26.212Z"
   },
   {
    "duration": 868,
    "start_time": "2022-08-21T05:48:26.224Z"
   },
   {
    "duration": 20,
    "start_time": "2022-08-21T05:48:27.094Z"
   },
   {
    "duration": 48,
    "start_time": "2022-08-21T05:48:27.116Z"
   },
   {
    "duration": 9,
    "start_time": "2022-08-21T05:48:27.166Z"
   },
   {
    "duration": 360,
    "start_time": "2022-08-21T05:48:27.176Z"
   },
   {
    "duration": 3,
    "start_time": "2022-08-21T05:48:27.537Z"
   },
   {
    "duration": 155,
    "start_time": "2022-08-21T05:48:32.420Z"
   },
   {
    "duration": 109,
    "start_time": "2022-08-21T05:49:03.371Z"
   },
   {
    "duration": 109,
    "start_time": "2022-08-21T05:49:25.229Z"
   },
   {
    "duration": 104,
    "start_time": "2022-08-21T05:53:58.265Z"
   },
   {
    "duration": 106,
    "start_time": "2022-08-21T05:54:18.325Z"
   },
   {
    "duration": 104,
    "start_time": "2022-08-21T05:54:42.614Z"
   },
   {
    "duration": 5,
    "start_time": "2022-08-21T05:54:47.042Z"
   },
   {
    "duration": 88,
    "start_time": "2022-08-21T05:54:47.049Z"
   },
   {
    "duration": 1965,
    "start_time": "2022-08-21T05:54:47.139Z"
   },
   {
    "duration": 40,
    "start_time": "2022-08-21T05:54:49.106Z"
   },
   {
    "duration": 12,
    "start_time": "2022-08-21T05:54:49.148Z"
   },
   {
    "duration": 38,
    "start_time": "2022-08-21T05:54:49.162Z"
   },
   {
    "duration": 8,
    "start_time": "2022-08-21T05:54:49.202Z"
   },
   {
    "duration": 8,
    "start_time": "2022-08-21T05:54:49.212Z"
   },
   {
    "duration": 8,
    "start_time": "2022-08-21T05:54:49.224Z"
   },
   {
    "duration": 10,
    "start_time": "2022-08-21T05:54:49.235Z"
   },
   {
    "duration": 941,
    "start_time": "2022-08-21T05:54:49.246Z"
   },
   {
    "duration": 20,
    "start_time": "2022-08-21T05:54:50.188Z"
   },
   {
    "duration": 45,
    "start_time": "2022-08-21T05:54:50.210Z"
   },
   {
    "duration": 11,
    "start_time": "2022-08-21T05:54:50.257Z"
   },
   {
    "duration": 389,
    "start_time": "2022-08-21T05:54:50.270Z"
   },
   {
    "duration": 2,
    "start_time": "2022-08-21T05:54:50.660Z"
   },
   {
    "duration": 114,
    "start_time": "2022-08-21T05:54:54.434Z"
   },
   {
    "duration": 9,
    "start_time": "2022-08-21T05:59:23.437Z"
   },
   {
    "duration": 3,
    "start_time": "2022-08-21T06:00:25.543Z"
   },
   {
    "duration": 103,
    "start_time": "2022-08-21T06:00:25.550Z"
   },
   {
    "duration": 1815,
    "start_time": "2022-08-21T06:00:25.655Z"
   },
   {
    "duration": 47,
    "start_time": "2022-08-21T06:00:27.472Z"
   },
   {
    "duration": 7,
    "start_time": "2022-08-21T06:00:27.521Z"
   },
   {
    "duration": 10,
    "start_time": "2022-08-21T06:00:27.530Z"
   },
   {
    "duration": 6,
    "start_time": "2022-08-21T06:00:27.542Z"
   },
   {
    "duration": 7,
    "start_time": "2022-08-21T06:00:27.549Z"
   },
   {
    "duration": 7,
    "start_time": "2022-08-21T06:00:27.557Z"
   },
   {
    "duration": 9,
    "start_time": "2022-08-21T06:00:27.566Z"
   },
   {
    "duration": 867,
    "start_time": "2022-08-21T06:00:27.600Z"
   },
   {
    "duration": 18,
    "start_time": "2022-08-21T06:00:28.469Z"
   },
   {
    "duration": 50,
    "start_time": "2022-08-21T06:00:28.488Z"
   },
   {
    "duration": 10,
    "start_time": "2022-08-21T06:00:28.539Z"
   },
   {
    "duration": 353,
    "start_time": "2022-08-21T06:00:28.551Z"
   },
   {
    "duration": 2,
    "start_time": "2022-08-21T06:00:28.906Z"
   },
   {
    "duration": 13,
    "start_time": "2022-08-21T06:00:31.430Z"
   },
   {
    "duration": 26,
    "start_time": "2022-08-21T06:00:56.555Z"
   },
   {
    "duration": 412,
    "start_time": "2022-08-21T06:01:21.147Z"
   },
   {
    "duration": 16,
    "start_time": "2022-08-21T06:01:35.547Z"
   },
   {
    "duration": 4,
    "start_time": "2022-08-21T06:03:11.292Z"
   },
   {
    "duration": 6,
    "start_time": "2022-08-21T06:03:29.900Z"
   },
   {
    "duration": 497,
    "start_time": "2022-08-21T06:03:47.353Z"
   },
   {
    "duration": 636,
    "start_time": "2022-08-21T06:04:00.294Z"
   },
   {
    "duration": 473,
    "start_time": "2022-08-21T06:04:20.113Z"
   },
   {
    "duration": 472,
    "start_time": "2022-08-21T06:04:31.562Z"
   },
   {
    "duration": 592,
    "start_time": "2022-08-21T06:04:37.241Z"
   },
   {
    "duration": 451,
    "start_time": "2022-08-21T06:04:58.457Z"
   },
   {
    "duration": 482,
    "start_time": "2022-08-21T06:05:12.546Z"
   },
   {
    "duration": 422,
    "start_time": "2022-08-21T06:06:37.703Z"
   },
   {
    "duration": 5,
    "start_time": "2022-08-21T06:11:25.198Z"
   },
   {
    "duration": 31,
    "start_time": "2022-08-21T06:12:15.745Z"
   },
   {
    "duration": 4,
    "start_time": "2022-08-21T06:13:29.907Z"
   },
   {
    "duration": 91,
    "start_time": "2022-08-21T06:13:29.913Z"
   },
   {
    "duration": 1850,
    "start_time": "2022-08-21T06:13:30.006Z"
   },
   {
    "duration": 44,
    "start_time": "2022-08-21T06:13:31.858Z"
   },
   {
    "duration": 8,
    "start_time": "2022-08-21T06:13:31.904Z"
   },
   {
    "duration": 13,
    "start_time": "2022-08-21T06:13:31.913Z"
   },
   {
    "duration": 5,
    "start_time": "2022-08-21T06:13:31.928Z"
   },
   {
    "duration": 16,
    "start_time": "2022-08-21T06:13:31.935Z"
   },
   {
    "duration": 18,
    "start_time": "2022-08-21T06:13:31.953Z"
   },
   {
    "duration": 27,
    "start_time": "2022-08-21T06:13:31.972Z"
   },
   {
    "duration": 876,
    "start_time": "2022-08-21T06:13:32.001Z"
   },
   {
    "duration": 21,
    "start_time": "2022-08-21T06:13:32.879Z"
   },
   {
    "duration": 46,
    "start_time": "2022-08-21T06:13:32.901Z"
   },
   {
    "duration": 10,
    "start_time": "2022-08-21T06:13:32.949Z"
   },
   {
    "duration": 490,
    "start_time": "2022-08-21T06:13:32.960Z"
   },
   {
    "duration": 2,
    "start_time": "2022-08-21T06:13:33.452Z"
   },
   {
    "duration": 14,
    "start_time": "2022-08-21T06:13:33.455Z"
   },
   {
    "duration": 83,
    "start_time": "2022-08-21T06:13:33.470Z"
   },
   {
    "duration": 4,
    "start_time": "2022-08-21T06:13:33.555Z"
   },
   {
    "duration": 22,
    "start_time": "2022-08-21T06:13:33.561Z"
   },
   {
    "duration": 4,
    "start_time": "2022-08-21T06:13:33.585Z"
   },
   {
    "duration": 323,
    "start_time": "2022-08-21T06:13:33.599Z"
   },
   {
    "duration": 34,
    "start_time": "2022-08-21T06:13:33.925Z"
   },
   {
    "duration": 144,
    "start_time": "2022-08-21T06:13:33.962Z"
   },
   {
    "duration": 160,
    "start_time": "2022-08-21T06:13:34.108Z"
   },
   {
    "duration": 133,
    "start_time": "2022-08-21T06:13:34.269Z"
   },
   {
    "duration": 132,
    "start_time": "2022-08-21T06:13:34.404Z"
   },
   {
    "duration": 109,
    "start_time": "2022-08-21T06:13:34.539Z"
   },
   {
    "duration": 130,
    "start_time": "2022-08-21T06:13:34.650Z"
   },
   {
    "duration": 225,
    "start_time": "2022-08-21T06:13:34.782Z"
   },
   {
    "duration": 126,
    "start_time": "2022-08-21T06:13:35.009Z"
   },
   {
    "duration": 121,
    "start_time": "2022-08-21T06:13:35.137Z"
   },
   {
    "duration": 119,
    "start_time": "2022-08-21T06:13:35.260Z"
   },
   {
    "duration": 149,
    "start_time": "2022-08-21T06:13:35.381Z"
   },
   {
    "duration": 144,
    "start_time": "2022-08-21T06:13:35.532Z"
   },
   {
    "duration": 324,
    "start_time": "2022-08-21T06:13:35.677Z"
   },
   {
    "duration": 755,
    "start_time": "2022-08-21T06:13:36.003Z"
   },
   {
    "duration": 1770,
    "start_time": "2022-08-21T06:13:40.965Z"
   },
   {
    "duration": 2036,
    "start_time": "2022-08-21T06:15:01.536Z"
   },
   {
    "duration": 1971,
    "start_time": "2022-08-21T06:20:35.107Z"
   },
   {
    "duration": 1484,
    "start_time": "2022-08-21T06:23:38.256Z"
   },
   {
    "duration": 9754,
    "start_time": "2022-08-21T06:24:15.188Z"
   },
   {
    "duration": 9951,
    "start_time": "2022-08-21T06:24:33.197Z"
   },
   {
    "duration": 8282,
    "start_time": "2022-08-21T06:24:52.485Z"
   },
   {
    "duration": 1077,
    "start_time": "2022-08-21T06:25:17.589Z"
   },
   {
    "duration": 49,
    "start_time": "2022-08-21T06:25:57.473Z"
   },
   {
    "duration": 932,
    "start_time": "2022-08-21T06:26:28.746Z"
   },
   {
    "duration": 72,
    "start_time": "2022-08-21T06:33:41.775Z"
   },
   {
    "duration": 880,
    "start_time": "2022-08-21T06:36:18.782Z"
   },
   {
    "duration": 467,
    "start_time": "2022-08-21T06:40:12.600Z"
   },
   {
    "duration": 872,
    "start_time": "2022-08-21T06:44:08.830Z"
   },
   {
    "duration": 1000,
    "start_time": "2022-08-21T06:44:34.906Z"
   },
   {
    "duration": 877,
    "start_time": "2022-08-21T06:44:54.802Z"
   },
   {
    "duration": 1021,
    "start_time": "2022-08-21T06:45:18.378Z"
   },
   {
    "duration": 115,
    "start_time": "2022-08-21T06:54:25.551Z"
   },
   {
    "duration": 125,
    "start_time": "2022-08-21T06:54:57.115Z"
   },
   {
    "duration": 99,
    "start_time": "2022-08-21T06:55:32.015Z"
   },
   {
    "duration": 313,
    "start_time": "2022-08-21T06:58:53.924Z"
   },
   {
    "duration": 160,
    "start_time": "2022-08-21T07:01:02.946Z"
   },
   {
    "duration": 109,
    "start_time": "2022-08-21T07:01:23.273Z"
   },
   {
    "duration": 1124,
    "start_time": "2022-08-21T07:04:39.136Z"
   },
   {
    "duration": 104,
    "start_time": "2022-08-21T07:04:40.262Z"
   },
   {
    "duration": 2107,
    "start_time": "2022-08-21T07:04:40.368Z"
   },
   {
    "duration": 44,
    "start_time": "2022-08-21T07:04:42.477Z"
   },
   {
    "duration": 9,
    "start_time": "2022-08-21T07:04:42.523Z"
   },
   {
    "duration": 13,
    "start_time": "2022-08-21T07:04:42.534Z"
   },
   {
    "duration": 7,
    "start_time": "2022-08-21T07:04:42.549Z"
   },
   {
    "duration": 45,
    "start_time": "2022-08-21T07:04:42.557Z"
   },
   {
    "duration": 7,
    "start_time": "2022-08-21T07:04:42.604Z"
   },
   {
    "duration": 9,
    "start_time": "2022-08-21T07:04:42.614Z"
   },
   {
    "duration": 944,
    "start_time": "2022-08-21T07:04:42.625Z"
   },
   {
    "duration": 17,
    "start_time": "2022-08-21T07:04:43.570Z"
   },
   {
    "duration": 51,
    "start_time": "2022-08-21T07:04:43.589Z"
   },
   {
    "duration": 9,
    "start_time": "2022-08-21T07:04:43.642Z"
   },
   {
    "duration": 390,
    "start_time": "2022-08-21T07:04:43.653Z"
   },
   {
    "duration": 3,
    "start_time": "2022-08-21T07:04:44.044Z"
   },
   {
    "duration": 24,
    "start_time": "2022-08-21T07:04:44.049Z"
   },
   {
    "duration": 97,
    "start_time": "2022-08-21T07:04:44.075Z"
   },
   {
    "duration": 5,
    "start_time": "2022-08-21T07:04:44.173Z"
   },
   {
    "duration": 37,
    "start_time": "2022-08-21T07:04:44.179Z"
   },
   {
    "duration": 3,
    "start_time": "2022-08-21T07:04:44.218Z"
   },
   {
    "duration": 342,
    "start_time": "2022-08-21T07:04:44.223Z"
   },
   {
    "duration": 37,
    "start_time": "2022-08-21T07:04:44.567Z"
   },
   {
    "duration": 137,
    "start_time": "2022-08-21T07:04:44.605Z"
   },
   {
    "duration": 166,
    "start_time": "2022-08-21T07:04:44.744Z"
   },
   {
    "duration": 138,
    "start_time": "2022-08-21T07:04:44.912Z"
   },
   {
    "duration": 130,
    "start_time": "2022-08-21T07:04:45.052Z"
   },
   {
    "duration": 270,
    "start_time": "2022-08-21T07:04:45.185Z"
   },
   {
    "duration": 143,
    "start_time": "2022-08-21T07:04:45.457Z"
   },
   {
    "duration": 133,
    "start_time": "2022-08-21T07:04:45.601Z"
   },
   {
    "duration": 133,
    "start_time": "2022-08-21T07:04:45.735Z"
   },
   {
    "duration": 115,
    "start_time": "2022-08-21T07:04:45.870Z"
   },
   {
    "duration": 124,
    "start_time": "2022-08-21T07:04:45.987Z"
   },
   {
    "duration": 156,
    "start_time": "2022-08-21T07:04:46.112Z"
   },
   {
    "duration": 156,
    "start_time": "2022-08-21T07:04:46.269Z"
   },
   {
    "duration": 347,
    "start_time": "2022-08-21T07:04:46.426Z"
   },
   {
    "duration": 741,
    "start_time": "2022-08-21T07:04:46.775Z"
   },
   {
    "duration": 873,
    "start_time": "2022-08-21T07:04:47.519Z"
   },
   {
    "duration": 27,
    "start_time": "2022-08-21T07:04:48.399Z"
   },
   {
    "duration": 77539,
    "start_time": "2022-08-21T07:04:48.427Z"
   },
   {
    "duration": 220,
    "start_time": "2022-08-21T07:07:35.637Z"
   },
   {
    "duration": 82491,
    "start_time": "2022-08-21T07:08:07.754Z"
   },
   {
    "duration": 93,
    "start_time": "2022-08-21T07:22:29.703Z"
   },
   {
    "duration": 11,
    "start_time": "2022-08-21T07:25:24.861Z"
   },
   {
    "duration": 123,
    "start_time": "2022-08-21T07:25:46.289Z"
   },
   {
    "duration": 499,
    "start_time": "2022-08-21T07:26:32.709Z"
   },
   {
    "duration": 11,
    "start_time": "2022-08-21T07:26:41.964Z"
   },
   {
    "duration": 120,
    "start_time": "2022-08-21T07:26:54.430Z"
   },
   {
    "duration": 89,
    "start_time": "2022-08-21T07:30:49.159Z"
   },
   {
    "duration": 4,
    "start_time": "2022-08-21T07:31:38.291Z"
   },
   {
    "duration": 1108,
    "start_time": "2022-08-21T07:31:49.784Z"
   },
   {
    "duration": 96,
    "start_time": "2022-08-21T07:31:50.894Z"
   },
   {
    "duration": 1851,
    "start_time": "2022-08-21T07:31:50.992Z"
   },
   {
    "duration": 42,
    "start_time": "2022-08-21T07:31:52.845Z"
   },
   {
    "duration": 15,
    "start_time": "2022-08-21T07:31:52.889Z"
   },
   {
    "duration": 14,
    "start_time": "2022-08-21T07:31:52.906Z"
   },
   {
    "duration": 5,
    "start_time": "2022-08-21T07:31:52.922Z"
   },
   {
    "duration": 8,
    "start_time": "2022-08-21T07:31:52.929Z"
   },
   {
    "duration": 10,
    "start_time": "2022-08-21T07:31:52.938Z"
   },
   {
    "duration": 11,
    "start_time": "2022-08-21T07:31:52.951Z"
   },
   {
    "duration": 965,
    "start_time": "2022-08-21T07:31:52.963Z"
   },
   {
    "duration": 24,
    "start_time": "2022-08-21T07:31:53.930Z"
   },
   {
    "duration": 64,
    "start_time": "2022-08-21T07:31:53.955Z"
   },
   {
    "duration": 11,
    "start_time": "2022-08-21T07:31:54.021Z"
   },
   {
    "duration": 367,
    "start_time": "2022-08-21T07:31:54.034Z"
   },
   {
    "duration": 2,
    "start_time": "2022-08-21T07:31:54.403Z"
   },
   {
    "duration": 15,
    "start_time": "2022-08-21T07:31:54.407Z"
   },
   {
    "duration": 13,
    "start_time": "2022-08-21T07:31:54.424Z"
   },
   {
    "duration": 105,
    "start_time": "2022-08-21T07:31:54.440Z"
   },
   {
    "duration": 5,
    "start_time": "2022-08-21T07:31:54.546Z"
   },
   {
    "duration": 23,
    "start_time": "2022-08-21T07:31:54.553Z"
   },
   {
    "duration": 3,
    "start_time": "2022-08-21T07:31:54.578Z"
   },
   {
    "duration": 309,
    "start_time": "2022-08-21T07:31:54.600Z"
   },
   {
    "duration": 37,
    "start_time": "2022-08-21T07:31:54.911Z"
   },
   {
    "duration": 158,
    "start_time": "2022-08-21T07:31:54.949Z"
   },
   {
    "duration": 149,
    "start_time": "2022-08-21T07:31:55.109Z"
   },
   {
    "duration": 151,
    "start_time": "2022-08-21T07:31:55.261Z"
   },
   {
    "duration": 135,
    "start_time": "2022-08-21T07:31:55.415Z"
   },
   {
    "duration": 274,
    "start_time": "2022-08-21T07:31:55.552Z"
   },
   {
    "duration": 141,
    "start_time": "2022-08-21T07:31:55.828Z"
   },
   {
    "duration": 157,
    "start_time": "2022-08-21T07:31:55.972Z"
   },
   {
    "duration": 132,
    "start_time": "2022-08-21T07:31:56.131Z"
   },
   {
    "duration": 118,
    "start_time": "2022-08-21T07:31:56.265Z"
   },
   {
    "duration": 105,
    "start_time": "2022-08-21T07:31:56.384Z"
   },
   {
    "duration": 155,
    "start_time": "2022-08-21T07:31:56.499Z"
   },
   {
    "duration": 171,
    "start_time": "2022-08-21T07:31:56.656Z"
   },
   {
    "duration": 376,
    "start_time": "2022-08-21T07:31:56.830Z"
   },
   {
    "duration": 793,
    "start_time": "2022-08-21T07:31:57.208Z"
   },
   {
    "duration": 912,
    "start_time": "2022-08-21T07:31:58.003Z"
   },
   {
    "duration": 26,
    "start_time": "2022-08-21T07:31:58.917Z"
   },
   {
    "duration": 80697,
    "start_time": "2022-08-21T07:31:58.944Z"
   },
   {
    "duration": 4,
    "start_time": "2022-08-21T07:33:19.642Z"
   },
   {
    "duration": 651,
    "start_time": "2022-08-21T07:33:19.649Z"
   },
   {
    "duration": 80405,
    "start_time": "2022-08-21T07:35:01.658Z"
   },
   {
    "duration": 12,
    "start_time": "2022-08-21T07:36:27.159Z"
   },
   {
    "duration": 257,
    "start_time": "2022-08-21T07:37:10.031Z"
   },
   {
    "duration": 131,
    "start_time": "2022-08-21T07:38:07.295Z"
   },
   {
    "duration": 157,
    "start_time": "2022-08-21T07:39:37.531Z"
   },
   {
    "duration": 279,
    "start_time": "2022-08-21T07:39:52.904Z"
   },
   {
    "duration": 140,
    "start_time": "2022-08-21T07:40:07.184Z"
   },
   {
    "duration": 78722,
    "start_time": "2022-08-21T07:40:12.580Z"
   },
   {
    "duration": 22,
    "start_time": "2022-08-21T07:43:06.890Z"
   },
   {
    "duration": 78995,
    "start_time": "2022-08-21T07:44:20.766Z"
   },
   {
    "duration": 673,
    "start_time": "2022-08-21T07:45:39.763Z"
   },
   {
    "duration": 1075,
    "start_time": "2022-08-21T07:45:55.801Z"
   },
   {
    "duration": 93,
    "start_time": "2022-08-21T07:45:56.878Z"
   },
   {
    "duration": 1867,
    "start_time": "2022-08-21T07:45:56.972Z"
   },
   {
    "duration": 39,
    "start_time": "2022-08-21T07:45:58.841Z"
   },
   {
    "duration": 7,
    "start_time": "2022-08-21T07:45:58.882Z"
   },
   {
    "duration": 13,
    "start_time": "2022-08-21T07:45:58.891Z"
   },
   {
    "duration": 8,
    "start_time": "2022-08-21T07:45:58.905Z"
   },
   {
    "duration": 11,
    "start_time": "2022-08-21T07:45:58.914Z"
   },
   {
    "duration": 7,
    "start_time": "2022-08-21T07:45:58.926Z"
   },
   {
    "duration": 9,
    "start_time": "2022-08-21T07:45:58.936Z"
   },
   {
    "duration": 879,
    "start_time": "2022-08-21T07:45:58.947Z"
   },
   {
    "duration": 16,
    "start_time": "2022-08-21T07:45:59.828Z"
   },
   {
    "duration": 55,
    "start_time": "2022-08-21T07:45:59.846Z"
   },
   {
    "duration": 9,
    "start_time": "2022-08-21T07:45:59.902Z"
   },
   {
    "duration": 369,
    "start_time": "2022-08-21T07:45:59.912Z"
   },
   {
    "duration": 2,
    "start_time": "2022-08-21T07:46:00.284Z"
   },
   {
    "duration": 29,
    "start_time": "2022-08-21T07:46:00.288Z"
   },
   {
    "duration": 37,
    "start_time": "2022-08-21T07:46:00.319Z"
   },
   {
    "duration": 111,
    "start_time": "2022-08-21T07:46:00.358Z"
   },
   {
    "duration": 5,
    "start_time": "2022-08-21T07:46:00.471Z"
   },
   {
    "duration": 35,
    "start_time": "2022-08-21T07:46:00.478Z"
   },
   {
    "duration": 5,
    "start_time": "2022-08-21T07:46:00.514Z"
   },
   {
    "duration": 321,
    "start_time": "2022-08-21T07:46:00.521Z"
   },
   {
    "duration": 31,
    "start_time": "2022-08-21T07:46:00.843Z"
   },
   {
    "duration": 146,
    "start_time": "2022-08-21T07:46:00.875Z"
   },
   {
    "duration": 151,
    "start_time": "2022-08-21T07:46:01.023Z"
   },
   {
    "duration": 130,
    "start_time": "2022-08-21T07:46:01.176Z"
   },
   {
    "duration": 140,
    "start_time": "2022-08-21T07:46:01.311Z"
   },
   {
    "duration": 279,
    "start_time": "2022-08-21T07:46:01.453Z"
   },
   {
    "duration": 143,
    "start_time": "2022-08-21T07:46:01.735Z"
   },
   {
    "duration": 133,
    "start_time": "2022-08-21T07:46:01.880Z"
   },
   {
    "duration": 118,
    "start_time": "2022-08-21T07:46:02.014Z"
   },
   {
    "duration": 105,
    "start_time": "2022-08-21T07:46:02.134Z"
   },
   {
    "duration": 111,
    "start_time": "2022-08-21T07:46:02.241Z"
   },
   {
    "duration": 148,
    "start_time": "2022-08-21T07:46:02.354Z"
   },
   {
    "duration": 139,
    "start_time": "2022-08-21T07:46:02.504Z"
   },
   {
    "duration": 322,
    "start_time": "2022-08-21T07:46:02.644Z"
   },
   {
    "duration": 692,
    "start_time": "2022-08-21T07:46:02.967Z"
   },
   {
    "duration": 913,
    "start_time": "2022-08-21T07:46:03.661Z"
   },
   {
    "duration": 37,
    "start_time": "2022-08-21T07:46:04.575Z"
   },
   {
    "duration": 254,
    "start_time": "2022-08-21T07:46:04.614Z"
   },
   {
    "duration": 3,
    "start_time": "2022-08-21T07:46:04.870Z"
   },
   {
    "duration": 1055,
    "start_time": "2022-08-21T21:18:53.202Z"
   },
   {
    "duration": 101,
    "start_time": "2022-08-21T21:18:54.259Z"
   },
   {
    "duration": 2195,
    "start_time": "2022-08-21T21:18:54.362Z"
   },
   {
    "duration": 40,
    "start_time": "2022-08-21T21:18:56.559Z"
   },
   {
    "duration": 7,
    "start_time": "2022-08-21T21:18:56.600Z"
   },
   {
    "duration": 12,
    "start_time": "2022-08-21T21:18:56.609Z"
   },
   {
    "duration": 6,
    "start_time": "2022-08-21T21:18:56.623Z"
   },
   {
    "duration": 6,
    "start_time": "2022-08-21T21:18:56.657Z"
   },
   {
    "duration": 8,
    "start_time": "2022-08-21T21:18:56.664Z"
   },
   {
    "duration": 9,
    "start_time": "2022-08-21T21:18:56.674Z"
   },
   {
    "duration": 949,
    "start_time": "2022-08-21T21:18:56.684Z"
   },
   {
    "duration": 23,
    "start_time": "2022-08-21T21:18:57.635Z"
   },
   {
    "duration": 43,
    "start_time": "2022-08-21T21:18:57.660Z"
   },
   {
    "duration": 7,
    "start_time": "2022-08-21T21:18:57.705Z"
   },
   {
    "duration": 359,
    "start_time": "2022-08-21T21:18:57.714Z"
   },
   {
    "duration": 2,
    "start_time": "2022-08-21T21:18:58.075Z"
   },
   {
    "duration": 6,
    "start_time": "2022-08-21T21:18:58.079Z"
   },
   {
    "duration": 19,
    "start_time": "2022-08-21T21:18:58.086Z"
   },
   {
    "duration": 87,
    "start_time": "2022-08-21T21:18:58.107Z"
   },
   {
    "duration": 5,
    "start_time": "2022-08-21T21:18:58.195Z"
   },
   {
    "duration": 31,
    "start_time": "2022-08-21T21:18:58.201Z"
   },
   {
    "duration": 5,
    "start_time": "2022-08-21T21:18:58.234Z"
   },
   {
    "duration": 331,
    "start_time": "2022-08-21T21:18:58.240Z"
   },
   {
    "duration": 32,
    "start_time": "2022-08-21T21:18:58.573Z"
   },
   {
    "duration": 125,
    "start_time": "2022-08-21T21:18:58.606Z"
   },
   {
    "duration": 152,
    "start_time": "2022-08-21T21:18:58.733Z"
   },
   {
    "duration": 126,
    "start_time": "2022-08-21T21:18:58.886Z"
   },
   {
    "duration": 114,
    "start_time": "2022-08-21T21:18:59.016Z"
   },
   {
    "duration": 225,
    "start_time": "2022-08-21T21:18:59.133Z"
   },
   {
    "duration": 123,
    "start_time": "2022-08-21T21:18:59.360Z"
   },
   {
    "duration": 129,
    "start_time": "2022-08-21T21:18:59.485Z"
   },
   {
    "duration": 124,
    "start_time": "2022-08-21T21:18:59.616Z"
   },
   {
    "duration": 105,
    "start_time": "2022-08-21T21:18:59.742Z"
   },
   {
    "duration": 110,
    "start_time": "2022-08-21T21:18:59.849Z"
   },
   {
    "duration": 159,
    "start_time": "2022-08-21T21:18:59.960Z"
   },
   {
    "duration": 148,
    "start_time": "2022-08-21T21:19:00.121Z"
   },
   {
    "duration": 328,
    "start_time": "2022-08-21T21:19:00.270Z"
   },
   {
    "duration": 737,
    "start_time": "2022-08-21T21:19:00.599Z"
   },
   {
    "duration": 951,
    "start_time": "2022-08-21T21:19:01.337Z"
   },
   {
    "duration": 27,
    "start_time": "2022-08-21T21:19:02.290Z"
   },
   {
    "duration": 265,
    "start_time": "2022-08-21T21:19:02.318Z"
   },
   {
    "duration": 4,
    "start_time": "2022-08-21T21:19:02.585Z"
   },
   {
    "duration": 18,
    "start_time": "2022-08-21T21:19:55.386Z"
   },
   {
    "duration": 86,
    "start_time": "2022-08-21T21:19:58.878Z"
   },
   {
    "duration": 66,
    "start_time": "2022-08-22T00:31:00.889Z"
   },
   {
    "duration": 1107,
    "start_time": "2022-08-22T16:39:20.858Z"
   },
   {
    "duration": 94,
    "start_time": "2022-08-22T16:39:21.967Z"
   },
   {
    "duration": 1745,
    "start_time": "2022-08-22T16:39:22.062Z"
   },
   {
    "duration": 38,
    "start_time": "2022-08-22T16:39:23.809Z"
   },
   {
    "duration": 7,
    "start_time": "2022-08-22T16:39:23.849Z"
   },
   {
    "duration": 13,
    "start_time": "2022-08-22T16:39:23.857Z"
   },
   {
    "duration": 27,
    "start_time": "2022-08-22T16:39:23.872Z"
   },
   {
    "duration": 7,
    "start_time": "2022-08-22T16:39:23.901Z"
   },
   {
    "duration": 19,
    "start_time": "2022-08-22T16:39:23.909Z"
   },
   {
    "duration": 23,
    "start_time": "2022-08-22T16:39:23.930Z"
   },
   {
    "duration": 1034,
    "start_time": "2022-08-22T16:39:23.955Z"
   },
   {
    "duration": 20,
    "start_time": "2022-08-22T16:39:24.991Z"
   },
   {
    "duration": 49,
    "start_time": "2022-08-22T16:39:25.012Z"
   },
   {
    "duration": 7,
    "start_time": "2022-08-22T16:39:25.063Z"
   },
   {
    "duration": 371,
    "start_time": "2022-08-22T16:39:25.072Z"
   },
   {
    "duration": 2,
    "start_time": "2022-08-22T16:39:25.445Z"
   },
   {
    "duration": 7,
    "start_time": "2022-08-22T16:39:25.449Z"
   },
   {
    "duration": 14,
    "start_time": "2022-08-22T16:39:25.457Z"
   },
   {
    "duration": 89,
    "start_time": "2022-08-22T16:39:25.473Z"
   },
   {
    "duration": 5,
    "start_time": "2022-08-22T16:39:25.563Z"
   },
   {
    "duration": 18,
    "start_time": "2022-08-22T16:39:25.569Z"
   },
   {
    "duration": 11,
    "start_time": "2022-08-22T16:39:25.588Z"
   },
   {
    "duration": 343,
    "start_time": "2022-08-22T16:39:25.601Z"
   },
   {
    "duration": 31,
    "start_time": "2022-08-22T16:39:25.946Z"
   },
   {
    "duration": 133,
    "start_time": "2022-08-22T16:39:25.979Z"
   },
   {
    "duration": 146,
    "start_time": "2022-08-22T16:39:26.114Z"
   },
   {
    "duration": 123,
    "start_time": "2022-08-22T16:39:26.261Z"
   },
   {
    "duration": 123,
    "start_time": "2022-08-22T16:39:26.387Z"
   },
   {
    "duration": 205,
    "start_time": "2022-08-22T16:39:26.511Z"
   },
   {
    "duration": 114,
    "start_time": "2022-08-22T16:39:26.717Z"
   },
   {
    "duration": 117,
    "start_time": "2022-08-22T16:39:26.832Z"
   },
   {
    "duration": 117,
    "start_time": "2022-08-22T16:39:26.950Z"
   },
   {
    "duration": 133,
    "start_time": "2022-08-22T16:39:27.068Z"
   },
   {
    "duration": 104,
    "start_time": "2022-08-22T16:39:27.203Z"
   },
   {
    "duration": 137,
    "start_time": "2022-08-22T16:39:27.309Z"
   },
   {
    "duration": 125,
    "start_time": "2022-08-22T16:39:27.448Z"
   },
   {
    "duration": 292,
    "start_time": "2022-08-22T16:39:27.574Z"
   },
   {
    "duration": 297,
    "start_time": "2022-08-22T16:39:27.867Z"
   },
   {
    "duration": 585,
    "start_time": "2022-08-22T16:39:28.166Z"
   },
   {
    "duration": 861,
    "start_time": "2022-08-22T16:39:28.753Z"
   },
   {
    "duration": 25,
    "start_time": "2022-08-22T16:39:29.616Z"
   },
   {
    "duration": 257,
    "start_time": "2022-08-22T16:39:29.642Z"
   },
   {
    "duration": 4,
    "start_time": "2022-08-22T16:39:29.901Z"
   }
  ],
  "kernelspec": {
   "display_name": "Python 3 (ipykernel)",
   "language": "python",
   "name": "python3"
  },
  "language_info": {
   "codemirror_mode": {
    "name": "ipython",
    "version": 3
   },
   "file_extension": ".py",
   "mimetype": "text/x-python",
   "name": "python",
   "nbconvert_exporter": "python",
   "pygments_lexer": "ipython3",
   "version": "3.9.5"
  },
  "toc": {
   "base_numbering": 1,
   "nav_menu": {},
   "number_sections": true,
   "sideBar": true,
   "skip_h1_title": true,
   "title_cell": "Table of Contents",
   "title_sidebar": "Contents",
   "toc_cell": false,
   "toc_position": {
    "height": "calc(100% - 180px)",
    "left": "10px",
    "top": "150px",
    "width": "253.092px"
   },
   "toc_section_display": true,
   "toc_window_display": true
  }
 },
 "nbformat": 4,
 "nbformat_minor": 2
}
