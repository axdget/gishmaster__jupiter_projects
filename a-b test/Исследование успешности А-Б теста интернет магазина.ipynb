{
 "cells": [
  {
   "cell_type": "markdown",
   "metadata": {},
   "source": [
    "Проект посвящен исследованию успешности А/Б теста интернет магазина, а также приоритезации гипотез маркетологов. были полученные данные по заказам и визитам группы А и Б, также датасет с гипотезами. Цель утсановить имеет ли группа Б существенные отличия от А."
   ]
  },
  {
   "cell_type": "markdown",
   "metadata": {},
   "source": [
    "# Часть 0. первичная работа с файлами"
   ]
  },
  {
   "cell_type": "markdown",
   "metadata": {},
   "source": [
    "импорт библиотек"
   ]
  },
  {
   "cell_type": "code",
   "execution_count": 1,
   "metadata": {},
   "outputs": [],
   "source": [
    "import pandas as pd\n",
    "import scipy.stats as st\n",
    "import datetime as dt\n",
    "import numpy as np\n",
    "import seaborn as sns\n",
    "import matplotlib.pyplot as plt\n",
    "import math as mth\n",
    "pd.set_option('display.max_columns', None)\n",
    "pd.set_option('display.max_rows', None)\n",
    "pd.set_option('display.max_colwidth', None)"
   ]
  },
  {
   "cell_type": "markdown",
   "metadata": {},
   "source": [
    "чтение файлов и изменение типа данных"
   ]
  },
  {
   "cell_type": "code",
   "execution_count": 2,
   "metadata": {},
   "outputs": [
    {
     "name": "stdout",
     "output_type": "stream",
     "text": [
      "0\n",
      "0\n",
      "0\n"
     ]
    }
   ],
   "source": [
    "hypothesis = pd.read_csv('/datasets/hypothesis.csv')\n",
    "orders = pd.read_csv('/datasets/orders.csv')\n",
    "visitors = pd.read_csv('/datasets/visitors.csv')\n",
    "\n",
    "\n",
    "print(hypothesis.duplicated().sum())\n",
    "print(orders.duplicated().sum())\n",
    "print(visitors.duplicated().sum())"
   ]
  },
  {
   "cell_type": "code",
   "execution_count": 3,
   "metadata": {},
   "outputs": [],
   "source": [
    "hypothesis = hypothesis.drop_duplicates()\n",
    "orders= orders.drop_duplicates()\n",
    "visitors= visitors.drop_duplicates()"
   ]
  },
  {
   "cell_type": "code",
   "execution_count": 4,
   "metadata": {
    "scrolled": true
   },
   "outputs": [
    {
     "name": "stdout",
     "output_type": "stream",
     "text": [
      "                                                                                                     Hypothesis  \\\n",
      "0            Добавить два новых канала привлечения трафика, что позволит привлекать на 30% больше пользователей   \n",
      "1                                     Запустить собственную службу доставки, что сократит срок доставки заказов   \n",
      "2  Добавить блоки рекомендаций товаров на сайт интернет магазина, чтобы повысить конверсию и средний чек заказа   \n",
      "3           Изменить структура категорий, что увеличит конверсию, т.к. пользователи быстрее найдут нужный товар   \n",
      "4                              Изменить цвет фона главной страницы, чтобы увеличить вовлеченность пользователей   \n",
      "\n",
      "   Reach  Impact  Confidence  Efforts  \n",
      "0      3      10           8        6  \n",
      "1      2       5           4       10  \n",
      "2      8       3           7        3  \n",
      "3      8       3           3        8  \n",
      "4      3       1           1        1  \n",
      "   transactionId   visitorId        date  revenue group\n",
      "0     3667963787  3312258926  2019-08-15     1650     B\n",
      "1     2804400009  3642806036  2019-08-15      730     B\n",
      "2     2961555356  4069496402  2019-08-15      400     A\n",
      "3     3797467345  1196621759  2019-08-15     9759     B\n",
      "4     2282983706  2322279887  2019-08-15     2308     B\n",
      "         date group  visitors\n",
      "0  2019-08-01     A       719\n",
      "1  2019-08-02     A       619\n",
      "2  2019-08-03     A       507\n",
      "3  2019-08-04     A       717\n",
      "4  2019-08-05     A       756\n",
      "<class 'pandas.core.frame.DataFrame'>\n",
      "Int64Index: 9 entries, 0 to 8\n",
      "Data columns (total 5 columns):\n",
      " #   Column      Non-Null Count  Dtype \n",
      "---  ------      --------------  ----- \n",
      " 0   Hypothesis  9 non-null      object\n",
      " 1   Reach       9 non-null      int64 \n",
      " 2   Impact      9 non-null      int64 \n",
      " 3   Confidence  9 non-null      int64 \n",
      " 4   Efforts     9 non-null      int64 \n",
      "dtypes: int64(4), object(1)\n",
      "memory usage: 432.0+ bytes\n",
      "None\n",
      "<class 'pandas.core.frame.DataFrame'>\n",
      "Int64Index: 1197 entries, 0 to 1196\n",
      "Data columns (total 5 columns):\n",
      " #   Column         Non-Null Count  Dtype \n",
      "---  ------         --------------  ----- \n",
      " 0   transactionId  1197 non-null   int64 \n",
      " 1   visitorId      1197 non-null   int64 \n",
      " 2   date           1197 non-null   object\n",
      " 3   revenue        1197 non-null   int64 \n",
      " 4   group          1197 non-null   object\n",
      "dtypes: int64(3), object(2)\n",
      "memory usage: 56.1+ KB\n",
      "None\n",
      "<class 'pandas.core.frame.DataFrame'>\n",
      "Int64Index: 62 entries, 0 to 61\n",
      "Data columns (total 3 columns):\n",
      " #   Column    Non-Null Count  Dtype \n",
      "---  ------    --------------  ----- \n",
      " 0   date      62 non-null     object\n",
      " 1   group     62 non-null     object\n",
      " 2   visitors  62 non-null     int64 \n",
      "dtypes: int64(1), object(2)\n",
      "memory usage: 1.9+ KB\n",
      "None\n",
      "Hypothesis    0\n",
      "Reach         0\n",
      "Impact        0\n",
      "Confidence    0\n",
      "Efforts       0\n",
      "dtype: int64\n",
      "transactionId    0\n",
      "visitorId        0\n",
      "date             0\n",
      "revenue          0\n",
      "group            0\n",
      "dtype: int64\n",
      "date        0\n",
      "group       0\n",
      "visitors    0\n",
      "dtype: int64\n"
     ]
    }
   ],
   "source": [
    "\n",
    "print(hypothesis.head())\n",
    "print(orders.head())\n",
    "print(visitors.head())\n",
    "\n",
    "print(hypothesis.info())\n",
    "print(orders.info())\n",
    "print(visitors.info())\n",
    "\n",
    "print(hypothesis.isna().sum())\n",
    "print(orders.isna().sum())\n",
    "print(visitors.isna().sum())\n"
   ]
  },
  {
   "cell_type": "code",
   "execution_count": 5,
   "metadata": {},
   "outputs": [],
   "source": [
    "orders['date'] = orders['date'].map(lambda x:dt.datetime.strptime(x,'%Y-%m-%d'))\n",
    "visitors['date'] = visitors['date'].map(lambda x:dt.datetime.strptime(x,'%Y-%m-%d'))"
   ]
  },
  {
   "cell_type": "code",
   "execution_count": 6,
   "metadata": {},
   "outputs": [],
   "source": [
    "hypothesis['num'] = pd.Series(list(range(1,len(hypothesis['Hypothesis'])+1)))\n",
    "\n"
   ]
  },
  {
   "cell_type": "markdown",
   "metadata": {},
   "source": [
    "## выводы по 0 части\n",
    "\n",
    "удалены дубликаты,установлено отсутвие пропусков"
   ]
  },
  {
   "cell_type": "markdown",
   "metadata": {},
   "source": [
    "# Часть 1. Приоритизация гипотез. "
   ]
  },
  {
   "cell_type": "markdown",
   "metadata": {},
   "source": [
    "## ICE\n",
    "Примените фреймворк ICE для приоритизации гипотез. Отсортируйте их по убыванию приоритета."
   ]
  },
  {
   "cell_type": "code",
   "execution_count": 7,
   "metadata": {},
   "outputs": [
    {
     "name": "stdout",
     "output_type": "stream",
     "text": [
      "                                                                                                     Hypothesis  \\\n",
      "8                                                       Запустить акцию, дающую скидку на товар в день рождения   \n",
      "0            Добавить два новых канала привлечения трафика, что позволит привлекать на 30% больше пользователей   \n",
      "7              Добавить форму подписки на все основные страницы, чтобы собрать базу клиентов для email-рассылок   \n",
      "6          Показать на главной странице баннеры с актуальными акциями и распродажами, чтобы увеличить конверсию   \n",
      "2  Добавить блоки рекомендаций товаров на сайт интернет магазина, чтобы повысить конверсию и средний чек заказа   \n",
      "1                                     Запустить собственную службу доставки, что сократит срок доставки заказов   \n",
      "5                      Добавить страницу отзывов клиентов о магазине, что позволит увеличить количество заказов   \n",
      "3           Изменить структура категорий, что увеличит конверсию, т.к. пользователи быстрее найдут нужный товар   \n",
      "4                              Изменить цвет фона главной страницы, чтобы увеличить вовлеченность пользователей   \n",
      "\n",
      "   Reach  Impact  Confidence  Efforts  num        ice  \n",
      "8      1       9           9        5    9  16.200000  \n",
      "0      3      10           8        6    1  13.333333  \n",
      "7     10       7           8        5    8  11.200000  \n",
      "6      5       3           8        3    7   8.000000  \n",
      "2      8       3           7        3    3   7.000000  \n",
      "1      2       5           4       10    2   2.000000  \n",
      "5      3       2           2        3    6   1.333333  \n",
      "3      8       3           3        8    4   1.125000  \n",
      "4      3       1           1        1    5   1.000000  \n"
     ]
    }
   ],
   "source": [
    "hypothesis['ice'] = hypothesis['Impact'] * hypothesis['Confidence'] / hypothesis['Efforts']\n",
    "print(hypothesis.sort_values(by='ice', ascending = False))"
   ]
  },
  {
   "cell_type": "markdown",
   "metadata": {},
   "source": [
    "## RICE\n",
    "Примените фреймворк RICE для приоритизации гипотез. Отсортируйте их по убыванию приоритета."
   ]
  },
  {
   "cell_type": "code",
   "execution_count": 8,
   "metadata": {},
   "outputs": [
    {
     "name": "stdout",
     "output_type": "stream",
     "text": [
      "                                                                                                     Hypothesis  \\\n",
      "7              Добавить форму подписки на все основные страницы, чтобы собрать базу клиентов для email-рассылок   \n",
      "2  Добавить блоки рекомендаций товаров на сайт интернет магазина, чтобы повысить конверсию и средний чек заказа   \n",
      "0            Добавить два новых канала привлечения трафика, что позволит привлекать на 30% больше пользователей   \n",
      "6          Показать на главной странице баннеры с актуальными акциями и распродажами, чтобы увеличить конверсию   \n",
      "8                                                       Запустить акцию, дающую скидку на товар в день рождения   \n",
      "3           Изменить структура категорий, что увеличит конверсию, т.к. пользователи быстрее найдут нужный товар   \n",
      "1                                     Запустить собственную службу доставки, что сократит срок доставки заказов   \n",
      "5                      Добавить страницу отзывов клиентов о магазине, что позволит увеличить количество заказов   \n",
      "4                              Изменить цвет фона главной страницы, чтобы увеличить вовлеченность пользователей   \n",
      "\n",
      "   Reach  Impact  Confidence  Efforts  num        ice   rice  \n",
      "7     10       7           8        5    8  11.200000  112.0  \n",
      "2      8       3           7        3    3   7.000000   56.0  \n",
      "0      3      10           8        6    1  13.333333   40.0  \n",
      "6      5       3           8        3    7   8.000000   40.0  \n",
      "8      1       9           9        5    9  16.200000   16.2  \n",
      "3      8       3           3        8    4   1.125000    9.0  \n",
      "1      2       5           4       10    2   2.000000    4.0  \n",
      "5      3       2           2        3    6   1.333333    4.0  \n",
      "4      3       1           1        1    5   1.000000    3.0  \n",
      "    rice  \\\n",
      "7  112.0   \n",
      "2   56.0   \n",
      "0   40.0   \n",
      "6   40.0   \n",
      "8   16.2   \n",
      "3    9.0   \n",
      "1    4.0   \n",
      "5    4.0   \n",
      "4    3.0   \n",
      "\n",
      "                                                                                                     Hypothesis  \\\n",
      "7              Добавить форму подписки на все основные страницы, чтобы собрать базу клиентов для email-рассылок   \n",
      "2  Добавить блоки рекомендаций товаров на сайт интернет магазина, чтобы повысить конверсию и средний чек заказа   \n",
      "0            Добавить два новых канала привлечения трафика, что позволит привлекать на 30% больше пользователей   \n",
      "6          Показать на главной странице баннеры с актуальными акциями и распродажами, чтобы увеличить конверсию   \n",
      "8                                                       Запустить акцию, дающую скидку на товар в день рождения   \n",
      "3           Изменить структура категорий, что увеличит конверсию, т.к. пользователи быстрее найдут нужный товар   \n",
      "1                                     Запустить собственную службу доставки, что сократит срок доставки заказов   \n",
      "5                      Добавить страницу отзывов клиентов о магазине, что позволит увеличить количество заказов   \n",
      "4                              Изменить цвет фона главной страницы, чтобы увеличить вовлеченность пользователей   \n",
      "\n",
      "   num  \n",
      "7    8  \n",
      "2    3  \n",
      "0    1  \n",
      "6    7  \n",
      "8    9  \n",
      "3    4  \n",
      "1    2  \n",
      "5    6  \n",
      "4    5  \n"
     ]
    }
   ],
   "source": [
    "hypothesis['rice'] = hypothesis['Impact'] * hypothesis['Confidence'] * hypothesis['Reach'] / hypothesis['Efforts']\n",
    "print(hypothesis.sort_values(by='rice', ascending = False))\n",
    "print(hypothesis[['rice','Hypothesis','num']].sort_values(by='rice', ascending = False))"
   ]
  },
  {
   "cell_type": "markdown",
   "metadata": {},
   "source": [
    "## RICE vs ICE\n",
    "Укажите, как изменилась приоритизация гипотез при применении RICE вместо ICE. Объясните, почему так произошло."
   ]
  },
  {
   "cell_type": "markdown",
   "metadata": {},
   "source": [
    "### Вывод\n",
    " все изменилось из-за учетов охватов в формуле. так как при прочих равных большой охват вывел приоритетность гипотезы на верх. Топ 3 отличается наличием только одной гипотезой в каждом фреймворке. для теста я бы выбрал гипотезу номер 8 так как она входит в топ 3 по обоим фрейм воркам.Но в любом случае стоит поговорить с коллегами для определения тактических целей на этот месяц/квартал"
   ]
  },
  {
   "cell_type": "markdown",
   "metadata": {},
   "source": [
    "## Выводы по Части 1\n",
    "\n",
    "По фреймворку ICE в топ гипотезы вошли:9,1,8\n",
    "\n",
    "По фреймворку RICE в топ гипотезы вошли:8,3,1\n",
    "\n",
    "Для выбора гипотезы, которую мы будем тестировать стоит определиться с доступными ресурсами и приоритетными целями отделов.Наиболее приоритетная гипотеза номер 8 и номер 1."
   ]
  },
  {
   "cell_type": "markdown",
   "metadata": {},
   "source": [
    "# Часть 2. Анализ A/B-теста"
   ]
  },
  {
   "cell_type": "markdown",
   "metadata": {},
   "source": [
    "## Постройте график кумулятивной выручки по группам. Сделайте выводы и предположения.\n"
   ]
  },
  {
   "cell_type": "code",
   "execution_count": 9,
   "metadata": {},
   "outputs": [
    {
     "name": "stdout",
     "output_type": "stream",
     "text": [
      "Empty DataFrame\n",
      "Columns: [transactionId_x, visitorId, date_x, revenue_x, group_x, transactionId_y, date_y, revenue_y, group_y]\n",
      "Index: []\n"
     ]
    }
   ],
   "source": [
    "a = orders[orders['group'] == 'A']\n",
    "b = orders[orders['group'] == 'B']\n",
    "\n",
    "uniq_list_a = a[['visitorId','group']]\n",
    "uniq_list_b = b[['visitorId','group']]\n",
    "\n",
    "uniq_common = uniq_list_a.merge(uniq_list_b,left_on ='visitorId',right_on='visitorId', how='inner')\n",
    "\n",
    "\n",
    "data_a = orders[np.logical_and(orders['group'] == 'A',np.logical_not(orders['visitorId'].isin(uniq_common['visitorId'])))]\n",
    "data_b = orders[np.logical_and(orders['group'] == 'B',np.logical_not(orders['visitorId'].isin(uniq_common['visitorId'])))]\n",
    "\n",
    "avg_a = data_a\n",
    "avg_b = data_b\n",
    "aa = data_a['visitorId']\n",
    "bb= data_b['visitorId']\n",
    "print(data_a.merge(data_b,left_on ='visitorId',right_on='visitorId', how='inner'))\n"
   ]
  },
  {
   "cell_type": "code",
   "execution_count": 10,
   "metadata": {
    "scrolled": true
   },
   "outputs": [
    {
     "data": {
      "text/html": [
       "<div>\n",
       "<style scoped>\n",
       "    .dataframe tbody tr th:only-of-type {\n",
       "        vertical-align: middle;\n",
       "    }\n",
       "\n",
       "    .dataframe tbody tr th {\n",
       "        vertical-align: top;\n",
       "    }\n",
       "\n",
       "    .dataframe thead th {\n",
       "        text-align: right;\n",
       "    }\n",
       "</style>\n",
       "<table border=\"1\" class=\"dataframe\">\n",
       "  <thead>\n",
       "    <tr style=\"text-align: right;\">\n",
       "      <th></th>\n",
       "      <th>date</th>\n",
       "      <th>revenue</th>\n",
       "      <th>orders</th>\n",
       "      <th>user</th>\n",
       "      <th>cum_sum</th>\n",
       "      <th>cum_ord</th>\n",
       "      <th>users</th>\n",
       "    </tr>\n",
       "  </thead>\n",
       "  <tbody>\n",
       "    <tr>\n",
       "      <th>0</th>\n",
       "      <td>2019-08-01</td>\n",
       "      <td>142779</td>\n",
       "      <td>23</td>\n",
       "      <td>19</td>\n",
       "      <td>142779</td>\n",
       "      <td>23</td>\n",
       "      <td>19</td>\n",
       "    </tr>\n",
       "    <tr>\n",
       "      <th>1</th>\n",
       "      <td>2019-08-02</td>\n",
       "      <td>91602</td>\n",
       "      <td>19</td>\n",
       "      <td>18</td>\n",
       "      <td>234381</td>\n",
       "      <td>42</td>\n",
       "      <td>37</td>\n",
       "    </tr>\n",
       "    <tr>\n",
       "      <th>2</th>\n",
       "      <td>2019-08-03</td>\n",
       "      <td>112473</td>\n",
       "      <td>24</td>\n",
       "      <td>24</td>\n",
       "      <td>346854</td>\n",
       "      <td>66</td>\n",
       "      <td>61</td>\n",
       "    </tr>\n",
       "    <tr>\n",
       "      <th>3</th>\n",
       "      <td>2019-08-04</td>\n",
       "      <td>41176</td>\n",
       "      <td>11</td>\n",
       "      <td>11</td>\n",
       "      <td>388030</td>\n",
       "      <td>77</td>\n",
       "      <td>72</td>\n",
       "    </tr>\n",
       "    <tr>\n",
       "      <th>4</th>\n",
       "      <td>2019-08-05</td>\n",
       "      <td>86383</td>\n",
       "      <td>22</td>\n",
       "      <td>22</td>\n",
       "      <td>474413</td>\n",
       "      <td>99</td>\n",
       "      <td>94</td>\n",
       "    </tr>\n",
       "    <tr>\n",
       "      <th>5</th>\n",
       "      <td>2019-08-06</td>\n",
       "      <td>40919</td>\n",
       "      <td>15</td>\n",
       "      <td>12</td>\n",
       "      <td>515332</td>\n",
       "      <td>114</td>\n",
       "      <td>106</td>\n",
       "    </tr>\n",
       "    <tr>\n",
       "      <th>6</th>\n",
       "      <td>2019-08-07</td>\n",
       "      <td>123248</td>\n",
       "      <td>16</td>\n",
       "      <td>16</td>\n",
       "      <td>638580</td>\n",
       "      <td>130</td>\n",
       "      <td>122</td>\n",
       "    </tr>\n",
       "    <tr>\n",
       "      <th>7</th>\n",
       "      <td>2019-08-08</td>\n",
       "      <td>88639</td>\n",
       "      <td>14</td>\n",
       "      <td>14</td>\n",
       "      <td>727219</td>\n",
       "      <td>144</td>\n",
       "      <td>136</td>\n",
       "    </tr>\n",
       "    <tr>\n",
       "      <th>8</th>\n",
       "      <td>2019-08-09</td>\n",
       "      <td>134237</td>\n",
       "      <td>11</td>\n",
       "      <td>11</td>\n",
       "      <td>861456</td>\n",
       "      <td>155</td>\n",
       "      <td>147</td>\n",
       "    </tr>\n",
       "    <tr>\n",
       "      <th>9</th>\n",
       "      <td>2019-08-10</td>\n",
       "      <td>152275</td>\n",
       "      <td>15</td>\n",
       "      <td>15</td>\n",
       "      <td>1013731</td>\n",
       "      <td>170</td>\n",
       "      <td>162</td>\n",
       "    </tr>\n",
       "    <tr>\n",
       "      <th>10</th>\n",
       "      <td>2019-08-11</td>\n",
       "      <td>60665</td>\n",
       "      <td>11</td>\n",
       "      <td>11</td>\n",
       "      <td>1074396</td>\n",
       "      <td>181</td>\n",
       "      <td>173</td>\n",
       "    </tr>\n",
       "    <tr>\n",
       "      <th>11</th>\n",
       "      <td>2019-08-12</td>\n",
       "      <td>220392</td>\n",
       "      <td>19</td>\n",
       "      <td>19</td>\n",
       "      <td>1294788</td>\n",
       "      <td>200</td>\n",
       "      <td>192</td>\n",
       "    </tr>\n",
       "    <tr>\n",
       "      <th>12</th>\n",
       "      <td>2019-08-13</td>\n",
       "      <td>263638</td>\n",
       "      <td>14</td>\n",
       "      <td>14</td>\n",
       "      <td>1558426</td>\n",
       "      <td>214</td>\n",
       "      <td>206</td>\n",
       "    </tr>\n",
       "    <tr>\n",
       "      <th>13</th>\n",
       "      <td>2019-08-14</td>\n",
       "      <td>43266</td>\n",
       "      <td>17</td>\n",
       "      <td>17</td>\n",
       "      <td>1601692</td>\n",
       "      <td>231</td>\n",
       "      <td>223</td>\n",
       "    </tr>\n",
       "    <tr>\n",
       "      <th>14</th>\n",
       "      <td>2019-08-15</td>\n",
       "      <td>80877</td>\n",
       "      <td>10</td>\n",
       "      <td>10</td>\n",
       "      <td>1682569</td>\n",
       "      <td>241</td>\n",
       "      <td>233</td>\n",
       "    </tr>\n",
       "    <tr>\n",
       "      <th>15</th>\n",
       "      <td>2019-08-16</td>\n",
       "      <td>99851</td>\n",
       "      <td>18</td>\n",
       "      <td>18</td>\n",
       "      <td>1782420</td>\n",
       "      <td>259</td>\n",
       "      <td>251</td>\n",
       "    </tr>\n",
       "    <tr>\n",
       "      <th>16</th>\n",
       "      <td>2019-08-17</td>\n",
       "      <td>34740</td>\n",
       "      <td>6</td>\n",
       "      <td>5</td>\n",
       "      <td>1817160</td>\n",
       "      <td>265</td>\n",
       "      <td>256</td>\n",
       "    </tr>\n",
       "    <tr>\n",
       "      <th>17</th>\n",
       "      <td>2019-08-18</td>\n",
       "      <td>59581</td>\n",
       "      <td>13</td>\n",
       "      <td>13</td>\n",
       "      <td>1876741</td>\n",
       "      <td>278</td>\n",
       "      <td>269</td>\n",
       "    </tr>\n",
       "    <tr>\n",
       "      <th>18</th>\n",
       "      <td>2019-08-19</td>\n",
       "      <td>168193</td>\n",
       "      <td>21</td>\n",
       "      <td>21</td>\n",
       "      <td>2044934</td>\n",
       "      <td>299</td>\n",
       "      <td>290</td>\n",
       "    </tr>\n",
       "    <tr>\n",
       "      <th>19</th>\n",
       "      <td>2019-08-20</td>\n",
       "      <td>58679</td>\n",
       "      <td>10</td>\n",
       "      <td>10</td>\n",
       "      <td>2103613</td>\n",
       "      <td>309</td>\n",
       "      <td>300</td>\n",
       "    </tr>\n",
       "    <tr>\n",
       "      <th>20</th>\n",
       "      <td>2019-08-21</td>\n",
       "      <td>170169</td>\n",
       "      <td>20</td>\n",
       "      <td>19</td>\n",
       "      <td>2273782</td>\n",
       "      <td>329</td>\n",
       "      <td>319</td>\n",
       "    </tr>\n",
       "    <tr>\n",
       "      <th>21</th>\n",
       "      <td>2019-08-22</td>\n",
       "      <td>92365</td>\n",
       "      <td>10</td>\n",
       "      <td>10</td>\n",
       "      <td>2366147</td>\n",
       "      <td>339</td>\n",
       "      <td>329</td>\n",
       "    </tr>\n",
       "    <tr>\n",
       "      <th>22</th>\n",
       "      <td>2019-08-23</td>\n",
       "      <td>57863</td>\n",
       "      <td>20</td>\n",
       "      <td>20</td>\n",
       "      <td>2424010</td>\n",
       "      <td>359</td>\n",
       "      <td>349</td>\n",
       "    </tr>\n",
       "    <tr>\n",
       "      <th>23</th>\n",
       "      <td>2019-08-24</td>\n",
       "      <td>122013</td>\n",
       "      <td>13</td>\n",
       "      <td>13</td>\n",
       "      <td>2546023</td>\n",
       "      <td>372</td>\n",
       "      <td>362</td>\n",
       "    </tr>\n",
       "    <tr>\n",
       "      <th>24</th>\n",
       "      <td>2019-08-25</td>\n",
       "      <td>51884</td>\n",
       "      <td>8</td>\n",
       "      <td>8</td>\n",
       "      <td>2597907</td>\n",
       "      <td>380</td>\n",
       "      <td>370</td>\n",
       "    </tr>\n",
       "    <tr>\n",
       "      <th>25</th>\n",
       "      <td>2019-08-26</td>\n",
       "      <td>157214</td>\n",
       "      <td>16</td>\n",
       "      <td>16</td>\n",
       "      <td>2755121</td>\n",
       "      <td>396</td>\n",
       "      <td>386</td>\n",
       "    </tr>\n",
       "    <tr>\n",
       "      <th>26</th>\n",
       "      <td>2019-08-27</td>\n",
       "      <td>185350</td>\n",
       "      <td>23</td>\n",
       "      <td>23</td>\n",
       "      <td>2940471</td>\n",
       "      <td>419</td>\n",
       "      <td>409</td>\n",
       "    </tr>\n",
       "    <tr>\n",
       "      <th>27</th>\n",
       "      <td>2019-08-28</td>\n",
       "      <td>96462</td>\n",
       "      <td>15</td>\n",
       "      <td>15</td>\n",
       "      <td>3036933</td>\n",
       "      <td>434</td>\n",
       "      <td>424</td>\n",
       "    </tr>\n",
       "    <tr>\n",
       "      <th>28</th>\n",
       "      <td>2019-08-29</td>\n",
       "      <td>196300</td>\n",
       "      <td>17</td>\n",
       "      <td>17</td>\n",
       "      <td>3233233</td>\n",
       "      <td>451</td>\n",
       "      <td>441</td>\n",
       "    </tr>\n",
       "    <tr>\n",
       "      <th>29</th>\n",
       "      <td>2019-08-30</td>\n",
       "      <td>78180</td>\n",
       "      <td>9</td>\n",
       "      <td>8</td>\n",
       "      <td>3311413</td>\n",
       "      <td>460</td>\n",
       "      <td>449</td>\n",
       "    </tr>\n",
       "    <tr>\n",
       "      <th>30</th>\n",
       "      <td>2019-08-31</td>\n",
       "      <td>53243</td>\n",
       "      <td>8</td>\n",
       "      <td>8</td>\n",
       "      <td>3364656</td>\n",
       "      <td>468</td>\n",
       "      <td>457</td>\n",
       "    </tr>\n",
       "  </tbody>\n",
       "</table>\n",
       "</div>"
      ],
      "text/plain": [
       "         date  revenue  orders  user  cum_sum  cum_ord  users\n",
       "0  2019-08-01   142779      23    19   142779       23     19\n",
       "1  2019-08-02    91602      19    18   234381       42     37\n",
       "2  2019-08-03   112473      24    24   346854       66     61\n",
       "3  2019-08-04    41176      11    11   388030       77     72\n",
       "4  2019-08-05    86383      22    22   474413       99     94\n",
       "5  2019-08-06    40919      15    12   515332      114    106\n",
       "6  2019-08-07   123248      16    16   638580      130    122\n",
       "7  2019-08-08    88639      14    14   727219      144    136\n",
       "8  2019-08-09   134237      11    11   861456      155    147\n",
       "9  2019-08-10   152275      15    15  1013731      170    162\n",
       "10 2019-08-11    60665      11    11  1074396      181    173\n",
       "11 2019-08-12   220392      19    19  1294788      200    192\n",
       "12 2019-08-13   263638      14    14  1558426      214    206\n",
       "13 2019-08-14    43266      17    17  1601692      231    223\n",
       "14 2019-08-15    80877      10    10  1682569      241    233\n",
       "15 2019-08-16    99851      18    18  1782420      259    251\n",
       "16 2019-08-17    34740       6     5  1817160      265    256\n",
       "17 2019-08-18    59581      13    13  1876741      278    269\n",
       "18 2019-08-19   168193      21    21  2044934      299    290\n",
       "19 2019-08-20    58679      10    10  2103613      309    300\n",
       "20 2019-08-21   170169      20    19  2273782      329    319\n",
       "21 2019-08-22    92365      10    10  2366147      339    329\n",
       "22 2019-08-23    57863      20    20  2424010      359    349\n",
       "23 2019-08-24   122013      13    13  2546023      372    362\n",
       "24 2019-08-25    51884       8     8  2597907      380    370\n",
       "25 2019-08-26   157214      16    16  2755121      396    386\n",
       "26 2019-08-27   185350      23    23  2940471      419    409\n",
       "27 2019-08-28    96462      15    15  3036933      434    424\n",
       "28 2019-08-29   196300      17    17  3233233      451    441\n",
       "29 2019-08-30    78180       9     8  3311413      460    449\n",
       "30 2019-08-31    53243       8     8  3364656      468    457"
      ]
     },
     "execution_count": 10,
     "metadata": {},
     "output_type": "execute_result"
    }
   ],
   "source": [
    "cum_sum_a = data_a.groupby('date').agg({'revenue':'sum','transactionId':'count','visitorId':'nunique'})\n",
    "cum_sum_a.columns = ['revenue','orders','user']\n",
    "cum_sum_a = cum_sum_a.reset_index(level=0)\n",
    "cum_sum_a['cum_sum'] = cum_sum_a['revenue'].cumsum()\n",
    "cum_sum_a['cum_ord'] = cum_sum_a['orders'].cumsum()\n",
    "cum_sum_a['users'] = cum_sum_a['user'].cumsum()\n",
    "cum_sum_a"
   ]
  },
  {
   "cell_type": "code",
   "execution_count": 11,
   "metadata": {},
   "outputs": [],
   "source": [
    "cum_sum_b = data_b.groupby('date').agg({'revenue':'sum','transactionId':'count','visitorId':'nunique'})\n",
    "cum_sum_b.columns = ['revenue','orders','user']\n",
    "cum_sum_b = cum_sum_b.reset_index(level=0)\n",
    "cum_sum_b['cum_sum'] = cum_sum_b['revenue'].cumsum()\n",
    "cum_sum_b['cum_ord'] = cum_sum_b['orders'].cumsum()\n",
    "cum_sum_b['users'] = cum_sum_b['user'].cumsum()"
   ]
  },
  {
   "cell_type": "code",
   "execution_count": 12,
   "metadata": {},
   "outputs": [],
   "source": [
    "vv_a = visitors[visitors['group']=='A'][['date','visitors']]\n",
    "vv_b = visitors[visitors['group']=='B'][['date','visitors']]\n",
    "v_a = cum_sum_a.merge(vv_a,left_on='date',right_on ='date',how='left')\n",
    "v_b =  cum_sum_b.merge(vv_b,left_on='date',right_on ='date',how='left')\n",
    "v_aa = v_a\n",
    "v_bb = v_b"
   ]
  },
  {
   "cell_type": "code",
   "execution_count": 13,
   "metadata": {},
   "outputs": [],
   "source": [
    "ord_vis_a = v_a\n",
    "ord_vis_b = v_b"
   ]
  },
  {
   "cell_type": "code",
   "execution_count": null,
   "metadata": {},
   "outputs": [],
   "source": []
  },
  {
   "cell_type": "code",
   "execution_count": 14,
   "metadata": {},
   "outputs": [
    {
     "data": {
      "text/plain": [
       "<matplotlib.legend.Legend at 0x7f0c2d2b1be0>"
      ]
     },
     "execution_count": 14,
     "metadata": {},
     "output_type": "execute_result"
    },
    {
     "data": {
      "image/png": "[encoded data removed]",
      "text/plain": [
       "<Figure size 1080x432 with 1 Axes>"
      ]
     },
     "metadata": {
      "needs_background": "light"
     },
     "output_type": "display_data"
    }
   ],
   "source": [
    "plt.figure(figsize=(15, 6))\n",
    "plt.plot(cum_sum_a['date'],cum_sum_a['cum_sum'], label='A')\n",
    "plt.plot(cum_sum_b['date'],cum_sum_b['cum_sum'], label='B')\n",
    "plt.xticks(cum_sum_b['date'],\n",
    "       rotation=70)\n",
    "plt.ylabel(\"Кумулятивная Выручка\")\n",
    "plt.xlabel(\"Даты\")\n",
    "plt.grid()\n",
    "plt.legend()"
   ]
  },
  {
   "cell_type": "markdown",
   "metadata": {},
   "source": [
    "### выводы\n",
    "\n",
    "наблюдается линейный рост с резким скачком в середине месяца. скорей всего причины в аномальных заказах."
   ]
  },
  {
   "cell_type": "markdown",
   "metadata": {},
   "source": [
    "## Постройте график кумулятивного среднего чека по группам. Сделайте выводы и предположения.\n"
   ]
  },
  {
   "cell_type": "code",
   "execution_count": 15,
   "metadata": {},
   "outputs": [
    {
     "data": {
      "text/plain": [
       "<matplotlib.legend.Legend at 0x7f0c2ca5ccd0>"
      ]
     },
     "execution_count": 15,
     "metadata": {},
     "output_type": "execute_result"
    },
    {
     "data": {
      "image/png": "[encoded data removed]",
      "text/plain": [
       "<Figure size 1080x432 with 1 Axes>"
      ]
     },
     "metadata": {
      "needs_background": "light"
     },
     "output_type": "display_data"
    }
   ],
   "source": [
    "plt.figure(figsize=(15, 6))\n",
    "plt.plot(cum_sum_a['date'],cum_sum_a['cum_sum']/cum_sum_a['cum_ord'], label='A')\n",
    "plt.plot(cum_sum_b['date'],cum_sum_b['cum_sum']/cum_sum_b['cum_ord'], label='B')\n",
    "plt.xticks(cum_sum_b['date'],\n",
    "       rotation=70)\n",
    "plt.ylabel(\"кумулятивный средний чек\")\n",
    "plt.xlabel(\"Даты\")\n",
    "plt.grid()\n",
    "plt.legend()"
   ]
  },
  {
   "cell_type": "markdown",
   "metadata": {},
   "source": [
    "### Вывод\n",
    " средний чек закрепился в районе 7к для группы А. резкий подскок в том же месте что и для кумулятивной суммы. надо убирать аномалии. \n",
    "\n",
    "р.с можно сразу убирать не понимаю почему мы смотрим на грязные данные"
   ]
  },
  {
   "cell_type": "markdown",
   "metadata": {},
   "source": [
    "## Постройте график относительного изменения кумулятивного среднего чека группы B к группе A. Сделайте выводы и предположения.\n"
   ]
  },
  {
   "cell_type": "code",
   "execution_count": 16,
   "metadata": {},
   "outputs": [
    {
     "data": {
      "text/plain": [
       "<matplotlib.legend.Legend at 0x7f0c2d20c100>"
      ]
     },
     "execution_count": 16,
     "metadata": {},
     "output_type": "execute_result"
    },
    {
     "data": {
      "image/png": "[encoded data removed]",
      "text/plain": [
       "<Figure size 1080x432 with 1 Axes>"
      ]
     },
     "metadata": {
      "needs_background": "light"
     },
     "output_type": "display_data"
    }
   ],
   "source": [
    "plt.figure(figsize=(15, 6))\n",
    "plt.plot(cum_sum_a['date'],(cum_sum_b['cum_sum']/cum_sum_b['cum_ord'])/(cum_sum_a['cum_sum']/cum_sum_a['cum_ord'])-1, label='B/A')\n",
    "plt.axhline(y=0, color='black', linestyle='--') \n",
    "plt.xticks(cum_sum_b['date'],\n",
    "       rotation=70)\n",
    "plt.grid()\n",
    "plt.legend()"
   ]
  },
  {
   "cell_type": "markdown",
   "metadata": {},
   "source": [
    "### Вывод\n",
    " аналогичная ситуация с отношением средних чеков. начали выравниваться, но потом был резкий всплеск"
   ]
  },
  {
   "cell_type": "markdown",
   "metadata": {},
   "source": [
    "## Постройте график кумулятивного среднего количества заказов по группам. Сделайте выводы и предположения.\n"
   ]
  },
  {
   "cell_type": "code",
   "execution_count": 17,
   "metadata": {},
   "outputs": [
    {
     "name": "stdout",
     "output_type": "stream",
     "text": [
      "         date  revenue  orders  user  cum_sum  cum_ord  users  visitors\n",
      "0  2019-08-01   142779      23    19   142779       23     19       719\n",
      "1  2019-08-02    91602      19    18   234381       42     37       619\n",
      "2  2019-08-03   112473      24    24   346854       66     61       507\n",
      "3  2019-08-04    41176      11    11   388030       77     72       717\n",
      "4  2019-08-05    86383      22    22   474413       99     94       756\n",
      "5  2019-08-06    40919      15    12   515332      114    106       667\n",
      "6  2019-08-07   123248      16    16   638580      130    122       644\n",
      "7  2019-08-08    88639      14    14   727219      144    136       610\n",
      "8  2019-08-09   134237      11    11   861456      155    147       617\n",
      "9  2019-08-10   152275      15    15  1013731      170    162       406\n",
      "10 2019-08-11    60665      11    11  1074396      181    173       718\n",
      "11 2019-08-12   220392      19    19  1294788      200    192       595\n",
      "12 2019-08-13   263638      14    14  1558426      214    206       748\n",
      "13 2019-08-14    43266      17    17  1601692      231    223       735\n",
      "14 2019-08-15    80877      10    10  1682569      241    233       628\n",
      "15 2019-08-16    99851      18    18  1782420      259    251       361\n",
      "16 2019-08-17    34740       6     5  1817160      265    256       412\n",
      "17 2019-08-18    59581      13    13  1876741      278    269       668\n",
      "18 2019-08-19   168193      21    21  2044934      299    290       502\n",
      "19 2019-08-20    58679      10    10  2103613      309    300       575\n",
      "20 2019-08-21   170169      20    19  2273782      329    319       646\n",
      "21 2019-08-22    92365      10    10  2366147      339    329       609\n",
      "22 2019-08-23    57863      20    20  2424010      359    349       468\n",
      "23 2019-08-24   122013      13    13  2546023      372    362       395\n",
      "24 2019-08-25    51884       8     8  2597907      380    370       621\n",
      "25 2019-08-26   157214      16    16  2755121      396    386       722\n",
      "26 2019-08-27   185350      23    23  2940471      419    409       711\n",
      "27 2019-08-28    96462      15    15  3036933      434    424       594\n",
      "28 2019-08-29   196300      17    17  3233233      451    441       577\n",
      "29 2019-08-30    78180       9     8  3311413      460    449       490\n",
      "30 2019-08-31    53243       8     8  3364656      468    457       699\n",
      "         date  revenue  orders  user  cum_sum  cum_ord  users  visitors\n",
      "0  2019-08-01    59758      17    17    59758       17     17       713\n",
      "1  2019-08-02   162043      23    22   221801       40     39       581\n",
      "2  2019-08-03    67049      14    14   288850       54     53       509\n",
      "3  2019-08-04    96890      14    13   385740       68     66       770\n",
      "4  2019-08-05    89908      21    21   475648       89     87       707\n",
      "5  2019-08-06   214842      23    22   690490      112    109       655\n",
      "6  2019-08-07   219164      23    23   909654      135    132       709\n",
      "7  2019-08-08   150141      22    22  1059795      157    154       654\n",
      "8  2019-08-09   103166      19    19  1162961      176    173       610\n",
      "9  2019-08-10   105162      22    22  1268123      198    195       369\n",
      "10 2019-08-11    53060      12    12  1321183      210    207       721\n",
      "11 2019-08-12   104054      19    19  1425237      229    226       543\n",
      "12 2019-08-13   117691      20    20  1542928      249    246       769\n",
      "13 2019-08-14   107340      14    14  1650268      263    260       746\n",
      "14 2019-08-15   310159      26    26  1960427      289    286       544\n",
      "15 2019-08-16   114250      18    18  2074677      307    304       413\n",
      "16 2019-08-17    80865      13    13  2155542      320    317       421\n",
      "17 2019-08-18    35323       7     7  2190865      327    324       737\n",
      "18 2019-08-19  1429920      21    20  3620785      348    344       487\n",
      "19 2019-08-20   147274      20    20  3768059      368    364       560\n",
      "20 2019-08-21   140347      12    12  3908406      380    376       656\n",
      "21 2019-08-22   141728      21    21  4050134      401    397       650\n",
      "22 2019-08-23    77269      13    13  4127403      414    410       546\n",
      "23 2019-08-24    87866      14    14  4215269      428    424       378\n",
      "24 2019-08-25    79257      12    12  4294526      440    436       679\n",
      "25 2019-08-26   173439      22    22  4467965      462    458       676\n",
      "26 2019-08-27   111347      11    11  4579312      473    469       720\n",
      "27 2019-08-28    61198      22    22  4640510      495    491       654\n",
      "28 2019-08-29   106100      15    15  4746610      510    506       531\n",
      "29 2019-08-30   209223      21    21  4955833      531    527       490\n",
      "30 2019-08-31   113139      17    17  5068972      548    544       718\n"
     ]
    },
    {
     "data": {
      "text/html": [
       "<div>\n",
       "<style scoped>\n",
       "    .dataframe tbody tr th:only-of-type {\n",
       "        vertical-align: middle;\n",
       "    }\n",
       "\n",
       "    .dataframe tbody tr th {\n",
       "        vertical-align: top;\n",
       "    }\n",
       "\n",
       "    .dataframe thead th {\n",
       "        text-align: right;\n",
       "    }\n",
       "</style>\n",
       "<table border=\"1\" class=\"dataframe\">\n",
       "  <thead>\n",
       "    <tr style=\"text-align: right;\">\n",
       "      <th></th>\n",
       "      <th>date</th>\n",
       "      <th>revenue</th>\n",
       "      <th>orders</th>\n",
       "      <th>user</th>\n",
       "      <th>cum_sum</th>\n",
       "      <th>cum_ord</th>\n",
       "      <th>users</th>\n",
       "    </tr>\n",
       "  </thead>\n",
       "  <tbody>\n",
       "    <tr>\n",
       "      <th>0</th>\n",
       "      <td>2019-08-01</td>\n",
       "      <td>142779</td>\n",
       "      <td>23</td>\n",
       "      <td>19</td>\n",
       "      <td>142779</td>\n",
       "      <td>23</td>\n",
       "      <td>19</td>\n",
       "    </tr>\n",
       "    <tr>\n",
       "      <th>1</th>\n",
       "      <td>2019-08-02</td>\n",
       "      <td>91602</td>\n",
       "      <td>19</td>\n",
       "      <td>18</td>\n",
       "      <td>234381</td>\n",
       "      <td>42</td>\n",
       "      <td>37</td>\n",
       "    </tr>\n",
       "    <tr>\n",
       "      <th>2</th>\n",
       "      <td>2019-08-03</td>\n",
       "      <td>112473</td>\n",
       "      <td>24</td>\n",
       "      <td>24</td>\n",
       "      <td>346854</td>\n",
       "      <td>66</td>\n",
       "      <td>61</td>\n",
       "    </tr>\n",
       "    <tr>\n",
       "      <th>3</th>\n",
       "      <td>2019-08-04</td>\n",
       "      <td>41176</td>\n",
       "      <td>11</td>\n",
       "      <td>11</td>\n",
       "      <td>388030</td>\n",
       "      <td>77</td>\n",
       "      <td>72</td>\n",
       "    </tr>\n",
       "    <tr>\n",
       "      <th>4</th>\n",
       "      <td>2019-08-05</td>\n",
       "      <td>86383</td>\n",
       "      <td>22</td>\n",
       "      <td>22</td>\n",
       "      <td>474413</td>\n",
       "      <td>99</td>\n",
       "      <td>94</td>\n",
       "    </tr>\n",
       "    <tr>\n",
       "      <th>5</th>\n",
       "      <td>2019-08-06</td>\n",
       "      <td>40919</td>\n",
       "      <td>15</td>\n",
       "      <td>12</td>\n",
       "      <td>515332</td>\n",
       "      <td>114</td>\n",
       "      <td>106</td>\n",
       "    </tr>\n",
       "    <tr>\n",
       "      <th>6</th>\n",
       "      <td>2019-08-07</td>\n",
       "      <td>123248</td>\n",
       "      <td>16</td>\n",
       "      <td>16</td>\n",
       "      <td>638580</td>\n",
       "      <td>130</td>\n",
       "      <td>122</td>\n",
       "    </tr>\n",
       "    <tr>\n",
       "      <th>7</th>\n",
       "      <td>2019-08-08</td>\n",
       "      <td>88639</td>\n",
       "      <td>14</td>\n",
       "      <td>14</td>\n",
       "      <td>727219</td>\n",
       "      <td>144</td>\n",
       "      <td>136</td>\n",
       "    </tr>\n",
       "    <tr>\n",
       "      <th>8</th>\n",
       "      <td>2019-08-09</td>\n",
       "      <td>134237</td>\n",
       "      <td>11</td>\n",
       "      <td>11</td>\n",
       "      <td>861456</td>\n",
       "      <td>155</td>\n",
       "      <td>147</td>\n",
       "    </tr>\n",
       "    <tr>\n",
       "      <th>9</th>\n",
       "      <td>2019-08-10</td>\n",
       "      <td>152275</td>\n",
       "      <td>15</td>\n",
       "      <td>15</td>\n",
       "      <td>1013731</td>\n",
       "      <td>170</td>\n",
       "      <td>162</td>\n",
       "    </tr>\n",
       "    <tr>\n",
       "      <th>10</th>\n",
       "      <td>2019-08-11</td>\n",
       "      <td>60665</td>\n",
       "      <td>11</td>\n",
       "      <td>11</td>\n",
       "      <td>1074396</td>\n",
       "      <td>181</td>\n",
       "      <td>173</td>\n",
       "    </tr>\n",
       "    <tr>\n",
       "      <th>11</th>\n",
       "      <td>2019-08-12</td>\n",
       "      <td>220392</td>\n",
       "      <td>19</td>\n",
       "      <td>19</td>\n",
       "      <td>1294788</td>\n",
       "      <td>200</td>\n",
       "      <td>192</td>\n",
       "    </tr>\n",
       "    <tr>\n",
       "      <th>12</th>\n",
       "      <td>2019-08-13</td>\n",
       "      <td>263638</td>\n",
       "      <td>14</td>\n",
       "      <td>14</td>\n",
       "      <td>1558426</td>\n",
       "      <td>214</td>\n",
       "      <td>206</td>\n",
       "    </tr>\n",
       "    <tr>\n",
       "      <th>13</th>\n",
       "      <td>2019-08-14</td>\n",
       "      <td>43266</td>\n",
       "      <td>17</td>\n",
       "      <td>17</td>\n",
       "      <td>1601692</td>\n",
       "      <td>231</td>\n",
       "      <td>223</td>\n",
       "    </tr>\n",
       "    <tr>\n",
       "      <th>14</th>\n",
       "      <td>2019-08-15</td>\n",
       "      <td>80877</td>\n",
       "      <td>10</td>\n",
       "      <td>10</td>\n",
       "      <td>1682569</td>\n",
       "      <td>241</td>\n",
       "      <td>233</td>\n",
       "    </tr>\n",
       "    <tr>\n",
       "      <th>15</th>\n",
       "      <td>2019-08-16</td>\n",
       "      <td>99851</td>\n",
       "      <td>18</td>\n",
       "      <td>18</td>\n",
       "      <td>1782420</td>\n",
       "      <td>259</td>\n",
       "      <td>251</td>\n",
       "    </tr>\n",
       "    <tr>\n",
       "      <th>16</th>\n",
       "      <td>2019-08-17</td>\n",
       "      <td>34740</td>\n",
       "      <td>6</td>\n",
       "      <td>5</td>\n",
       "      <td>1817160</td>\n",
       "      <td>265</td>\n",
       "      <td>256</td>\n",
       "    </tr>\n",
       "    <tr>\n",
       "      <th>17</th>\n",
       "      <td>2019-08-18</td>\n",
       "      <td>59581</td>\n",
       "      <td>13</td>\n",
       "      <td>13</td>\n",
       "      <td>1876741</td>\n",
       "      <td>278</td>\n",
       "      <td>269</td>\n",
       "    </tr>\n",
       "    <tr>\n",
       "      <th>18</th>\n",
       "      <td>2019-08-19</td>\n",
       "      <td>168193</td>\n",
       "      <td>21</td>\n",
       "      <td>21</td>\n",
       "      <td>2044934</td>\n",
       "      <td>299</td>\n",
       "      <td>290</td>\n",
       "    </tr>\n",
       "    <tr>\n",
       "      <th>19</th>\n",
       "      <td>2019-08-20</td>\n",
       "      <td>58679</td>\n",
       "      <td>10</td>\n",
       "      <td>10</td>\n",
       "      <td>2103613</td>\n",
       "      <td>309</td>\n",
       "      <td>300</td>\n",
       "    </tr>\n",
       "    <tr>\n",
       "      <th>20</th>\n",
       "      <td>2019-08-21</td>\n",
       "      <td>170169</td>\n",
       "      <td>20</td>\n",
       "      <td>19</td>\n",
       "      <td>2273782</td>\n",
       "      <td>329</td>\n",
       "      <td>319</td>\n",
       "    </tr>\n",
       "    <tr>\n",
       "      <th>21</th>\n",
       "      <td>2019-08-22</td>\n",
       "      <td>92365</td>\n",
       "      <td>10</td>\n",
       "      <td>10</td>\n",
       "      <td>2366147</td>\n",
       "      <td>339</td>\n",
       "      <td>329</td>\n",
       "    </tr>\n",
       "    <tr>\n",
       "      <th>22</th>\n",
       "      <td>2019-08-23</td>\n",
       "      <td>57863</td>\n",
       "      <td>20</td>\n",
       "      <td>20</td>\n",
       "      <td>2424010</td>\n",
       "      <td>359</td>\n",
       "      <td>349</td>\n",
       "    </tr>\n",
       "    <tr>\n",
       "      <th>23</th>\n",
       "      <td>2019-08-24</td>\n",
       "      <td>122013</td>\n",
       "      <td>13</td>\n",
       "      <td>13</td>\n",
       "      <td>2546023</td>\n",
       "      <td>372</td>\n",
       "      <td>362</td>\n",
       "    </tr>\n",
       "    <tr>\n",
       "      <th>24</th>\n",
       "      <td>2019-08-25</td>\n",
       "      <td>51884</td>\n",
       "      <td>8</td>\n",
       "      <td>8</td>\n",
       "      <td>2597907</td>\n",
       "      <td>380</td>\n",
       "      <td>370</td>\n",
       "    </tr>\n",
       "    <tr>\n",
       "      <th>25</th>\n",
       "      <td>2019-08-26</td>\n",
       "      <td>157214</td>\n",
       "      <td>16</td>\n",
       "      <td>16</td>\n",
       "      <td>2755121</td>\n",
       "      <td>396</td>\n",
       "      <td>386</td>\n",
       "    </tr>\n",
       "    <tr>\n",
       "      <th>26</th>\n",
       "      <td>2019-08-27</td>\n",
       "      <td>185350</td>\n",
       "      <td>23</td>\n",
       "      <td>23</td>\n",
       "      <td>2940471</td>\n",
       "      <td>419</td>\n",
       "      <td>409</td>\n",
       "    </tr>\n",
       "    <tr>\n",
       "      <th>27</th>\n",
       "      <td>2019-08-28</td>\n",
       "      <td>96462</td>\n",
       "      <td>15</td>\n",
       "      <td>15</td>\n",
       "      <td>3036933</td>\n",
       "      <td>434</td>\n",
       "      <td>424</td>\n",
       "    </tr>\n",
       "    <tr>\n",
       "      <th>28</th>\n",
       "      <td>2019-08-29</td>\n",
       "      <td>196300</td>\n",
       "      <td>17</td>\n",
       "      <td>17</td>\n",
       "      <td>3233233</td>\n",
       "      <td>451</td>\n",
       "      <td>441</td>\n",
       "    </tr>\n",
       "    <tr>\n",
       "      <th>29</th>\n",
       "      <td>2019-08-30</td>\n",
       "      <td>78180</td>\n",
       "      <td>9</td>\n",
       "      <td>8</td>\n",
       "      <td>3311413</td>\n",
       "      <td>460</td>\n",
       "      <td>449</td>\n",
       "    </tr>\n",
       "    <tr>\n",
       "      <th>30</th>\n",
       "      <td>2019-08-31</td>\n",
       "      <td>53243</td>\n",
       "      <td>8</td>\n",
       "      <td>8</td>\n",
       "      <td>3364656</td>\n",
       "      <td>468</td>\n",
       "      <td>457</td>\n",
       "    </tr>\n",
       "  </tbody>\n",
       "</table>\n",
       "</div>"
      ],
      "text/plain": [
       "         date  revenue  orders  user  cum_sum  cum_ord  users\n",
       "0  2019-08-01   142779      23    19   142779       23     19\n",
       "1  2019-08-02    91602      19    18   234381       42     37\n",
       "2  2019-08-03   112473      24    24   346854       66     61\n",
       "3  2019-08-04    41176      11    11   388030       77     72\n",
       "4  2019-08-05    86383      22    22   474413       99     94\n",
       "5  2019-08-06    40919      15    12   515332      114    106\n",
       "6  2019-08-07   123248      16    16   638580      130    122\n",
       "7  2019-08-08    88639      14    14   727219      144    136\n",
       "8  2019-08-09   134237      11    11   861456      155    147\n",
       "9  2019-08-10   152275      15    15  1013731      170    162\n",
       "10 2019-08-11    60665      11    11  1074396      181    173\n",
       "11 2019-08-12   220392      19    19  1294788      200    192\n",
       "12 2019-08-13   263638      14    14  1558426      214    206\n",
       "13 2019-08-14    43266      17    17  1601692      231    223\n",
       "14 2019-08-15    80877      10    10  1682569      241    233\n",
       "15 2019-08-16    99851      18    18  1782420      259    251\n",
       "16 2019-08-17    34740       6     5  1817160      265    256\n",
       "17 2019-08-18    59581      13    13  1876741      278    269\n",
       "18 2019-08-19   168193      21    21  2044934      299    290\n",
       "19 2019-08-20    58679      10    10  2103613      309    300\n",
       "20 2019-08-21   170169      20    19  2273782      329    319\n",
       "21 2019-08-22    92365      10    10  2366147      339    329\n",
       "22 2019-08-23    57863      20    20  2424010      359    349\n",
       "23 2019-08-24   122013      13    13  2546023      372    362\n",
       "24 2019-08-25    51884       8     8  2597907      380    370\n",
       "25 2019-08-26   157214      16    16  2755121      396    386\n",
       "26 2019-08-27   185350      23    23  2940471      419    409\n",
       "27 2019-08-28    96462      15    15  3036933      434    424\n",
       "28 2019-08-29   196300      17    17  3233233      451    441\n",
       "29 2019-08-30    78180       9     8  3311413      460    449\n",
       "30 2019-08-31    53243       8     8  3364656      468    457"
      ]
     },
     "execution_count": 17,
     "metadata": {},
     "output_type": "execute_result"
    }
   ],
   "source": [
    "print(ord_vis_a)\n",
    "print(ord_vis_b)\n",
    "cum_sum_a"
   ]
  },
  {
   "cell_type": "code",
   "execution_count": 18,
   "metadata": {},
   "outputs": [],
   "source": [
    "ord_vis_a['cum_vis'] = ord_vis_a['visitors'].cumsum()\n",
    "ord_vis_b['cum_vis'] = ord_vis_b['visitors'].cumsum()"
   ]
  },
  {
   "cell_type": "code",
   "execution_count": 19,
   "metadata": {},
   "outputs": [
    {
     "data": {
      "text/plain": [
       "15.979779248969361"
      ]
     },
     "execution_count": 19,
     "metadata": {},
     "output_type": "execute_result"
    },
    {
     "data": {
      "image/png": "[encoded data removed]",
      "text/plain": [
       "<Figure size 1080x432 with 1 Axes>"
      ]
     },
     "metadata": {
      "needs_background": "light"
     },
     "output_type": "display_data"
    }
   ],
   "source": [
    "plt.figure(figsize=(15, 6))\n",
    "plt.plot(ord_vis_a['date'],ord_vis_a['cum_ord']/ord_vis_a['cum_vis'], label='A')\n",
    "plt.plot(ord_vis_b['date'],ord_vis_b['cum_ord']/ord_vis_b['cum_vis'], label='B')\n",
    "plt.axhline(y=0.00,color='black',linestyle='--')\n",
    "plt.xticks(ord_vis_a['date'],\n",
    "       rotation=70)\n",
    "plt.ylabel(\"кумулятивное среднее заказов\")\n",
    "plt.xlabel(\"Даты\")\n",
    "plt.grid()\n",
    "plt.legend()\n",
    "((ord_vis_b['cum_ord'].max()/ord_vis_b['cum_vis'].max())/(ord_vis_a['cum_ord'].max()/ord_vis_a['cum_vis'].max())-1)*100"
   ]
  },
  {
   "cell_type": "markdown",
   "metadata": {},
   "source": [
    "### Вывод\n",
    " \n",
    "в группе B среднее кол-во заказов больше чем в группу A. Разница наблбдается стабильно после 10 го дня. разница составила 16%"
   ]
  },
  {
   "cell_type": "markdown",
   "metadata": {},
   "source": [
    "## Постройте график относительного изменения кумулятивного среднего количества заказов группы B к группе A. Сделайте выводы и предположения.\n"
   ]
  },
  {
   "cell_type": "code",
   "execution_count": 20,
   "metadata": {},
   "outputs": [
    {
     "data": {
      "text/plain": [
       "<matplotlib.legend.Legend at 0x7f0c2cb714f0>"
      ]
     },
     "execution_count": 20,
     "metadata": {},
     "output_type": "execute_result"
    },
    {
     "data": {
      "image/png": "[encoded data removed]",
      "text/plain": [
       "<Figure size 1080x432 with 1 Axes>"
      ]
     },
     "metadata": {
      "needs_background": "light"
     },
     "output_type": "display_data"
    }
   ],
   "source": [
    "plt.figure(figsize=(15, 6))\n",
    "plt.plot(ord_vis_a['date'],(ord_vis_b['cum_ord']/ord_vis_b['cum_vis'])/(ord_vis_a['cum_ord']/ord_vis_a['cum_vis']), label='B/А')\n",
    "plt.axhline(y=1,color='black',linestyle='--')\n",
    "plt.xticks(ord_vis_a['date'],\n",
    "       rotation=70)\n",
    "plt.ylabel(\"относительное изменение кол-ва заказов\")\n",
    "plt.xlabel(\"Даты\")\n",
    "plt.grid()\n",
    "plt.legend()"
   ]
  },
  {
   "cell_type": "markdown",
   "metadata": {},
   "source": [
    "### Вывод\n",
    "График отчеливо показывает, что группа В лидирует по среднему кол-ву заказов."
   ]
  },
  {
   "cell_type": "markdown",
   "metadata": {},
   "source": [
    "## Постройте точечный график количества заказов по пользователям. Сделайте выводы и предположения.\n"
   ]
  },
  {
   "cell_type": "code",
   "execution_count": 21,
   "metadata": {},
   "outputs": [
    {
     "data": {
      "text/plain": [
       "visitorId        4283872382\n",
       "revenue             1294500\n",
       "transactionId             3\n",
       "dtype: int64"
      ]
     },
     "execution_count": 21,
     "metadata": {},
     "output_type": "execute_result"
    }
   ],
   "source": [
    "users = orders.groupby('visitorId').agg({'revenue':'sum','transactionId':'count'})\n",
    "users = users.reset_index(level=0)\n",
    "users = users[np.logical_not(users['visitorId'].isin(uniq_common['visitorId']))]\n",
    "users.max()"
   ]
  },
  {
   "cell_type": "code",
   "execution_count": 22,
   "metadata": {
    "scrolled": true
   },
   "outputs": [
    {
     "data": {
      "text/plain": [
       "<matplotlib.legend.Legend at 0x7f0c2cae9af0>"
      ]
     },
     "execution_count": 22,
     "metadata": {},
     "output_type": "execute_result"
    },
    {
     "data": {
      "image/png": "[encoded data removed]",
      "text/plain": [
       "<Figure size 1080x432 with 1 Axes>"
      ]
     },
     "metadata": {
      "needs_background": "light"
     },
     "output_type": "display_data"
    }
   ],
   "source": [
    "plt.figure(figsize=(15, 6))\n",
    "x_values = pd.Series(range(len(users['visitorId'])))\n",
    "plt.scatter(x_values,users['transactionId'], label='Заказов на человека')\n",
    "plt.ylabel(\"Кол-во заказов на пользователя\")\n",
    "\n",
    "plt.grid()\n",
    "plt.legend()\n"
   ]
  },
  {
   "cell_type": "markdown",
   "metadata": {},
   "source": [
    "### Вывод\n",
    " \n",
    "редкий пользователь оформляет больше 1 заказа. видимо есть постоянные покупатели и те которые пробуют наш сервис."
   ]
  },
  {
   "cell_type": "markdown",
   "metadata": {},
   "source": [
    "## Посчитайте 95-й и 99-й перцентили количества заказов на пользователя. Выберите границу для определения аномальных пользователей.\n"
   ]
  },
  {
   "cell_type": "code",
   "execution_count": 23,
   "metadata": {},
   "outputs": [
    {
     "data": {
      "text/plain": [
       "array([1., 2.])"
      ]
     },
     "execution_count": 23,
     "metadata": {},
     "output_type": "execute_result"
    }
   ],
   "source": [
    "np.percentile(users['transactionId'],[95,99])"
   ]
  },
  {
   "cell_type": "markdown",
   "metadata": {},
   "source": [
    "# Вывод\n",
    " больше 1 заказов оформили только 5% пользователей. и больше 2 заказов оформил лишь 1%"
   ]
  },
  {
   "cell_type": "markdown",
   "metadata": {},
   "source": [
    "## Постройте точечный график стоимостей заказов. Сделайте выводы и предположения.\n"
   ]
  },
  {
   "cell_type": "code",
   "execution_count": 24,
   "metadata": {},
   "outputs": [
    {
     "data": {
      "image/png": "[encoded data removed]",
      "text/plain": [
       "<Figure size 1080x432 with 1 Axes>"
      ]
     },
     "metadata": {
      "needs_background": "light"
     },
     "output_type": "display_data"
    }
   ],
   "source": [
    "plt.figure(figsize=(15, 6))\n",
    "x_values = pd.Series(range(len(orders['revenue'])))\n",
    "plt.scatter(x_values,orders['revenue'])\n",
    "plt.axis([0, len(orders['revenue']), 0, 100000]) \n",
    "\n",
    "plt.ylabel(\"Стоимость заказов\")\n",
    "\n",
    "plt.grid()\n"
   ]
  },
  {
   "cell_type": "code",
   "execution_count": 25,
   "metadata": {},
   "outputs": [
    {
     "data": {
      "image/png": "[encoded data removed]",
      "text/plain": [
       "<Figure size 1080x432 with 1 Axes>"
      ]
     },
     "metadata": {
      "needs_background": "light"
     },
     "output_type": "display_data"
    }
   ],
   "source": [
    "plt.figure(figsize=(15, 6))\n",
    "x_values = pd.Series(range(len(orders['revenue'])))\n",
    "plt.scatter(x_values,orders['revenue'])\n",
    "plt.axis([0, len(orders['revenue']), 0, 1300000]) \n",
    "plt.ylabel(\"Стоимость заказов\")\n",
    "plt.grid()\n"
   ]
  },
  {
   "cell_type": "markdown",
   "metadata": {},
   "source": [
    "### Вывод\n",
    "редкие заказы превышают 20к, встречаются совсем аномальные миллонные заказы.(вот и поймали мы скачок)"
   ]
  },
  {
   "cell_type": "markdown",
   "metadata": {},
   "source": [
    "## Посчитайте 95-й и 99-й перцентили стоимости заказов. Выберите границу для определения аномальных заказов.\n"
   ]
  },
  {
   "cell_type": "code",
   "execution_count": 26,
   "metadata": {},
   "outputs": [
    {
     "data": {
      "text/plain": [
       "array([28000. , 58233.2])"
      ]
     },
     "execution_count": 26,
     "metadata": {},
     "output_type": "execute_result"
    }
   ],
   "source": [
    "np.percentile(orders['revenue'],[95,99])"
   ]
  },
  {
   "cell_type": "markdown",
   "metadata": {},
   "source": [
    "### Вывод\n",
    " 5% пользователей делали заказы дороже 28к и 1% дороже 58к"
   ]
  },
  {
   "cell_type": "markdown",
   "metadata": {},
   "source": [
    "## Посчитайте статистическую значимость различий в среднем количестве заказов между группами по «сырым» данным. Сделайте выводы и предположения.\n"
   ]
  },
  {
   "cell_type": "markdown",
   "metadata": {},
   "source": [
    "- Нулевая гипотеза: - различий между группами нет\n",
    "    \n",
    "- Альтернативная - различия между группами  есть"
   ]
  },
  {
   "cell_type": "code",
   "execution_count": 27,
   "metadata": {},
   "outputs": [
    {
     "name": "stdout",
     "output_type": "stream",
     "text": [
      "0.011\n",
      "0.160\n"
     ]
    }
   ],
   "source": [
    "'''row_orders_a['orders'] = cum_sum_a['cum_ord']/cum_sum_a['users']\n",
    "row_orders_b = cum_sum_b['cum_ord']/cum_sum_b['users']'''\n",
    "\n",
    "users_a = data_a.groupby('visitorId').agg({'revenue':'sum','transactionId':'count'})\n",
    "users_b = data_b.groupby('visitorId').agg({'revenue':'sum','transactionId':'count'})\n",
    "\n",
    "users_a = users_a.reset_index(level=0)\n",
    "users_b = users_b.reset_index(level=0)\n",
    "v_a =  pd.concat([users_a['transactionId'],pd.Series(0, index=np.arange(visitors[visitors['group']=='A']['visitors'].sum() - len(users_a['transactionId'])), name='orders')],axis=0)\n",
    "v_b =  pd.concat([users_b['transactionId'],pd.Series(0, index=np.arange(visitors[visitors['group']=='B']['visitors'].sum() - len(users_b['transactionId'])), name='orders')],axis=0)\n",
    "\n",
    "\n",
    "print(\"{0:.3f}\".format(st.mannwhitneyu(v_a,v_b)[1]))\n",
    "\n",
    "print(\"{0:.3f}\".format(v_b.mean() / v_a.mean() - 1))"
   ]
  },
  {
   "cell_type": "markdown",
   "metadata": {},
   "source": [
    "### Вывод\n",
    "По «сырым» данным различий в среднем числе заказов групп A и B есть. p-value меньше 0,05. поэтому можем отвергать 0 гипотезу."
   ]
  },
  {
   "cell_type": "markdown",
   "metadata": {},
   "source": [
    "## Посчитайте статистическую значимость различий в среднем чеке заказа между группами по «сырым» данным. Сделайте выводы и предположения.\n"
   ]
  },
  {
   "cell_type": "markdown",
   "metadata": {},
   "source": [
    "- Нулевая гипотеза: - различий между группами нет\n",
    "    \n",
    "- Альтернативная - различия между группами  есть"
   ]
  },
  {
   "cell_type": "code",
   "execution_count": 28,
   "metadata": {},
   "outputs": [
    {
     "data": {
      "text/html": [
       "<div>\n",
       "<style scoped>\n",
       "    .dataframe tbody tr th:only-of-type {\n",
       "        vertical-align: middle;\n",
       "    }\n",
       "\n",
       "    .dataframe tbody tr th {\n",
       "        vertical-align: top;\n",
       "    }\n",
       "\n",
       "    .dataframe thead th {\n",
       "        text-align: right;\n",
       "    }\n",
       "</style>\n",
       "<table border=\"1\" class=\"dataframe\">\n",
       "  <thead>\n",
       "    <tr style=\"text-align: right;\">\n",
       "      <th></th>\n",
       "      <th>visitorId</th>\n",
       "      <th>revenue</th>\n",
       "      <th>transactionId</th>\n",
       "    </tr>\n",
       "  </thead>\n",
       "  <tbody>\n",
       "    <tr>\n",
       "      <th>0</th>\n",
       "      <td>11685486</td>\n",
       "      <td>6201</td>\n",
       "      <td>1</td>\n",
       "    </tr>\n",
       "    <tr>\n",
       "      <th>1</th>\n",
       "      <td>54447517</td>\n",
       "      <td>130</td>\n",
       "      <td>1</td>\n",
       "    </tr>\n",
       "    <tr>\n",
       "      <th>2</th>\n",
       "      <td>66685450</td>\n",
       "      <td>7990</td>\n",
       "      <td>1</td>\n",
       "    </tr>\n",
       "    <tr>\n",
       "      <th>3</th>\n",
       "      <td>78758296</td>\n",
       "      <td>1044</td>\n",
       "      <td>1</td>\n",
       "    </tr>\n",
       "    <tr>\n",
       "      <th>4</th>\n",
       "      <td>85103373</td>\n",
       "      <td>1220</td>\n",
       "      <td>1</td>\n",
       "    </tr>\n",
       "    <tr>\n",
       "      <th>5</th>\n",
       "      <td>87885904</td>\n",
       "      <td>300</td>\n",
       "      <td>1</td>\n",
       "    </tr>\n",
       "    <tr>\n",
       "      <th>6</th>\n",
       "      <td>109615108</td>\n",
       "      <td>2190</td>\n",
       "      <td>1</td>\n",
       "    </tr>\n",
       "    <tr>\n",
       "      <th>7</th>\n",
       "      <td>130417038</td>\n",
       "      <td>1530</td>\n",
       "      <td>1</td>\n",
       "    </tr>\n",
       "    <tr>\n",
       "      <th>8</th>\n",
       "      <td>132143192</td>\n",
       "      <td>750</td>\n",
       "      <td>1</td>\n",
       "    </tr>\n",
       "    <tr>\n",
       "      <th>9</th>\n",
       "      <td>138252163</td>\n",
       "      <td>4580</td>\n",
       "      <td>1</td>\n",
       "    </tr>\n",
       "    <tr>\n",
       "      <th>10</th>\n",
       "      <td>148427295</td>\n",
       "      <td>65710</td>\n",
       "      <td>1</td>\n",
       "    </tr>\n",
       "    <tr>\n",
       "      <th>11</th>\n",
       "      <td>151496413</td>\n",
       "      <td>350</td>\n",
       "      <td>1</td>\n",
       "    </tr>\n",
       "    <tr>\n",
       "      <th>12</th>\n",
       "      <td>178249104</td>\n",
       "      <td>16950</td>\n",
       "      <td>1</td>\n",
       "    </tr>\n",
       "    <tr>\n",
       "      <th>13</th>\n",
       "      <td>181166394</td>\n",
       "      <td>4780</td>\n",
       "      <td>1</td>\n",
       "    </tr>\n",
       "    <tr>\n",
       "      <th>14</th>\n",
       "      <td>182753106</td>\n",
       "      <td>300</td>\n",
       "      <td>1</td>\n",
       "    </tr>\n",
       "    <tr>\n",
       "      <th>15</th>\n",
       "      <td>184835319</td>\n",
       "      <td>1190</td>\n",
       "      <td>1</td>\n",
       "    </tr>\n",
       "    <tr>\n",
       "      <th>16</th>\n",
       "      <td>187589092</td>\n",
       "      <td>17940</td>\n",
       "      <td>1</td>\n",
       "    </tr>\n",
       "    <tr>\n",
       "      <th>17</th>\n",
       "      <td>199874245</td>\n",
       "      <td>240</td>\n",
       "      <td>1</td>\n",
       "    </tr>\n",
       "    <tr>\n",
       "      <th>18</th>\n",
       "      <td>235366767</td>\n",
       "      <td>780</td>\n",
       "      <td>1</td>\n",
       "    </tr>\n",
       "    <tr>\n",
       "      <th>19</th>\n",
       "      <td>236764260</td>\n",
       "      <td>5640</td>\n",
       "      <td>1</td>\n",
       "    </tr>\n",
       "    <tr>\n",
       "      <th>20</th>\n",
       "      <td>238992583</td>\n",
       "      <td>950</td>\n",
       "      <td>1</td>\n",
       "    </tr>\n",
       "    <tr>\n",
       "      <th>21</th>\n",
       "      <td>248503091</td>\n",
       "      <td>9880</td>\n",
       "      <td>1</td>\n",
       "    </tr>\n",
       "    <tr>\n",
       "      <th>22</th>\n",
       "      <td>252987601</td>\n",
       "      <td>2540</td>\n",
       "      <td>1</td>\n",
       "    </tr>\n",
       "    <tr>\n",
       "      <th>23</th>\n",
       "      <td>274717519</td>\n",
       "      <td>3488</td>\n",
       "      <td>1</td>\n",
       "    </tr>\n",
       "    <tr>\n",
       "      <th>24</th>\n",
       "      <td>277405052</td>\n",
       "      <td>19990</td>\n",
       "      <td>1</td>\n",
       "    </tr>\n",
       "    <tr>\n",
       "      <th>25</th>\n",
       "      <td>281523083</td>\n",
       "      <td>2290</td>\n",
       "      <td>1</td>\n",
       "    </tr>\n",
       "    <tr>\n",
       "      <th>26</th>\n",
       "      <td>285030828</td>\n",
       "      <td>17990</td>\n",
       "      <td>1</td>\n",
       "    </tr>\n",
       "    <tr>\n",
       "      <th>27</th>\n",
       "      <td>295230930</td>\n",
       "      <td>13710</td>\n",
       "      <td>1</td>\n",
       "    </tr>\n",
       "    <tr>\n",
       "      <th>28</th>\n",
       "      <td>296565978</td>\n",
       "      <td>390</td>\n",
       "      <td>1</td>\n",
       "    </tr>\n",
       "    <tr>\n",
       "      <th>29</th>\n",
       "      <td>300249313</td>\n",
       "      <td>1200</td>\n",
       "      <td>1</td>\n",
       "    </tr>\n",
       "    <tr>\n",
       "      <th>30</th>\n",
       "      <td>321150727</td>\n",
       "      <td>990</td>\n",
       "      <td>1</td>\n",
       "    </tr>\n",
       "    <tr>\n",
       "      <th>31</th>\n",
       "      <td>329473477</td>\n",
       "      <td>12490</td>\n",
       "      <td>1</td>\n",
       "    </tr>\n",
       "    <tr>\n",
       "      <th>32</th>\n",
       "      <td>329726006</td>\n",
       "      <td>4188</td>\n",
       "      <td>1</td>\n",
       "    </tr>\n",
       "    <tr>\n",
       "      <th>33</th>\n",
       "      <td>343208965</td>\n",
       "      <td>1350</td>\n",
       "      <td>1</td>\n",
       "    </tr>\n",
       "    <tr>\n",
       "      <th>34</th>\n",
       "      <td>352377175</td>\n",
       "      <td>390</td>\n",
       "      <td>1</td>\n",
       "    </tr>\n",
       "    <tr>\n",
       "      <th>35</th>\n",
       "      <td>358944393</td>\n",
       "      <td>42740</td>\n",
       "      <td>1</td>\n",
       "    </tr>\n",
       "    <tr>\n",
       "      <th>36</th>\n",
       "      <td>366673373</td>\n",
       "      <td>1570</td>\n",
       "      <td>2</td>\n",
       "    </tr>\n",
       "    <tr>\n",
       "      <th>37</th>\n",
       "      <td>370388673</td>\n",
       "      <td>3190</td>\n",
       "      <td>1</td>\n",
       "    </tr>\n",
       "    <tr>\n",
       "      <th>38</th>\n",
       "      <td>381340408</td>\n",
       "      <td>2995</td>\n",
       "      <td>1</td>\n",
       "    </tr>\n",
       "    <tr>\n",
       "      <th>39</th>\n",
       "      <td>382846391</td>\n",
       "      <td>43690</td>\n",
       "      <td>1</td>\n",
       "    </tr>\n",
       "    <tr>\n",
       "      <th>40</th>\n",
       "      <td>387170777</td>\n",
       "      <td>12562</td>\n",
       "      <td>1</td>\n",
       "    </tr>\n",
       "    <tr>\n",
       "      <th>41</th>\n",
       "      <td>399216493</td>\n",
       "      <td>1640</td>\n",
       "      <td>1</td>\n",
       "    </tr>\n",
       "    <tr>\n",
       "      <th>42</th>\n",
       "      <td>399408949</td>\n",
       "      <td>11490</td>\n",
       "      <td>1</td>\n",
       "    </tr>\n",
       "    <tr>\n",
       "      <th>43</th>\n",
       "      <td>417213830</td>\n",
       "      <td>6288</td>\n",
       "      <td>1</td>\n",
       "    </tr>\n",
       "    <tr>\n",
       "      <th>44</th>\n",
       "      <td>430948481</td>\n",
       "      <td>550</td>\n",
       "      <td>1</td>\n",
       "    </tr>\n",
       "    <tr>\n",
       "      <th>45</th>\n",
       "      <td>442260868</td>\n",
       "      <td>12990</td>\n",
       "      <td>1</td>\n",
       "    </tr>\n",
       "    <tr>\n",
       "      <th>46</th>\n",
       "      <td>467022501</td>\n",
       "      <td>1100</td>\n",
       "      <td>1</td>\n",
       "    </tr>\n",
       "    <tr>\n",
       "      <th>47</th>\n",
       "      <td>467975735</td>\n",
       "      <td>160</td>\n",
       "      <td>1</td>\n",
       "    </tr>\n",
       "    <tr>\n",
       "      <th>48</th>\n",
       "      <td>492739583</td>\n",
       "      <td>750</td>\n",
       "      <td>1</td>\n",
       "    </tr>\n",
       "    <tr>\n",
       "      <th>49</th>\n",
       "      <td>495712671</td>\n",
       "      <td>1790</td>\n",
       "      <td>1</td>\n",
       "    </tr>\n",
       "    <tr>\n",
       "      <th>50</th>\n",
       "      <td>517094627</td>\n",
       "      <td>390</td>\n",
       "      <td>1</td>\n",
       "    </tr>\n",
       "    <tr>\n",
       "      <th>51</th>\n",
       "      <td>537599508</td>\n",
       "      <td>13769</td>\n",
       "      <td>1</td>\n",
       "    </tr>\n",
       "    <tr>\n",
       "      <th>52</th>\n",
       "      <td>551106609</td>\n",
       "      <td>9800</td>\n",
       "      <td>1</td>\n",
       "    </tr>\n",
       "    <tr>\n",
       "      <th>53</th>\n",
       "      <td>572335325</td>\n",
       "      <td>3760</td>\n",
       "      <td>1</td>\n",
       "    </tr>\n",
       "    <tr>\n",
       "      <th>54</th>\n",
       "      <td>573423106</td>\n",
       "      <td>10550</td>\n",
       "      <td>1</td>\n",
       "    </tr>\n",
       "    <tr>\n",
       "      <th>55</th>\n",
       "      <td>583902904</td>\n",
       "      <td>2290</td>\n",
       "      <td>1</td>\n",
       "    </tr>\n",
       "    <tr>\n",
       "      <th>56</th>\n",
       "      <td>589808731</td>\n",
       "      <td>390</td>\n",
       "      <td>1</td>\n",
       "    </tr>\n",
       "    <tr>\n",
       "      <th>57</th>\n",
       "      <td>600964629</td>\n",
       "      <td>840</td>\n",
       "      <td>1</td>\n",
       "    </tr>\n",
       "    <tr>\n",
       "      <th>58</th>\n",
       "      <td>611059232</td>\n",
       "      <td>29150</td>\n",
       "      <td>3</td>\n",
       "    </tr>\n",
       "    <tr>\n",
       "      <th>59</th>\n",
       "      <td>612505725</td>\n",
       "      <td>987</td>\n",
       "      <td>1</td>\n",
       "    </tr>\n",
       "    <tr>\n",
       "      <th>60</th>\n",
       "      <td>622980798</td>\n",
       "      <td>2190</td>\n",
       "      <td>1</td>\n",
       "    </tr>\n",
       "    <tr>\n",
       "      <th>61</th>\n",
       "      <td>627176112</td>\n",
       "      <td>6990</td>\n",
       "      <td>1</td>\n",
       "    </tr>\n",
       "    <tr>\n",
       "      <th>62</th>\n",
       "      <td>635956745</td>\n",
       "      <td>11250</td>\n",
       "      <td>1</td>\n",
       "    </tr>\n",
       "    <tr>\n",
       "      <th>63</th>\n",
       "      <td>645425477</td>\n",
       "      <td>17990</td>\n",
       "      <td>1</td>\n",
       "    </tr>\n",
       "    <tr>\n",
       "      <th>64</th>\n",
       "      <td>678354126</td>\n",
       "      <td>7209</td>\n",
       "      <td>2</td>\n",
       "    </tr>\n",
       "    <tr>\n",
       "      <th>65</th>\n",
       "      <td>705680638</td>\n",
       "      <td>1149</td>\n",
       "      <td>1</td>\n",
       "    </tr>\n",
       "    <tr>\n",
       "      <th>66</th>\n",
       "      <td>721509856</td>\n",
       "      <td>190</td>\n",
       "      <td>1</td>\n",
       "    </tr>\n",
       "    <tr>\n",
       "      <th>67</th>\n",
       "      <td>732900740</td>\n",
       "      <td>400</td>\n",
       "      <td>1</td>\n",
       "    </tr>\n",
       "    <tr>\n",
       "      <th>68</th>\n",
       "      <td>737242975</td>\n",
       "      <td>15850</td>\n",
       "      <td>1</td>\n",
       "    </tr>\n",
       "    <tr>\n",
       "      <th>69</th>\n",
       "      <td>749770631</td>\n",
       "      <td>4480</td>\n",
       "      <td>1</td>\n",
       "    </tr>\n",
       "    <tr>\n",
       "      <th>70</th>\n",
       "      <td>749837663</td>\n",
       "      <td>14970</td>\n",
       "      <td>1</td>\n",
       "    </tr>\n",
       "    <tr>\n",
       "      <th>71</th>\n",
       "      <td>755881835</td>\n",
       "      <td>1253</td>\n",
       "      <td>1</td>\n",
       "    </tr>\n",
       "    <tr>\n",
       "      <th>72</th>\n",
       "      <td>759473111</td>\n",
       "      <td>72000</td>\n",
       "      <td>2</td>\n",
       "    </tr>\n",
       "    <tr>\n",
       "      <th>73</th>\n",
       "      <td>787824685</td>\n",
       "      <td>32350</td>\n",
       "      <td>1</td>\n",
       "    </tr>\n",
       "    <tr>\n",
       "      <th>74</th>\n",
       "      <td>789265206</td>\n",
       "      <td>2590</td>\n",
       "      <td>1</td>\n",
       "    </tr>\n",
       "    <tr>\n",
       "      <th>75</th>\n",
       "      <td>793112967</td>\n",
       "      <td>18010</td>\n",
       "      <td>1</td>\n",
       "    </tr>\n",
       "    <tr>\n",
       "      <th>76</th>\n",
       "      <td>803709563</td>\n",
       "      <td>11985</td>\n",
       "      <td>1</td>\n",
       "    </tr>\n",
       "    <tr>\n",
       "      <th>77</th>\n",
       "      <td>821846484</td>\n",
       "      <td>1630</td>\n",
       "      <td>1</td>\n",
       "    </tr>\n",
       "    <tr>\n",
       "      <th>78</th>\n",
       "      <td>834683205</td>\n",
       "      <td>22785</td>\n",
       "      <td>1</td>\n",
       "    </tr>\n",
       "    <tr>\n",
       "      <th>79</th>\n",
       "      <td>858552794</td>\n",
       "      <td>1398</td>\n",
       "      <td>1</td>\n",
       "    </tr>\n",
       "    <tr>\n",
       "      <th>80</th>\n",
       "      <td>865916592</td>\n",
       "      <td>990</td>\n",
       "      <td>1</td>\n",
       "    </tr>\n",
       "    <tr>\n",
       "      <th>81</th>\n",
       "      <td>866305447</td>\n",
       "      <td>4008</td>\n",
       "      <td>1</td>\n",
       "    </tr>\n",
       "    <tr>\n",
       "      <th>82</th>\n",
       "      <td>869044563</td>\n",
       "      <td>17990</td>\n",
       "      <td>1</td>\n",
       "    </tr>\n",
       "    <tr>\n",
       "      <th>83</th>\n",
       "      <td>876081193</td>\n",
       "      <td>3340</td>\n",
       "      <td>1</td>\n",
       "    </tr>\n",
       "    <tr>\n",
       "      <th>84</th>\n",
       "      <td>879864040</td>\n",
       "      <td>4008</td>\n",
       "      <td>1</td>\n",
       "    </tr>\n",
       "    <tr>\n",
       "      <th>85</th>\n",
       "      <td>887812064</td>\n",
       "      <td>170</td>\n",
       "      <td>1</td>\n",
       "    </tr>\n",
       "    <tr>\n",
       "      <th>86</th>\n",
       "      <td>887908475</td>\n",
       "      <td>60450</td>\n",
       "      <td>1</td>\n",
       "    </tr>\n",
       "    <tr>\n",
       "      <th>87</th>\n",
       "      <td>888420622</td>\n",
       "      <td>15416</td>\n",
       "      <td>1</td>\n",
       "    </tr>\n",
       "    <tr>\n",
       "      <th>88</th>\n",
       "      <td>895233158</td>\n",
       "      <td>380</td>\n",
       "      <td>1</td>\n",
       "    </tr>\n",
       "    <tr>\n",
       "      <th>89</th>\n",
       "      <td>906523562</td>\n",
       "      <td>3190</td>\n",
       "      <td>1</td>\n",
       "    </tr>\n",
       "    <tr>\n",
       "      <th>90</th>\n",
       "      <td>906754117</td>\n",
       "      <td>3780</td>\n",
       "      <td>1</td>\n",
       "    </tr>\n",
       "    <tr>\n",
       "      <th>91</th>\n",
       "      <td>907970812</td>\n",
       "      <td>2030</td>\n",
       "      <td>1</td>\n",
       "    </tr>\n",
       "    <tr>\n",
       "      <th>92</th>\n",
       "      <td>910107897</td>\n",
       "      <td>690</td>\n",
       "      <td>1</td>\n",
       "    </tr>\n",
       "    <tr>\n",
       "      <th>93</th>\n",
       "      <td>926057494</td>\n",
       "      <td>300</td>\n",
       "      <td>1</td>\n",
       "    </tr>\n",
       "    <tr>\n",
       "      <th>94</th>\n",
       "      <td>947532470</td>\n",
       "      <td>5280</td>\n",
       "      <td>1</td>\n",
       "    </tr>\n",
       "    <tr>\n",
       "      <th>95</th>\n",
       "      <td>949750571</td>\n",
       "      <td>590</td>\n",
       "      <td>1</td>\n",
       "    </tr>\n",
       "    <tr>\n",
       "      <th>96</th>\n",
       "      <td>950626008</td>\n",
       "      <td>45880</td>\n",
       "      <td>1</td>\n",
       "    </tr>\n",
       "    <tr>\n",
       "      <th>97</th>\n",
       "      <td>960782649</td>\n",
       "      <td>18990</td>\n",
       "      <td>1</td>\n",
       "    </tr>\n",
       "    <tr>\n",
       "      <th>98</th>\n",
       "      <td>980818195</td>\n",
       "      <td>7110</td>\n",
       "      <td>1</td>\n",
       "    </tr>\n",
       "    <tr>\n",
       "      <th>99</th>\n",
       "      <td>982374313</td>\n",
       "      <td>420</td>\n",
       "      <td>1</td>\n",
       "    </tr>\n",
       "    <tr>\n",
       "      <th>100</th>\n",
       "      <td>983496389</td>\n",
       "      <td>165</td>\n",
       "      <td>1</td>\n",
       "    </tr>\n",
       "    <tr>\n",
       "      <th>101</th>\n",
       "      <td>991436984</td>\n",
       "      <td>1790</td>\n",
       "      <td>1</td>\n",
       "    </tr>\n",
       "    <tr>\n",
       "      <th>102</th>\n",
       "      <td>994339272</td>\n",
       "      <td>5770</td>\n",
       "      <td>1</td>\n",
       "    </tr>\n",
       "    <tr>\n",
       "      <th>103</th>\n",
       "      <td>996668426</td>\n",
       "      <td>2540</td>\n",
       "      <td>1</td>\n",
       "    </tr>\n",
       "    <tr>\n",
       "      <th>104</th>\n",
       "      <td>997945223</td>\n",
       "      <td>9300</td>\n",
       "      <td>1</td>\n",
       "    </tr>\n",
       "    <tr>\n",
       "      <th>105</th>\n",
       "      <td>1002877908</td>\n",
       "      <td>830</td>\n",
       "      <td>1</td>\n",
       "    </tr>\n",
       "    <tr>\n",
       "      <th>106</th>\n",
       "      <td>1009464434</td>\n",
       "      <td>11440</td>\n",
       "      <td>1</td>\n",
       "    </tr>\n",
       "    <tr>\n",
       "      <th>107</th>\n",
       "      <td>1011231197</td>\n",
       "      <td>3190</td>\n",
       "      <td>1</td>\n",
       "    </tr>\n",
       "    <tr>\n",
       "      <th>108</th>\n",
       "      <td>1022829655</td>\n",
       "      <td>112</td>\n",
       "      <td>1</td>\n",
       "    </tr>\n",
       "    <tr>\n",
       "      <th>109</th>\n",
       "      <td>1028756448</td>\n",
       "      <td>290</td>\n",
       "      <td>1</td>\n",
       "    </tr>\n",
       "    <tr>\n",
       "      <th>110</th>\n",
       "      <td>1046398313</td>\n",
       "      <td>15072</td>\n",
       "      <td>1</td>\n",
       "    </tr>\n",
       "    <tr>\n",
       "      <th>111</th>\n",
       "      <td>1049627981</td>\n",
       "      <td>10550</td>\n",
       "      <td>1</td>\n",
       "    </tr>\n",
       "    <tr>\n",
       "      <th>112</th>\n",
       "      <td>1052142804</td>\n",
       "      <td>890</td>\n",
       "      <td>1</td>\n",
       "    </tr>\n",
       "    <tr>\n",
       "      <th>113</th>\n",
       "      <td>1064078146</td>\n",
       "      <td>1190</td>\n",
       "      <td>1</td>\n",
       "    </tr>\n",
       "    <tr>\n",
       "      <th>114</th>\n",
       "      <td>1069983096</td>\n",
       "      <td>3826</td>\n",
       "      <td>1</td>\n",
       "    </tr>\n",
       "    <tr>\n",
       "      <th>115</th>\n",
       "      <td>1070130208</td>\n",
       "      <td>3210</td>\n",
       "      <td>1</td>\n",
       "    </tr>\n",
       "    <tr>\n",
       "      <th>116</th>\n",
       "      <td>1110543778</td>\n",
       "      <td>2080</td>\n",
       "      <td>1</td>\n",
       "    </tr>\n",
       "    <tr>\n",
       "      <th>117</th>\n",
       "      <td>1122598516</td>\n",
       "      <td>400</td>\n",
       "      <td>1</td>\n",
       "    </tr>\n",
       "    <tr>\n",
       "      <th>118</th>\n",
       "      <td>1129369369</td>\n",
       "      <td>1840</td>\n",
       "      <td>1</td>\n",
       "    </tr>\n",
       "    <tr>\n",
       "      <th>119</th>\n",
       "      <td>1143609305</td>\n",
       "      <td>2750</td>\n",
       "      <td>1</td>\n",
       "    </tr>\n",
       "    <tr>\n",
       "      <th>120</th>\n",
       "      <td>1148665946</td>\n",
       "      <td>2090</td>\n",
       "      <td>1</td>\n",
       "    </tr>\n",
       "    <tr>\n",
       "      <th>121</th>\n",
       "      <td>1154728414</td>\n",
       "      <td>1290</td>\n",
       "      <td>1</td>\n",
       "    </tr>\n",
       "    <tr>\n",
       "      <th>122</th>\n",
       "      <td>1159489312</td>\n",
       "      <td>8250</td>\n",
       "      <td>1</td>\n",
       "    </tr>\n",
       "    <tr>\n",
       "      <th>123</th>\n",
       "      <td>1164614297</td>\n",
       "      <td>66350</td>\n",
       "      <td>1</td>\n",
       "    </tr>\n",
       "    <tr>\n",
       "      <th>124</th>\n",
       "      <td>1174537443</td>\n",
       "      <td>390</td>\n",
       "      <td>1</td>\n",
       "    </tr>\n",
       "    <tr>\n",
       "      <th>125</th>\n",
       "      <td>1178217086</td>\n",
       "      <td>3354</td>\n",
       "      <td>1</td>\n",
       "    </tr>\n",
       "    <tr>\n",
       "      <th>126</th>\n",
       "      <td>1184607010</td>\n",
       "      <td>7390</td>\n",
       "      <td>1</td>\n",
       "    </tr>\n",
       "    <tr>\n",
       "      <th>127</th>\n",
       "      <td>1211585711</td>\n",
       "      <td>28490</td>\n",
       "      <td>1</td>\n",
       "    </tr>\n",
       "    <tr>\n",
       "      <th>128</th>\n",
       "      <td>1212176445</td>\n",
       "      <td>1780</td>\n",
       "      <td>1</td>\n",
       "    </tr>\n",
       "    <tr>\n",
       "      <th>129</th>\n",
       "      <td>1219079053</td>\n",
       "      <td>4970</td>\n",
       "      <td>1</td>\n",
       "    </tr>\n",
       "    <tr>\n",
       "      <th>130</th>\n",
       "      <td>1224575308</td>\n",
       "      <td>590</td>\n",
       "      <td>1</td>\n",
       "    </tr>\n",
       "    <tr>\n",
       "      <th>131</th>\n",
       "      <td>1224903511</td>\n",
       "      <td>265</td>\n",
       "      <td>1</td>\n",
       "    </tr>\n",
       "    <tr>\n",
       "      <th>132</th>\n",
       "      <td>1229532929</td>\n",
       "      <td>6990</td>\n",
       "      <td>1</td>\n",
       "    </tr>\n",
       "    <tr>\n",
       "      <th>133</th>\n",
       "      <td>1229866403</td>\n",
       "      <td>1940</td>\n",
       "      <td>1</td>\n",
       "    </tr>\n",
       "    <tr>\n",
       "      <th>134</th>\n",
       "      <td>1247895435</td>\n",
       "      <td>390</td>\n",
       "      <td>1</td>\n",
       "    </tr>\n",
       "    <tr>\n",
       "      <th>135</th>\n",
       "      <td>1255412427</td>\n",
       "      <td>3170</td>\n",
       "      <td>1</td>\n",
       "    </tr>\n",
       "    <tr>\n",
       "      <th>136</th>\n",
       "      <td>1294108251</td>\n",
       "      <td>3000</td>\n",
       "      <td>1</td>\n",
       "    </tr>\n",
       "    <tr>\n",
       "      <th>137</th>\n",
       "      <td>1306302251</td>\n",
       "      <td>1498</td>\n",
       "      <td>1</td>\n",
       "    </tr>\n",
       "    <tr>\n",
       "      <th>138</th>\n",
       "      <td>1307669133</td>\n",
       "      <td>92550</td>\n",
       "      <td>1</td>\n",
       "    </tr>\n",
       "    <tr>\n",
       "      <th>139</th>\n",
       "      <td>1349865791</td>\n",
       "      <td>2490</td>\n",
       "      <td>1</td>\n",
       "    </tr>\n",
       "    <tr>\n",
       "      <th>140</th>\n",
       "      <td>1351898488</td>\n",
       "      <td>4600</td>\n",
       "      <td>1</td>\n",
       "    </tr>\n",
       "    <tr>\n",
       "      <th>141</th>\n",
       "      <td>1357170471</td>\n",
       "      <td>31680</td>\n",
       "      <td>1</td>\n",
       "    </tr>\n",
       "    <tr>\n",
       "      <th>142</th>\n",
       "      <td>1367935136</td>\n",
       "      <td>35485</td>\n",
       "      <td>1</td>\n",
       "    </tr>\n",
       "    <tr>\n",
       "      <th>143</th>\n",
       "      <td>1378148355</td>\n",
       "      <td>1060</td>\n",
       "      <td>1</td>\n",
       "    </tr>\n",
       "    <tr>\n",
       "      <th>144</th>\n",
       "      <td>1388079388</td>\n",
       "      <td>420</td>\n",
       "      <td>1</td>\n",
       "    </tr>\n",
       "    <tr>\n",
       "      <th>145</th>\n",
       "      <td>1398592185</td>\n",
       "      <td>390</td>\n",
       "      <td>1</td>\n",
       "    </tr>\n",
       "    <tr>\n",
       "      <th>146</th>\n",
       "      <td>1402025725</td>\n",
       "      <td>5555</td>\n",
       "      <td>1</td>\n",
       "    </tr>\n",
       "    <tr>\n",
       "      <th>147</th>\n",
       "      <td>1414758703</td>\n",
       "      <td>6677</td>\n",
       "      <td>1</td>\n",
       "    </tr>\n",
       "    <tr>\n",
       "      <th>148</th>\n",
       "      <td>1422476412</td>\n",
       "      <td>6180</td>\n",
       "      <td>1</td>\n",
       "    </tr>\n",
       "    <tr>\n",
       "      <th>149</th>\n",
       "      <td>1422773200</td>\n",
       "      <td>700</td>\n",
       "      <td>1</td>\n",
       "    </tr>\n",
       "    <tr>\n",
       "      <th>150</th>\n",
       "      <td>1426761187</td>\n",
       "      <td>11688</td>\n",
       "      <td>1</td>\n",
       "    </tr>\n",
       "    <tr>\n",
       "      <th>151</th>\n",
       "      <td>1430210707</td>\n",
       "      <td>1139</td>\n",
       "      <td>1</td>\n",
       "    </tr>\n",
       "    <tr>\n",
       "      <th>152</th>\n",
       "      <td>1452540367</td>\n",
       "      <td>33050</td>\n",
       "      <td>1</td>\n",
       "    </tr>\n",
       "    <tr>\n",
       "      <th>153</th>\n",
       "      <td>1460891116</td>\n",
       "      <td>5365</td>\n",
       "      <td>1</td>\n",
       "    </tr>\n",
       "    <tr>\n",
       "      <th>154</th>\n",
       "      <td>1471496742</td>\n",
       "      <td>2140</td>\n",
       "      <td>1</td>\n",
       "    </tr>\n",
       "    <tr>\n",
       "      <th>155</th>\n",
       "      <td>1476256851</td>\n",
       "      <td>1530</td>\n",
       "      <td>1</td>\n",
       "    </tr>\n",
       "    <tr>\n",
       "      <th>156</th>\n",
       "      <td>1484903144</td>\n",
       "      <td>4120</td>\n",
       "      <td>1</td>\n",
       "    </tr>\n",
       "    <tr>\n",
       "      <th>157</th>\n",
       "      <td>1485964287</td>\n",
       "      <td>3220</td>\n",
       "      <td>1</td>\n",
       "    </tr>\n",
       "    <tr>\n",
       "      <th>158</th>\n",
       "      <td>1495112755</td>\n",
       "      <td>3739</td>\n",
       "      <td>1</td>\n",
       "    </tr>\n",
       "    <tr>\n",
       "      <th>159</th>\n",
       "      <td>1500448895</td>\n",
       "      <td>2646</td>\n",
       "      <td>1</td>\n",
       "    </tr>\n",
       "    <tr>\n",
       "      <th>160</th>\n",
       "      <td>1507665514</td>\n",
       "      <td>1600</td>\n",
       "      <td>1</td>\n",
       "    </tr>\n",
       "    <tr>\n",
       "      <th>161</th>\n",
       "      <td>1508900659</td>\n",
       "      <td>690</td>\n",
       "      <td>1</td>\n",
       "    </tr>\n",
       "    <tr>\n",
       "      <th>162</th>\n",
       "      <td>1539796403</td>\n",
       "      <td>2355</td>\n",
       "      <td>1</td>\n",
       "    </tr>\n",
       "    <tr>\n",
       "      <th>163</th>\n",
       "      <td>1544467991</td>\n",
       "      <td>1040</td>\n",
       "      <td>1</td>\n",
       "    </tr>\n",
       "    <tr>\n",
       "      <th>164</th>\n",
       "      <td>1555770826</td>\n",
       "      <td>1758</td>\n",
       "      <td>1</td>\n",
       "    </tr>\n",
       "    <tr>\n",
       "      <th>165</th>\n",
       "      <td>1565034404</td>\n",
       "      <td>10980</td>\n",
       "      <td>1</td>\n",
       "    </tr>\n",
       "    <tr>\n",
       "      <th>166</th>\n",
       "      <td>1576289054</td>\n",
       "      <td>15450</td>\n",
       "      <td>1</td>\n",
       "    </tr>\n",
       "    <tr>\n",
       "      <th>167</th>\n",
       "      <td>1581167209</td>\n",
       "      <td>1780</td>\n",
       "      <td>1</td>\n",
       "    </tr>\n",
       "    <tr>\n",
       "      <th>168</th>\n",
       "      <td>1596446524</td>\n",
       "      <td>2070</td>\n",
       "      <td>1</td>\n",
       "    </tr>\n",
       "    <tr>\n",
       "      <th>169</th>\n",
       "      <td>1604176421</td>\n",
       "      <td>5000</td>\n",
       "      <td>1</td>\n",
       "    </tr>\n",
       "    <tr>\n",
       "      <th>170</th>\n",
       "      <td>1604853044</td>\n",
       "      <td>28060</td>\n",
       "      <td>1</td>\n",
       "    </tr>\n",
       "    <tr>\n",
       "      <th>171</th>\n",
       "      <td>1617417821</td>\n",
       "      <td>9580</td>\n",
       "      <td>2</td>\n",
       "    </tr>\n",
       "    <tr>\n",
       "      <th>172</th>\n",
       "      <td>1658204305</td>\n",
       "      <td>1290</td>\n",
       "      <td>1</td>\n",
       "    </tr>\n",
       "    <tr>\n",
       "      <th>173</th>\n",
       "      <td>1677041464</td>\n",
       "      <td>359</td>\n",
       "      <td>1</td>\n",
       "    </tr>\n",
       "    <tr>\n",
       "      <th>174</th>\n",
       "      <td>1687231984</td>\n",
       "      <td>500</td>\n",
       "      <td>1</td>\n",
       "    </tr>\n",
       "    <tr>\n",
       "      <th>175</th>\n",
       "      <td>1698039057</td>\n",
       "      <td>9934</td>\n",
       "      <td>1</td>\n",
       "    </tr>\n",
       "    <tr>\n",
       "      <th>176</th>\n",
       "      <td>1722579998</td>\n",
       "      <td>8390</td>\n",
       "      <td>1</td>\n",
       "    </tr>\n",
       "    <tr>\n",
       "      <th>177</th>\n",
       "      <td>1732269954</td>\n",
       "      <td>760</td>\n",
       "      <td>1</td>\n",
       "    </tr>\n",
       "    <tr>\n",
       "      <th>178</th>\n",
       "      <td>1737494355</td>\n",
       "      <td>1940</td>\n",
       "      <td>1</td>\n",
       "    </tr>\n",
       "    <tr>\n",
       "      <th>179</th>\n",
       "      <td>1744796792</td>\n",
       "      <td>3140</td>\n",
       "      <td>1</td>\n",
       "    </tr>\n",
       "    <tr>\n",
       "      <th>180</th>\n",
       "      <td>1772171838</td>\n",
       "      <td>7850</td>\n",
       "      <td>2</td>\n",
       "    </tr>\n",
       "    <tr>\n",
       "      <th>181</th>\n",
       "      <td>1781647073</td>\n",
       "      <td>1329</td>\n",
       "      <td>1</td>\n",
       "    </tr>\n",
       "    <tr>\n",
       "      <th>182</th>\n",
       "      <td>1823887377</td>\n",
       "      <td>1170</td>\n",
       "      <td>1</td>\n",
       "    </tr>\n",
       "    <tr>\n",
       "      <th>183</th>\n",
       "      <td>1830791924</td>\n",
       "      <td>2350</td>\n",
       "      <td>1</td>\n",
       "    </tr>\n",
       "    <tr>\n",
       "      <th>184</th>\n",
       "      <td>1831140265</td>\n",
       "      <td>26550</td>\n",
       "      <td>1</td>\n",
       "    </tr>\n",
       "    <tr>\n",
       "      <th>185</th>\n",
       "      <td>1831375989</td>\n",
       "      <td>2235</td>\n",
       "      <td>1</td>\n",
       "    </tr>\n",
       "    <tr>\n",
       "      <th>186</th>\n",
       "      <td>1831956319</td>\n",
       "      <td>90</td>\n",
       "      <td>1</td>\n",
       "    </tr>\n",
       "    <tr>\n",
       "      <th>187</th>\n",
       "      <td>1832798996</td>\n",
       "      <td>13990</td>\n",
       "      <td>1</td>\n",
       "    </tr>\n",
       "    <tr>\n",
       "      <th>188</th>\n",
       "      <td>1850778479</td>\n",
       "      <td>390</td>\n",
       "      <td>1</td>\n",
       "    </tr>\n",
       "    <tr>\n",
       "      <th>189</th>\n",
       "      <td>1859207151</td>\n",
       "      <td>6645</td>\n",
       "      <td>1</td>\n",
       "    </tr>\n",
       "    <tr>\n",
       "      <th>190</th>\n",
       "      <td>1869662856</td>\n",
       "      <td>4370</td>\n",
       "      <td>1</td>\n",
       "    </tr>\n",
       "    <tr>\n",
       "      <th>191</th>\n",
       "      <td>1890645762</td>\n",
       "      <td>11050</td>\n",
       "      <td>1</td>\n",
       "    </tr>\n",
       "    <tr>\n",
       "      <th>192</th>\n",
       "      <td>1900893596</td>\n",
       "      <td>100</td>\n",
       "      <td>1</td>\n",
       "    </tr>\n",
       "    <tr>\n",
       "      <th>193</th>\n",
       "      <td>1909539331</td>\n",
       "      <td>3430</td>\n",
       "      <td>1</td>\n",
       "    </tr>\n",
       "    <tr>\n",
       "      <th>194</th>\n",
       "      <td>1917506191</td>\n",
       "      <td>9080</td>\n",
       "      <td>1</td>\n",
       "    </tr>\n",
       "    <tr>\n",
       "      <th>195</th>\n",
       "      <td>1935367901</td>\n",
       "      <td>1000</td>\n",
       "      <td>1</td>\n",
       "    </tr>\n",
       "    <tr>\n",
       "      <th>196</th>\n",
       "      <td>1937307986</td>\n",
       "      <td>9448</td>\n",
       "      <td>1</td>\n",
       "    </tr>\n",
       "    <tr>\n",
       "      <th>197</th>\n",
       "      <td>1938138695</td>\n",
       "      <td>12888</td>\n",
       "      <td>1</td>\n",
       "    </tr>\n",
       "    <tr>\n",
       "      <th>198</th>\n",
       "      <td>1948974149</td>\n",
       "      <td>3180</td>\n",
       "      <td>1</td>\n",
       "    </tr>\n",
       "    <tr>\n",
       "      <th>199</th>\n",
       "      <td>1957949546</td>\n",
       "      <td>16770</td>\n",
       "      <td>1</td>\n",
       "    </tr>\n",
       "    <tr>\n",
       "      <th>200</th>\n",
       "      <td>1979878245</td>\n",
       "      <td>4790</td>\n",
       "      <td>1</td>\n",
       "    </tr>\n",
       "    <tr>\n",
       "      <th>201</th>\n",
       "      <td>1981624632</td>\n",
       "      <td>6445</td>\n",
       "      <td>1</td>\n",
       "    </tr>\n",
       "    <tr>\n",
       "      <th>202</th>\n",
       "      <td>2016864191</td>\n",
       "      <td>420</td>\n",
       "      <td>1</td>\n",
       "    </tr>\n",
       "    <tr>\n",
       "      <th>203</th>\n",
       "      <td>2041539477</td>\n",
       "      <td>8099</td>\n",
       "      <td>1</td>\n",
       "    </tr>\n",
       "    <tr>\n",
       "      <th>204</th>\n",
       "      <td>2046011647</td>\n",
       "      <td>1190</td>\n",
       "      <td>1</td>\n",
       "    </tr>\n",
       "    <tr>\n",
       "      <th>205</th>\n",
       "      <td>2054014923</td>\n",
       "      <td>5249</td>\n",
       "      <td>1</td>\n",
       "    </tr>\n",
       "    <tr>\n",
       "      <th>206</th>\n",
       "      <td>2065143173</td>\n",
       "      <td>350</td>\n",
       "      <td>1</td>\n",
       "    </tr>\n",
       "    <tr>\n",
       "      <th>207</th>\n",
       "      <td>2067508917</td>\n",
       "      <td>1310</td>\n",
       "      <td>1</td>\n",
       "    </tr>\n",
       "    <tr>\n",
       "      <th>208</th>\n",
       "      <td>2069923923</td>\n",
       "      <td>1090</td>\n",
       "      <td>1</td>\n",
       "    </tr>\n",
       "    <tr>\n",
       "      <th>209</th>\n",
       "      <td>2082081961</td>\n",
       "      <td>1188</td>\n",
       "      <td>1</td>\n",
       "    </tr>\n",
       "    <tr>\n",
       "      <th>210</th>\n",
       "      <td>2084876480</td>\n",
       "      <td>14990</td>\n",
       "      <td>1</td>\n",
       "    </tr>\n",
       "    <tr>\n",
       "      <th>211</th>\n",
       "      <td>2108163459</td>\n",
       "      <td>1850</td>\n",
       "      <td>3</td>\n",
       "    </tr>\n",
       "    <tr>\n",
       "      <th>212</th>\n",
       "      <td>2114962460</td>\n",
       "      <td>3990</td>\n",
       "      <td>1</td>\n",
       "    </tr>\n",
       "    <tr>\n",
       "      <th>213</th>\n",
       "      <td>2115669947</td>\n",
       "      <td>7500</td>\n",
       "      <td>1</td>\n",
       "    </tr>\n",
       "    <tr>\n",
       "      <th>214</th>\n",
       "      <td>2125253600</td>\n",
       "      <td>890</td>\n",
       "      <td>1</td>\n",
       "    </tr>\n",
       "    <tr>\n",
       "      <th>215</th>\n",
       "      <td>2134820861</td>\n",
       "      <td>18893</td>\n",
       "      <td>1</td>\n",
       "    </tr>\n",
       "    <tr>\n",
       "      <th>216</th>\n",
       "      <td>2138044356</td>\n",
       "      <td>990</td>\n",
       "      <td>1</td>\n",
       "    </tr>\n",
       "    <tr>\n",
       "      <th>217</th>\n",
       "      <td>2147998719</td>\n",
       "      <td>2210</td>\n",
       "      <td>1</td>\n",
       "    </tr>\n",
       "    <tr>\n",
       "      <th>218</th>\n",
       "      <td>2152549680</td>\n",
       "      <td>3404</td>\n",
       "      <td>1</td>\n",
       "    </tr>\n",
       "    <tr>\n",
       "      <th>219</th>\n",
       "      <td>2153871238</td>\n",
       "      <td>2490</td>\n",
       "      <td>1</td>\n",
       "    </tr>\n",
       "    <tr>\n",
       "      <th>220</th>\n",
       "      <td>2158146269</td>\n",
       "      <td>4283</td>\n",
       "      <td>1</td>\n",
       "    </tr>\n",
       "    <tr>\n",
       "      <th>221</th>\n",
       "      <td>2162698752</td>\n",
       "      <td>16990</td>\n",
       "      <td>1</td>\n",
       "    </tr>\n",
       "    <tr>\n",
       "      <th>222</th>\n",
       "      <td>2168467118</td>\n",
       "      <td>2970</td>\n",
       "      <td>1</td>\n",
       "    </tr>\n",
       "    <tr>\n",
       "      <th>223</th>\n",
       "      <td>2188683977</td>\n",
       "      <td>5719</td>\n",
       "      <td>1</td>\n",
       "    </tr>\n",
       "    <tr>\n",
       "      <th>224</th>\n",
       "      <td>2217984702</td>\n",
       "      <td>790</td>\n",
       "      <td>1</td>\n",
       "    </tr>\n",
       "    <tr>\n",
       "      <th>225</th>\n",
       "      <td>2219162270</td>\n",
       "      <td>6060</td>\n",
       "      <td>1</td>\n",
       "    </tr>\n",
       "    <tr>\n",
       "      <th>226</th>\n",
       "      <td>2231749745</td>\n",
       "      <td>540</td>\n",
       "      <td>1</td>\n",
       "    </tr>\n",
       "    <tr>\n",
       "      <th>227</th>\n",
       "      <td>2232111114</td>\n",
       "      <td>32839</td>\n",
       "      <td>2</td>\n",
       "    </tr>\n",
       "    <tr>\n",
       "      <th>228</th>\n",
       "      <td>2248249182</td>\n",
       "      <td>1850</td>\n",
       "      <td>1</td>\n",
       "    </tr>\n",
       "    <tr>\n",
       "      <th>229</th>\n",
       "      <td>2254456485</td>\n",
       "      <td>53904</td>\n",
       "      <td>1</td>\n",
       "    </tr>\n",
       "    <tr>\n",
       "      <th>230</th>\n",
       "      <td>2254586615</td>\n",
       "      <td>53904</td>\n",
       "      <td>1</td>\n",
       "    </tr>\n",
       "    <tr>\n",
       "      <th>231</th>\n",
       "      <td>2254875182</td>\n",
       "      <td>760</td>\n",
       "      <td>1</td>\n",
       "    </tr>\n",
       "    <tr>\n",
       "      <th>232</th>\n",
       "      <td>2261934787</td>\n",
       "      <td>52900</td>\n",
       "      <td>1</td>\n",
       "    </tr>\n",
       "    <tr>\n",
       "      <th>233</th>\n",
       "      <td>2274825520</td>\n",
       "      <td>440</td>\n",
       "      <td>1</td>\n",
       "    </tr>\n",
       "    <tr>\n",
       "      <th>234</th>\n",
       "      <td>2283224496</td>\n",
       "      <td>2180</td>\n",
       "      <td>1</td>\n",
       "    </tr>\n",
       "    <tr>\n",
       "      <th>235</th>\n",
       "      <td>2288159513</td>\n",
       "      <td>390</td>\n",
       "      <td>1</td>\n",
       "    </tr>\n",
       "    <tr>\n",
       "      <th>236</th>\n",
       "      <td>2301937222</td>\n",
       "      <td>400</td>\n",
       "      <td>1</td>\n",
       "    </tr>\n",
       "    <tr>\n",
       "      <th>237</th>\n",
       "      <td>2303470071</td>\n",
       "      <td>436</td>\n",
       "      <td>1</td>\n",
       "    </tr>\n",
       "    <tr>\n",
       "      <th>238</th>\n",
       "      <td>2304039735</td>\n",
       "      <td>18560</td>\n",
       "      <td>1</td>\n",
       "    </tr>\n",
       "    <tr>\n",
       "      <th>239</th>\n",
       "      <td>2306096143</td>\n",
       "      <td>15134</td>\n",
       "      <td>2</td>\n",
       "    </tr>\n",
       "    <tr>\n",
       "      <th>240</th>\n",
       "      <td>2308309101</td>\n",
       "      <td>14271</td>\n",
       "      <td>1</td>\n",
       "    </tr>\n",
       "    <tr>\n",
       "      <th>241</th>\n",
       "      <td>2357168171</td>\n",
       "      <td>24381</td>\n",
       "      <td>1</td>\n",
       "    </tr>\n",
       "    <tr>\n",
       "      <th>242</th>\n",
       "      <td>2358787737</td>\n",
       "      <td>2526</td>\n",
       "      <td>1</td>\n",
       "    </tr>\n",
       "    <tr>\n",
       "      <th>243</th>\n",
       "      <td>2393492379</td>\n",
       "      <td>2590</td>\n",
       "      <td>1</td>\n",
       "    </tr>\n",
       "    <tr>\n",
       "      <th>244</th>\n",
       "      <td>2396121427</td>\n",
       "      <td>1846</td>\n",
       "      <td>1</td>\n",
       "    </tr>\n",
       "    <tr>\n",
       "      <th>245</th>\n",
       "      <td>2412305169</td>\n",
       "      <td>995</td>\n",
       "      <td>1</td>\n",
       "    </tr>\n",
       "    <tr>\n",
       "      <th>246</th>\n",
       "      <td>2416662824</td>\n",
       "      <td>490</td>\n",
       "      <td>1</td>\n",
       "    </tr>\n",
       "    <tr>\n",
       "      <th>247</th>\n",
       "      <td>2429822128</td>\n",
       "      <td>2550</td>\n",
       "      <td>1</td>\n",
       "    </tr>\n",
       "    <tr>\n",
       "      <th>248</th>\n",
       "      <td>2430786771</td>\n",
       "      <td>1990</td>\n",
       "      <td>1</td>\n",
       "    </tr>\n",
       "    <tr>\n",
       "      <th>249</th>\n",
       "      <td>2440451175</td>\n",
       "      <td>5900</td>\n",
       "      <td>1</td>\n",
       "    </tr>\n",
       "    <tr>\n",
       "      <th>250</th>\n",
       "      <td>2445531802</td>\n",
       "      <td>890</td>\n",
       "      <td>1</td>\n",
       "    </tr>\n",
       "    <tr>\n",
       "      <th>251</th>\n",
       "      <td>2486521341</td>\n",
       "      <td>3480</td>\n",
       "      <td>1</td>\n",
       "    </tr>\n",
       "    <tr>\n",
       "      <th>252</th>\n",
       "      <td>2492519473</td>\n",
       "      <td>2580</td>\n",
       "      <td>1</td>\n",
       "    </tr>\n",
       "    <tr>\n",
       "      <th>253</th>\n",
       "      <td>2507107988</td>\n",
       "      <td>3190</td>\n",
       "      <td>1</td>\n",
       "    </tr>\n",
       "    <tr>\n",
       "      <th>254</th>\n",
       "      <td>2522140192</td>\n",
       "      <td>2290</td>\n",
       "      <td>1</td>\n",
       "    </tr>\n",
       "    <tr>\n",
       "      <th>255</th>\n",
       "      <td>2546716293</td>\n",
       "      <td>1805</td>\n",
       "      <td>1</td>\n",
       "    </tr>\n",
       "    <tr>\n",
       "      <th>256</th>\n",
       "      <td>2561350211</td>\n",
       "      <td>2955</td>\n",
       "      <td>1</td>\n",
       "    </tr>\n",
       "    <tr>\n",
       "      <th>257</th>\n",
       "      <td>2580341989</td>\n",
       "      <td>18270</td>\n",
       "      <td>1</td>\n",
       "    </tr>\n",
       "    <tr>\n",
       "      <th>258</th>\n",
       "      <td>2583793022</td>\n",
       "      <td>1038</td>\n",
       "      <td>1</td>\n",
       "    </tr>\n",
       "    <tr>\n",
       "      <th>259</th>\n",
       "      <td>2587526707</td>\n",
       "      <td>4400</td>\n",
       "      <td>1</td>\n",
       "    </tr>\n",
       "    <tr>\n",
       "      <th>260</th>\n",
       "      <td>2592727107</td>\n",
       "      <td>100</td>\n",
       "      <td>1</td>\n",
       "    </tr>\n",
       "    <tr>\n",
       "      <th>261</th>\n",
       "      <td>2605843205</td>\n",
       "      <td>14489</td>\n",
       "      <td>1</td>\n",
       "    </tr>\n",
       "    <tr>\n",
       "      <th>262</th>\n",
       "      <td>2606208134</td>\n",
       "      <td>4299</td>\n",
       "      <td>1</td>\n",
       "    </tr>\n",
       "    <tr>\n",
       "      <th>263</th>\n",
       "      <td>2618159035</td>\n",
       "      <td>5415</td>\n",
       "      <td>1</td>\n",
       "    </tr>\n",
       "    <tr>\n",
       "      <th>264</th>\n",
       "      <td>2629148010</td>\n",
       "      <td>2690</td>\n",
       "      <td>1</td>\n",
       "    </tr>\n",
       "    <tr>\n",
       "      <th>265</th>\n",
       "      <td>2633052872</td>\n",
       "      <td>4900</td>\n",
       "      <td>1</td>\n",
       "    </tr>\n",
       "    <tr>\n",
       "      <th>266</th>\n",
       "      <td>2643391466</td>\n",
       "      <td>5160</td>\n",
       "      <td>1</td>\n",
       "    </tr>\n",
       "    <tr>\n",
       "      <th>267</th>\n",
       "      <td>2650211599</td>\n",
       "      <td>13203</td>\n",
       "      <td>1</td>\n",
       "    </tr>\n",
       "    <tr>\n",
       "      <th>268</th>\n",
       "      <td>2652835245</td>\n",
       "      <td>610</td>\n",
       "      <td>1</td>\n",
       "    </tr>\n",
       "    <tr>\n",
       "      <th>269</th>\n",
       "      <td>2661240577</td>\n",
       "      <td>6420</td>\n",
       "      <td>1</td>\n",
       "    </tr>\n",
       "    <tr>\n",
       "      <th>270</th>\n",
       "      <td>2663297422</td>\n",
       "      <td>2630</td>\n",
       "      <td>1</td>\n",
       "    </tr>\n",
       "    <tr>\n",
       "      <th>271</th>\n",
       "      <td>2666068032</td>\n",
       "      <td>9232</td>\n",
       "      <td>1</td>\n",
       "    </tr>\n",
       "    <tr>\n",
       "      <th>272</th>\n",
       "      <td>2668501323</td>\n",
       "      <td>17990</td>\n",
       "      <td>1</td>\n",
       "    </tr>\n",
       "    <tr>\n",
       "      <th>273</th>\n",
       "      <td>2695379936</td>\n",
       "      <td>590</td>\n",
       "      <td>1</td>\n",
       "    </tr>\n",
       "    <tr>\n",
       "      <th>274</th>\n",
       "      <td>2696599598</td>\n",
       "      <td>690</td>\n",
       "      <td>1</td>\n",
       "    </tr>\n",
       "    <tr>\n",
       "      <th>275</th>\n",
       "      <td>2698944478</td>\n",
       "      <td>900</td>\n",
       "      <td>1</td>\n",
       "    </tr>\n",
       "    <tr>\n",
       "      <th>276</th>\n",
       "      <td>2700670803</td>\n",
       "      <td>1860</td>\n",
       "      <td>1</td>\n",
       "    </tr>\n",
       "    <tr>\n",
       "      <th>277</th>\n",
       "      <td>2703178540</td>\n",
       "      <td>1390</td>\n",
       "      <td>1</td>\n",
       "    </tr>\n",
       "    <tr>\n",
       "      <th>278</th>\n",
       "      <td>2705308997</td>\n",
       "      <td>50</td>\n",
       "      <td>1</td>\n",
       "    </tr>\n",
       "    <tr>\n",
       "      <th>279</th>\n",
       "      <td>2706377257</td>\n",
       "      <td>16153</td>\n",
       "      <td>2</td>\n",
       "    </tr>\n",
       "    <tr>\n",
       "      <th>280</th>\n",
       "      <td>2710193528</td>\n",
       "      <td>730</td>\n",
       "      <td>1</td>\n",
       "    </tr>\n",
       "    <tr>\n",
       "      <th>281</th>\n",
       "      <td>2710478747</td>\n",
       "      <td>10485</td>\n",
       "      <td>1</td>\n",
       "    </tr>\n",
       "    <tr>\n",
       "      <th>282</th>\n",
       "      <td>2733145037</td>\n",
       "      <td>9990</td>\n",
       "      <td>2</td>\n",
       "    </tr>\n",
       "    <tr>\n",
       "      <th>283</th>\n",
       "      <td>2735494018</td>\n",
       "      <td>3590</td>\n",
       "      <td>1</td>\n",
       "    </tr>\n",
       "    <tr>\n",
       "      <th>284</th>\n",
       "      <td>2736682487</td>\n",
       "      <td>1490</td>\n",
       "      <td>1</td>\n",
       "    </tr>\n",
       "    <tr>\n",
       "      <th>285</th>\n",
       "      <td>2743474511</td>\n",
       "      <td>6230</td>\n",
       "      <td>1</td>\n",
       "    </tr>\n",
       "    <tr>\n",
       "      <th>286</th>\n",
       "      <td>2744017357</td>\n",
       "      <td>6820</td>\n",
       "      <td>2</td>\n",
       "    </tr>\n",
       "    <tr>\n",
       "      <th>287</th>\n",
       "      <td>2749453459</td>\n",
       "      <td>5390</td>\n",
       "      <td>1</td>\n",
       "    </tr>\n",
       "    <tr>\n",
       "      <th>288</th>\n",
       "      <td>2761566146</td>\n",
       "      <td>1390</td>\n",
       "      <td>1</td>\n",
       "    </tr>\n",
       "    <tr>\n",
       "      <th>289</th>\n",
       "      <td>2771749575</td>\n",
       "      <td>1140</td>\n",
       "      <td>1</td>\n",
       "    </tr>\n",
       "    <tr>\n",
       "      <th>290</th>\n",
       "      <td>2772153338</td>\n",
       "      <td>2000</td>\n",
       "      <td>1</td>\n",
       "    </tr>\n",
       "    <tr>\n",
       "      <th>291</th>\n",
       "      <td>2776274025</td>\n",
       "      <td>6590</td>\n",
       "      <td>1</td>\n",
       "    </tr>\n",
       "    <tr>\n",
       "      <th>292</th>\n",
       "      <td>2785040378</td>\n",
       "      <td>3564</td>\n",
       "      <td>1</td>\n",
       "    </tr>\n",
       "    <tr>\n",
       "      <th>293</th>\n",
       "      <td>2801638130</td>\n",
       "      <td>990</td>\n",
       "      <td>1</td>\n",
       "    </tr>\n",
       "    <tr>\n",
       "      <th>294</th>\n",
       "      <td>2803209166</td>\n",
       "      <td>1250</td>\n",
       "      <td>1</td>\n",
       "    </tr>\n",
       "    <tr>\n",
       "      <th>295</th>\n",
       "      <td>2840985286</td>\n",
       "      <td>34990</td>\n",
       "      <td>1</td>\n",
       "    </tr>\n",
       "    <tr>\n",
       "      <th>296</th>\n",
       "      <td>2845785181</td>\n",
       "      <td>2342</td>\n",
       "      <td>1</td>\n",
       "    </tr>\n",
       "    <tr>\n",
       "      <th>297</th>\n",
       "      <td>2871453277</td>\n",
       "      <td>6940</td>\n",
       "      <td>1</td>\n",
       "    </tr>\n",
       "    <tr>\n",
       "      <th>298</th>\n",
       "      <td>2874956069</td>\n",
       "      <td>6420</td>\n",
       "      <td>1</td>\n",
       "    </tr>\n",
       "    <tr>\n",
       "      <th>299</th>\n",
       "      <td>2880866577</td>\n",
       "      <td>1690</td>\n",
       "      <td>1</td>\n",
       "    </tr>\n",
       "    <tr>\n",
       "      <th>300</th>\n",
       "      <td>2882903413</td>\n",
       "      <td>6585</td>\n",
       "      <td>1</td>\n",
       "    </tr>\n",
       "    <tr>\n",
       "      <th>301</th>\n",
       "      <td>2888793654</td>\n",
       "      <td>13770</td>\n",
       "      <td>1</td>\n",
       "    </tr>\n",
       "    <tr>\n",
       "      <th>302</th>\n",
       "      <td>2892265953</td>\n",
       "      <td>2640</td>\n",
       "      <td>2</td>\n",
       "    </tr>\n",
       "    <tr>\n",
       "      <th>303</th>\n",
       "      <td>2902041511</td>\n",
       "      <td>720</td>\n",
       "      <td>1</td>\n",
       "    </tr>\n",
       "    <tr>\n",
       "      <th>304</th>\n",
       "      <td>2912540959</td>\n",
       "      <td>43990</td>\n",
       "      <td>1</td>\n",
       "    </tr>\n",
       "    <tr>\n",
       "      <th>305</th>\n",
       "      <td>2924874435</td>\n",
       "      <td>990</td>\n",
       "      <td>1</td>\n",
       "    </tr>\n",
       "    <tr>\n",
       "      <th>306</th>\n",
       "      <td>2947100995</td>\n",
       "      <td>29499</td>\n",
       "      <td>1</td>\n",
       "    </tr>\n",
       "    <tr>\n",
       "      <th>307</th>\n",
       "      <td>2951649436</td>\n",
       "      <td>2978</td>\n",
       "      <td>1</td>\n",
       "    </tr>\n",
       "    <tr>\n",
       "      <th>308</th>\n",
       "      <td>2971471657</td>\n",
       "      <td>380</td>\n",
       "      <td>1</td>\n",
       "    </tr>\n",
       "    <tr>\n",
       "      <th>309</th>\n",
       "      <td>2978730290</td>\n",
       "      <td>400</td>\n",
       "      <td>1</td>\n",
       "    </tr>\n",
       "    <tr>\n",
       "      <th>310</th>\n",
       "      <td>2988190573</td>\n",
       "      <td>67190</td>\n",
       "      <td>3</td>\n",
       "    </tr>\n",
       "    <tr>\n",
       "      <th>311</th>\n",
       "      <td>2993711540</td>\n",
       "      <td>12150</td>\n",
       "      <td>1</td>\n",
       "    </tr>\n",
       "    <tr>\n",
       "      <th>312</th>\n",
       "      <td>3012531415</td>\n",
       "      <td>6242</td>\n",
       "      <td>1</td>\n",
       "    </tr>\n",
       "    <tr>\n",
       "      <th>313</th>\n",
       "      <td>3017378493</td>\n",
       "      <td>3190</td>\n",
       "      <td>1</td>\n",
       "    </tr>\n",
       "    <tr>\n",
       "      <th>314</th>\n",
       "      <td>3020644940</td>\n",
       "      <td>5430</td>\n",
       "      <td>1</td>\n",
       "    </tr>\n",
       "    <tr>\n",
       "      <th>315</th>\n",
       "      <td>3028866828</td>\n",
       "      <td>110</td>\n",
       "      <td>1</td>\n",
       "    </tr>\n",
       "    <tr>\n",
       "      <th>316</th>\n",
       "      <td>3033962131</td>\n",
       "      <td>890</td>\n",
       "      <td>1</td>\n",
       "    </tr>\n",
       "    <tr>\n",
       "      <th>317</th>\n",
       "      <td>3043080596</td>\n",
       "      <td>2057</td>\n",
       "      <td>1</td>\n",
       "    </tr>\n",
       "    <tr>\n",
       "      <th>318</th>\n",
       "      <td>3044645888</td>\n",
       "      <td>460</td>\n",
       "      <td>1</td>\n",
       "    </tr>\n",
       "    <tr>\n",
       "      <th>319</th>\n",
       "      <td>3055165772</td>\n",
       "      <td>19260</td>\n",
       "      <td>1</td>\n",
       "    </tr>\n",
       "    <tr>\n",
       "      <th>320</th>\n",
       "      <td>3072399624</td>\n",
       "      <td>10850</td>\n",
       "      <td>1</td>\n",
       "    </tr>\n",
       "    <tr>\n",
       "      <th>321</th>\n",
       "      <td>3086835579</td>\n",
       "      <td>2646</td>\n",
       "      <td>1</td>\n",
       "    </tr>\n",
       "    <tr>\n",
       "      <th>322</th>\n",
       "      <td>3101956850</td>\n",
       "      <td>3910</td>\n",
       "      <td>1</td>\n",
       "    </tr>\n",
       "    <tr>\n",
       "      <th>323</th>\n",
       "      <td>3102053760</td>\n",
       "      <td>990</td>\n",
       "      <td>1</td>\n",
       "    </tr>\n",
       "    <tr>\n",
       "      <th>324</th>\n",
       "      <td>3104896602</td>\n",
       "      <td>4980</td>\n",
       "      <td>1</td>\n",
       "    </tr>\n",
       "    <tr>\n",
       "      <th>325</th>\n",
       "      <td>3112126740</td>\n",
       "      <td>7690</td>\n",
       "      <td>1</td>\n",
       "    </tr>\n",
       "    <tr>\n",
       "      <th>326</th>\n",
       "      <td>3115684948</td>\n",
       "      <td>18350</td>\n",
       "      <td>1</td>\n",
       "    </tr>\n",
       "    <tr>\n",
       "      <th>327</th>\n",
       "      <td>3116161138</td>\n",
       "      <td>190</td>\n",
       "      <td>1</td>\n",
       "    </tr>\n",
       "    <tr>\n",
       "      <th>328</th>\n",
       "      <td>3116822707</td>\n",
       "      <td>4495</td>\n",
       "      <td>1</td>\n",
       "    </tr>\n",
       "    <tr>\n",
       "      <th>329</th>\n",
       "      <td>3117119809</td>\n",
       "      <td>19260</td>\n",
       "      <td>1</td>\n",
       "    </tr>\n",
       "    <tr>\n",
       "      <th>330</th>\n",
       "      <td>3118528100</td>\n",
       "      <td>1090</td>\n",
       "      <td>1</td>\n",
       "    </tr>\n",
       "    <tr>\n",
       "      <th>331</th>\n",
       "      <td>3123255051</td>\n",
       "      <td>3040</td>\n",
       "      <td>1</td>\n",
       "    </tr>\n",
       "    <tr>\n",
       "      <th>332</th>\n",
       "      <td>3127757912</td>\n",
       "      <td>20990</td>\n",
       "      <td>1</td>\n",
       "    </tr>\n",
       "    <tr>\n",
       "      <th>333</th>\n",
       "      <td>3133484003</td>\n",
       "      <td>8877</td>\n",
       "      <td>1</td>\n",
       "    </tr>\n",
       "    <tr>\n",
       "      <th>334</th>\n",
       "      <td>3146597820</td>\n",
       "      <td>6248</td>\n",
       "      <td>1</td>\n",
       "    </tr>\n",
       "    <tr>\n",
       "      <th>335</th>\n",
       "      <td>3149228032</td>\n",
       "      <td>530</td>\n",
       "      <td>1</td>\n",
       "    </tr>\n",
       "    <tr>\n",
       "      <th>336</th>\n",
       "      <td>3160565905</td>\n",
       "      <td>1380</td>\n",
       "      <td>1</td>\n",
       "    </tr>\n",
       "    <tr>\n",
       "      <th>337</th>\n",
       "      <td>3160828523</td>\n",
       "      <td>5539</td>\n",
       "      <td>1</td>\n",
       "    </tr>\n",
       "    <tr>\n",
       "      <th>338</th>\n",
       "      <td>3161387566</td>\n",
       "      <td>830</td>\n",
       "      <td>1</td>\n",
       "    </tr>\n",
       "    <tr>\n",
       "      <th>339</th>\n",
       "      <td>3177606451</td>\n",
       "      <td>2840</td>\n",
       "      <td>1</td>\n",
       "    </tr>\n",
       "    <tr>\n",
       "      <th>340</th>\n",
       "      <td>3199637546</td>\n",
       "      <td>2640</td>\n",
       "      <td>1</td>\n",
       "    </tr>\n",
       "    <tr>\n",
       "      <th>341</th>\n",
       "      <td>3207734412</td>\n",
       "      <td>1190</td>\n",
       "      <td>1</td>\n",
       "    </tr>\n",
       "    <tr>\n",
       "      <th>342</th>\n",
       "      <td>3212572194</td>\n",
       "      <td>1650</td>\n",
       "      <td>1</td>\n",
       "    </tr>\n",
       "    <tr>\n",
       "      <th>343</th>\n",
       "      <td>3213223594</td>\n",
       "      <td>7370</td>\n",
       "      <td>1</td>\n",
       "    </tr>\n",
       "    <tr>\n",
       "      <th>344</th>\n",
       "      <td>3213691396</td>\n",
       "      <td>12336</td>\n",
       "      <td>1</td>\n",
       "    </tr>\n",
       "    <tr>\n",
       "      <th>345</th>\n",
       "      <td>3221887237</td>\n",
       "      <td>24990</td>\n",
       "      <td>1</td>\n",
       "    </tr>\n",
       "    <tr>\n",
       "      <th>346</th>\n",
       "      <td>3229395114</td>\n",
       "      <td>7990</td>\n",
       "      <td>1</td>\n",
       "    </tr>\n",
       "    <tr>\n",
       "      <th>347</th>\n",
       "      <td>3237158392</td>\n",
       "      <td>12550</td>\n",
       "      <td>1</td>\n",
       "    </tr>\n",
       "    <tr>\n",
       "      <th>348</th>\n",
       "      <td>3251102545</td>\n",
       "      <td>3488</td>\n",
       "      <td>1</td>\n",
       "    </tr>\n",
       "    <tr>\n",
       "      <th>349</th>\n",
       "      <td>3263046761</td>\n",
       "      <td>1180</td>\n",
       "      <td>1</td>\n",
       "    </tr>\n",
       "    <tr>\n",
       "      <th>350</th>\n",
       "      <td>3265039507</td>\n",
       "      <td>282</td>\n",
       "      <td>1</td>\n",
       "    </tr>\n",
       "    <tr>\n",
       "      <th>351</th>\n",
       "      <td>3279802827</td>\n",
       "      <td>1990</td>\n",
       "      <td>1</td>\n",
       "    </tr>\n",
       "    <tr>\n",
       "      <th>352</th>\n",
       "      <td>3281496343</td>\n",
       "      <td>1990</td>\n",
       "      <td>1</td>\n",
       "    </tr>\n",
       "    <tr>\n",
       "      <th>353</th>\n",
       "      <td>3282099314</td>\n",
       "      <td>11985</td>\n",
       "      <td>1</td>\n",
       "    </tr>\n",
       "    <tr>\n",
       "      <th>354</th>\n",
       "      <td>3283584911</td>\n",
       "      <td>4020</td>\n",
       "      <td>1</td>\n",
       "    </tr>\n",
       "    <tr>\n",
       "      <th>355</th>\n",
       "      <td>3289144202</td>\n",
       "      <td>690</td>\n",
       "      <td>1</td>\n",
       "    </tr>\n",
       "    <tr>\n",
       "      <th>356</th>\n",
       "      <td>3290315626</td>\n",
       "      <td>890</td>\n",
       "      <td>1</td>\n",
       "    </tr>\n",
       "    <tr>\n",
       "      <th>357</th>\n",
       "      <td>3294921142</td>\n",
       "      <td>5622</td>\n",
       "      <td>1</td>\n",
       "    </tr>\n",
       "    <tr>\n",
       "      <th>358</th>\n",
       "      <td>3295038680</td>\n",
       "      <td>23750</td>\n",
       "      <td>1</td>\n",
       "    </tr>\n",
       "    <tr>\n",
       "      <th>359</th>\n",
       "      <td>3301980586</td>\n",
       "      <td>420</td>\n",
       "      <td>1</td>\n",
       "    </tr>\n",
       "    <tr>\n",
       "      <th>360</th>\n",
       "      <td>3321013705</td>\n",
       "      <td>49495</td>\n",
       "      <td>1</td>\n",
       "    </tr>\n",
       "    <tr>\n",
       "      <th>361</th>\n",
       "      <td>3323129950</td>\n",
       "      <td>14490</td>\n",
       "      <td>1</td>\n",
       "    </tr>\n",
       "    <tr>\n",
       "      <th>362</th>\n",
       "      <td>3340403042</td>\n",
       "      <td>8850</td>\n",
       "      <td>1</td>\n",
       "    </tr>\n",
       "    <tr>\n",
       "      <th>363</th>\n",
       "      <td>3353177029</td>\n",
       "      <td>1450</td>\n",
       "      <td>1</td>\n",
       "    </tr>\n",
       "    <tr>\n",
       "      <th>364</th>\n",
       "      <td>3359518621</td>\n",
       "      <td>1825</td>\n",
       "      <td>1</td>\n",
       "    </tr>\n",
       "    <tr>\n",
       "      <th>365</th>\n",
       "      <td>3359706893</td>\n",
       "      <td>890</td>\n",
       "      <td>1</td>\n",
       "    </tr>\n",
       "    <tr>\n",
       "      <th>366</th>\n",
       "      <td>3371539723</td>\n",
       "      <td>320</td>\n",
       "      <td>1</td>\n",
       "    </tr>\n",
       "    <tr>\n",
       "      <th>367</th>\n",
       "      <td>3379886002</td>\n",
       "      <td>5870</td>\n",
       "      <td>1</td>\n",
       "    </tr>\n",
       "    <tr>\n",
       "      <th>368</th>\n",
       "      <td>3386452937</td>\n",
       "      <td>8240</td>\n",
       "      <td>1</td>\n",
       "    </tr>\n",
       "    <tr>\n",
       "      <th>369</th>\n",
       "      <td>3396460792</td>\n",
       "      <td>640</td>\n",
       "      <td>1</td>\n",
       "    </tr>\n",
       "    <tr>\n",
       "      <th>370</th>\n",
       "      <td>3409596883</td>\n",
       "      <td>2752</td>\n",
       "      <td>1</td>\n",
       "    </tr>\n",
       "    <tr>\n",
       "      <th>371</th>\n",
       "      <td>3430457488</td>\n",
       "      <td>16680</td>\n",
       "      <td>1</td>\n",
       "    </tr>\n",
       "    <tr>\n",
       "      <th>372</th>\n",
       "      <td>3451176495</td>\n",
       "      <td>1540</td>\n",
       "      <td>1</td>\n",
       "    </tr>\n",
       "    <tr>\n",
       "      <th>373</th>\n",
       "      <td>3462462738</td>\n",
       "      <td>2490</td>\n",
       "      <td>1</td>\n",
       "    </tr>\n",
       "    <tr>\n",
       "      <th>374</th>\n",
       "      <td>3469608676</td>\n",
       "      <td>29830</td>\n",
       "      <td>2</td>\n",
       "    </tr>\n",
       "    <tr>\n",
       "      <th>375</th>\n",
       "      <td>3476822370</td>\n",
       "      <td>2061</td>\n",
       "      <td>1</td>\n",
       "    </tr>\n",
       "    <tr>\n",
       "      <th>376</th>\n",
       "      <td>3504688413</td>\n",
       "      <td>8585</td>\n",
       "      <td>1</td>\n",
       "    </tr>\n",
       "    <tr>\n",
       "      <th>377</th>\n",
       "      <td>3511496907</td>\n",
       "      <td>1900</td>\n",
       "      <td>1</td>\n",
       "    </tr>\n",
       "    <tr>\n",
       "      <th>378</th>\n",
       "      <td>3528043184</td>\n",
       "      <td>9490</td>\n",
       "      <td>1</td>\n",
       "    </tr>\n",
       "    <tr>\n",
       "      <th>379</th>\n",
       "      <td>3540744920</td>\n",
       "      <td>3559</td>\n",
       "      <td>1</td>\n",
       "    </tr>\n",
       "    <tr>\n",
       "      <th>380</th>\n",
       "      <td>3572819427</td>\n",
       "      <td>7024</td>\n",
       "      <td>1</td>\n",
       "    </tr>\n",
       "    <tr>\n",
       "      <th>381</th>\n",
       "      <td>3587733103</td>\n",
       "      <td>4710</td>\n",
       "      <td>1</td>\n",
       "    </tr>\n",
       "    <tr>\n",
       "      <th>382</th>\n",
       "      <td>3598591418</td>\n",
       "      <td>6780</td>\n",
       "      <td>1</td>\n",
       "    </tr>\n",
       "    <tr>\n",
       "      <th>383</th>\n",
       "      <td>3607649875</td>\n",
       "      <td>2555</td>\n",
       "      <td>1</td>\n",
       "    </tr>\n",
       "    <tr>\n",
       "      <th>384</th>\n",
       "      <td>3612778094</td>\n",
       "      <td>3490</td>\n",
       "      <td>1</td>\n",
       "    </tr>\n",
       "    <tr>\n",
       "      <th>385</th>\n",
       "      <td>3613900590</td>\n",
       "      <td>13070</td>\n",
       "      <td>1</td>\n",
       "    </tr>\n",
       "    <tr>\n",
       "      <th>386</th>\n",
       "      <td>3616659553</td>\n",
       "      <td>1990</td>\n",
       "      <td>1</td>\n",
       "    </tr>\n",
       "    <tr>\n",
       "      <th>387</th>\n",
       "      <td>3622537133</td>\n",
       "      <td>3520</td>\n",
       "      <td>1</td>\n",
       "    </tr>\n",
       "    <tr>\n",
       "      <th>388</th>\n",
       "      <td>3636615199</td>\n",
       "      <td>8590</td>\n",
       "      <td>1</td>\n",
       "    </tr>\n",
       "    <tr>\n",
       "      <th>389</th>\n",
       "      <td>3637027427</td>\n",
       "      <td>13990</td>\n",
       "      <td>1</td>\n",
       "    </tr>\n",
       "    <tr>\n",
       "      <th>390</th>\n",
       "      <td>3640080856</td>\n",
       "      <td>3390</td>\n",
       "      <td>1</td>\n",
       "    </tr>\n",
       "    <tr>\n",
       "      <th>391</th>\n",
       "      <td>3659263677</td>\n",
       "      <td>2390</td>\n",
       "      <td>1</td>\n",
       "    </tr>\n",
       "    <tr>\n",
       "      <th>392</th>\n",
       "      <td>3660046170</td>\n",
       "      <td>100</td>\n",
       "      <td>1</td>\n",
       "    </tr>\n",
       "    <tr>\n",
       "      <th>393</th>\n",
       "      <td>3660225571</td>\n",
       "      <td>1893</td>\n",
       "      <td>1</td>\n",
       "    </tr>\n",
       "    <tr>\n",
       "      <th>394</th>\n",
       "      <td>3673190339</td>\n",
       "      <td>3890</td>\n",
       "      <td>1</td>\n",
       "    </tr>\n",
       "    <tr>\n",
       "      <th>395</th>\n",
       "      <td>3693438260</td>\n",
       "      <td>3590</td>\n",
       "      <td>1</td>\n",
       "    </tr>\n",
       "    <tr>\n",
       "      <th>396</th>\n",
       "      <td>3719891787</td>\n",
       "      <td>19260</td>\n",
       "      <td>1</td>\n",
       "    </tr>\n",
       "    <tr>\n",
       "      <th>397</th>\n",
       "      <td>3720590235</td>\n",
       "      <td>3410</td>\n",
       "      <td>1</td>\n",
       "    </tr>\n",
       "    <tr>\n",
       "      <th>398</th>\n",
       "      <td>3722682546</td>\n",
       "      <td>1450</td>\n",
       "      <td>1</td>\n",
       "    </tr>\n",
       "    <tr>\n",
       "      <th>399</th>\n",
       "      <td>3736064128</td>\n",
       "      <td>1290</td>\n",
       "      <td>1</td>\n",
       "    </tr>\n",
       "    <tr>\n",
       "      <th>400</th>\n",
       "      <td>3778207363</td>\n",
       "      <td>920</td>\n",
       "      <td>1</td>\n",
       "    </tr>\n",
       "    <tr>\n",
       "      <th>401</th>\n",
       "      <td>3788724847</td>\n",
       "      <td>2610</td>\n",
       "      <td>1</td>\n",
       "    </tr>\n",
       "    <tr>\n",
       "      <th>402</th>\n",
       "      <td>3792964032</td>\n",
       "      <td>2970</td>\n",
       "      <td>1</td>\n",
       "    </tr>\n",
       "    <tr>\n",
       "      <th>403</th>\n",
       "      <td>3819243527</td>\n",
       "      <td>9232</td>\n",
       "      <td>1</td>\n",
       "    </tr>\n",
       "    <tr>\n",
       "      <th>404</th>\n",
       "      <td>3826874025</td>\n",
       "      <td>8777</td>\n",
       "      <td>1</td>\n",
       "    </tr>\n",
       "    <tr>\n",
       "      <th>405</th>\n",
       "      <td>3857916904</td>\n",
       "      <td>1190</td>\n",
       "      <td>1</td>\n",
       "    </tr>\n",
       "    <tr>\n",
       "      <th>406</th>\n",
       "      <td>3877129255</td>\n",
       "      <td>20990</td>\n",
       "      <td>1</td>\n",
       "    </tr>\n",
       "    <tr>\n",
       "      <th>407</th>\n",
       "      <td>3891384992</td>\n",
       "      <td>5870</td>\n",
       "      <td>1</td>\n",
       "    </tr>\n",
       "    <tr>\n",
       "      <th>408</th>\n",
       "      <td>3896738923</td>\n",
       "      <td>76</td>\n",
       "      <td>1</td>\n",
       "    </tr>\n",
       "    <tr>\n",
       "      <th>409</th>\n",
       "      <td>3908431265</td>\n",
       "      <td>4250</td>\n",
       "      <td>3</td>\n",
       "    </tr>\n",
       "    <tr>\n",
       "      <th>410</th>\n",
       "      <td>3928949490</td>\n",
       "      <td>5530</td>\n",
       "      <td>1</td>\n",
       "    </tr>\n",
       "    <tr>\n",
       "      <th>411</th>\n",
       "      <td>3937582421</td>\n",
       "      <td>10195</td>\n",
       "      <td>1</td>\n",
       "    </tr>\n",
       "    <tr>\n",
       "      <th>412</th>\n",
       "      <td>3941600282</td>\n",
       "      <td>18463</td>\n",
       "      <td>1</td>\n",
       "    </tr>\n",
       "    <tr>\n",
       "      <th>413</th>\n",
       "      <td>3950493862</td>\n",
       "      <td>2339</td>\n",
       "      <td>1</td>\n",
       "    </tr>\n",
       "    <tr>\n",
       "      <th>414</th>\n",
       "      <td>3950806039</td>\n",
       "      <td>370</td>\n",
       "      <td>1</td>\n",
       "    </tr>\n",
       "    <tr>\n",
       "      <th>415</th>\n",
       "      <td>3956892867</td>\n",
       "      <td>2670</td>\n",
       "      <td>1</td>\n",
       "    </tr>\n",
       "    <tr>\n",
       "      <th>416</th>\n",
       "      <td>3967698036</td>\n",
       "      <td>2979</td>\n",
       "      <td>3</td>\n",
       "    </tr>\n",
       "    <tr>\n",
       "      <th>417</th>\n",
       "      <td>3979054828</td>\n",
       "      <td>3250</td>\n",
       "      <td>1</td>\n",
       "    </tr>\n",
       "    <tr>\n",
       "      <th>418</th>\n",
       "      <td>3985807412</td>\n",
       "      <td>490</td>\n",
       "      <td>1</td>\n",
       "    </tr>\n",
       "    <tr>\n",
       "      <th>419</th>\n",
       "      <td>4002369227</td>\n",
       "      <td>1920</td>\n",
       "      <td>1</td>\n",
       "    </tr>\n",
       "    <tr>\n",
       "      <th>420</th>\n",
       "      <td>4014197579</td>\n",
       "      <td>10250</td>\n",
       "      <td>1</td>\n",
       "    </tr>\n",
       "    <tr>\n",
       "      <th>421</th>\n",
       "      <td>4017075195</td>\n",
       "      <td>13390</td>\n",
       "      <td>1</td>\n",
       "    </tr>\n",
       "    <tr>\n",
       "      <th>422</th>\n",
       "      <td>4027578749</td>\n",
       "      <td>2590</td>\n",
       "      <td>1</td>\n",
       "    </tr>\n",
       "    <tr>\n",
       "      <th>423</th>\n",
       "      <td>4038883307</td>\n",
       "      <td>5690</td>\n",
       "      <td>1</td>\n",
       "    </tr>\n",
       "    <tr>\n",
       "      <th>424</th>\n",
       "      <td>4062055840</td>\n",
       "      <td>6990</td>\n",
       "      <td>1</td>\n",
       "    </tr>\n",
       "    <tr>\n",
       "      <th>425</th>\n",
       "      <td>4076480073</td>\n",
       "      <td>17379</td>\n",
       "      <td>1</td>\n",
       "    </tr>\n",
       "    <tr>\n",
       "      <th>426</th>\n",
       "      <td>4079050915</td>\n",
       "      <td>4930</td>\n",
       "      <td>1</td>\n",
       "    </tr>\n",
       "    <tr>\n",
       "      <th>427</th>\n",
       "      <td>4087542339</td>\n",
       "      <td>360</td>\n",
       "      <td>1</td>\n",
       "    </tr>\n",
       "    <tr>\n",
       "      <th>428</th>\n",
       "      <td>4095180727</td>\n",
       "      <td>4620</td>\n",
       "      <td>1</td>\n",
       "    </tr>\n",
       "    <tr>\n",
       "      <th>429</th>\n",
       "      <td>4099262874</td>\n",
       "      <td>2490</td>\n",
       "      <td>1</td>\n",
       "    </tr>\n",
       "    <tr>\n",
       "      <th>430</th>\n",
       "      <td>4109358064</td>\n",
       "      <td>5590</td>\n",
       "      <td>2</td>\n",
       "    </tr>\n",
       "    <tr>\n",
       "      <th>431</th>\n",
       "      <td>4133034833</td>\n",
       "      <td>67990</td>\n",
       "      <td>1</td>\n",
       "    </tr>\n",
       "    <tr>\n",
       "      <th>432</th>\n",
       "      <td>4134011281</td>\n",
       "      <td>6149</td>\n",
       "      <td>1</td>\n",
       "    </tr>\n",
       "    <tr>\n",
       "      <th>433</th>\n",
       "      <td>4142693015</td>\n",
       "      <td>6350</td>\n",
       "      <td>1</td>\n",
       "    </tr>\n",
       "    <tr>\n",
       "      <th>434</th>\n",
       "      <td>4144343220</td>\n",
       "      <td>4499</td>\n",
       "      <td>1</td>\n",
       "    </tr>\n",
       "    <tr>\n",
       "      <th>435</th>\n",
       "      <td>4144979507</td>\n",
       "      <td>420</td>\n",
       "      <td>1</td>\n",
       "    </tr>\n",
       "    <tr>\n",
       "      <th>436</th>\n",
       "      <td>4163850406</td>\n",
       "      <td>8950</td>\n",
       "      <td>1</td>\n",
       "    </tr>\n",
       "    <tr>\n",
       "      <th>437</th>\n",
       "      <td>4174346527</td>\n",
       "      <td>1790</td>\n",
       "      <td>1</td>\n",
       "    </tr>\n",
       "    <tr>\n",
       "      <th>438</th>\n",
       "      <td>4213333413</td>\n",
       "      <td>150</td>\n",
       "      <td>1</td>\n",
       "    </tr>\n",
       "    <tr>\n",
       "      <th>439</th>\n",
       "      <td>4223733735</td>\n",
       "      <td>2830</td>\n",
       "      <td>1</td>\n",
       "    </tr>\n",
       "    <tr>\n",
       "      <th>440</th>\n",
       "      <td>4227830084</td>\n",
       "      <td>16490</td>\n",
       "      <td>1</td>\n",
       "    </tr>\n",
       "    <tr>\n",
       "      <th>441</th>\n",
       "      <td>4237561104</td>\n",
       "      <td>590</td>\n",
       "      <td>1</td>\n",
       "    </tr>\n",
       "    <tr>\n",
       "      <th>442</th>\n",
       "      <td>4243832526</td>\n",
       "      <td>8290</td>\n",
       "      <td>1</td>\n",
       "    </tr>\n",
       "    <tr>\n",
       "      <th>443</th>\n",
       "      <td>4259830713</td>\n",
       "      <td>3190</td>\n",
       "      <td>1</td>\n",
       "    </tr>\n",
       "    <tr>\n",
       "      <th>444</th>\n",
       "      <td>4278982564</td>\n",
       "      <td>24744</td>\n",
       "      <td>1</td>\n",
       "    </tr>\n",
       "  </tbody>\n",
       "</table>\n",
       "</div>"
      ],
      "text/plain": [
       "      visitorId  revenue  transactionId\n",
       "0      11685486     6201              1\n",
       "1      54447517      130              1\n",
       "2      66685450     7990              1\n",
       "3      78758296     1044              1\n",
       "4      85103373     1220              1\n",
       "5      87885904      300              1\n",
       "6     109615108     2190              1\n",
       "7     130417038     1530              1\n",
       "8     132143192      750              1\n",
       "9     138252163     4580              1\n",
       "10    148427295    65710              1\n",
       "11    151496413      350              1\n",
       "12    178249104    16950              1\n",
       "13    181166394     4780              1\n",
       "14    182753106      300              1\n",
       "15    184835319     1190              1\n",
       "16    187589092    17940              1\n",
       "17    199874245      240              1\n",
       "18    235366767      780              1\n",
       "19    236764260     5640              1\n",
       "20    238992583      950              1\n",
       "21    248503091     9880              1\n",
       "22    252987601     2540              1\n",
       "23    274717519     3488              1\n",
       "24    277405052    19990              1\n",
       "25    281523083     2290              1\n",
       "26    285030828    17990              1\n",
       "27    295230930    13710              1\n",
       "28    296565978      390              1\n",
       "29    300249313     1200              1\n",
       "30    321150727      990              1\n",
       "31    329473477    12490              1\n",
       "32    329726006     4188              1\n",
       "33    343208965     1350              1\n",
       "34    352377175      390              1\n",
       "35    358944393    42740              1\n",
       "36    366673373     1570              2\n",
       "37    370388673     3190              1\n",
       "38    381340408     2995              1\n",
       "39    382846391    43690              1\n",
       "40    387170777    12562              1\n",
       "41    399216493     1640              1\n",
       "42    399408949    11490              1\n",
       "43    417213830     6288              1\n",
       "44    430948481      550              1\n",
       "45    442260868    12990              1\n",
       "46    467022501     1100              1\n",
       "47    467975735      160              1\n",
       "48    492739583      750              1\n",
       "49    495712671     1790              1\n",
       "50    517094627      390              1\n",
       "51    537599508    13769              1\n",
       "52    551106609     9800              1\n",
       "53    572335325     3760              1\n",
       "54    573423106    10550              1\n",
       "55    583902904     2290              1\n",
       "56    589808731      390              1\n",
       "57    600964629      840              1\n",
       "58    611059232    29150              3\n",
       "59    612505725      987              1\n",
       "60    622980798     2190              1\n",
       "61    627176112     6990              1\n",
       "62    635956745    11250              1\n",
       "63    645425477    17990              1\n",
       "64    678354126     7209              2\n",
       "65    705680638     1149              1\n",
       "66    721509856      190              1\n",
       "67    732900740      400              1\n",
       "68    737242975    15850              1\n",
       "69    749770631     4480              1\n",
       "70    749837663    14970              1\n",
       "71    755881835     1253              1\n",
       "72    759473111    72000              2\n",
       "73    787824685    32350              1\n",
       "74    789265206     2590              1\n",
       "75    793112967    18010              1\n",
       "76    803709563    11985              1\n",
       "77    821846484     1630              1\n",
       "78    834683205    22785              1\n",
       "79    858552794     1398              1\n",
       "80    865916592      990              1\n",
       "81    866305447     4008              1\n",
       "82    869044563    17990              1\n",
       "83    876081193     3340              1\n",
       "84    879864040     4008              1\n",
       "85    887812064      170              1\n",
       "86    887908475    60450              1\n",
       "87    888420622    15416              1\n",
       "88    895233158      380              1\n",
       "89    906523562     3190              1\n",
       "90    906754117     3780              1\n",
       "91    907970812     2030              1\n",
       "92    910107897      690              1\n",
       "93    926057494      300              1\n",
       "94    947532470     5280              1\n",
       "95    949750571      590              1\n",
       "96    950626008    45880              1\n",
       "97    960782649    18990              1\n",
       "98    980818195     7110              1\n",
       "99    982374313      420              1\n",
       "100   983496389      165              1\n",
       "101   991436984     1790              1\n",
       "102   994339272     5770              1\n",
       "103   996668426     2540              1\n",
       "104   997945223     9300              1\n",
       "105  1002877908      830              1\n",
       "106  1009464434    11440              1\n",
       "107  1011231197     3190              1\n",
       "108  1022829655      112              1\n",
       "109  1028756448      290              1\n",
       "110  1046398313    15072              1\n",
       "111  1049627981    10550              1\n",
       "112  1052142804      890              1\n",
       "113  1064078146     1190              1\n",
       "114  1069983096     3826              1\n",
       "115  1070130208     3210              1\n",
       "116  1110543778     2080              1\n",
       "117  1122598516      400              1\n",
       "118  1129369369     1840              1\n",
       "119  1143609305     2750              1\n",
       "120  1148665946     2090              1\n",
       "121  1154728414     1290              1\n",
       "122  1159489312     8250              1\n",
       "123  1164614297    66350              1\n",
       "124  1174537443      390              1\n",
       "125  1178217086     3354              1\n",
       "126  1184607010     7390              1\n",
       "127  1211585711    28490              1\n",
       "128  1212176445     1780              1\n",
       "129  1219079053     4970              1\n",
       "130  1224575308      590              1\n",
       "131  1224903511      265              1\n",
       "132  1229532929     6990              1\n",
       "133  1229866403     1940              1\n",
       "134  1247895435      390              1\n",
       "135  1255412427     3170              1\n",
       "136  1294108251     3000              1\n",
       "137  1306302251     1498              1\n",
       "138  1307669133    92550              1\n",
       "139  1349865791     2490              1\n",
       "140  1351898488     4600              1\n",
       "141  1357170471    31680              1\n",
       "142  1367935136    35485              1\n",
       "143  1378148355     1060              1\n",
       "144  1388079388      420              1\n",
       "145  1398592185      390              1\n",
       "146  1402025725     5555              1\n",
       "147  1414758703     6677              1\n",
       "148  1422476412     6180              1\n",
       "149  1422773200      700              1\n",
       "150  1426761187    11688              1\n",
       "151  1430210707     1139              1\n",
       "152  1452540367    33050              1\n",
       "153  1460891116     5365              1\n",
       "154  1471496742     2140              1\n",
       "155  1476256851     1530              1\n",
       "156  1484903144     4120              1\n",
       "157  1485964287     3220              1\n",
       "158  1495112755     3739              1\n",
       "159  1500448895     2646              1\n",
       "160  1507665514     1600              1\n",
       "161  1508900659      690              1\n",
       "162  1539796403     2355              1\n",
       "163  1544467991     1040              1\n",
       "164  1555770826     1758              1\n",
       "165  1565034404    10980              1\n",
       "166  1576289054    15450              1\n",
       "167  1581167209     1780              1\n",
       "168  1596446524     2070              1\n",
       "169  1604176421     5000              1\n",
       "170  1604853044    28060              1\n",
       "171  1617417821     9580              2\n",
       "172  1658204305     1290              1\n",
       "173  1677041464      359              1\n",
       "174  1687231984      500              1\n",
       "175  1698039057     9934              1\n",
       "176  1722579998     8390              1\n",
       "177  1732269954      760              1\n",
       "178  1737494355     1940              1\n",
       "179  1744796792     3140              1\n",
       "180  1772171838     7850              2\n",
       "181  1781647073     1329              1\n",
       "182  1823887377     1170              1\n",
       "183  1830791924     2350              1\n",
       "184  1831140265    26550              1\n",
       "185  1831375989     2235              1\n",
       "186  1831956319       90              1\n",
       "187  1832798996    13990              1\n",
       "188  1850778479      390              1\n",
       "189  1859207151     6645              1\n",
       "190  1869662856     4370              1\n",
       "191  1890645762    11050              1\n",
       "192  1900893596      100              1\n",
       "193  1909539331     3430              1\n",
       "194  1917506191     9080              1\n",
       "195  1935367901     1000              1\n",
       "196  1937307986     9448              1\n",
       "197  1938138695    12888              1\n",
       "198  1948974149     3180              1\n",
       "199  1957949546    16770              1\n",
       "200  1979878245     4790              1\n",
       "201  1981624632     6445              1\n",
       "202  2016864191      420              1\n",
       "203  2041539477     8099              1\n",
       "204  2046011647     1190              1\n",
       "205  2054014923     5249              1\n",
       "206  2065143173      350              1\n",
       "207  2067508917     1310              1\n",
       "208  2069923923     1090              1\n",
       "209  2082081961     1188              1\n",
       "210  2084876480    14990              1\n",
       "211  2108163459     1850              3\n",
       "212  2114962460     3990              1\n",
       "213  2115669947     7500              1\n",
       "214  2125253600      890              1\n",
       "215  2134820861    18893              1\n",
       "216  2138044356      990              1\n",
       "217  2147998719     2210              1\n",
       "218  2152549680     3404              1\n",
       "219  2153871238     2490              1\n",
       "220  2158146269     4283              1\n",
       "221  2162698752    16990              1\n",
       "222  2168467118     2970              1\n",
       "223  2188683977     5719              1\n",
       "224  2217984702      790              1\n",
       "225  2219162270     6060              1\n",
       "226  2231749745      540              1\n",
       "227  2232111114    32839              2\n",
       "228  2248249182     1850              1\n",
       "229  2254456485    53904              1\n",
       "230  2254586615    53904              1\n",
       "231  2254875182      760              1\n",
       "232  2261934787    52900              1\n",
       "233  2274825520      440              1\n",
       "234  2283224496     2180              1\n",
       "235  2288159513      390              1\n",
       "236  2301937222      400              1\n",
       "237  2303470071      436              1\n",
       "238  2304039735    18560              1\n",
       "239  2306096143    15134              2\n",
       "240  2308309101    14271              1\n",
       "241  2357168171    24381              1\n",
       "242  2358787737     2526              1\n",
       "243  2393492379     2590              1\n",
       "244  2396121427     1846              1\n",
       "245  2412305169      995              1\n",
       "246  2416662824      490              1\n",
       "247  2429822128     2550              1\n",
       "248  2430786771     1990              1\n",
       "249  2440451175     5900              1\n",
       "250  2445531802      890              1\n",
       "251  2486521341     3480              1\n",
       "252  2492519473     2580              1\n",
       "253  2507107988     3190              1\n",
       "254  2522140192     2290              1\n",
       "255  2546716293     1805              1\n",
       "256  2561350211     2955              1\n",
       "257  2580341989    18270              1\n",
       "258  2583793022     1038              1\n",
       "259  2587526707     4400              1\n",
       "260  2592727107      100              1\n",
       "261  2605843205    14489              1\n",
       "262  2606208134     4299              1\n",
       "263  2618159035     5415              1\n",
       "264  2629148010     2690              1\n",
       "265  2633052872     4900              1\n",
       "266  2643391466     5160              1\n",
       "267  2650211599    13203              1\n",
       "268  2652835245      610              1\n",
       "269  2661240577     6420              1\n",
       "270  2663297422     2630              1\n",
       "271  2666068032     9232              1\n",
       "272  2668501323    17990              1\n",
       "273  2695379936      590              1\n",
       "274  2696599598      690              1\n",
       "275  2698944478      900              1\n",
       "276  2700670803     1860              1\n",
       "277  2703178540     1390              1\n",
       "278  2705308997       50              1\n",
       "279  2706377257    16153              2\n",
       "280  2710193528      730              1\n",
       "281  2710478747    10485              1\n",
       "282  2733145037     9990              2\n",
       "283  2735494018     3590              1\n",
       "284  2736682487     1490              1\n",
       "285  2743474511     6230              1\n",
       "286  2744017357     6820              2\n",
       "287  2749453459     5390              1\n",
       "288  2761566146     1390              1\n",
       "289  2771749575     1140              1\n",
       "290  2772153338     2000              1\n",
       "291  2776274025     6590              1\n",
       "292  2785040378     3564              1\n",
       "293  2801638130      990              1\n",
       "294  2803209166     1250              1\n",
       "295  2840985286    34990              1\n",
       "296  2845785181     2342              1\n",
       "297  2871453277     6940              1\n",
       "298  2874956069     6420              1\n",
       "299  2880866577     1690              1\n",
       "300  2882903413     6585              1\n",
       "301  2888793654    13770              1\n",
       "302  2892265953     2640              2\n",
       "303  2902041511      720              1\n",
       "304  2912540959    43990              1\n",
       "305  2924874435      990              1\n",
       "306  2947100995    29499              1\n",
       "307  2951649436     2978              1\n",
       "308  2971471657      380              1\n",
       "309  2978730290      400              1\n",
       "310  2988190573    67190              3\n",
       "311  2993711540    12150              1\n",
       "312  3012531415     6242              1\n",
       "313  3017378493     3190              1\n",
       "314  3020644940     5430              1\n",
       "315  3028866828      110              1\n",
       "316  3033962131      890              1\n",
       "317  3043080596     2057              1\n",
       "318  3044645888      460              1\n",
       "319  3055165772    19260              1\n",
       "320  3072399624    10850              1\n",
       "321  3086835579     2646              1\n",
       "322  3101956850     3910              1\n",
       "323  3102053760      990              1\n",
       "324  3104896602     4980              1\n",
       "325  3112126740     7690              1\n",
       "326  3115684948    18350              1\n",
       "327  3116161138      190              1\n",
       "328  3116822707     4495              1\n",
       "329  3117119809    19260              1\n",
       "330  3118528100     1090              1\n",
       "331  3123255051     3040              1\n",
       "332  3127757912    20990              1\n",
       "333  3133484003     8877              1\n",
       "334  3146597820     6248              1\n",
       "335  3149228032      530              1\n",
       "336  3160565905     1380              1\n",
       "337  3160828523     5539              1\n",
       "338  3161387566      830              1\n",
       "339  3177606451     2840              1\n",
       "340  3199637546     2640              1\n",
       "341  3207734412     1190              1\n",
       "342  3212572194     1650              1\n",
       "343  3213223594     7370              1\n",
       "344  3213691396    12336              1\n",
       "345  3221887237    24990              1\n",
       "346  3229395114     7990              1\n",
       "347  3237158392    12550              1\n",
       "348  3251102545     3488              1\n",
       "349  3263046761     1180              1\n",
       "350  3265039507      282              1\n",
       "351  3279802827     1990              1\n",
       "352  3281496343     1990              1\n",
       "353  3282099314    11985              1\n",
       "354  3283584911     4020              1\n",
       "355  3289144202      690              1\n",
       "356  3290315626      890              1\n",
       "357  3294921142     5622              1\n",
       "358  3295038680    23750              1\n",
       "359  3301980586      420              1\n",
       "360  3321013705    49495              1\n",
       "361  3323129950    14490              1\n",
       "362  3340403042     8850              1\n",
       "363  3353177029     1450              1\n",
       "364  3359518621     1825              1\n",
       "365  3359706893      890              1\n",
       "366  3371539723      320              1\n",
       "367  3379886002     5870              1\n",
       "368  3386452937     8240              1\n",
       "369  3396460792      640              1\n",
       "370  3409596883     2752              1\n",
       "371  3430457488    16680              1\n",
       "372  3451176495     1540              1\n",
       "373  3462462738     2490              1\n",
       "374  3469608676    29830              2\n",
       "375  3476822370     2061              1\n",
       "376  3504688413     8585              1\n",
       "377  3511496907     1900              1\n",
       "378  3528043184     9490              1\n",
       "379  3540744920     3559              1\n",
       "380  3572819427     7024              1\n",
       "381  3587733103     4710              1\n",
       "382  3598591418     6780              1\n",
       "383  3607649875     2555              1\n",
       "384  3612778094     3490              1\n",
       "385  3613900590    13070              1\n",
       "386  3616659553     1990              1\n",
       "387  3622537133     3520              1\n",
       "388  3636615199     8590              1\n",
       "389  3637027427    13990              1\n",
       "390  3640080856     3390              1\n",
       "391  3659263677     2390              1\n",
       "392  3660046170      100              1\n",
       "393  3660225571     1893              1\n",
       "394  3673190339     3890              1\n",
       "395  3693438260     3590              1\n",
       "396  3719891787    19260              1\n",
       "397  3720590235     3410              1\n",
       "398  3722682546     1450              1\n",
       "399  3736064128     1290              1\n",
       "400  3778207363      920              1\n",
       "401  3788724847     2610              1\n",
       "402  3792964032     2970              1\n",
       "403  3819243527     9232              1\n",
       "404  3826874025     8777              1\n",
       "405  3857916904     1190              1\n",
       "406  3877129255    20990              1\n",
       "407  3891384992     5870              1\n",
       "408  3896738923       76              1\n",
       "409  3908431265     4250              3\n",
       "410  3928949490     5530              1\n",
       "411  3937582421    10195              1\n",
       "412  3941600282    18463              1\n",
       "413  3950493862     2339              1\n",
       "414  3950806039      370              1\n",
       "415  3956892867     2670              1\n",
       "416  3967698036     2979              3\n",
       "417  3979054828     3250              1\n",
       "418  3985807412      490              1\n",
       "419  4002369227     1920              1\n",
       "420  4014197579    10250              1\n",
       "421  4017075195    13390              1\n",
       "422  4027578749     2590              1\n",
       "423  4038883307     5690              1\n",
       "424  4062055840     6990              1\n",
       "425  4076480073    17379              1\n",
       "426  4079050915     4930              1\n",
       "427  4087542339      360              1\n",
       "428  4095180727     4620              1\n",
       "429  4099262874     2490              1\n",
       "430  4109358064     5590              2\n",
       "431  4133034833    67990              1\n",
       "432  4134011281     6149              1\n",
       "433  4142693015     6350              1\n",
       "434  4144343220     4499              1\n",
       "435  4144979507      420              1\n",
       "436  4163850406     8950              1\n",
       "437  4174346527     1790              1\n",
       "438  4213333413      150              1\n",
       "439  4223733735     2830              1\n",
       "440  4227830084    16490              1\n",
       "441  4237561104      590              1\n",
       "442  4243832526     8290              1\n",
       "443  4259830713     3190              1\n",
       "444  4278982564    24744              1"
      ]
     },
     "execution_count": 28,
     "metadata": {},
     "output_type": "execute_result"
    }
   ],
   "source": [
    "users_a"
   ]
  },
  {
   "cell_type": "code",
   "execution_count": 29,
   "metadata": {},
   "outputs": [
    {
     "name": "stdout",
     "output_type": "stream",
     "text": [
      "0.829\n",
      "0.287\n"
     ]
    }
   ],
   "source": [
    "\n",
    "o_a =  avg_a['revenue']\n",
    "o_b =  avg_b['revenue']\n",
    "print(\"{0:.3f}\".format(st.mannwhitneyu(o_a,o_b)[1]))\n",
    "print(\"{0:.3f}\".format((o_b.mean() / o_a.mean()) - 1))"
   ]
  },
  {
   "cell_type": "markdown",
   "metadata": {},
   "source": [
    "### Вывод\n",
    " P-value значительно больше 0.05. Значит, причин отвергать нулевую гипотезу и считать, что в среднем чеке есть различия, нет. Впрочем, средний чек группы B значительно выше среднего чека группы A."
   ]
  },
  {
   "cell_type": "markdown",
   "metadata": {},
   "source": [
    "## Посчитайте статистическую значимость различий в среднем количестве заказов между группами по «очищенным» данным. Сделайте выводы и предположения.\n"
   ]
  },
  {
   "cell_type": "code",
   "execution_count": 30,
   "metadata": {},
   "outputs": [
    {
     "name": "stdout",
     "output_type": "stream",
     "text": [
      "0.014\n",
      "-0.151\n"
     ]
    }
   ],
   "source": [
    "data_a = data_a[data_a['revenue']<28001]\n",
    "data_b = data_b[data_b['revenue']<28001]\n",
    "\n",
    "users_a = data_a.groupby('visitorId').agg({'revenue':'sum','transactionId':'count'})\n",
    "users_b = data_b.groupby('visitorId').agg({'revenue':'sum','transactionId':'count'})\n",
    "\n",
    "users_a = users_a[users_a['transactionId']<2]\n",
    "users_b = users_b[users_b['transactionId']<2]\n",
    "\n",
    "users_a = users_a.reset_index(level=0)\n",
    "users_b = users_b.reset_index(level=0)\n",
    "v_a =  pd.concat([users_a['transactionId'],pd.Series(0, index=np.arange(visitors[visitors['group']=='A']['visitors'].sum() - len(users_a['transactionId'])), name='orders')],axis=0)\n",
    "v_b =  pd.concat([users_b['transactionId'],pd.Series(0, index=np.arange(visitors[visitors['group']=='B']['visitors'].sum() - len(users_b['transactionId'])), name='orders')],axis=0)\n",
    "\n",
    "\n",
    "print(\"{0:.3f}\".format(st.mannwhitneyu(v_a,v_b)[1]))\n",
    "\n",
    "print(\"{0:.3f}\".format(v_a.mean() / v_b.mean() - 1))"
   ]
  },
  {
   "cell_type": "markdown",
   "metadata": {},
   "source": [
    "### Вывод\n",
    " : По «чистым» данным различий в среднем числе заказов групп A и B есть и после очистки не стала драматичней . p-value меньше 0,05. поэтому можем отвергать 0 гипотезу."
   ]
  },
  {
   "cell_type": "markdown",
   "metadata": {},
   "source": [
    "## Посчитайте статистическую значимость различий в среднем чеке заказа между группами по «очищенным» данным. Сделайте выводы и предположения.\n",
    "Примите решение по результатам теста и объясните его. Варианты решений: 1. Остановить тест, зафиксировать победу одной из групп. 2. Остановить тест, зафиксировать отсутствие различий между группами. 3. Продолжить тест."
   ]
  },
  {
   "cell_type": "code",
   "execution_count": 31,
   "metadata": {},
   "outputs": [
    {
     "name": "stdout",
     "output_type": "stream",
     "text": [
      "0.805\n",
      "-0.013\n"
     ]
    }
   ],
   "source": [
    "data_a = data_a[data_a['visitorId'].isin(users_a['visitorId'])]\n",
    "data_b = data_b[data_b['visitorId'].isin(users_b['visitorId'])]\n",
    "o_a =  data_a['revenue']\n",
    "o_b =  data_b['revenue']\n",
    "print(\"{0:.3f}\".format(st.mannwhitneyu(o_a,o_b)[1]))\n",
    "print(\"{0:.3f}\".format(o_b.mean() / o_a.mean() - 1))\n"
   ]
  },
  {
   "cell_type": "markdown",
   "metadata": {},
   "source": [
    "### Вывод:\n",
    " По «чистым» данным различий в среднем числе заказов групп A и B нет и после очистки разница чусть скоректирвалсь . p-value больше 0,05. поэтому  не можем отвергать 0 гипотезу."
   ]
  },
  {
   "cell_type": "code",
   "execution_count": 32,
   "metadata": {},
   "outputs": [],
   "source": [
    "v_aa['con'] = v_aa['user']/v_aa['visitors']*100\n",
    "\n",
    "v_bb['con'] = v_bb['user']/v_bb['visitors']*100\n"
   ]
  },
  {
   "cell_type": "code",
   "execution_count": 33,
   "metadata": {},
   "outputs": [
    {
     "name": "stdout",
     "output_type": "stream",
     "text": [
      "19.0\n"
     ]
    },
    {
     "data": {
      "text/plain": [
       "<matplotlib.legend.Legend at 0x7f0c2cb4b1f0>"
      ]
     },
     "execution_count": 33,
     "metadata": {},
     "output_type": "execute_result"
    },
    {
     "data": {
      "image/png": "[encoded data removed]",
      "text/plain": [
       "<Figure size 1080x432 with 1 Axes>"
      ]
     },
     "metadata": {
      "needs_background": "light"
     },
     "output_type": "display_data"
    }
   ],
   "source": [
    "plt.figure(figsize=(15, 6))\n",
    "plt.plot(v_aa['date'],v_aa['con'],label='A')\n",
    "plt.plot(v_bb['date'],v_bb['con'],label='B')\n",
    "print((v_bb['con'].mean()/v_aa['con'].mean()-1)//0.01)\n",
    "plt.xticks(ord_vis_a['date'],\n",
    "       rotation=70)\n",
    "plt.ylabel(\"доля заказчиков из посетителей\")\n",
    "plt.xlabel(\"Даты\")\n",
    "plt.grid()\n",
    "plt.legend()"
   ]
  },
  {
   "cell_type": "code",
   "execution_count": 34,
   "metadata": {},
   "outputs": [
    {
     "name": "stdout",
     "output_type": "stream",
     "text": [
      "468\n",
      "548\n",
      "18736\n",
      "18916\n"
     ]
    }
   ],
   "source": [
    "print(len(aa))\n",
    "print(len(bb))\n",
    "\n",
    "print(sum(visitors[visitors['group']=='A']['visitors']))\n",
    "print(sum(visitors[visitors['group']=='B']['visitors']))\n"
   ]
  },
  {
   "cell_type": "markdown",
   "metadata": {},
   "source": [
    "## Выводы по Части 2"
   ]
  },
  {
   "cell_type": "markdown",
   "metadata": {},
   "source": [
    "Я выбираю прекратить тест, так как согалсано статистической выкладке видна разница в кол-ве заказов между группами. хоть и средний чек и среднее кол-во заказов на человека не поменялось драмматически. мы можем сказать что выросло общее их колличество. теперь стоит оценить рентабельность приведенных пользователей.Выросло ли САС. Однако, предварительные результаты меня порадовали. Также средняя конверсия лучше на 20% в группе В. И статистическая проверка показа различие долей."
   ]
  }
 ],
 "metadata": {
  "ExecuteTimeLog": [
   {
    "duration": 1345,
    "start_time": "2022-11-10T16:02:35.171Z"
   },
   {
    "duration": 61,
    "start_time": "2022-11-10T16:02:36.518Z"
   },
   {
    "duration": 102,
    "start_time": "2022-11-10T16:07:03.821Z"
   },
   {
    "duration": 145,
    "start_time": "2022-11-10T16:07:38.161Z"
   },
   {
    "duration": 12,
    "start_time": "2022-11-10T16:07:39.625Z"
   },
   {
    "duration": 30,
    "start_time": "2022-11-10T16:08:16.658Z"
   },
   {
    "duration": 23,
    "start_time": "2022-11-10T16:09:15.666Z"
   },
   {
    "duration": 28,
    "start_time": "2022-11-10T16:10:24.580Z"
   },
   {
    "duration": 3,
    "start_time": "2022-11-10T16:11:20.499Z"
   },
   {
    "duration": 65,
    "start_time": "2022-11-10T16:11:21.020Z"
   },
   {
    "duration": 31,
    "start_time": "2022-11-10T16:11:21.839Z"
   },
   {
    "duration": 1098,
    "start_time": "2022-11-10T16:13:41.980Z"
   },
   {
    "duration": 1206,
    "start_time": "2022-11-10T16:13:56.845Z"
   },
   {
    "duration": 13,
    "start_time": "2022-11-10T16:14:14.924Z"
   },
   {
    "duration": 297,
    "start_time": "2022-11-10T16:14:26.645Z"
   },
   {
    "duration": 10,
    "start_time": "2022-11-10T16:14:47.069Z"
   },
   {
    "duration": 27,
    "start_time": "2022-11-10T16:16:42.410Z"
   },
   {
    "duration": 1121,
    "start_time": "2022-11-10T16:16:58.933Z"
   },
   {
    "duration": 66,
    "start_time": "2022-11-10T16:17:00.056Z"
   },
   {
    "duration": 30,
    "start_time": "2022-11-10T16:17:00.124Z"
   },
   {
    "duration": 33,
    "start_time": "2022-11-10T16:17:00.156Z"
   },
   {
    "duration": 39,
    "start_time": "2022-11-10T16:17:00.191Z"
   },
   {
    "duration": 4,
    "start_time": "2022-11-10T16:17:16.050Z"
   },
   {
    "duration": 69,
    "start_time": "2022-11-10T16:18:22.834Z"
   },
   {
    "duration": 26,
    "start_time": "2022-11-10T16:18:54.146Z"
   },
   {
    "duration": 27,
    "start_time": "2022-11-10T16:19:30.135Z"
   },
   {
    "duration": 9,
    "start_time": "2022-11-10T16:20:02.367Z"
   },
   {
    "duration": 9,
    "start_time": "2022-11-10T16:20:19.699Z"
   },
   {
    "duration": 1269,
    "start_time": "2022-11-11T12:05:37.461Z"
   },
   {
    "duration": 184,
    "start_time": "2022-11-11T12:05:38.733Z"
   },
   {
    "duration": 5,
    "start_time": "2022-11-11T12:05:38.919Z"
   },
   {
    "duration": 16,
    "start_time": "2022-11-11T12:05:38.926Z"
   },
   {
    "duration": 16,
    "start_time": "2022-11-11T12:05:38.944Z"
   },
   {
    "duration": 17,
    "start_time": "2022-11-11T12:05:38.961Z"
   },
   {
    "duration": 11,
    "start_time": "2022-11-11T12:05:38.980Z"
   },
   {
    "duration": 8,
    "start_time": "2022-11-11T12:06:50.021Z"
   },
   {
    "duration": 7,
    "start_time": "2022-11-11T12:07:19.666Z"
   },
   {
    "duration": 8,
    "start_time": "2022-11-11T12:07:31.306Z"
   },
   {
    "duration": 103,
    "start_time": "2022-11-11T12:14:26.393Z"
   },
   {
    "duration": 8,
    "start_time": "2022-11-11T12:15:41.111Z"
   },
   {
    "duration": 3,
    "start_time": "2022-11-11T12:16:03.217Z"
   },
   {
    "duration": 8,
    "start_time": "2022-11-11T12:16:09.501Z"
   },
   {
    "duration": 8,
    "start_time": "2022-11-11T12:16:27.982Z"
   },
   {
    "duration": 1140,
    "start_time": "2022-11-11T12:19:47.784Z"
   },
   {
    "duration": 68,
    "start_time": "2022-11-11T12:19:48.926Z"
   },
   {
    "duration": 5,
    "start_time": "2022-11-11T12:19:48.996Z"
   },
   {
    "duration": 23,
    "start_time": "2022-11-11T12:19:49.003Z"
   },
   {
    "duration": 15,
    "start_time": "2022-11-11T12:19:49.028Z"
   },
   {
    "duration": 13,
    "start_time": "2022-11-11T12:19:49.045Z"
   },
   {
    "duration": 9,
    "start_time": "2022-11-11T12:19:49.060Z"
   },
   {
    "duration": 72,
    "start_time": "2022-11-11T12:24:53.463Z"
   },
   {
    "duration": 5,
    "start_time": "2022-11-11T12:28:26.676Z"
   },
   {
    "duration": 5,
    "start_time": "2022-11-11T12:28:40.812Z"
   },
   {
    "duration": 7,
    "start_time": "2022-11-11T12:29:02.297Z"
   },
   {
    "duration": 5,
    "start_time": "2022-11-11T12:30:07.349Z"
   },
   {
    "duration": 6,
    "start_time": "2022-11-11T12:30:12.333Z"
   },
   {
    "duration": 8,
    "start_time": "2022-11-11T12:30:53.050Z"
   },
   {
    "duration": 102,
    "start_time": "2022-11-11T12:32:14.710Z"
   },
   {
    "duration": 5,
    "start_time": "2022-11-11T12:32:38.799Z"
   },
   {
    "duration": 7,
    "start_time": "2022-11-11T12:33:35.083Z"
   },
   {
    "duration": 21,
    "start_time": "2022-11-11T12:33:46.118Z"
   },
   {
    "duration": 6,
    "start_time": "2022-11-11T12:33:54.571Z"
   },
   {
    "duration": 9,
    "start_time": "2022-11-11T12:34:24.799Z"
   },
   {
    "duration": 8,
    "start_time": "2022-11-11T12:34:59.651Z"
   },
   {
    "duration": 9,
    "start_time": "2022-11-11T12:35:17.019Z"
   },
   {
    "duration": 11,
    "start_time": "2022-11-11T12:39:58.290Z"
   },
   {
    "duration": 14,
    "start_time": "2022-11-11T12:40:13.478Z"
   },
   {
    "duration": 27,
    "start_time": "2022-11-11T12:40:49.606Z"
   },
   {
    "duration": 12,
    "start_time": "2022-11-11T12:41:10.355Z"
   },
   {
    "duration": 13,
    "start_time": "2022-11-11T12:41:35.559Z"
   },
   {
    "duration": 6,
    "start_time": "2022-11-11T12:42:09.667Z"
   },
   {
    "duration": 11,
    "start_time": "2022-11-11T12:44:40.096Z"
   },
   {
    "duration": 15,
    "start_time": "2022-11-11T12:46:04.146Z"
   },
   {
    "duration": 52,
    "start_time": "2022-11-11T12:46:38.566Z"
   },
   {
    "duration": 13,
    "start_time": "2022-11-11T12:46:55.322Z"
   },
   {
    "duration": 173,
    "start_time": "2022-11-11T12:48:17.507Z"
   },
   {
    "duration": 30,
    "start_time": "2022-11-11T12:48:22.138Z"
   },
   {
    "duration": 17,
    "start_time": "2022-11-11T12:49:00.099Z"
   },
   {
    "duration": 6,
    "start_time": "2022-11-11T12:51:26.021Z"
   },
   {
    "duration": 12,
    "start_time": "2022-11-11T12:51:44.280Z"
   },
   {
    "duration": 12,
    "start_time": "2022-11-11T12:52:18.005Z"
   },
   {
    "duration": 16,
    "start_time": "2022-11-11T12:52:42.161Z"
   },
   {
    "duration": 14,
    "start_time": "2022-11-11T12:53:02.794Z"
   },
   {
    "duration": 11,
    "start_time": "2022-11-11T12:53:24.102Z"
   },
   {
    "duration": 14,
    "start_time": "2022-11-11T12:54:28.170Z"
   },
   {
    "duration": 14,
    "start_time": "2022-11-11T12:54:47.889Z"
   },
   {
    "duration": 91,
    "start_time": "2022-11-11T12:54:56.202Z"
   },
   {
    "duration": 19,
    "start_time": "2022-11-11T12:55:08.142Z"
   },
   {
    "duration": 24,
    "start_time": "2022-11-11T12:58:00.428Z"
   },
   {
    "duration": 99,
    "start_time": "2022-11-11T12:58:23.667Z"
   },
   {
    "duration": 18,
    "start_time": "2022-11-11T12:58:27.799Z"
   },
   {
    "duration": 26,
    "start_time": "2022-11-11T12:58:49.704Z"
   },
   {
    "duration": 18,
    "start_time": "2022-11-11T12:58:53.468Z"
   },
   {
    "duration": 50,
    "start_time": "2022-11-11T13:02:56.062Z"
   },
   {
    "duration": 9,
    "start_time": "2022-11-11T13:03:48.318Z"
   },
   {
    "duration": 50,
    "start_time": "2022-11-11T13:06:00.316Z"
   },
   {
    "duration": 14,
    "start_time": "2022-11-11T13:08:32.125Z"
   },
   {
    "duration": 304,
    "start_time": "2022-11-11T13:09:20.977Z"
   },
   {
    "duration": 357,
    "start_time": "2022-11-11T13:09:44.433Z"
   },
   {
    "duration": 17,
    "start_time": "2022-11-11T13:09:58.181Z"
   },
   {
    "duration": 13,
    "start_time": "2022-11-11T13:10:39.281Z"
   },
   {
    "duration": 1299,
    "start_time": "2022-11-11T13:10:47.543Z"
   },
   {
    "duration": 14,
    "start_time": "2022-11-11T13:11:49.134Z"
   },
   {
    "duration": 13,
    "start_time": "2022-11-11T13:12:00.666Z"
   },
   {
    "duration": 10,
    "start_time": "2022-11-11T13:12:41.114Z"
   },
   {
    "duration": 14,
    "start_time": "2022-11-11T13:12:47.094Z"
   },
   {
    "duration": 21,
    "start_time": "2022-11-11T13:14:20.648Z"
   },
   {
    "duration": 9,
    "start_time": "2022-11-11T13:59:24.618Z"
   },
   {
    "duration": 4,
    "start_time": "2022-11-11T13:59:48.831Z"
   },
   {
    "duration": 10,
    "start_time": "2022-11-11T13:59:57.066Z"
   },
   {
    "duration": 8,
    "start_time": "2022-11-11T14:00:04.734Z"
   },
   {
    "duration": 232,
    "start_time": "2022-11-11T14:00:10.930Z"
   },
   {
    "duration": 175,
    "start_time": "2022-11-11T14:00:28.855Z"
   },
   {
    "duration": 323,
    "start_time": "2022-11-11T14:47:50.775Z"
   },
   {
    "duration": 8,
    "start_time": "2022-11-11T14:48:24.175Z"
   },
   {
    "duration": 10,
    "start_time": "2022-11-11T14:48:32.155Z"
   },
   {
    "duration": 9,
    "start_time": "2022-11-11T14:50:39.932Z"
   },
   {
    "duration": 12,
    "start_time": "2022-11-11T14:50:40.968Z"
   },
   {
    "duration": 182,
    "start_time": "2022-11-11T14:51:03.872Z"
   },
   {
    "duration": 157,
    "start_time": "2022-11-11T14:59:53.272Z"
   },
   {
    "duration": 256,
    "start_time": "2022-11-11T15:00:34.517Z"
   },
   {
    "duration": 10,
    "start_time": "2022-11-11T15:10:52.932Z"
   },
   {
    "duration": 11,
    "start_time": "2022-11-11T15:10:54.145Z"
   },
   {
    "duration": 175,
    "start_time": "2022-11-11T15:11:46.508Z"
   },
   {
    "duration": 11,
    "start_time": "2022-11-11T15:13:35.125Z"
   },
   {
    "duration": 9,
    "start_time": "2022-11-11T15:13:36.377Z"
   },
   {
    "duration": 164,
    "start_time": "2022-11-11T15:13:39.924Z"
   },
   {
    "duration": 1167,
    "start_time": "2022-11-11T15:15:17.906Z"
   },
   {
    "duration": 70,
    "start_time": "2022-11-11T15:15:19.076Z"
   },
   {
    "duration": 6,
    "start_time": "2022-11-11T15:15:19.147Z"
   },
   {
    "duration": 17,
    "start_time": "2022-11-11T15:15:19.155Z"
   },
   {
    "duration": 8,
    "start_time": "2022-11-11T15:15:19.174Z"
   },
   {
    "duration": 13,
    "start_time": "2022-11-11T15:15:19.184Z"
   },
   {
    "duration": 13,
    "start_time": "2022-11-11T15:15:19.198Z"
   },
   {
    "duration": 20,
    "start_time": "2022-11-11T15:15:19.213Z"
   },
   {
    "duration": 121,
    "start_time": "2022-11-11T15:15:19.235Z"
   },
   {
    "duration": 0,
    "start_time": "2022-11-11T15:15:19.358Z"
   },
   {
    "duration": 0,
    "start_time": "2022-11-11T15:15:19.359Z"
   },
   {
    "duration": 0,
    "start_time": "2022-11-11T15:15:19.361Z"
   },
   {
    "duration": 0,
    "start_time": "2022-11-11T15:15:19.362Z"
   },
   {
    "duration": 0,
    "start_time": "2022-11-11T15:15:19.363Z"
   },
   {
    "duration": 0,
    "start_time": "2022-11-11T15:15:19.364Z"
   },
   {
    "duration": 1173,
    "start_time": "2022-11-11T15:15:48.716Z"
   },
   {
    "duration": 69,
    "start_time": "2022-11-11T15:15:49.891Z"
   },
   {
    "duration": 6,
    "start_time": "2022-11-11T15:15:49.961Z"
   },
   {
    "duration": 45,
    "start_time": "2022-11-11T15:15:49.969Z"
   },
   {
    "duration": 34,
    "start_time": "2022-11-11T15:15:50.016Z"
   },
   {
    "duration": 45,
    "start_time": "2022-11-11T15:15:50.052Z"
   },
   {
    "duration": 17,
    "start_time": "2022-11-11T15:15:50.098Z"
   },
   {
    "duration": 30,
    "start_time": "2022-11-11T15:15:50.116Z"
   },
   {
    "duration": 74,
    "start_time": "2022-11-11T15:15:50.147Z"
   },
   {
    "duration": 0,
    "start_time": "2022-11-11T15:15:50.223Z"
   },
   {
    "duration": 0,
    "start_time": "2022-11-11T15:15:50.225Z"
   },
   {
    "duration": 0,
    "start_time": "2022-11-11T15:15:50.226Z"
   },
   {
    "duration": 0,
    "start_time": "2022-11-11T15:15:50.227Z"
   },
   {
    "duration": 0,
    "start_time": "2022-11-11T15:15:50.229Z"
   },
   {
    "duration": 0,
    "start_time": "2022-11-11T15:15:50.230Z"
   },
   {
    "duration": 1100,
    "start_time": "2022-11-11T15:16:58.842Z"
   },
   {
    "duration": 70,
    "start_time": "2022-11-11T15:16:59.944Z"
   },
   {
    "duration": 5,
    "start_time": "2022-11-11T15:17:00.016Z"
   },
   {
    "duration": 27,
    "start_time": "2022-11-11T15:17:00.023Z"
   },
   {
    "duration": 10,
    "start_time": "2022-11-11T15:17:00.052Z"
   },
   {
    "duration": 23,
    "start_time": "2022-11-11T15:17:00.064Z"
   },
   {
    "duration": 16,
    "start_time": "2022-11-11T15:17:00.089Z"
   },
   {
    "duration": 26,
    "start_time": "2022-11-11T15:17:00.106Z"
   },
   {
    "duration": 23,
    "start_time": "2022-11-11T15:17:00.134Z"
   },
   {
    "duration": 14,
    "start_time": "2022-11-11T15:17:00.159Z"
   },
   {
    "duration": 257,
    "start_time": "2022-11-11T15:17:00.174Z"
   },
   {
    "duration": 189,
    "start_time": "2022-11-11T15:17:00.432Z"
   },
   {
    "duration": 272,
    "start_time": "2022-11-11T15:17:00.623Z"
   },
   {
    "duration": 178,
    "start_time": "2022-11-11T15:17:00.896Z"
   },
   {
    "duration": 4,
    "start_time": "2022-11-11T15:17:01.075Z"
   },
   {
    "duration": 11,
    "start_time": "2022-11-11T15:18:02.902Z"
   },
   {
    "duration": 154,
    "start_time": "2022-11-11T15:18:07.106Z"
   },
   {
    "duration": 11,
    "start_time": "2022-11-11T15:18:13.342Z"
   },
   {
    "duration": 11,
    "start_time": "2022-11-11T15:22:33.978Z"
   },
   {
    "duration": 10,
    "start_time": "2022-11-11T15:24:13.749Z"
   },
   {
    "duration": 10,
    "start_time": "2022-11-11T15:24:15.305Z"
   },
   {
    "duration": 175,
    "start_time": "2022-11-11T15:24:19.093Z"
   },
   {
    "duration": 12,
    "start_time": "2022-11-11T15:24:24.873Z"
   },
   {
    "duration": 12,
    "start_time": "2022-11-11T15:25:27.466Z"
   },
   {
    "duration": 288,
    "start_time": "2022-11-11T15:29:38.120Z"
   },
   {
    "duration": 230,
    "start_time": "2022-11-11T15:29:50.123Z"
   },
   {
    "duration": 229,
    "start_time": "2022-11-11T15:30:02.759Z"
   },
   {
    "duration": 258,
    "start_time": "2022-11-11T15:30:16.430Z"
   },
   {
    "duration": 271,
    "start_time": "2022-11-11T15:34:44.610Z"
   },
   {
    "duration": 252,
    "start_time": "2022-11-11T15:35:10.338Z"
   },
   {
    "duration": 287,
    "start_time": "2022-11-11T15:35:20.822Z"
   },
   {
    "duration": 287,
    "start_time": "2022-11-11T15:35:38.731Z"
   },
   {
    "duration": 270,
    "start_time": "2022-11-11T15:36:00.343Z"
   },
   {
    "duration": 258,
    "start_time": "2022-11-11T15:38:28.147Z"
   },
   {
    "duration": 54,
    "start_time": "2022-11-11T16:13:45.016Z"
   },
   {
    "duration": 71,
    "start_time": "2022-11-11T16:15:48.143Z"
   },
   {
    "duration": 10,
    "start_time": "2022-11-11T16:16:04.623Z"
   },
   {
    "duration": 109,
    "start_time": "2022-11-11T16:16:10.416Z"
   },
   {
    "duration": 56,
    "start_time": "2022-11-11T16:16:32.320Z"
   },
   {
    "duration": 103,
    "start_time": "2022-11-11T16:16:51.136Z"
   },
   {
    "duration": 5,
    "start_time": "2022-11-11T16:25:04.872Z"
   },
   {
    "duration": 129,
    "start_time": "2022-11-11T16:28:30.362Z"
   },
   {
    "duration": 115,
    "start_time": "2022-11-11T16:29:46.471Z"
   },
   {
    "duration": 122,
    "start_time": "2022-11-11T16:30:05.123Z"
   },
   {
    "duration": 6,
    "start_time": "2022-11-11T16:33:00.636Z"
   },
   {
    "duration": 7,
    "start_time": "2022-11-11T16:40:38.155Z"
   },
   {
    "duration": 6,
    "start_time": "2022-11-11T16:40:46.532Z"
   },
   {
    "duration": 1121,
    "start_time": "2022-11-11T16:50:03.542Z"
   },
   {
    "duration": 19,
    "start_time": "2022-11-11T16:51:02.978Z"
   },
   {
    "duration": 140,
    "start_time": "2022-11-11T16:51:17.521Z"
   },
   {
    "duration": 117,
    "start_time": "2022-11-11T16:52:44.490Z"
   },
   {
    "duration": 9,
    "start_time": "2022-11-11T16:53:18.327Z"
   },
   {
    "duration": 12,
    "start_time": "2022-11-11T16:53:35.758Z"
   },
   {
    "duration": 11,
    "start_time": "2022-11-11T16:54:00.155Z"
   },
   {
    "duration": 8,
    "start_time": "2022-11-11T16:55:17.696Z"
   },
   {
    "duration": 169,
    "start_time": "2022-11-11T16:55:25.056Z"
   },
   {
    "duration": 71,
    "start_time": "2022-11-11T16:57:30.809Z"
   },
   {
    "duration": 130,
    "start_time": "2022-11-11T16:58:32.309Z"
   },
   {
    "duration": 18,
    "start_time": "2022-11-11T16:59:11.529Z"
   },
   {
    "duration": 12,
    "start_time": "2022-11-11T16:59:45.382Z"
   },
   {
    "duration": 11,
    "start_time": "2022-11-11T17:00:03.690Z"
   },
   {
    "duration": 12,
    "start_time": "2022-11-11T17:00:26.458Z"
   },
   {
    "duration": 71,
    "start_time": "2022-11-11T17:00:49.659Z"
   },
   {
    "duration": 28,
    "start_time": "2022-11-11T17:02:38.278Z"
   },
   {
    "duration": 14,
    "start_time": "2022-11-11T17:03:01.927Z"
   },
   {
    "duration": 30,
    "start_time": "2022-11-11T17:03:11.508Z"
   },
   {
    "duration": 35,
    "start_time": "2022-11-11T17:04:40.995Z"
   },
   {
    "duration": 10,
    "start_time": "2022-11-11T17:05:03.676Z"
   },
   {
    "duration": 11,
    "start_time": "2022-11-11T17:05:17.296Z"
   },
   {
    "duration": 36,
    "start_time": "2022-11-11T17:05:21.160Z"
   },
   {
    "duration": 39,
    "start_time": "2022-11-11T17:06:08.568Z"
   },
   {
    "duration": 38,
    "start_time": "2022-11-11T17:06:16.952Z"
   },
   {
    "duration": 45,
    "start_time": "2022-11-11T17:06:43.852Z"
   },
   {
    "duration": 93,
    "start_time": "2022-11-11T17:07:04.956Z"
   },
   {
    "duration": 23,
    "start_time": "2022-11-11T17:08:58.338Z"
   },
   {
    "duration": 3,
    "start_time": "2022-11-11T17:09:25.642Z"
   },
   {
    "duration": 52,
    "start_time": "2022-11-11T17:09:30.606Z"
   },
   {
    "duration": 7,
    "start_time": "2022-11-11T17:18:48.807Z"
   },
   {
    "duration": 8,
    "start_time": "2022-11-11T17:22:17.523Z"
   },
   {
    "duration": 40,
    "start_time": "2022-11-11T17:27:11.036Z"
   },
   {
    "duration": 89,
    "start_time": "2022-11-11T17:31:32.677Z"
   },
   {
    "duration": 40,
    "start_time": "2022-11-11T17:31:40.553Z"
   },
   {
    "duration": 7,
    "start_time": "2022-11-11T17:32:43.738Z"
   },
   {
    "duration": 20,
    "start_time": "2022-11-11T17:34:11.891Z"
   },
   {
    "duration": 16,
    "start_time": "2022-11-11T17:34:50.947Z"
   },
   {
    "duration": 1183,
    "start_time": "2022-11-11T17:34:56.661Z"
   },
   {
    "duration": 70,
    "start_time": "2022-11-11T17:34:57.847Z"
   },
   {
    "duration": 5,
    "start_time": "2022-11-11T17:34:57.918Z"
   },
   {
    "duration": 17,
    "start_time": "2022-11-11T17:34:57.925Z"
   },
   {
    "duration": 5,
    "start_time": "2022-11-11T17:34:57.944Z"
   },
   {
    "duration": 12,
    "start_time": "2022-11-11T17:34:57.951Z"
   },
   {
    "duration": 11,
    "start_time": "2022-11-11T17:34:57.965Z"
   },
   {
    "duration": 37,
    "start_time": "2022-11-11T17:34:57.978Z"
   },
   {
    "duration": 19,
    "start_time": "2022-11-11T17:34:58.016Z"
   },
   {
    "duration": 20,
    "start_time": "2022-11-11T17:34:58.038Z"
   },
   {
    "duration": 279,
    "start_time": "2022-11-11T17:34:58.060Z"
   },
   {
    "duration": 208,
    "start_time": "2022-11-11T17:34:58.341Z"
   },
   {
    "duration": 285,
    "start_time": "2022-11-11T17:34:58.551Z"
   },
   {
    "duration": 293,
    "start_time": "2022-11-11T17:34:58.838Z"
   },
   {
    "duration": 311,
    "start_time": "2022-11-11T17:34:59.133Z"
   },
   {
    "duration": 107,
    "start_time": "2022-11-11T17:34:59.446Z"
   },
   {
    "duration": 168,
    "start_time": "2022-11-11T17:34:59.555Z"
   },
   {
    "duration": 7,
    "start_time": "2022-11-11T17:34:59.726Z"
   },
   {
    "duration": 145,
    "start_time": "2022-11-11T17:34:59.734Z"
   },
   {
    "duration": 156,
    "start_time": "2022-11-11T17:34:59.881Z"
   },
   {
    "duration": 6,
    "start_time": "2022-11-11T17:35:00.039Z"
   },
   {
    "duration": 164,
    "start_time": "2022-11-11T17:35:00.047Z"
   },
   {
    "duration": 7,
    "start_time": "2022-11-11T17:35:00.213Z"
   },
   {
    "duration": 42,
    "start_time": "2022-11-11T17:35:00.222Z"
   },
   {
    "duration": 9,
    "start_time": "2022-11-11T17:35:00.265Z"
   },
   {
    "duration": 29,
    "start_time": "2022-11-11T17:35:00.276Z"
   },
   {
    "duration": 94,
    "start_time": "2022-11-11T17:36:57.632Z"
   },
   {
    "duration": 115,
    "start_time": "2022-11-11T17:37:04.319Z"
   },
   {
    "duration": 1202,
    "start_time": "2022-11-11T17:38:06.948Z"
   },
   {
    "duration": 74,
    "start_time": "2022-11-11T17:38:08.152Z"
   },
   {
    "duration": 7,
    "start_time": "2022-11-11T17:38:08.228Z"
   },
   {
    "duration": 37,
    "start_time": "2022-11-11T17:38:08.238Z"
   },
   {
    "duration": 27,
    "start_time": "2022-11-11T17:38:08.277Z"
   },
   {
    "duration": 30,
    "start_time": "2022-11-11T17:38:08.306Z"
   },
   {
    "duration": 25,
    "start_time": "2022-11-11T17:38:08.337Z"
   },
   {
    "duration": 33,
    "start_time": "2022-11-11T17:38:08.364Z"
   },
   {
    "duration": 31,
    "start_time": "2022-11-11T17:38:08.399Z"
   },
   {
    "duration": 32,
    "start_time": "2022-11-11T17:38:08.434Z"
   },
   {
    "duration": 287,
    "start_time": "2022-11-11T17:38:08.468Z"
   },
   {
    "duration": 197,
    "start_time": "2022-11-11T17:38:08.757Z"
   },
   {
    "duration": 282,
    "start_time": "2022-11-11T17:38:08.956Z"
   },
   {
    "duration": 290,
    "start_time": "2022-11-11T17:38:09.239Z"
   },
   {
    "duration": 292,
    "start_time": "2022-11-11T17:38:09.531Z"
   },
   {
    "duration": 93,
    "start_time": "2022-11-11T17:38:09.824Z"
   },
   {
    "duration": 114,
    "start_time": "2022-11-11T17:38:09.919Z"
   },
   {
    "duration": 6,
    "start_time": "2022-11-11T17:38:10.035Z"
   },
   {
    "duration": 174,
    "start_time": "2022-11-11T17:38:10.042Z"
   },
   {
    "duration": 138,
    "start_time": "2022-11-11T17:38:10.218Z"
   },
   {
    "duration": 8,
    "start_time": "2022-11-11T17:38:10.357Z"
   },
   {
    "duration": 141,
    "start_time": "2022-11-11T17:38:10.367Z"
   },
   {
    "duration": 8,
    "start_time": "2022-11-11T17:38:10.509Z"
   },
   {
    "duration": 62,
    "start_time": "2022-11-11T17:38:10.518Z"
   },
   {
    "duration": 130,
    "start_time": "2022-11-11T17:38:10.582Z"
   },
   {
    "duration": 8,
    "start_time": "2022-11-11T17:38:10.715Z"
   },
   {
    "duration": 43,
    "start_time": "2022-11-11T17:38:10.724Z"
   },
   {
    "duration": 1224,
    "start_time": "2022-11-11T17:39:29.689Z"
   },
   {
    "duration": 70,
    "start_time": "2022-11-11T17:39:30.915Z"
   },
   {
    "duration": 5,
    "start_time": "2022-11-11T17:39:30.986Z"
   },
   {
    "duration": 54,
    "start_time": "2022-11-11T17:39:30.994Z"
   },
   {
    "duration": 11,
    "start_time": "2022-11-11T17:39:31.049Z"
   },
   {
    "duration": 21,
    "start_time": "2022-11-11T17:39:31.062Z"
   },
   {
    "duration": 15,
    "start_time": "2022-11-11T17:39:31.085Z"
   },
   {
    "duration": 41,
    "start_time": "2022-11-11T17:39:31.102Z"
   },
   {
    "duration": 28,
    "start_time": "2022-11-11T17:39:31.145Z"
   },
   {
    "duration": 31,
    "start_time": "2022-11-11T17:39:31.177Z"
   },
   {
    "duration": 288,
    "start_time": "2022-11-11T17:39:31.210Z"
   },
   {
    "duration": 184,
    "start_time": "2022-11-11T17:39:31.500Z"
   },
   {
    "duration": 306,
    "start_time": "2022-11-11T17:39:31.686Z"
   },
   {
    "duration": 299,
    "start_time": "2022-11-11T17:39:31.994Z"
   },
   {
    "duration": 310,
    "start_time": "2022-11-11T17:39:32.294Z"
   },
   {
    "duration": 87,
    "start_time": "2022-11-11T17:39:32.606Z"
   },
   {
    "duration": 117,
    "start_time": "2022-11-11T17:39:32.695Z"
   },
   {
    "duration": 6,
    "start_time": "2022-11-11T17:39:32.813Z"
   },
   {
    "duration": 137,
    "start_time": "2022-11-11T17:39:32.821Z"
   },
   {
    "duration": 130,
    "start_time": "2022-11-11T17:39:32.959Z"
   },
   {
    "duration": 14,
    "start_time": "2022-11-11T17:39:33.090Z"
   },
   {
    "duration": 121,
    "start_time": "2022-11-11T17:39:33.106Z"
   },
   {
    "duration": 7,
    "start_time": "2022-11-11T17:39:33.229Z"
   },
   {
    "duration": 39,
    "start_time": "2022-11-11T17:39:33.237Z"
   },
   {
    "duration": 134,
    "start_time": "2022-11-11T17:39:33.277Z"
   },
   {
    "duration": 10,
    "start_time": "2022-11-11T17:39:33.412Z"
   },
   {
    "duration": 8,
    "start_time": "2022-11-11T17:39:33.423Z"
   },
   {
    "duration": 92,
    "start_time": "2022-11-11T17:51:30.369Z"
   },
   {
    "duration": 1121,
    "start_time": "2022-11-11T17:51:36.126Z"
   },
   {
    "duration": 68,
    "start_time": "2022-11-11T17:51:37.249Z"
   },
   {
    "duration": 5,
    "start_time": "2022-11-11T17:51:37.319Z"
   },
   {
    "duration": 23,
    "start_time": "2022-11-11T17:51:37.325Z"
   },
   {
    "duration": 42,
    "start_time": "2022-11-11T17:51:37.350Z"
   },
   {
    "duration": 18,
    "start_time": "2022-11-11T17:51:37.394Z"
   },
   {
    "duration": 15,
    "start_time": "2022-11-11T17:51:37.413Z"
   },
   {
    "duration": 21,
    "start_time": "2022-11-11T17:51:37.430Z"
   },
   {
    "duration": 37,
    "start_time": "2022-11-11T17:51:37.453Z"
   },
   {
    "duration": 16,
    "start_time": "2022-11-11T17:51:37.504Z"
   },
   {
    "duration": 29,
    "start_time": "2022-11-11T17:51:37.522Z"
   },
   {
    "duration": 269,
    "start_time": "2022-11-11T17:51:37.553Z"
   },
   {
    "duration": 190,
    "start_time": "2022-11-11T17:51:37.824Z"
   },
   {
    "duration": 307,
    "start_time": "2022-11-11T17:51:38.016Z"
   },
   {
    "duration": 288,
    "start_time": "2022-11-11T17:51:38.324Z"
   },
   {
    "duration": 297,
    "start_time": "2022-11-11T17:51:38.614Z"
   },
   {
    "duration": 76,
    "start_time": "2022-11-11T17:51:38.913Z"
   },
   {
    "duration": 129,
    "start_time": "2022-11-11T17:51:38.991Z"
   },
   {
    "duration": 5,
    "start_time": "2022-11-11T17:51:39.122Z"
   },
   {
    "duration": 130,
    "start_time": "2022-11-11T17:51:39.128Z"
   },
   {
    "duration": 147,
    "start_time": "2022-11-11T17:51:39.259Z"
   },
   {
    "duration": 4,
    "start_time": "2022-11-11T17:51:39.408Z"
   },
   {
    "duration": 122,
    "start_time": "2022-11-11T17:51:39.414Z"
   },
   {
    "duration": 7,
    "start_time": "2022-11-11T17:51:39.538Z"
   },
   {
    "duration": 66,
    "start_time": "2022-11-11T17:51:39.546Z"
   },
   {
    "duration": 10,
    "start_time": "2022-11-11T17:51:39.613Z"
   },
   {
    "duration": 119,
    "start_time": "2022-11-11T17:51:39.625Z"
   },
   {
    "duration": 4,
    "start_time": "2022-11-11T17:51:39.746Z"
   },
   {
    "duration": 12,
    "start_time": "2022-11-11T17:52:14.210Z"
   },
   {
    "duration": 12,
    "start_time": "2022-11-11T17:52:18.754Z"
   },
   {
    "duration": 1173,
    "start_time": "2022-11-11T17:54:31.607Z"
   },
   {
    "duration": 6,
    "start_time": "2022-11-11T17:55:04.700Z"
   },
   {
    "duration": 14,
    "start_time": "2022-11-11T17:55:14.583Z"
   },
   {
    "duration": 149,
    "start_time": "2022-11-11T17:55:19.815Z"
   },
   {
    "duration": 142,
    "start_time": "2022-11-11T17:56:50.564Z"
   },
   {
    "duration": 151,
    "start_time": "2022-11-11T17:57:08.692Z"
   },
   {
    "duration": 148,
    "start_time": "2022-11-11T17:57:39.748Z"
   },
   {
    "duration": 6,
    "start_time": "2022-11-11T18:05:11.207Z"
   },
   {
    "duration": 5,
    "start_time": "2022-11-11T18:05:42.044Z"
   },
   {
    "duration": 6,
    "start_time": "2022-11-11T18:05:55.176Z"
   },
   {
    "duration": 5,
    "start_time": "2022-11-11T18:05:59.964Z"
   },
   {
    "duration": 12,
    "start_time": "2022-11-11T18:08:46.141Z"
   },
   {
    "duration": 4,
    "start_time": "2022-11-11T18:09:13.025Z"
   },
   {
    "duration": 17,
    "start_time": "2022-11-11T18:09:17.597Z"
   },
   {
    "duration": 8,
    "start_time": "2022-11-11T18:09:26.169Z"
   },
   {
    "duration": 4,
    "start_time": "2022-11-11T18:12:45.089Z"
   },
   {
    "duration": 7,
    "start_time": "2022-11-11T18:13:09.083Z"
   },
   {
    "duration": 7,
    "start_time": "2022-11-11T18:14:15.351Z"
   },
   {
    "duration": 25,
    "start_time": "2022-11-11T18:16:02.096Z"
   },
   {
    "duration": 823,
    "start_time": "2022-11-11T18:16:12.229Z"
   },
   {
    "duration": 7,
    "start_time": "2022-11-11T18:16:39.708Z"
   },
   {
    "duration": 7,
    "start_time": "2022-11-11T18:16:49.968Z"
   },
   {
    "duration": 1321,
    "start_time": "2022-11-11T18:17:26.469Z"
   },
   {
    "duration": 79,
    "start_time": "2022-11-11T18:17:27.794Z"
   },
   {
    "duration": 7,
    "start_time": "2022-11-11T18:17:27.877Z"
   },
   {
    "duration": 30,
    "start_time": "2022-11-11T18:17:27.887Z"
   },
   {
    "duration": 10,
    "start_time": "2022-11-11T18:17:27.919Z"
   },
   {
    "duration": 22,
    "start_time": "2022-11-11T18:17:27.931Z"
   },
   {
    "duration": 17,
    "start_time": "2022-11-11T18:17:27.955Z"
   },
   {
    "duration": 46,
    "start_time": "2022-11-11T18:17:27.973Z"
   },
   {
    "duration": 30,
    "start_time": "2022-11-11T18:17:28.021Z"
   },
   {
    "duration": 14,
    "start_time": "2022-11-11T18:17:28.055Z"
   },
   {
    "duration": 34,
    "start_time": "2022-11-11T18:17:28.071Z"
   },
   {
    "duration": 392,
    "start_time": "2022-11-11T18:17:28.107Z"
   },
   {
    "duration": 228,
    "start_time": "2022-11-11T18:17:28.505Z"
   },
   {
    "duration": 289,
    "start_time": "2022-11-11T18:17:28.734Z"
   },
   {
    "duration": 296,
    "start_time": "2022-11-11T18:17:29.026Z"
   },
   {
    "duration": 313,
    "start_time": "2022-11-11T18:17:29.324Z"
   },
   {
    "duration": 83,
    "start_time": "2022-11-11T18:17:29.638Z"
   },
   {
    "duration": 133,
    "start_time": "2022-11-11T18:17:29.723Z"
   },
   {
    "duration": 5,
    "start_time": "2022-11-11T18:17:29.858Z"
   },
   {
    "duration": 174,
    "start_time": "2022-11-11T18:17:29.865Z"
   },
   {
    "duration": 149,
    "start_time": "2022-11-11T18:17:30.041Z"
   },
   {
    "duration": 14,
    "start_time": "2022-11-11T18:17:30.193Z"
   },
   {
    "duration": 131,
    "start_time": "2022-11-11T18:17:30.209Z"
   },
   {
    "duration": 17,
    "start_time": "2022-11-11T18:17:30.342Z"
   },
   {
    "duration": 60,
    "start_time": "2022-11-11T18:17:30.361Z"
   },
   {
    "duration": 10,
    "start_time": "2022-11-11T18:17:30.423Z"
   },
   {
    "duration": 1490,
    "start_time": "2022-11-11T18:17:30.435Z"
   },
   {
    "duration": 0,
    "start_time": "2022-11-11T18:17:31.927Z"
   },
   {
    "duration": 0,
    "start_time": "2022-11-11T18:17:31.929Z"
   },
   {
    "duration": 0,
    "start_time": "2022-11-11T18:17:31.931Z"
   },
   {
    "duration": 0,
    "start_time": "2022-11-11T18:17:31.932Z"
   },
   {
    "duration": 106,
    "start_time": "2022-11-11T18:18:02.321Z"
   },
   {
    "duration": 30,
    "start_time": "2022-11-11T18:18:19.877Z"
   },
   {
    "duration": 12,
    "start_time": "2022-11-11T18:19:58.801Z"
   },
   {
    "duration": 1258,
    "start_time": "2022-11-11T18:20:02.597Z"
   },
   {
    "duration": 88,
    "start_time": "2022-11-11T18:20:03.857Z"
   },
   {
    "duration": 8,
    "start_time": "2022-11-11T18:20:03.947Z"
   },
   {
    "duration": 30,
    "start_time": "2022-11-11T18:20:03.958Z"
   },
   {
    "duration": 8,
    "start_time": "2022-11-11T18:20:03.990Z"
   },
   {
    "duration": 27,
    "start_time": "2022-11-11T18:20:04.000Z"
   },
   {
    "duration": 18,
    "start_time": "2022-11-11T18:20:04.030Z"
   },
   {
    "duration": 28,
    "start_time": "2022-11-11T18:20:04.050Z"
   },
   {
    "duration": 33,
    "start_time": "2022-11-11T18:20:04.080Z"
   },
   {
    "duration": 14,
    "start_time": "2022-11-11T18:20:04.116Z"
   },
   {
    "duration": 20,
    "start_time": "2022-11-11T18:20:04.132Z"
   },
   {
    "duration": 278,
    "start_time": "2022-11-11T18:20:04.155Z"
   },
   {
    "duration": 174,
    "start_time": "2022-11-11T18:20:04.434Z"
   },
   {
    "duration": 285,
    "start_time": "2022-11-11T18:20:04.609Z"
   },
   {
    "duration": 326,
    "start_time": "2022-11-11T18:20:04.896Z"
   },
   {
    "duration": 307,
    "start_time": "2022-11-11T18:20:05.224Z"
   },
   {
    "duration": 80,
    "start_time": "2022-11-11T18:20:05.533Z"
   },
   {
    "duration": 114,
    "start_time": "2022-11-11T18:20:05.615Z"
   },
   {
    "duration": 5,
    "start_time": "2022-11-11T18:20:05.730Z"
   },
   {
    "duration": 150,
    "start_time": "2022-11-11T18:20:05.737Z"
   },
   {
    "duration": 143,
    "start_time": "2022-11-11T18:20:05.888Z"
   },
   {
    "duration": 4,
    "start_time": "2022-11-11T18:20:06.033Z"
   },
   {
    "duration": 138,
    "start_time": "2022-11-11T18:20:06.039Z"
   },
   {
    "duration": 7,
    "start_time": "2022-11-11T18:20:06.179Z"
   },
   {
    "duration": 66,
    "start_time": "2022-11-11T18:20:06.188Z"
   },
   {
    "duration": 8,
    "start_time": "2022-11-11T18:20:06.256Z"
   },
   {
    "duration": 3349,
    "start_time": "2022-11-11T18:20:06.265Z"
   },
   {
    "duration": 0,
    "start_time": "2022-11-11T18:20:09.616Z"
   },
   {
    "duration": 0,
    "start_time": "2022-11-11T18:20:09.617Z"
   },
   {
    "duration": 0,
    "start_time": "2022-11-11T18:20:09.618Z"
   },
   {
    "duration": 0,
    "start_time": "2022-11-11T18:20:09.620Z"
   },
   {
    "duration": 1257,
    "start_time": "2022-11-11T18:20:30.219Z"
   },
   {
    "duration": 72,
    "start_time": "2022-11-11T18:20:31.478Z"
   },
   {
    "duration": 6,
    "start_time": "2022-11-11T18:20:31.552Z"
   },
   {
    "duration": 33,
    "start_time": "2022-11-11T18:20:31.560Z"
   },
   {
    "duration": 18,
    "start_time": "2022-11-11T18:20:31.594Z"
   },
   {
    "duration": 40,
    "start_time": "2022-11-11T18:20:31.614Z"
   },
   {
    "duration": 39,
    "start_time": "2022-11-11T18:20:31.655Z"
   },
   {
    "duration": 29,
    "start_time": "2022-11-11T18:20:31.695Z"
   },
   {
    "duration": 21,
    "start_time": "2022-11-11T18:20:31.726Z"
   },
   {
    "duration": 13,
    "start_time": "2022-11-11T18:20:31.750Z"
   },
   {
    "duration": 17,
    "start_time": "2022-11-11T18:20:31.765Z"
   },
   {
    "duration": 286,
    "start_time": "2022-11-11T18:20:31.784Z"
   },
   {
    "duration": 209,
    "start_time": "2022-11-11T18:20:32.071Z"
   },
   {
    "duration": 376,
    "start_time": "2022-11-11T18:20:32.282Z"
   },
   {
    "duration": 298,
    "start_time": "2022-11-11T18:20:32.660Z"
   },
   {
    "duration": 291,
    "start_time": "2022-11-11T18:20:32.960Z"
   },
   {
    "duration": 124,
    "start_time": "2022-11-11T18:20:33.254Z"
   },
   {
    "duration": 116,
    "start_time": "2022-11-11T18:20:33.379Z"
   },
   {
    "duration": 5,
    "start_time": "2022-11-11T18:20:33.505Z"
   },
   {
    "duration": 144,
    "start_time": "2022-11-11T18:20:33.512Z"
   },
   {
    "duration": 154,
    "start_time": "2022-11-11T18:20:33.657Z"
   },
   {
    "duration": 6,
    "start_time": "2022-11-11T18:20:33.813Z"
   },
   {
    "duration": 155,
    "start_time": "2022-11-11T18:20:33.821Z"
   },
   {
    "duration": 6,
    "start_time": "2022-11-11T18:20:33.978Z"
   },
   {
    "duration": 41,
    "start_time": "2022-11-11T18:20:33.986Z"
   },
   {
    "duration": 8,
    "start_time": "2022-11-11T18:20:34.029Z"
   },
   {
    "duration": 113,
    "start_time": "2022-11-11T18:20:34.038Z"
   },
   {
    "duration": 1601,
    "start_time": "2022-11-11T18:20:34.154Z"
   },
   {
    "duration": 0,
    "start_time": "2022-11-11T18:20:35.758Z"
   },
   {
    "duration": 0,
    "start_time": "2022-11-11T18:20:35.759Z"
   },
   {
    "duration": 0,
    "start_time": "2022-11-11T18:20:35.761Z"
   },
   {
    "duration": 1172,
    "start_time": "2022-11-11T18:21:21.503Z"
   },
   {
    "duration": 68,
    "start_time": "2022-11-11T18:21:22.677Z"
   },
   {
    "duration": 5,
    "start_time": "2022-11-11T18:21:22.746Z"
   },
   {
    "duration": 17,
    "start_time": "2022-11-11T18:21:22.753Z"
   },
   {
    "duration": 14,
    "start_time": "2022-11-11T18:21:22.771Z"
   },
   {
    "duration": 13,
    "start_time": "2022-11-11T18:21:22.786Z"
   },
   {
    "duration": 16,
    "start_time": "2022-11-11T18:21:22.801Z"
   },
   {
    "duration": 23,
    "start_time": "2022-11-11T18:21:22.818Z"
   },
   {
    "duration": 25,
    "start_time": "2022-11-11T18:21:22.843Z"
   },
   {
    "duration": 28,
    "start_time": "2022-11-11T18:21:22.870Z"
   },
   {
    "duration": 16,
    "start_time": "2022-11-11T18:21:22.900Z"
   },
   {
    "duration": 246,
    "start_time": "2022-11-11T18:21:22.917Z"
   },
   {
    "duration": 184,
    "start_time": "2022-11-11T18:21:23.165Z"
   },
   {
    "duration": 261,
    "start_time": "2022-11-11T18:21:23.350Z"
   },
   {
    "duration": 309,
    "start_time": "2022-11-11T18:21:23.612Z"
   },
   {
    "duration": 302,
    "start_time": "2022-11-11T18:21:23.923Z"
   },
   {
    "duration": 88,
    "start_time": "2022-11-11T18:21:24.226Z"
   },
   {
    "duration": 112,
    "start_time": "2022-11-11T18:21:24.315Z"
   },
   {
    "duration": 6,
    "start_time": "2022-11-11T18:21:24.428Z"
   },
   {
    "duration": 130,
    "start_time": "2022-11-11T18:21:24.435Z"
   },
   {
    "duration": 140,
    "start_time": "2022-11-11T18:21:24.567Z"
   },
   {
    "duration": 5,
    "start_time": "2022-11-11T18:21:24.708Z"
   },
   {
    "duration": 119,
    "start_time": "2022-11-11T18:21:24.715Z"
   },
   {
    "duration": 5,
    "start_time": "2022-11-11T18:21:24.836Z"
   },
   {
    "duration": 35,
    "start_time": "2022-11-11T18:21:24.843Z"
   },
   {
    "duration": 30,
    "start_time": "2022-11-11T18:21:24.879Z"
   },
   {
    "duration": 7,
    "start_time": "2022-11-11T18:21:24.911Z"
   },
   {
    "duration": 166,
    "start_time": "2022-11-11T18:21:24.921Z"
   },
   {
    "duration": 6,
    "start_time": "2022-11-11T18:21:25.089Z"
   },
   {
    "duration": 8,
    "start_time": "2022-11-11T18:21:25.105Z"
   },
   {
    "duration": 17,
    "start_time": "2022-11-11T18:21:25.115Z"
   },
   {
    "duration": 1177,
    "start_time": "2022-11-11T18:23:45.100Z"
   },
   {
    "duration": 70,
    "start_time": "2022-11-11T18:23:46.279Z"
   },
   {
    "duration": 5,
    "start_time": "2022-11-11T18:23:46.351Z"
   },
   {
    "duration": 14,
    "start_time": "2022-11-11T18:23:46.358Z"
   },
   {
    "duration": 8,
    "start_time": "2022-11-11T18:23:46.374Z"
   },
   {
    "duration": 13,
    "start_time": "2022-11-11T18:23:46.384Z"
   },
   {
    "duration": 15,
    "start_time": "2022-11-11T18:23:46.399Z"
   },
   {
    "duration": 30,
    "start_time": "2022-11-11T18:23:46.415Z"
   },
   {
    "duration": 20,
    "start_time": "2022-11-11T18:23:46.447Z"
   },
   {
    "duration": 9,
    "start_time": "2022-11-11T18:23:46.470Z"
   },
   {
    "duration": 12,
    "start_time": "2022-11-11T18:23:46.481Z"
   },
   {
    "duration": 259,
    "start_time": "2022-11-11T18:23:46.504Z"
   },
   {
    "duration": 186,
    "start_time": "2022-11-11T18:23:46.765Z"
   },
   {
    "duration": 264,
    "start_time": "2022-11-11T18:23:46.953Z"
   },
   {
    "duration": 314,
    "start_time": "2022-11-11T18:23:47.219Z"
   },
   {
    "duration": 296,
    "start_time": "2022-11-11T18:23:47.535Z"
   },
   {
    "duration": 101,
    "start_time": "2022-11-11T18:23:47.833Z"
   },
   {
    "duration": 117,
    "start_time": "2022-11-11T18:23:47.936Z"
   },
   {
    "duration": 6,
    "start_time": "2022-11-11T18:23:48.055Z"
   },
   {
    "duration": 126,
    "start_time": "2022-11-11T18:23:48.063Z"
   },
   {
    "duration": 156,
    "start_time": "2022-11-11T18:23:48.191Z"
   },
   {
    "duration": 5,
    "start_time": "2022-11-11T18:23:48.348Z"
   },
   {
    "duration": 128,
    "start_time": "2022-11-11T18:23:48.355Z"
   },
   {
    "duration": 24,
    "start_time": "2022-11-11T18:23:48.485Z"
   },
   {
    "duration": 59,
    "start_time": "2022-11-11T18:23:48.511Z"
   },
   {
    "duration": 10,
    "start_time": "2022-11-11T18:23:48.572Z"
   },
   {
    "duration": 39,
    "start_time": "2022-11-11T18:23:48.586Z"
   },
   {
    "duration": 185,
    "start_time": "2022-11-11T18:23:48.627Z"
   },
   {
    "duration": 6,
    "start_time": "2022-11-11T18:23:48.814Z"
   },
   {
    "duration": 82,
    "start_time": "2022-11-11T18:23:48.821Z"
   },
   {
    "duration": 22,
    "start_time": "2022-11-11T18:23:48.905Z"
   },
   {
    "duration": 1137,
    "start_time": "2022-11-11T20:55:49.525Z"
   },
   {
    "duration": 64,
    "start_time": "2022-11-11T20:55:50.664Z"
   },
   {
    "duration": 5,
    "start_time": "2022-11-11T20:55:50.730Z"
   },
   {
    "duration": 17,
    "start_time": "2022-11-11T20:55:50.736Z"
   },
   {
    "duration": 24,
    "start_time": "2022-11-11T20:55:50.755Z"
   },
   {
    "duration": 24,
    "start_time": "2022-11-11T20:55:50.781Z"
   },
   {
    "duration": 27,
    "start_time": "2022-11-11T20:55:50.807Z"
   },
   {
    "duration": 23,
    "start_time": "2022-11-11T20:55:50.836Z"
   },
   {
    "duration": 18,
    "start_time": "2022-11-11T20:55:50.860Z"
   },
   {
    "duration": 10,
    "start_time": "2022-11-11T20:55:50.880Z"
   },
   {
    "duration": 20,
    "start_time": "2022-11-11T20:55:50.891Z"
   },
   {
    "duration": 248,
    "start_time": "2022-11-11T20:55:50.912Z"
   },
   {
    "duration": 175,
    "start_time": "2022-11-11T20:55:51.162Z"
   },
   {
    "duration": 284,
    "start_time": "2022-11-11T20:55:51.339Z"
   },
   {
    "duration": 301,
    "start_time": "2022-11-11T20:55:51.624Z"
   },
   {
    "duration": 320,
    "start_time": "2022-11-11T20:55:51.926Z"
   },
   {
    "duration": 55,
    "start_time": "2022-11-11T20:55:52.251Z"
   },
   {
    "duration": 139,
    "start_time": "2022-11-11T20:55:52.307Z"
   },
   {
    "duration": 8,
    "start_time": "2022-11-11T20:55:52.448Z"
   },
   {
    "duration": 133,
    "start_time": "2022-11-11T20:55:52.458Z"
   },
   {
    "duration": 125,
    "start_time": "2022-11-11T20:55:52.593Z"
   },
   {
    "duration": 5,
    "start_time": "2022-11-11T20:55:52.719Z"
   },
   {
    "duration": 110,
    "start_time": "2022-11-11T20:55:52.725Z"
   },
   {
    "duration": 16,
    "start_time": "2022-11-11T20:55:52.837Z"
   },
   {
    "duration": 34,
    "start_time": "2022-11-11T20:55:52.855Z"
   },
   {
    "duration": 9,
    "start_time": "2022-11-11T20:55:52.890Z"
   },
   {
    "duration": 16,
    "start_time": "2022-11-11T20:55:52.901Z"
   },
   {
    "duration": 151,
    "start_time": "2022-11-11T20:55:52.918Z"
   },
   {
    "duration": 6,
    "start_time": "2022-11-11T20:55:53.071Z"
   },
   {
    "duration": 10,
    "start_time": "2022-11-11T20:55:53.078Z"
   },
   {
    "duration": 10,
    "start_time": "2022-11-11T20:58:46.665Z"
   },
   {
    "duration": 10,
    "start_time": "2022-11-11T21:00:25.815Z"
   },
   {
    "duration": 20,
    "start_time": "2022-11-11T21:02:56.315Z"
   },
   {
    "duration": 4,
    "start_time": "2022-11-11T21:03:21.285Z"
   },
   {
    "duration": 31,
    "start_time": "2022-11-11T21:08:24.796Z"
   },
   {
    "duration": 1101,
    "start_time": "2022-11-11T21:08:44.160Z"
   },
   {
    "duration": 71,
    "start_time": "2022-11-11T21:08:45.263Z"
   },
   {
    "duration": 4,
    "start_time": "2022-11-11T21:08:45.336Z"
   },
   {
    "duration": 22,
    "start_time": "2022-11-11T21:08:45.342Z"
   },
   {
    "duration": 6,
    "start_time": "2022-11-11T21:08:45.365Z"
   },
   {
    "duration": 13,
    "start_time": "2022-11-11T21:08:45.372Z"
   },
   {
    "duration": 20,
    "start_time": "2022-11-11T21:08:45.386Z"
   },
   {
    "duration": 17,
    "start_time": "2022-11-11T21:08:45.407Z"
   },
   {
    "duration": 28,
    "start_time": "2022-11-11T21:08:45.426Z"
   },
   {
    "duration": 10,
    "start_time": "2022-11-11T21:08:45.456Z"
   },
   {
    "duration": 11,
    "start_time": "2022-11-11T21:08:45.468Z"
   },
   {
    "duration": 248,
    "start_time": "2022-11-11T21:08:45.481Z"
   },
   {
    "duration": 169,
    "start_time": "2022-11-11T21:08:45.731Z"
   },
   {
    "duration": 242,
    "start_time": "2022-11-11T21:08:45.901Z"
   },
   {
    "duration": 285,
    "start_time": "2022-11-11T21:08:46.144Z"
   },
   {
    "duration": 298,
    "start_time": "2022-11-11T21:08:46.431Z"
   },
   {
    "duration": 63,
    "start_time": "2022-11-11T21:08:46.731Z"
   },
   {
    "duration": 121,
    "start_time": "2022-11-11T21:08:46.795Z"
   },
   {
    "duration": 4,
    "start_time": "2022-11-11T21:08:46.918Z"
   },
   {
    "duration": 129,
    "start_time": "2022-11-11T21:08:46.923Z"
   },
   {
    "duration": 126,
    "start_time": "2022-11-11T21:08:47.053Z"
   },
   {
    "duration": 4,
    "start_time": "2022-11-11T21:08:47.180Z"
   },
   {
    "duration": 103,
    "start_time": "2022-11-11T21:08:47.186Z"
   },
   {
    "duration": 6,
    "start_time": "2022-11-11T21:08:47.290Z"
   },
   {
    "duration": 55,
    "start_time": "2022-11-11T21:08:47.297Z"
   },
   {
    "duration": 9,
    "start_time": "2022-11-11T21:08:47.354Z"
   },
   {
    "duration": 7,
    "start_time": "2022-11-11T21:08:47.365Z"
   },
   {
    "duration": 158,
    "start_time": "2022-11-11T21:08:47.375Z"
   },
   {
    "duration": 5,
    "start_time": "2022-11-11T21:08:47.535Z"
   },
   {
    "duration": 14,
    "start_time": "2022-11-11T21:08:47.541Z"
   },
   {
    "duration": 35,
    "start_time": "2022-11-11T21:10:05.672Z"
   },
   {
    "duration": 246,
    "start_time": "2022-11-11T21:14:43.877Z"
   },
   {
    "duration": 1138,
    "start_time": "2022-11-11T21:14:51.134Z"
   },
   {
    "duration": 69,
    "start_time": "2022-11-11T21:14:52.274Z"
   },
   {
    "duration": 4,
    "start_time": "2022-11-11T21:14:52.345Z"
   },
   {
    "duration": 39,
    "start_time": "2022-11-11T21:14:52.351Z"
   },
   {
    "duration": 22,
    "start_time": "2022-11-11T21:14:52.392Z"
   },
   {
    "duration": 32,
    "start_time": "2022-11-11T21:14:52.416Z"
   },
   {
    "duration": 29,
    "start_time": "2022-11-11T21:14:52.449Z"
   },
   {
    "duration": 33,
    "start_time": "2022-11-11T21:14:52.480Z"
   },
   {
    "duration": 35,
    "start_time": "2022-11-11T21:14:52.515Z"
   },
   {
    "duration": 9,
    "start_time": "2022-11-11T21:14:52.552Z"
   },
   {
    "duration": 61,
    "start_time": "2022-11-11T21:14:52.562Z"
   },
   {
    "duration": 259,
    "start_time": "2022-11-11T21:14:52.624Z"
   },
   {
    "duration": 169,
    "start_time": "2022-11-11T21:14:52.884Z"
   },
   {
    "duration": 280,
    "start_time": "2022-11-11T21:14:53.056Z"
   },
   {
    "duration": 288,
    "start_time": "2022-11-11T21:14:53.338Z"
   },
   {
    "duration": 296,
    "start_time": "2022-11-11T21:14:53.627Z"
   },
   {
    "duration": 65,
    "start_time": "2022-11-11T21:14:53.925Z"
   },
   {
    "duration": 115,
    "start_time": "2022-11-11T21:14:53.991Z"
   },
   {
    "duration": 5,
    "start_time": "2022-11-11T21:14:54.107Z"
   },
   {
    "duration": 123,
    "start_time": "2022-11-11T21:14:54.113Z"
   },
   {
    "duration": 126,
    "start_time": "2022-11-11T21:14:54.238Z"
   },
   {
    "duration": 4,
    "start_time": "2022-11-11T21:14:54.366Z"
   },
   {
    "duration": 109,
    "start_time": "2022-11-11T21:14:54.371Z"
   },
   {
    "duration": 6,
    "start_time": "2022-11-11T21:14:54.481Z"
   },
   {
    "duration": 31,
    "start_time": "2022-11-11T21:14:54.489Z"
   },
   {
    "duration": 31,
    "start_time": "2022-11-11T21:14:54.522Z"
   },
   {
    "duration": 6,
    "start_time": "2022-11-11T21:14:54.555Z"
   },
   {
    "duration": 167,
    "start_time": "2022-11-11T21:14:54.562Z"
   },
   {
    "duration": 6,
    "start_time": "2022-11-11T21:14:54.731Z"
   },
   {
    "duration": 18,
    "start_time": "2022-11-11T21:14:54.739Z"
   },
   {
    "duration": 272,
    "start_time": "2022-11-11T21:15:02.672Z"
   },
   {
    "duration": 43,
    "start_time": "2022-11-13T13:25:20.602Z"
   },
   {
    "duration": 1210,
    "start_time": "2022-11-13T13:25:25.053Z"
   },
   {
    "duration": 251,
    "start_time": "2022-11-13T13:25:29.554Z"
   },
   {
    "duration": 78,
    "start_time": "2022-11-13T13:26:54.651Z"
   },
   {
    "duration": 72,
    "start_time": "2022-11-13T13:27:06.682Z"
   },
   {
    "duration": 73,
    "start_time": "2022-11-13T13:27:42.461Z"
   },
   {
    "duration": 67,
    "start_time": "2022-11-13T13:27:52.350Z"
   },
   {
    "duration": 72,
    "start_time": "2022-11-13T13:28:29.927Z"
   },
   {
    "duration": 35,
    "start_time": "2022-11-13T13:28:44.908Z"
   },
   {
    "duration": 68,
    "start_time": "2022-11-13T13:30:50.240Z"
   },
   {
    "duration": 1049,
    "start_time": "2022-11-13T13:30:55.949Z"
   },
   {
    "duration": 69,
    "start_time": "2022-11-13T13:30:57.000Z"
   },
   {
    "duration": 6,
    "start_time": "2022-11-13T13:30:57.070Z"
   },
   {
    "duration": 31,
    "start_time": "2022-11-13T13:30:57.078Z"
   },
   {
    "duration": 11,
    "start_time": "2022-11-13T13:30:57.111Z"
   },
   {
    "duration": 6,
    "start_time": "2022-11-13T13:30:57.123Z"
   },
   {
    "duration": 10,
    "start_time": "2022-11-13T13:30:57.130Z"
   },
   {
    "duration": 10,
    "start_time": "2022-11-13T13:30:57.141Z"
   },
   {
    "duration": 15,
    "start_time": "2022-11-13T13:30:57.152Z"
   },
   {
    "duration": 18,
    "start_time": "2022-11-13T13:30:57.169Z"
   },
   {
    "duration": 29,
    "start_time": "2022-11-13T13:30:57.188Z"
   },
   {
    "duration": 11,
    "start_time": "2022-11-13T13:30:57.218Z"
   },
   {
    "duration": 291,
    "start_time": "2022-11-13T13:30:57.230Z"
   },
   {
    "duration": 0,
    "start_time": "2022-11-13T13:30:57.523Z"
   },
   {
    "duration": 0,
    "start_time": "2022-11-13T13:30:57.524Z"
   },
   {
    "duration": 0,
    "start_time": "2022-11-13T13:30:57.525Z"
   },
   {
    "duration": 0,
    "start_time": "2022-11-13T13:30:57.526Z"
   },
   {
    "duration": 0,
    "start_time": "2022-11-13T13:30:57.527Z"
   },
   {
    "duration": 0,
    "start_time": "2022-11-13T13:30:57.528Z"
   },
   {
    "duration": 0,
    "start_time": "2022-11-13T13:30:57.530Z"
   },
   {
    "duration": 0,
    "start_time": "2022-11-13T13:30:57.531Z"
   },
   {
    "duration": 0,
    "start_time": "2022-11-13T13:30:57.532Z"
   },
   {
    "duration": 0,
    "start_time": "2022-11-13T13:30:57.533Z"
   },
   {
    "duration": 0,
    "start_time": "2022-11-13T13:30:57.534Z"
   },
   {
    "duration": 0,
    "start_time": "2022-11-13T13:30:57.535Z"
   },
   {
    "duration": 0,
    "start_time": "2022-11-13T13:30:57.536Z"
   },
   {
    "duration": 0,
    "start_time": "2022-11-13T13:30:57.537Z"
   },
   {
    "duration": 0,
    "start_time": "2022-11-13T13:30:57.538Z"
   },
   {
    "duration": 0,
    "start_time": "2022-11-13T13:30:57.539Z"
   },
   {
    "duration": 0,
    "start_time": "2022-11-13T13:30:57.540Z"
   },
   {
    "duration": 246,
    "start_time": "2022-11-13T13:31:09.461Z"
   },
   {
    "duration": 255,
    "start_time": "2022-11-13T13:31:17.933Z"
   },
   {
    "duration": 251,
    "start_time": "2022-11-13T13:31:24.469Z"
   },
   {
    "duration": 322,
    "start_time": "2022-11-13T13:32:09.622Z"
   },
   {
    "duration": 283,
    "start_time": "2022-11-13T13:32:20.226Z"
   },
   {
    "duration": 253,
    "start_time": "2022-11-13T13:32:28.515Z"
   },
   {
    "duration": 320,
    "start_time": "2022-11-13T13:32:41.558Z"
   },
   {
    "duration": 284,
    "start_time": "2022-11-13T13:32:48.302Z"
   },
   {
    "duration": 74,
    "start_time": "2022-11-13T13:42:53.157Z"
   },
   {
    "duration": 96,
    "start_time": "2022-11-13T13:43:02.899Z"
   },
   {
    "duration": 257,
    "start_time": "2022-11-13T13:44:08.609Z"
   },
   {
    "duration": 317,
    "start_time": "2022-11-13T13:44:19.091Z"
   },
   {
    "duration": 1050,
    "start_time": "2022-11-13T13:46:20.673Z"
   },
   {
    "duration": 68,
    "start_time": "2022-11-13T13:46:21.725Z"
   },
   {
    "duration": 6,
    "start_time": "2022-11-13T13:46:21.795Z"
   },
   {
    "duration": 32,
    "start_time": "2022-11-13T13:46:21.803Z"
   },
   {
    "duration": 11,
    "start_time": "2022-11-13T13:46:21.837Z"
   },
   {
    "duration": 8,
    "start_time": "2022-11-13T13:46:21.850Z"
   },
   {
    "duration": 12,
    "start_time": "2022-11-13T13:46:21.859Z"
   },
   {
    "duration": 10,
    "start_time": "2022-11-13T13:46:21.873Z"
   },
   {
    "duration": 29,
    "start_time": "2022-11-13T13:46:21.884Z"
   },
   {
    "duration": 19,
    "start_time": "2022-11-13T13:46:21.915Z"
   },
   {
    "duration": 9,
    "start_time": "2022-11-13T13:46:21.935Z"
   },
   {
    "duration": 12,
    "start_time": "2022-11-13T13:46:21.946Z"
   },
   {
    "duration": 365,
    "start_time": "2022-11-13T13:46:21.959Z"
   },
   {
    "duration": 166,
    "start_time": "2022-11-13T13:46:22.325Z"
   },
   {
    "duration": 280,
    "start_time": "2022-11-13T13:46:22.493Z"
   },
   {
    "duration": 10,
    "start_time": "2022-11-13T13:46:22.775Z"
   },
   {
    "duration": 299,
    "start_time": "2022-11-13T13:46:22.786Z"
   },
   {
    "duration": 295,
    "start_time": "2022-11-13T13:46:23.086Z"
   },
   {
    "duration": 86,
    "start_time": "2022-11-13T13:46:23.383Z"
   },
   {
    "duration": 104,
    "start_time": "2022-11-13T13:46:23.470Z"
   },
   {
    "duration": 5,
    "start_time": "2022-11-13T13:46:23.576Z"
   },
   {
    "duration": 112,
    "start_time": "2022-11-13T13:46:23.583Z"
   },
   {
    "duration": 118,
    "start_time": "2022-11-13T13:46:23.696Z"
   },
   {
    "duration": 4,
    "start_time": "2022-11-13T13:46:23.816Z"
   },
   {
    "duration": 108,
    "start_time": "2022-11-13T13:46:23.822Z"
   },
   {
    "duration": 6,
    "start_time": "2022-11-13T13:46:23.931Z"
   },
   {
    "duration": 31,
    "start_time": "2022-11-13T13:46:23.939Z"
   },
   {
    "duration": 8,
    "start_time": "2022-11-13T13:46:23.972Z"
   },
   {
    "duration": 5,
    "start_time": "2022-11-13T13:46:23.982Z"
   },
   {
    "duration": 145,
    "start_time": "2022-11-13T13:46:24.012Z"
   },
   {
    "duration": 5,
    "start_time": "2022-11-13T13:46:24.159Z"
   },
   {
    "duration": 255,
    "start_time": "2022-11-13T13:46:45.857Z"
   },
   {
    "duration": 292,
    "start_time": "2022-11-13T13:46:58.634Z"
   },
   {
    "duration": 362,
    "start_time": "2022-11-13T13:47:14.861Z"
   },
   {
    "duration": 439,
    "start_time": "2022-11-13T13:47:41.901Z"
   },
   {
    "duration": 402,
    "start_time": "2022-11-13T13:48:10.069Z"
   },
   {
    "duration": 132,
    "start_time": "2022-11-13T13:49:30.888Z"
   },
   {
    "duration": 120,
    "start_time": "2022-11-13T13:49:50.653Z"
   },
   {
    "duration": 120,
    "start_time": "2022-11-13T13:50:42.507Z"
   },
   {
    "duration": 13,
    "start_time": "2022-11-13T13:54:18.629Z"
   },
   {
    "duration": 10,
    "start_time": "2022-11-13T13:54:36.749Z"
   },
   {
    "duration": 3,
    "start_time": "2022-11-13T13:55:49.173Z"
   },
   {
    "duration": 11,
    "start_time": "2022-11-13T13:55:57.793Z"
   },
   {
    "duration": 9,
    "start_time": "2022-11-13T13:58:02.258Z"
   },
   {
    "duration": 15,
    "start_time": "2022-11-13T13:59:33.994Z"
   },
   {
    "duration": 4,
    "start_time": "2022-11-13T14:00:45.664Z"
   },
   {
    "duration": 16,
    "start_time": "2022-11-13T14:00:47.435Z"
   },
   {
    "duration": 385,
    "start_time": "2022-11-13T14:01:58.871Z"
   },
   {
    "duration": 404,
    "start_time": "2022-11-13T14:03:26.725Z"
   },
   {
    "duration": 470,
    "start_time": "2022-11-13T14:03:56.065Z"
   },
   {
    "duration": 428,
    "start_time": "2022-11-13T14:04:42.996Z"
   },
   {
    "duration": 396,
    "start_time": "2022-11-13T14:04:52.140Z"
   },
   {
    "duration": 425,
    "start_time": "2022-11-13T14:05:00.425Z"
   },
   {
    "duration": 415,
    "start_time": "2022-11-13T14:07:29.422Z"
   },
   {
    "duration": 431,
    "start_time": "2022-11-13T14:07:43.990Z"
   },
   {
    "duration": 400,
    "start_time": "2022-11-13T14:08:50.883Z"
   },
   {
    "duration": 76,
    "start_time": "2022-11-13T14:10:34.541Z"
   },
   {
    "duration": 41,
    "start_time": "2022-11-13T14:12:03.525Z"
   },
   {
    "duration": 17,
    "start_time": "2022-11-13T14:12:48.509Z"
   },
   {
    "duration": 60,
    "start_time": "2022-11-13T14:15:38.640Z"
   },
   {
    "duration": 56,
    "start_time": "2022-11-13T14:16:33.113Z"
   },
   {
    "duration": 118,
    "start_time": "2022-11-13T14:16:36.563Z"
   },
   {
    "duration": 31,
    "start_time": "2022-11-13T14:17:32.073Z"
   },
   {
    "duration": 6,
    "start_time": "2022-11-13T14:19:04.728Z"
   },
   {
    "duration": 7,
    "start_time": "2022-11-13T14:28:56.828Z"
   },
   {
    "duration": 6,
    "start_time": "2022-11-13T14:29:28.868Z"
   },
   {
    "duration": 82,
    "start_time": "2022-11-13T14:32:08.350Z"
   },
   {
    "duration": 26,
    "start_time": "2022-11-13T14:32:29.513Z"
   },
   {
    "duration": 5,
    "start_time": "2022-11-13T14:33:56.089Z"
   },
   {
    "duration": 5,
    "start_time": "2022-11-13T14:34:10.019Z"
   },
   {
    "duration": 4,
    "start_time": "2022-11-13T14:35:15.610Z"
   },
   {
    "duration": 5,
    "start_time": "2022-11-13T14:35:27.679Z"
   },
   {
    "duration": 12,
    "start_time": "2022-11-13T14:35:47.515Z"
   },
   {
    "duration": 5,
    "start_time": "2022-11-13T14:36:11.339Z"
   },
   {
    "duration": 89,
    "start_time": "2022-11-13T14:37:17.829Z"
   },
   {
    "duration": 18,
    "start_time": "2022-11-13T14:37:30.519Z"
   },
   {
    "duration": 6,
    "start_time": "2022-11-13T14:37:43.066Z"
   },
   {
    "duration": 5,
    "start_time": "2022-11-13T14:37:50.680Z"
   },
   {
    "duration": 7,
    "start_time": "2022-11-13T14:38:10.742Z"
   },
   {
    "duration": 1167,
    "start_time": "2022-11-13T14:39:52.097Z"
   },
   {
    "duration": 70,
    "start_time": "2022-11-13T14:39:53.265Z"
   },
   {
    "duration": 16,
    "start_time": "2022-11-13T14:39:53.337Z"
   },
   {
    "duration": 51,
    "start_time": "2022-11-13T14:39:53.357Z"
   },
   {
    "duration": 17,
    "start_time": "2022-11-13T14:39:53.410Z"
   },
   {
    "duration": 10,
    "start_time": "2022-11-13T14:39:53.429Z"
   },
   {
    "duration": 14,
    "start_time": "2022-11-13T14:39:53.441Z"
   },
   {
    "duration": 20,
    "start_time": "2022-11-13T14:39:53.456Z"
   },
   {
    "duration": 19,
    "start_time": "2022-11-13T14:39:53.478Z"
   },
   {
    "duration": 25,
    "start_time": "2022-11-13T14:39:53.499Z"
   },
   {
    "duration": 9,
    "start_time": "2022-11-13T14:39:53.526Z"
   },
   {
    "duration": 12,
    "start_time": "2022-11-13T14:39:53.536Z"
   },
   {
    "duration": 6,
    "start_time": "2022-11-13T14:39:53.550Z"
   },
   {
    "duration": 16,
    "start_time": "2022-11-13T14:39:53.558Z"
   },
   {
    "duration": 422,
    "start_time": "2022-11-13T14:39:53.575Z"
   },
   {
    "duration": 307,
    "start_time": "2022-11-13T14:39:53.999Z"
   },
   {
    "duration": 437,
    "start_time": "2022-11-13T14:39:54.312Z"
   },
   {
    "duration": 17,
    "start_time": "2022-11-13T14:39:54.751Z"
   },
   {
    "duration": 9,
    "start_time": "2022-11-13T14:39:54.770Z"
   },
   {
    "duration": 454,
    "start_time": "2022-11-13T14:39:54.781Z"
   },
   {
    "duration": 428,
    "start_time": "2022-11-13T14:39:55.237Z"
   },
   {
    "duration": 102,
    "start_time": "2022-11-13T14:39:55.667Z"
   },
   {
    "duration": 136,
    "start_time": "2022-11-13T14:39:55.771Z"
   },
   {
    "duration": 5,
    "start_time": "2022-11-13T14:39:55.909Z"
   },
   {
    "duration": 112,
    "start_time": "2022-11-13T14:39:55.915Z"
   },
   {
    "duration": 120,
    "start_time": "2022-11-13T14:39:56.029Z"
   },
   {
    "duration": 4,
    "start_time": "2022-11-13T14:39:56.150Z"
   },
   {
    "duration": 105,
    "start_time": "2022-11-13T14:39:56.157Z"
   },
   {
    "duration": 24,
    "start_time": "2022-11-13T14:39:56.264Z"
   },
   {
    "duration": 5,
    "start_time": "2022-11-13T14:39:56.290Z"
   },
   {
    "duration": 45,
    "start_time": "2022-11-13T14:39:56.296Z"
   },
   {
    "duration": 7,
    "start_time": "2022-11-13T14:39:56.343Z"
   },
   {
    "duration": 4,
    "start_time": "2022-11-13T14:39:56.351Z"
   },
   {
    "duration": 160,
    "start_time": "2022-11-13T14:39:56.357Z"
   },
   {
    "duration": 7,
    "start_time": "2022-11-13T14:39:56.518Z"
   },
   {
    "duration": 7,
    "start_time": "2022-11-13T14:39:56.526Z"
   },
   {
    "duration": 1219,
    "start_time": "2022-11-14T12:16:30.496Z"
   },
   {
    "duration": 181,
    "start_time": "2022-11-14T12:16:31.717Z"
   },
   {
    "duration": 8,
    "start_time": "2022-11-14T12:16:31.900Z"
   },
   {
    "duration": 74,
    "start_time": "2022-11-14T12:16:31.910Z"
   },
   {
    "duration": 15,
    "start_time": "2022-11-14T12:16:31.986Z"
   },
   {
    "duration": 38,
    "start_time": "2022-11-14T12:16:32.002Z"
   },
   {
    "duration": 17,
    "start_time": "2022-11-14T12:16:32.042Z"
   },
   {
    "duration": 13,
    "start_time": "2022-11-14T12:16:32.061Z"
   },
   {
    "duration": 35,
    "start_time": "2022-11-14T12:16:32.076Z"
   },
   {
    "duration": 24,
    "start_time": "2022-11-14T12:16:32.114Z"
   },
   {
    "duration": 11,
    "start_time": "2022-11-14T12:16:32.140Z"
   },
   {
    "duration": 20,
    "start_time": "2022-11-14T12:16:32.153Z"
   },
   {
    "duration": 17,
    "start_time": "2022-11-14T12:16:32.175Z"
   },
   {
    "duration": 42,
    "start_time": "2022-11-14T12:16:32.194Z"
   },
   {
    "duration": 452,
    "start_time": "2022-11-14T12:16:32.239Z"
   },
   {
    "duration": 348,
    "start_time": "2022-11-14T12:16:32.693Z"
   },
   {
    "duration": 428,
    "start_time": "2022-11-14T12:16:33.043Z"
   },
   {
    "duration": 18,
    "start_time": "2022-11-14T12:16:33.473Z"
   },
   {
    "duration": 6,
    "start_time": "2022-11-14T12:16:33.492Z"
   },
   {
    "duration": 485,
    "start_time": "2022-11-14T12:16:33.500Z"
   },
   {
    "duration": 522,
    "start_time": "2022-11-14T12:16:33.987Z"
   },
   {
    "duration": 75,
    "start_time": "2022-11-14T12:16:34.511Z"
   },
   {
    "duration": 179,
    "start_time": "2022-11-14T12:16:34.588Z"
   },
   {
    "duration": 7,
    "start_time": "2022-11-14T12:16:34.769Z"
   },
   {
    "duration": 137,
    "start_time": "2022-11-14T12:16:34.778Z"
   },
   {
    "duration": 143,
    "start_time": "2022-11-14T12:16:34.922Z"
   },
   {
    "duration": 6,
    "start_time": "2022-11-14T12:16:35.067Z"
   },
   {
    "duration": 129,
    "start_time": "2022-11-14T12:16:35.077Z"
   },
   {
    "duration": 37,
    "start_time": "2022-11-14T12:16:35.208Z"
   },
   {
    "duration": 7,
    "start_time": "2022-11-14T12:16:35.247Z"
   },
   {
    "duration": 36,
    "start_time": "2022-11-14T12:16:35.255Z"
   },
   {
    "duration": 32,
    "start_time": "2022-11-14T12:16:35.293Z"
   },
   {
    "duration": 9,
    "start_time": "2022-11-14T12:16:35.327Z"
   },
   {
    "duration": 184,
    "start_time": "2022-11-14T12:16:35.338Z"
   },
   {
    "duration": 6,
    "start_time": "2022-11-14T12:16:35.524Z"
   },
   {
    "duration": 12,
    "start_time": "2022-11-14T12:16:35.531Z"
   },
   {
    "duration": 19,
    "start_time": "2022-11-14T12:17:16.179Z"
   },
   {
    "duration": 5,
    "start_time": "2022-11-14T12:17:34.459Z"
   },
   {
    "duration": 70,
    "start_time": "2022-11-14T12:17:50.868Z"
   },
   {
    "duration": 162,
    "start_time": "2022-11-14T12:17:53.709Z"
   },
   {
    "duration": 1244,
    "start_time": "2022-11-14T12:18:04.049Z"
   },
   {
    "duration": 65,
    "start_time": "2022-11-14T12:18:05.295Z"
   },
   {
    "duration": 10,
    "start_time": "2022-11-14T12:18:05.363Z"
   },
   {
    "duration": 57,
    "start_time": "2022-11-14T12:18:05.376Z"
   },
   {
    "duration": 14,
    "start_time": "2022-11-14T12:18:05.435Z"
   },
   {
    "duration": 8,
    "start_time": "2022-11-14T12:18:05.450Z"
   },
   {
    "duration": 13,
    "start_time": "2022-11-14T12:18:05.459Z"
   },
   {
    "duration": 12,
    "start_time": "2022-11-14T12:18:05.474Z"
   },
   {
    "duration": 44,
    "start_time": "2022-11-14T12:18:05.487Z"
   },
   {
    "duration": 23,
    "start_time": "2022-11-14T12:18:05.534Z"
   },
   {
    "duration": 11,
    "start_time": "2022-11-14T12:18:05.559Z"
   },
   {
    "duration": 13,
    "start_time": "2022-11-14T12:18:05.572Z"
   },
   {
    "duration": 4,
    "start_time": "2022-11-14T12:18:05.587Z"
   },
   {
    "duration": 44,
    "start_time": "2022-11-14T12:18:05.592Z"
   },
   {
    "duration": 448,
    "start_time": "2022-11-14T12:18:05.638Z"
   },
   {
    "duration": 364,
    "start_time": "2022-11-14T12:18:06.089Z"
   },
   {
    "duration": 429,
    "start_time": "2022-11-14T12:18:06.456Z"
   },
   {
    "duration": 35,
    "start_time": "2022-11-14T12:18:06.887Z"
   },
   {
    "duration": 5,
    "start_time": "2022-11-14T12:18:06.924Z"
   },
   {
    "duration": 477,
    "start_time": "2022-11-14T12:18:06.931Z"
   },
   {
    "duration": 491,
    "start_time": "2022-11-14T12:18:07.410Z"
   },
   {
    "duration": 72,
    "start_time": "2022-11-14T12:18:07.903Z"
   },
   {
    "duration": 154,
    "start_time": "2022-11-14T12:18:07.977Z"
   },
   {
    "duration": 5,
    "start_time": "2022-11-14T12:18:08.133Z"
   },
   {
    "duration": 136,
    "start_time": "2022-11-14T12:18:08.140Z"
   },
   {
    "duration": 136,
    "start_time": "2022-11-14T12:18:08.278Z"
   },
   {
    "duration": 5,
    "start_time": "2022-11-14T12:18:08.421Z"
   },
   {
    "duration": 123,
    "start_time": "2022-11-14T12:18:08.429Z"
   },
   {
    "duration": 35,
    "start_time": "2022-11-14T12:18:08.553Z"
   },
   {
    "duration": 8,
    "start_time": "2022-11-14T12:18:08.589Z"
   },
   {
    "duration": 53,
    "start_time": "2022-11-14T12:18:08.599Z"
   },
   {
    "duration": 9,
    "start_time": "2022-11-14T12:18:08.654Z"
   },
   {
    "duration": 10,
    "start_time": "2022-11-14T12:18:08.665Z"
   },
   {
    "duration": 177,
    "start_time": "2022-11-14T12:18:08.676Z"
   },
   {
    "duration": 6,
    "start_time": "2022-11-14T12:18:08.855Z"
   },
   {
    "duration": 7,
    "start_time": "2022-11-14T12:18:08.862Z"
   },
   {
    "duration": 53,
    "start_time": "2022-11-14T13:49:38.485Z"
   },
   {
    "duration": 1457,
    "start_time": "2022-11-14T13:49:45.105Z"
   },
   {
    "duration": 187,
    "start_time": "2022-11-14T13:49:46.564Z"
   },
   {
    "duration": 10,
    "start_time": "2022-11-14T13:49:46.752Z"
   },
   {
    "duration": 47,
    "start_time": "2022-11-14T13:49:46.764Z"
   },
   {
    "duration": 14,
    "start_time": "2022-11-14T13:49:46.812Z"
   },
   {
    "duration": 24,
    "start_time": "2022-11-14T13:49:46.828Z"
   },
   {
    "duration": 14,
    "start_time": "2022-11-14T13:49:46.854Z"
   },
   {
    "duration": 14,
    "start_time": "2022-11-14T13:49:46.870Z"
   },
   {
    "duration": 24,
    "start_time": "2022-11-14T13:49:46.885Z"
   },
   {
    "duration": 51,
    "start_time": "2022-11-14T13:49:46.912Z"
   },
   {
    "duration": 19,
    "start_time": "2022-11-14T13:49:46.965Z"
   },
   {
    "duration": 21,
    "start_time": "2022-11-14T13:49:46.986Z"
   },
   {
    "duration": 14,
    "start_time": "2022-11-14T13:49:47.009Z"
   },
   {
    "duration": 14,
    "start_time": "2022-11-14T13:49:47.025Z"
   },
   {
    "duration": 466,
    "start_time": "2022-11-14T13:49:47.041Z"
   },
   {
    "duration": 422,
    "start_time": "2022-11-14T13:49:47.509Z"
   },
   {
    "duration": 531,
    "start_time": "2022-11-14T13:49:47.933Z"
   },
   {
    "duration": 20,
    "start_time": "2022-11-14T13:49:48.466Z"
   },
   {
    "duration": 7,
    "start_time": "2022-11-14T13:49:48.487Z"
   },
   {
    "duration": 509,
    "start_time": "2022-11-14T13:49:48.496Z"
   },
   {
    "duration": 503,
    "start_time": "2022-11-14T13:49:49.007Z"
   },
   {
    "duration": 121,
    "start_time": "2022-11-14T13:49:49.512Z"
   },
   {
    "duration": 182,
    "start_time": "2022-11-14T13:49:49.635Z"
   },
   {
    "duration": 6,
    "start_time": "2022-11-14T13:49:49.820Z"
   },
   {
    "duration": 164,
    "start_time": "2022-11-14T13:49:49.828Z"
   },
   {
    "duration": 147,
    "start_time": "2022-11-14T13:49:49.994Z"
   },
   {
    "duration": 12,
    "start_time": "2022-11-14T13:49:50.143Z"
   },
   {
    "duration": 137,
    "start_time": "2022-11-14T13:49:50.159Z"
   },
   {
    "duration": 32,
    "start_time": "2022-11-14T13:49:50.298Z"
   },
   {
    "duration": 9,
    "start_time": "2022-11-14T13:49:50.356Z"
   },
   {
    "duration": 50,
    "start_time": "2022-11-14T13:49:50.367Z"
   },
   {
    "duration": 11,
    "start_time": "2022-11-14T13:49:50.419Z"
   },
   {
    "duration": 20,
    "start_time": "2022-11-14T13:49:50.431Z"
   },
   {
    "duration": 185,
    "start_time": "2022-11-14T13:49:50.453Z"
   },
   {
    "duration": 15,
    "start_time": "2022-11-14T13:49:50.640Z"
   },
   {
    "duration": 30,
    "start_time": "2022-11-14T13:49:50.660Z"
   },
   {
    "duration": 360,
    "start_time": "2022-11-14T13:52:08.290Z"
   },
   {
    "duration": 374,
    "start_time": "2022-11-14T13:52:22.339Z"
   },
   {
    "duration": 399,
    "start_time": "2022-11-14T13:52:31.587Z"
   },
   {
    "duration": 481,
    "start_time": "2022-11-14T13:55:45.170Z"
   },
   {
    "duration": 561,
    "start_time": "2022-11-14T13:56:03.160Z"
   },
   {
    "duration": 21,
    "start_time": "2022-11-14T13:58:30.837Z"
   },
   {
    "duration": 25,
    "start_time": "2022-11-14T13:58:40.251Z"
   },
   {
    "duration": 67,
    "start_time": "2022-11-14T14:00:15.377Z"
   },
   {
    "duration": 168,
    "start_time": "2022-11-14T14:01:15.458Z"
   },
   {
    "duration": 497,
    "start_time": "2022-11-14T14:02:04.451Z"
   },
   {
    "duration": 492,
    "start_time": "2022-11-14T14:03:14.383Z"
   },
   {
    "duration": 465,
    "start_time": "2022-11-14T14:03:47.795Z"
   },
   {
    "duration": 237,
    "start_time": "2022-11-14T14:05:33.160Z"
   },
   {
    "duration": 275,
    "start_time": "2022-11-14T14:06:27.113Z"
   },
   {
    "duration": 163,
    "start_time": "2022-11-14T14:06:53.968Z"
   },
   {
    "duration": 178,
    "start_time": "2022-11-14T14:07:00.825Z"
   },
   {
    "duration": 139,
    "start_time": "2022-11-14T14:08:50.681Z"
   },
   {
    "duration": 12,
    "start_time": "2022-11-14T14:11:35.532Z"
   },
   {
    "duration": 1361,
    "start_time": "2022-11-14T14:12:44.386Z"
   },
   {
    "duration": 72,
    "start_time": "2022-11-14T14:12:45.749Z"
   },
   {
    "duration": 9,
    "start_time": "2022-11-14T14:12:45.823Z"
   },
   {
    "duration": 44,
    "start_time": "2022-11-14T14:12:45.835Z"
   },
   {
    "duration": 16,
    "start_time": "2022-11-14T14:12:45.880Z"
   },
   {
    "duration": 4,
    "start_time": "2022-11-14T14:12:45.898Z"
   },
   {
    "duration": 14,
    "start_time": "2022-11-14T14:12:45.904Z"
   },
   {
    "duration": 36,
    "start_time": "2022-11-14T14:12:45.920Z"
   },
   {
    "duration": 32,
    "start_time": "2022-11-14T14:12:45.959Z"
   },
   {
    "duration": 24,
    "start_time": "2022-11-14T14:12:45.993Z"
   },
   {
    "duration": 32,
    "start_time": "2022-11-14T14:12:46.019Z"
   },
   {
    "duration": 20,
    "start_time": "2022-11-14T14:12:46.053Z"
   },
   {
    "duration": 18,
    "start_time": "2022-11-14T14:12:46.076Z"
   },
   {
    "duration": 493,
    "start_time": "2022-11-14T14:12:46.096Z"
   },
   {
    "duration": 409,
    "start_time": "2022-11-14T14:12:46.592Z"
   },
   {
    "duration": 472,
    "start_time": "2022-11-14T14:12:47.003Z"
   },
   {
    "duration": 19,
    "start_time": "2022-11-14T14:12:47.477Z"
   },
   {
    "duration": 6,
    "start_time": "2022-11-14T14:12:47.497Z"
   },
   {
    "duration": 563,
    "start_time": "2022-11-14T14:12:47.504Z"
   },
   {
    "duration": 532,
    "start_time": "2022-11-14T14:12:48.069Z"
   },
   {
    "duration": 11,
    "start_time": "2022-11-14T14:12:48.603Z"
   },
   {
    "duration": 286,
    "start_time": "2022-11-14T14:12:48.615Z"
   },
   {
    "duration": 6,
    "start_time": "2022-11-14T14:12:48.903Z"
   },
   {
    "duration": 202,
    "start_time": "2022-11-14T14:12:48.912Z"
   },
   {
    "duration": 182,
    "start_time": "2022-11-14T14:12:49.117Z"
   },
   {
    "duration": 7,
    "start_time": "2022-11-14T14:12:49.301Z"
   },
   {
    "duration": 157,
    "start_time": "2022-11-14T14:12:49.310Z"
   },
   {
    "duration": 85,
    "start_time": "2022-11-14T14:12:49.471Z"
   },
   {
    "duration": 11,
    "start_time": "2022-11-14T14:12:49.557Z"
   },
   {
    "duration": 60,
    "start_time": "2022-11-14T14:12:49.570Z"
   },
   {
    "duration": 19,
    "start_time": "2022-11-14T14:12:49.632Z"
   },
   {
    "duration": 26,
    "start_time": "2022-11-14T14:12:49.654Z"
   },
   {
    "duration": 215,
    "start_time": "2022-11-14T14:12:49.682Z"
   },
   {
    "duration": 9,
    "start_time": "2022-11-14T14:12:49.899Z"
   },
   {
    "duration": 9,
    "start_time": "2022-11-14T14:12:49.910Z"
   },
   {
    "duration": 325,
    "start_time": "2022-11-14T14:20:03.493Z"
   },
   {
    "duration": 368,
    "start_time": "2022-11-14T14:20:51.136Z"
   },
   {
    "duration": 1253,
    "start_time": "2022-11-14T14:22:00.086Z"
   },
   {
    "duration": 70,
    "start_time": "2022-11-14T14:22:01.342Z"
   },
   {
    "duration": 9,
    "start_time": "2022-11-14T14:22:01.414Z"
   },
   {
    "duration": 55,
    "start_time": "2022-11-14T14:22:01.425Z"
   },
   {
    "duration": 15,
    "start_time": "2022-11-14T14:22:01.482Z"
   },
   {
    "duration": 11,
    "start_time": "2022-11-14T14:22:01.499Z"
   },
   {
    "duration": 25,
    "start_time": "2022-11-14T14:22:01.511Z"
   },
   {
    "duration": 27,
    "start_time": "2022-11-14T14:22:01.538Z"
   },
   {
    "duration": 28,
    "start_time": "2022-11-14T14:22:01.567Z"
   },
   {
    "duration": 25,
    "start_time": "2022-11-14T14:22:01.599Z"
   },
   {
    "duration": 29,
    "start_time": "2022-11-14T14:22:01.625Z"
   },
   {
    "duration": 34,
    "start_time": "2022-11-14T14:22:01.656Z"
   },
   {
    "duration": 22,
    "start_time": "2022-11-14T14:22:01.692Z"
   },
   {
    "duration": 477,
    "start_time": "2022-11-14T14:22:01.716Z"
   },
   {
    "duration": 389,
    "start_time": "2022-11-14T14:22:02.196Z"
   },
   {
    "duration": 437,
    "start_time": "2022-11-14T14:22:02.587Z"
   },
   {
    "duration": 24,
    "start_time": "2022-11-14T14:22:03.026Z"
   },
   {
    "duration": 5,
    "start_time": "2022-11-14T14:22:03.052Z"
   },
   {
    "duration": 492,
    "start_time": "2022-11-14T14:22:03.058Z"
   },
   {
    "duration": 466,
    "start_time": "2022-11-14T14:22:03.552Z"
   },
   {
    "duration": 9,
    "start_time": "2022-11-14T14:22:04.019Z"
   },
   {
    "duration": 266,
    "start_time": "2022-11-14T14:22:04.030Z"
   },
   {
    "duration": 6,
    "start_time": "2022-11-14T14:22:04.297Z"
   },
   {
    "duration": 186,
    "start_time": "2022-11-14T14:22:04.304Z"
   },
   {
    "duration": 183,
    "start_time": "2022-11-14T14:22:04.493Z"
   },
   {
    "duration": 5,
    "start_time": "2022-11-14T14:22:04.677Z"
   },
   {
    "duration": 140,
    "start_time": "2022-11-14T14:22:04.684Z"
   },
   {
    "duration": 73,
    "start_time": "2022-11-14T14:22:04.828Z"
   },
   {
    "duration": 8,
    "start_time": "2022-11-14T14:22:04.903Z"
   },
   {
    "duration": 44,
    "start_time": "2022-11-14T14:22:04.914Z"
   },
   {
    "duration": 12,
    "start_time": "2022-11-14T14:22:04.960Z"
   },
   {
    "duration": 13,
    "start_time": "2022-11-14T14:22:04.975Z"
   },
   {
    "duration": 400,
    "start_time": "2022-11-14T14:22:04.990Z"
   },
   {
    "duration": 7,
    "start_time": "2022-11-14T14:22:05.392Z"
   },
   {
    "duration": 11,
    "start_time": "2022-11-14T14:22:05.401Z"
   },
   {
    "duration": 12,
    "start_time": "2022-11-14T14:24:54.448Z"
   },
   {
    "duration": 1270,
    "start_time": "2022-11-14T14:39:02.809Z"
   },
   {
    "duration": 71,
    "start_time": "2022-11-14T14:39:04.081Z"
   },
   {
    "duration": 9,
    "start_time": "2022-11-14T14:39:04.154Z"
   },
   {
    "duration": 62,
    "start_time": "2022-11-14T14:39:04.166Z"
   },
   {
    "duration": 15,
    "start_time": "2022-11-14T14:39:04.230Z"
   },
   {
    "duration": 36,
    "start_time": "2022-11-14T14:39:04.248Z"
   },
   {
    "duration": 25,
    "start_time": "2022-11-14T14:39:04.286Z"
   },
   {
    "duration": 39,
    "start_time": "2022-11-14T14:39:04.314Z"
   },
   {
    "duration": 21,
    "start_time": "2022-11-14T14:39:04.355Z"
   },
   {
    "duration": 32,
    "start_time": "2022-11-14T14:39:04.380Z"
   },
   {
    "duration": 13,
    "start_time": "2022-11-14T14:39:04.414Z"
   },
   {
    "duration": 46,
    "start_time": "2022-11-14T14:39:04.429Z"
   },
   {
    "duration": 38,
    "start_time": "2022-11-14T14:39:04.477Z"
   },
   {
    "duration": 490,
    "start_time": "2022-11-14T14:39:04.517Z"
   },
   {
    "duration": 384,
    "start_time": "2022-11-14T14:39:05.009Z"
   },
   {
    "duration": 447,
    "start_time": "2022-11-14T14:39:05.395Z"
   },
   {
    "duration": 23,
    "start_time": "2022-11-14T14:39:05.844Z"
   },
   {
    "duration": 18,
    "start_time": "2022-11-14T14:39:05.868Z"
   },
   {
    "duration": 520,
    "start_time": "2022-11-14T14:39:05.888Z"
   },
   {
    "duration": 469,
    "start_time": "2022-11-14T14:39:06.410Z"
   },
   {
    "duration": 12,
    "start_time": "2022-11-14T14:39:06.880Z"
   },
   {
    "duration": 253,
    "start_time": "2022-11-14T14:39:06.894Z"
   },
   {
    "duration": 6,
    "start_time": "2022-11-14T14:39:07.152Z"
   },
   {
    "duration": 174,
    "start_time": "2022-11-14T14:39:07.160Z"
   },
   {
    "duration": 176,
    "start_time": "2022-11-14T14:39:07.335Z"
   },
   {
    "duration": 5,
    "start_time": "2022-11-14T14:39:07.513Z"
   },
   {
    "duration": 147,
    "start_time": "2022-11-14T14:39:07.520Z"
   },
   {
    "duration": 51,
    "start_time": "2022-11-14T14:39:07.670Z"
   },
   {
    "duration": 18,
    "start_time": "2022-11-14T14:39:07.722Z"
   },
   {
    "duration": 52,
    "start_time": "2022-11-14T14:39:07.742Z"
   },
   {
    "duration": 10,
    "start_time": "2022-11-14T14:39:07.796Z"
   },
   {
    "duration": 30,
    "start_time": "2022-11-14T14:39:07.808Z"
   },
   {
    "duration": 387,
    "start_time": "2022-11-14T14:39:07.840Z"
   },
   {
    "duration": 7,
    "start_time": "2022-11-14T14:39:08.229Z"
   },
   {
    "duration": 16,
    "start_time": "2022-11-14T14:39:08.251Z"
   },
   {
    "duration": 1085,
    "start_time": "2022-11-14T18:12:41.120Z"
   },
   {
    "duration": 73,
    "start_time": "2022-11-14T18:12:42.207Z"
   },
   {
    "duration": 8,
    "start_time": "2022-11-14T18:12:42.281Z"
   },
   {
    "duration": 35,
    "start_time": "2022-11-14T18:12:42.290Z"
   },
   {
    "duration": 17,
    "start_time": "2022-11-14T18:12:42.329Z"
   },
   {
    "duration": 5,
    "start_time": "2022-11-14T18:12:42.348Z"
   },
   {
    "duration": 10,
    "start_time": "2022-11-14T18:12:42.354Z"
   },
   {
    "duration": 10,
    "start_time": "2022-11-14T18:12:42.366Z"
   },
   {
    "duration": 36,
    "start_time": "2022-11-14T18:12:42.378Z"
   },
   {
    "duration": 24,
    "start_time": "2022-11-14T18:12:42.418Z"
   },
   {
    "duration": 9,
    "start_time": "2022-11-14T18:12:42.444Z"
   },
   {
    "duration": 12,
    "start_time": "2022-11-14T18:12:42.454Z"
   },
   {
    "duration": 5,
    "start_time": "2022-11-14T18:12:42.468Z"
   },
   {
    "duration": 416,
    "start_time": "2022-11-14T18:12:42.476Z"
   },
   {
    "duration": 346,
    "start_time": "2022-11-14T18:12:42.894Z"
   },
   {
    "duration": 404,
    "start_time": "2022-11-14T18:12:43.242Z"
   },
   {
    "duration": 16,
    "start_time": "2022-11-14T18:12:43.647Z"
   },
   {
    "duration": 4,
    "start_time": "2022-11-14T18:12:43.664Z"
   },
   {
    "duration": 421,
    "start_time": "2022-11-14T18:12:43.670Z"
   },
   {
    "duration": 446,
    "start_time": "2022-11-14T18:12:44.093Z"
   },
   {
    "duration": 10,
    "start_time": "2022-11-14T18:12:44.541Z"
   },
   {
    "duration": 237,
    "start_time": "2022-11-14T18:12:44.553Z"
   },
   {
    "duration": 6,
    "start_time": "2022-11-14T18:12:44.792Z"
   },
   {
    "duration": 171,
    "start_time": "2022-11-14T18:12:44.800Z"
   },
   {
    "duration": 159,
    "start_time": "2022-11-14T18:12:44.975Z"
   },
   {
    "duration": 4,
    "start_time": "2022-11-14T18:12:45.136Z"
   },
   {
    "duration": 112,
    "start_time": "2022-11-14T18:12:45.142Z"
   },
   {
    "duration": 70,
    "start_time": "2022-11-14T18:12:45.256Z"
   },
   {
    "duration": 8,
    "start_time": "2022-11-14T18:12:45.328Z"
   },
   {
    "duration": 37,
    "start_time": "2022-11-14T18:12:45.338Z"
   },
   {
    "duration": 10,
    "start_time": "2022-11-14T18:12:45.377Z"
   },
   {
    "duration": 5,
    "start_time": "2022-11-14T18:12:45.389Z"
   },
   {
    "duration": 352,
    "start_time": "2022-11-14T18:12:45.396Z"
   },
   {
    "duration": 5,
    "start_time": "2022-11-14T18:12:45.750Z"
   },
   {
    "duration": 6,
    "start_time": "2022-11-14T18:12:45.757Z"
   }
  ],
  "kernelspec": {
   "display_name": "Python 3 (ipykernel)",
   "language": "python",
   "name": "python3"
  },
  "language_info": {
   "codemirror_mode": {
    "name": "ipython",
    "version": 3
   },
   "file_extension": ".py",
   "mimetype": "text/x-python",
   "name": "python",
   "nbconvert_exporter": "python",
   "pygments_lexer": "ipython3",
   "version": "3.9.5"
  },
  "toc": {
   "base_numbering": 1,
   "nav_menu": {},
   "number_sections": false,
   "sideBar": true,
   "skip_h1_title": false,
   "title_cell": "Table of Contents",
   "title_sidebar": "Contents",
   "toc_cell": false,
   "toc_position": {},
   "toc_section_display": true,
   "toc_window_display": true
  }
 },
 "nbformat": 4,
 "nbformat_minor": 2
}
