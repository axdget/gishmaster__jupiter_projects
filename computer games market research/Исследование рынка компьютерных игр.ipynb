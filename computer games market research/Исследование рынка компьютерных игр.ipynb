{
 "cells": [
  {
   "cell_type": "markdown",
   "metadata": {},
   "source": [
    "## Шаг 1. Импорт данных"
   ]
  },
  {
   "cell_type": "code",
   "execution_count": 1,
   "metadata": {},
   "outputs": [],
   "source": [
    "import pandas as pd \n",
    "import numpy as np\n",
    "import seaborn as sb\n",
    "from scipy import stats as st\n",
    "from matplotlib import pyplot as plt\n",
    "#pd.set_option('display.max_rows',None)\n",
    "pd.set_option('display.max_columns',None)"
   ]
  },
  {
   "cell_type": "code",
   "execution_count": 2,
   "metadata": {},
   "outputs": [],
   "source": [
    "data = pd.read_csv('/datasets/games.csv')"
   ]
  },
  {
   "cell_type": "markdown",
   "metadata": {},
   "source": [
    "### Выводы по шагу 1\n",
    "Библиотеки загружены, файл прочитан."
   ]
  },
  {
   "cell_type": "markdown",
   "metadata": {},
   "source": [
    "## Шаг 2. Подготовьте данные\n"
   ]
  },
  {
   "cell_type": "markdown",
   "metadata": {},
   "source": [
    "Замените названия столбцов (приведите к нижнему регистру);\n",
    "Преобразуйте данные в нужные типы. Опишите, в каких столбцах заменили тип данных и почему;"
   ]
  },
  {
   "cell_type": "code",
   "execution_count": 3,
   "metadata": {},
   "outputs": [
    {
     "name": "stdout",
     "output_type": "stream",
     "text": [
      "<class 'pandas.core.frame.DataFrame'>\n",
      "RangeIndex: 16715 entries, 0 to 16714\n",
      "Data columns (total 11 columns):\n",
      " #   Column           Non-Null Count  Dtype  \n",
      "---  ------           --------------  -----  \n",
      " 0   Name             16713 non-null  object \n",
      " 1   Platform         16715 non-null  object \n",
      " 2   Year_of_Release  16446 non-null  float64\n",
      " 3   Genre            16713 non-null  object \n",
      " 4   NA_sales         16715 non-null  float64\n",
      " 5   EU_sales         16715 non-null  float64\n",
      " 6   JP_sales         16715 non-null  float64\n",
      " 7   Other_sales      16715 non-null  float64\n",
      " 8   Critic_Score     8137 non-null   float64\n",
      " 9   User_Score       10014 non-null  object \n",
      " 10  Rating           9949 non-null   object \n",
      "dtypes: float64(6), object(5)\n",
      "memory usage: 1.4+ MB\n"
     ]
    }
   ],
   "source": [
    "data.info()\n",
    "data = data.rename(columns=lambda x: x.lower())\n",
    "data['name'] = data['name'].str.lower()\n",
    "data['platform'] = data['platform'].str.lower()\n",
    "data['genre'] = data['genre'].str.lower()"
   ]
  },
  {
   "cell_type": "code",
   "execution_count": 4,
   "metadata": {},
   "outputs": [
    {
     "data": {
      "text/html": [
       "<div>\n",
       "<style scoped>\n",
       "    .dataframe tbody tr th:only-of-type {\n",
       "        vertical-align: middle;\n",
       "    }\n",
       "\n",
       "    .dataframe tbody tr th {\n",
       "        vertical-align: top;\n",
       "    }\n",
       "\n",
       "    .dataframe thead th {\n",
       "        text-align: right;\n",
       "    }\n",
       "</style>\n",
       "<table border=\"1\" class=\"dataframe\">\n",
       "  <thead>\n",
       "    <tr style=\"text-align: right;\">\n",
       "      <th></th>\n",
       "      <th>year_of_release</th>\n",
       "      <th>na_sales</th>\n",
       "      <th>eu_sales</th>\n",
       "      <th>jp_sales</th>\n",
       "      <th>other_sales</th>\n",
       "      <th>critic_score</th>\n",
       "    </tr>\n",
       "  </thead>\n",
       "  <tbody>\n",
       "    <tr>\n",
       "      <th>count</th>\n",
       "      <td>16446.000000</td>\n",
       "      <td>16715.000000</td>\n",
       "      <td>16715.000000</td>\n",
       "      <td>16715.000000</td>\n",
       "      <td>16715.000000</td>\n",
       "      <td>8137.000000</td>\n",
       "    </tr>\n",
       "    <tr>\n",
       "      <th>mean</th>\n",
       "      <td>2006.484616</td>\n",
       "      <td>0.263377</td>\n",
       "      <td>0.145060</td>\n",
       "      <td>0.077617</td>\n",
       "      <td>0.047342</td>\n",
       "      <td>68.967679</td>\n",
       "    </tr>\n",
       "    <tr>\n",
       "      <th>std</th>\n",
       "      <td>5.877050</td>\n",
       "      <td>0.813604</td>\n",
       "      <td>0.503339</td>\n",
       "      <td>0.308853</td>\n",
       "      <td>0.186731</td>\n",
       "      <td>13.938165</td>\n",
       "    </tr>\n",
       "    <tr>\n",
       "      <th>min</th>\n",
       "      <td>1980.000000</td>\n",
       "      <td>0.000000</td>\n",
       "      <td>0.000000</td>\n",
       "      <td>0.000000</td>\n",
       "      <td>0.000000</td>\n",
       "      <td>13.000000</td>\n",
       "    </tr>\n",
       "    <tr>\n",
       "      <th>25%</th>\n",
       "      <td>2003.000000</td>\n",
       "      <td>0.000000</td>\n",
       "      <td>0.000000</td>\n",
       "      <td>0.000000</td>\n",
       "      <td>0.000000</td>\n",
       "      <td>60.000000</td>\n",
       "    </tr>\n",
       "    <tr>\n",
       "      <th>50%</th>\n",
       "      <td>2007.000000</td>\n",
       "      <td>0.080000</td>\n",
       "      <td>0.020000</td>\n",
       "      <td>0.000000</td>\n",
       "      <td>0.010000</td>\n",
       "      <td>71.000000</td>\n",
       "    </tr>\n",
       "    <tr>\n",
       "      <th>75%</th>\n",
       "      <td>2010.000000</td>\n",
       "      <td>0.240000</td>\n",
       "      <td>0.110000</td>\n",
       "      <td>0.040000</td>\n",
       "      <td>0.030000</td>\n",
       "      <td>79.000000</td>\n",
       "    </tr>\n",
       "    <tr>\n",
       "      <th>max</th>\n",
       "      <td>2016.000000</td>\n",
       "      <td>41.360000</td>\n",
       "      <td>28.960000</td>\n",
       "      <td>10.220000</td>\n",
       "      <td>10.570000</td>\n",
       "      <td>98.000000</td>\n",
       "    </tr>\n",
       "  </tbody>\n",
       "</table>\n",
       "</div>"
      ],
      "text/plain": [
       "       year_of_release      na_sales      eu_sales      jp_sales  \\\n",
       "count     16446.000000  16715.000000  16715.000000  16715.000000   \n",
       "mean       2006.484616      0.263377      0.145060      0.077617   \n",
       "std           5.877050      0.813604      0.503339      0.308853   \n",
       "min        1980.000000      0.000000      0.000000      0.000000   \n",
       "25%        2003.000000      0.000000      0.000000      0.000000   \n",
       "50%        2007.000000      0.080000      0.020000      0.000000   \n",
       "75%        2010.000000      0.240000      0.110000      0.040000   \n",
       "max        2016.000000     41.360000     28.960000     10.220000   \n",
       "\n",
       "        other_sales  critic_score  \n",
       "count  16715.000000   8137.000000  \n",
       "mean       0.047342     68.967679  \n",
       "std        0.186731     13.938165  \n",
       "min        0.000000     13.000000  \n",
       "25%        0.000000     60.000000  \n",
       "50%        0.010000     71.000000  \n",
       "75%        0.030000     79.000000  \n",
       "max       10.570000     98.000000  "
      ]
     },
     "execution_count": 4,
     "metadata": {},
     "output_type": "execute_result"
    }
   ],
   "source": [
    "data = data.drop_duplicates()\n",
    "data.describe()"
   ]
  },
  {
   "cell_type": "code",
   "execution_count": 5,
   "metadata": {},
   "outputs": [
    {
     "data": {
      "text/plain": [
       "0        2006.0\n",
       "1        1985.0\n",
       "2        2008.0\n",
       "3        2009.0\n",
       "4        1996.0\n",
       "          ...  \n",
       "16710    2016.0\n",
       "16711    2006.0\n",
       "16712    2016.0\n",
       "16713    2003.0\n",
       "16714    2016.0\n",
       "Name: year_of_release, Length: 16715, dtype: float64"
      ]
     },
     "execution_count": 5,
     "metadata": {},
     "output_type": "execute_result"
    }
   ],
   "source": [
    "data['year_of_release'] = pd.to_datetime(data['year_of_release'], format='%Y')\n",
    "data['user_score'] = data['user_score'].replace('tbd', np.NaN)\n",
    "data['critic_score'] = data['critic_score'].replace('tbd', np.NaN)\n",
    "data['user_score'] = data['user_score'].astype(float)\n",
    "data['year_of_release'] = data['year_of_release'].dt.year\n",
    "data['year_of_release'].isna().sum()\n",
    "data['year_of_release']"
   ]
  },
  {
   "cell_type": "code",
   "execution_count": 6,
   "metadata": {},
   "outputs": [
    {
     "name": "stdout",
     "output_type": "stream",
     "text": [
      "<class 'pandas.core.frame.DataFrame'>\n",
      "Int64Index: 16715 entries, 0 to 16714\n",
      "Data columns (total 11 columns):\n",
      " #   Column           Non-Null Count  Dtype  \n",
      "---  ------           --------------  -----  \n",
      " 0   name             16713 non-null  object \n",
      " 1   platform         16715 non-null  object \n",
      " 2   year_of_release  16446 non-null  float64\n",
      " 3   genre            16713 non-null  object \n",
      " 4   na_sales         16715 non-null  float64\n",
      " 5   eu_sales         16715 non-null  float64\n",
      " 6   jp_sales         16715 non-null  float64\n",
      " 7   other_sales      16715 non-null  float64\n",
      " 8   critic_score     8137 non-null   float64\n",
      " 9   user_score       7590 non-null   float64\n",
      " 10  rating           9949 non-null   object \n",
      "dtypes: float64(7), object(4)\n",
      "memory usage: 1.5+ MB\n"
     ]
    }
   ],
   "source": [
    "data.info()"
   ]
  },
  {
   "cell_type": "markdown",
   "metadata": {},
   "source": [
    "Обработайте пропуски при необходимости:\n",
    "Объясните, почему заполнили пропуски определённым образом или почему не стали это делать;\n",
    "Опишите причины, которые могли привести к пропускам;"
   ]
  },
  {
   "cell_type": "code",
   "execution_count": 7,
   "metadata": {},
   "outputs": [
    {
     "data": {
      "text/plain": [
       "array(['sports', 'platform', 'racing', 'role-playing', 'puzzle', 'misc',\n",
       "       'shooter', 'simulation', 'action', 'fighting', 'adventure',\n",
       "       'strategy'], dtype=object)"
      ]
     },
     "execution_count": 7,
     "metadata": {},
     "output_type": "execute_result"
    }
   ],
   "source": [
    "data = data.dropna(subset=['year_of_release','name'])\n",
    "genre_uniq = data['genre'].unique()\n",
    "genre_uniq\n",
    "\n",
    "\n",
    "#for i in genre_uniq:\n",
    "#    med_c = data.loc[data['genre'] == i]['critic_score'].median()\n",
    "#    med_u = data.loc[data['genre'] == i]['user_score'].median()\n",
    "#    data.loc[data['genre'] == i,'critic_score'] = data.loc[data['genre'] == i,'critic_score'].fillna(med_c)\n",
    "#    data.loc[data['genre'] == i,'user_score'] = data.loc[data['genre'] == i,'user_score'].fillna(med_u)\n"
   ]
  },
  {
   "cell_type": "markdown",
   "metadata": {},
   "source": [
    "Посчитайте суммарные продажи во всех регионах и запишите их в отдельный столбец."
   ]
  },
  {
   "cell_type": "code",
   "execution_count": 8,
   "metadata": {},
   "outputs": [],
   "source": [
    "data['total_sales'] = data['na_sales'] + data['eu_sales'] + data['jp_sales'] + data['other_sales']\n",
    "data['total_sales'] = data['total_sales'].replace(0, np.NaN)\n",
    "data = data.dropna(subset=['total_sales'])"
   ]
  },
  {
   "cell_type": "code",
   "execution_count": 9,
   "metadata": {},
   "outputs": [
    {
     "data": {
      "text/plain": [
       "11425"
      ]
     },
     "execution_count": 9,
     "metadata": {},
     "output_type": "execute_result"
    }
   ],
   "source": [
    "len(data['name'].unique())"
   ]
  },
  {
   "cell_type": "code",
   "execution_count": 10,
   "metadata": {
    "scrolled": false
   },
   "outputs": [
    {
     "data": {
      "text/html": [
       "<div>\n",
       "<style scoped>\n",
       "    .dataframe tbody tr th:only-of-type {\n",
       "        vertical-align: middle;\n",
       "    }\n",
       "\n",
       "    .dataframe tbody tr th {\n",
       "        vertical-align: top;\n",
       "    }\n",
       "\n",
       "    .dataframe thead th {\n",
       "        text-align: right;\n",
       "    }\n",
       "</style>\n",
       "<table border=\"1\" class=\"dataframe\">\n",
       "  <thead>\n",
       "    <tr style=\"text-align: right;\">\n",
       "      <th></th>\n",
       "      <th>critic_score</th>\n",
       "      <th>user_score</th>\n",
       "    </tr>\n",
       "    <tr>\n",
       "      <th>year_of_release</th>\n",
       "      <th></th>\n",
       "      <th></th>\n",
       "    </tr>\n",
       "  </thead>\n",
       "  <tbody>\n",
       "    <tr>\n",
       "      <th>1980.0</th>\n",
       "      <td>NaN</td>\n",
       "      <td>NaN</td>\n",
       "    </tr>\n",
       "    <tr>\n",
       "      <th>1981.0</th>\n",
       "      <td>NaN</td>\n",
       "      <td>NaN</td>\n",
       "    </tr>\n",
       "    <tr>\n",
       "      <th>1982.0</th>\n",
       "      <td>NaN</td>\n",
       "      <td>NaN</td>\n",
       "    </tr>\n",
       "    <tr>\n",
       "      <th>1983.0</th>\n",
       "      <td>NaN</td>\n",
       "      <td>NaN</td>\n",
       "    </tr>\n",
       "    <tr>\n",
       "      <th>1984.0</th>\n",
       "      <td>NaN</td>\n",
       "      <td>NaN</td>\n",
       "    </tr>\n",
       "    <tr>\n",
       "      <th>1985.0</th>\n",
       "      <td>59.000000</td>\n",
       "      <td>5.800000</td>\n",
       "    </tr>\n",
       "    <tr>\n",
       "      <th>1986.0</th>\n",
       "      <td>NaN</td>\n",
       "      <td>NaN</td>\n",
       "    </tr>\n",
       "    <tr>\n",
       "      <th>1987.0</th>\n",
       "      <td>NaN</td>\n",
       "      <td>NaN</td>\n",
       "    </tr>\n",
       "    <tr>\n",
       "      <th>1988.0</th>\n",
       "      <td>64.000000</td>\n",
       "      <td>2.200000</td>\n",
       "    </tr>\n",
       "    <tr>\n",
       "      <th>1989.0</th>\n",
       "      <td>NaN</td>\n",
       "      <td>NaN</td>\n",
       "    </tr>\n",
       "    <tr>\n",
       "      <th>1990.0</th>\n",
       "      <td>NaN</td>\n",
       "      <td>NaN</td>\n",
       "    </tr>\n",
       "    <tr>\n",
       "      <th>1991.0</th>\n",
       "      <td>NaN</td>\n",
       "      <td>NaN</td>\n",
       "    </tr>\n",
       "    <tr>\n",
       "      <th>1992.0</th>\n",
       "      <td>85.000000</td>\n",
       "      <td>8.200000</td>\n",
       "    </tr>\n",
       "    <tr>\n",
       "      <th>1993.0</th>\n",
       "      <td>NaN</td>\n",
       "      <td>NaN</td>\n",
       "    </tr>\n",
       "    <tr>\n",
       "      <th>1994.0</th>\n",
       "      <td>69.000000</td>\n",
       "      <td>6.300000</td>\n",
       "    </tr>\n",
       "    <tr>\n",
       "      <th>1995.0</th>\n",
       "      <td>NaN</td>\n",
       "      <td>NaN</td>\n",
       "    </tr>\n",
       "    <tr>\n",
       "      <th>1996.0</th>\n",
       "      <td>89.875000</td>\n",
       "      <td>8.400000</td>\n",
       "    </tr>\n",
       "    <tr>\n",
       "      <th>1997.0</th>\n",
       "      <td>85.294118</td>\n",
       "      <td>8.472222</td>\n",
       "    </tr>\n",
       "    <tr>\n",
       "      <th>1998.0</th>\n",
       "      <td>81.821429</td>\n",
       "      <td>8.506452</td>\n",
       "    </tr>\n",
       "    <tr>\n",
       "      <th>1999.0</th>\n",
       "      <td>75.769231</td>\n",
       "      <td>8.480645</td>\n",
       "    </tr>\n",
       "    <tr>\n",
       "      <th>2000.0</th>\n",
       "      <td>69.349650</td>\n",
       "      <td>7.531776</td>\n",
       "    </tr>\n",
       "    <tr>\n",
       "      <th>2001.0</th>\n",
       "      <td>71.414110</td>\n",
       "      <td>7.594942</td>\n",
       "    </tr>\n",
       "    <tr>\n",
       "      <th>2002.0</th>\n",
       "      <td>69.046252</td>\n",
       "      <td>7.585129</td>\n",
       "    </tr>\n",
       "    <tr>\n",
       "      <th>2003.0</th>\n",
       "      <td>70.181197</td>\n",
       "      <td>7.859884</td>\n",
       "    </tr>\n",
       "    <tr>\n",
       "      <th>2004.0</th>\n",
       "      <td>69.393939</td>\n",
       "      <td>7.750511</td>\n",
       "    </tr>\n",
       "    <tr>\n",
       "      <th>2005.0</th>\n",
       "      <td>68.819847</td>\n",
       "      <td>7.509605</td>\n",
       "    </tr>\n",
       "    <tr>\n",
       "      <th>2006.0</th>\n",
       "      <td>67.338710</td>\n",
       "      <td>7.247283</td>\n",
       "    </tr>\n",
       "    <tr>\n",
       "      <th>2007.0</th>\n",
       "      <td>66.180636</td>\n",
       "      <td>6.895707</td>\n",
       "    </tr>\n",
       "    <tr>\n",
       "      <th>2008.0</th>\n",
       "      <td>65.904895</td>\n",
       "      <td>6.950983</td>\n",
       "    </tr>\n",
       "    <tr>\n",
       "      <th>2009.0</th>\n",
       "      <td>67.554531</td>\n",
       "      <td>6.990717</td>\n",
       "    </tr>\n",
       "    <tr>\n",
       "      <th>2010.0</th>\n",
       "      <td>67.482000</td>\n",
       "      <td>6.875375</td>\n",
       "    </tr>\n",
       "    <tr>\n",
       "      <th>2011.0</th>\n",
       "      <td>68.692000</td>\n",
       "      <td>6.623553</td>\n",
       "    </tr>\n",
       "    <tr>\n",
       "      <th>2012.0</th>\n",
       "      <td>72.984424</td>\n",
       "      <td>6.817404</td>\n",
       "    </tr>\n",
       "    <tr>\n",
       "      <th>2013.0</th>\n",
       "      <td>71.278388</td>\n",
       "      <td>6.470724</td>\n",
       "    </tr>\n",
       "    <tr>\n",
       "      <th>2014.0</th>\n",
       "      <td>71.065134</td>\n",
       "      <td>6.580243</td>\n",
       "    </tr>\n",
       "    <tr>\n",
       "      <th>2015.0</th>\n",
       "      <td>72.871111</td>\n",
       "      <td>6.665993</td>\n",
       "    </tr>\n",
       "    <tr>\n",
       "      <th>2016.0</th>\n",
       "      <td>73.155172</td>\n",
       "      <td>6.629771</td>\n",
       "    </tr>\n",
       "  </tbody>\n",
       "</table>\n",
       "</div>"
      ],
      "text/plain": [
       "                 critic_score  user_score\n",
       "year_of_release                          \n",
       "1980.0                    NaN         NaN\n",
       "1981.0                    NaN         NaN\n",
       "1982.0                    NaN         NaN\n",
       "1983.0                    NaN         NaN\n",
       "1984.0                    NaN         NaN\n",
       "1985.0              59.000000    5.800000\n",
       "1986.0                    NaN         NaN\n",
       "1987.0                    NaN         NaN\n",
       "1988.0              64.000000    2.200000\n",
       "1989.0                    NaN         NaN\n",
       "1990.0                    NaN         NaN\n",
       "1991.0                    NaN         NaN\n",
       "1992.0              85.000000    8.200000\n",
       "1993.0                    NaN         NaN\n",
       "1994.0              69.000000    6.300000\n",
       "1995.0                    NaN         NaN\n",
       "1996.0              89.875000    8.400000\n",
       "1997.0              85.294118    8.472222\n",
       "1998.0              81.821429    8.506452\n",
       "1999.0              75.769231    8.480645\n",
       "2000.0              69.349650    7.531776\n",
       "2001.0              71.414110    7.594942\n",
       "2002.0              69.046252    7.585129\n",
       "2003.0              70.181197    7.859884\n",
       "2004.0              69.393939    7.750511\n",
       "2005.0              68.819847    7.509605\n",
       "2006.0              67.338710    7.247283\n",
       "2007.0              66.180636    6.895707\n",
       "2008.0              65.904895    6.950983\n",
       "2009.0              67.554531    6.990717\n",
       "2010.0              67.482000    6.875375\n",
       "2011.0              68.692000    6.623553\n",
       "2012.0              72.984424    6.817404\n",
       "2013.0              71.278388    6.470724\n",
       "2014.0              71.065134    6.580243\n",
       "2015.0              72.871111    6.665993\n",
       "2016.0              73.155172    6.629771"
      ]
     },
     "metadata": {},
     "output_type": "display_data"
    },
    {
     "data": {
      "text/html": [
       "<div>\n",
       "<style scoped>\n",
       "    .dataframe tbody tr th:only-of-type {\n",
       "        vertical-align: middle;\n",
       "    }\n",
       "\n",
       "    .dataframe tbody tr th {\n",
       "        vertical-align: top;\n",
       "    }\n",
       "\n",
       "    .dataframe thead th {\n",
       "        text-align: right;\n",
       "    }\n",
       "</style>\n",
       "<table border=\"1\" class=\"dataframe\">\n",
       "  <thead>\n",
       "    <tr style=\"text-align: right;\">\n",
       "      <th></th>\n",
       "      <th>critic_score</th>\n",
       "      <th>user_score</th>\n",
       "    </tr>\n",
       "    <tr>\n",
       "      <th>platform</th>\n",
       "      <th></th>\n",
       "      <th></th>\n",
       "    </tr>\n",
       "  </thead>\n",
       "  <tbody>\n",
       "    <tr>\n",
       "      <th>2600</th>\n",
       "      <td>NaN</td>\n",
       "      <td>NaN</td>\n",
       "    </tr>\n",
       "    <tr>\n",
       "      <th>3do</th>\n",
       "      <td>NaN</td>\n",
       "      <td>NaN</td>\n",
       "    </tr>\n",
       "    <tr>\n",
       "      <th>3ds</th>\n",
       "      <td>67.156627</td>\n",
       "      <td>6.852047</td>\n",
       "    </tr>\n",
       "    <tr>\n",
       "      <th>dc</th>\n",
       "      <td>87.357143</td>\n",
       "      <td>8.528571</td>\n",
       "    </tr>\n",
       "    <tr>\n",
       "      <th>ds</th>\n",
       "      <td>63.728814</td>\n",
       "      <td>7.022656</td>\n",
       "    </tr>\n",
       "    <tr>\n",
       "      <th>gb</th>\n",
       "      <td>NaN</td>\n",
       "      <td>NaN</td>\n",
       "    </tr>\n",
       "    <tr>\n",
       "      <th>gba</th>\n",
       "      <td>67.311628</td>\n",
       "      <td>7.669323</td>\n",
       "    </tr>\n",
       "    <tr>\n",
       "      <th>gc</th>\n",
       "      <td>69.601831</td>\n",
       "      <td>7.615686</td>\n",
       "    </tr>\n",
       "    <tr>\n",
       "      <th>gen</th>\n",
       "      <td>NaN</td>\n",
       "      <td>NaN</td>\n",
       "    </tr>\n",
       "    <tr>\n",
       "      <th>gg</th>\n",
       "      <td>NaN</td>\n",
       "      <td>NaN</td>\n",
       "    </tr>\n",
       "    <tr>\n",
       "      <th>n64</th>\n",
       "      <td>NaN</td>\n",
       "      <td>NaN</td>\n",
       "    </tr>\n",
       "    <tr>\n",
       "      <th>nes</th>\n",
       "      <td>NaN</td>\n",
       "      <td>NaN</td>\n",
       "    </tr>\n",
       "    <tr>\n",
       "      <th>ng</th>\n",
       "      <td>NaN</td>\n",
       "      <td>NaN</td>\n",
       "    </tr>\n",
       "    <tr>\n",
       "      <th>pc</th>\n",
       "      <td>75.927039</td>\n",
       "      <td>7.065960</td>\n",
       "    </tr>\n",
       "    <tr>\n",
       "      <th>pcfx</th>\n",
       "      <td>NaN</td>\n",
       "      <td>NaN</td>\n",
       "    </tr>\n",
       "    <tr>\n",
       "      <th>ps</th>\n",
       "      <td>71.586735</td>\n",
       "      <td>7.858491</td>\n",
       "    </tr>\n",
       "    <tr>\n",
       "      <th>ps2</th>\n",
       "      <td>68.714510</td>\n",
       "      <td>7.625328</td>\n",
       "    </tr>\n",
       "    <tr>\n",
       "      <th>ps3</th>\n",
       "      <td>70.468905</td>\n",
       "      <td>6.719512</td>\n",
       "    </tr>\n",
       "    <tr>\n",
       "      <th>ps4</th>\n",
       "      <td>72.091270</td>\n",
       "      <td>6.748249</td>\n",
       "    </tr>\n",
       "    <tr>\n",
       "      <th>psp</th>\n",
       "      <td>67.535088</td>\n",
       "      <td>7.236842</td>\n",
       "    </tr>\n",
       "    <tr>\n",
       "      <th>psv</th>\n",
       "      <td>70.731092</td>\n",
       "      <td>7.334507</td>\n",
       "    </tr>\n",
       "    <tr>\n",
       "      <th>sat</th>\n",
       "      <td>NaN</td>\n",
       "      <td>NaN</td>\n",
       "    </tr>\n",
       "    <tr>\n",
       "      <th>scd</th>\n",
       "      <td>NaN</td>\n",
       "      <td>NaN</td>\n",
       "    </tr>\n",
       "    <tr>\n",
       "      <th>snes</th>\n",
       "      <td>NaN</td>\n",
       "      <td>NaN</td>\n",
       "    </tr>\n",
       "    <tr>\n",
       "      <th>tg16</th>\n",
       "      <td>NaN</td>\n",
       "      <td>NaN</td>\n",
       "    </tr>\n",
       "    <tr>\n",
       "      <th>wii</th>\n",
       "      <td>62.778169</td>\n",
       "      <td>6.737956</td>\n",
       "    </tr>\n",
       "    <tr>\n",
       "      <th>wiiu</th>\n",
       "      <td>70.733333</td>\n",
       "      <td>6.904000</td>\n",
       "    </tr>\n",
       "    <tr>\n",
       "      <th>ws</th>\n",
       "      <td>NaN</td>\n",
       "      <td>NaN</td>\n",
       "    </tr>\n",
       "    <tr>\n",
       "      <th>x360</th>\n",
       "      <td>68.685682</td>\n",
       "      <td>6.680741</td>\n",
       "    </tr>\n",
       "    <tr>\n",
       "      <th>xb</th>\n",
       "      <td>69.912181</td>\n",
       "      <td>7.525044</td>\n",
       "    </tr>\n",
       "    <tr>\n",
       "      <th>xone</th>\n",
       "      <td>73.325444</td>\n",
       "      <td>6.521429</td>\n",
       "    </tr>\n",
       "  </tbody>\n",
       "</table>\n",
       "</div>"
      ],
      "text/plain": [
       "          critic_score  user_score\n",
       "platform                          \n",
       "2600               NaN         NaN\n",
       "3do                NaN         NaN\n",
       "3ds          67.156627    6.852047\n",
       "dc           87.357143    8.528571\n",
       "ds           63.728814    7.022656\n",
       "gb                 NaN         NaN\n",
       "gba          67.311628    7.669323\n",
       "gc           69.601831    7.615686\n",
       "gen                NaN         NaN\n",
       "gg                 NaN         NaN\n",
       "n64                NaN         NaN\n",
       "nes                NaN         NaN\n",
       "ng                 NaN         NaN\n",
       "pc           75.927039    7.065960\n",
       "pcfx               NaN         NaN\n",
       "ps           71.586735    7.858491\n",
       "ps2          68.714510    7.625328\n",
       "ps3          70.468905    6.719512\n",
       "ps4          72.091270    6.748249\n",
       "psp          67.535088    7.236842\n",
       "psv          70.731092    7.334507\n",
       "sat                NaN         NaN\n",
       "scd                NaN         NaN\n",
       "snes               NaN         NaN\n",
       "tg16               NaN         NaN\n",
       "wii          62.778169    6.737956\n",
       "wiiu         70.733333    6.904000\n",
       "ws                 NaN         NaN\n",
       "x360         68.685682    6.680741\n",
       "xb           69.912181    7.525044\n",
       "xone         73.325444    6.521429"
      ]
     },
     "metadata": {},
     "output_type": "display_data"
    }
   ],
   "source": [
    "year_gap = pd.pivot_table(data,index='year_of_release')\n",
    "display(year_gap[['critic_score','user_score']])\n",
    "\n",
    "platform_gap = pd.pivot_table(data,index='platform')\n",
    "display(platform_gap[['critic_score','user_score']])"
   ]
  },
  {
   "cell_type": "markdown",
   "metadata": {},
   "source": [
    "### Выводы по шагу 2\n",
    "\n",
    "\n",
    "<br> Удалены строки с пропусками в названии и дате выхода,\n",
    "    Пропуски в оценке и рейтиниге отсавлены, так как они относятся к играм и платформам не актуальных для нашего исследования. Заменить их другим значением тоже не представляется возможным, поскольку рейтинг и оценка определяется содержаением игры, чего в дата фрейме не отражено.\n",
    "    \n",
    "Все названия стобцов и значения в столбцах приведены в нижний регистр.\n",
    "    \n",
    "Удалены дубликаты.\n",
    "    \n",
    "Типы данных приведены в соотвестиве с их содержимым.\n",
    "    \n",
    "Возможные причины позникновения пропусков:\n",
    "1)ошибки при заведение данных в таблицу, в названии и годе выпуска.\n",
    "2)малая известность игры причина почему никто не стал ставить оценки.\n",
    "    \n",
    "Посчитаны сумарные продажи во всех регионах в отдельном столбце.\n",
    "    \n",
    "</font> \n"
   ]
  },
  {
   "cell_type": "markdown",
   "metadata": {},
   "source": [
    "## Шаг 3. Проведите исследовательский анализ данных\n"
   ]
  },
  {
   "cell_type": "markdown",
   "metadata": {},
   "source": [
    "Посмотрите, сколько игр выпускалось в разные годы. Важны ли данные за все периоды?\n"
   ]
  },
  {
   "cell_type": "code",
   "execution_count": 11,
   "metadata": {},
   "outputs": [
    {
     "data": {
      "text/html": [
       "<div>\n",
       "<style scoped>\n",
       "    .dataframe tbody tr th:only-of-type {\n",
       "        vertical-align: middle;\n",
       "    }\n",
       "\n",
       "    .dataframe tbody tr th {\n",
       "        vertical-align: top;\n",
       "    }\n",
       "\n",
       "    .dataframe thead th {\n",
       "        text-align: right;\n",
       "    }\n",
       "</style>\n",
       "<table border=\"1\" class=\"dataframe\">\n",
       "  <thead>\n",
       "    <tr style=\"text-align: right;\">\n",
       "      <th></th>\n",
       "      <th>name</th>\n",
       "    </tr>\n",
       "    <tr>\n",
       "      <th>year_of_release</th>\n",
       "      <th></th>\n",
       "    </tr>\n",
       "  </thead>\n",
       "  <tbody>\n",
       "    <tr>\n",
       "      <th>1980.0</th>\n",
       "      <td>9</td>\n",
       "    </tr>\n",
       "    <tr>\n",
       "      <th>1981.0</th>\n",
       "      <td>46</td>\n",
       "    </tr>\n",
       "    <tr>\n",
       "      <th>1982.0</th>\n",
       "      <td>36</td>\n",
       "    </tr>\n",
       "    <tr>\n",
       "      <th>1983.0</th>\n",
       "      <td>17</td>\n",
       "    </tr>\n",
       "    <tr>\n",
       "      <th>1984.0</th>\n",
       "      <td>14</td>\n",
       "    </tr>\n",
       "    <tr>\n",
       "      <th>1985.0</th>\n",
       "      <td>14</td>\n",
       "    </tr>\n",
       "    <tr>\n",
       "      <th>1986.0</th>\n",
       "      <td>21</td>\n",
       "    </tr>\n",
       "    <tr>\n",
       "      <th>1987.0</th>\n",
       "      <td>16</td>\n",
       "    </tr>\n",
       "    <tr>\n",
       "      <th>1988.0</th>\n",
       "      <td>15</td>\n",
       "    </tr>\n",
       "    <tr>\n",
       "      <th>1989.0</th>\n",
       "      <td>17</td>\n",
       "    </tr>\n",
       "    <tr>\n",
       "      <th>1990.0</th>\n",
       "      <td>16</td>\n",
       "    </tr>\n",
       "    <tr>\n",
       "      <th>1991.0</th>\n",
       "      <td>41</td>\n",
       "    </tr>\n",
       "    <tr>\n",
       "      <th>1992.0</th>\n",
       "      <td>43</td>\n",
       "    </tr>\n",
       "    <tr>\n",
       "      <th>1993.0</th>\n",
       "      <td>60</td>\n",
       "    </tr>\n",
       "    <tr>\n",
       "      <th>1994.0</th>\n",
       "      <td>121</td>\n",
       "    </tr>\n",
       "    <tr>\n",
       "      <th>1995.0</th>\n",
       "      <td>219</td>\n",
       "    </tr>\n",
       "    <tr>\n",
       "      <th>1996.0</th>\n",
       "      <td>263</td>\n",
       "    </tr>\n",
       "    <tr>\n",
       "      <th>1997.0</th>\n",
       "      <td>289</td>\n",
       "    </tr>\n",
       "    <tr>\n",
       "      <th>1998.0</th>\n",
       "      <td>379</td>\n",
       "    </tr>\n",
       "    <tr>\n",
       "      <th>1999.0</th>\n",
       "      <td>338</td>\n",
       "    </tr>\n",
       "    <tr>\n",
       "      <th>2000.0</th>\n",
       "      <td>350</td>\n",
       "    </tr>\n",
       "    <tr>\n",
       "      <th>2001.0</th>\n",
       "      <td>482</td>\n",
       "    </tr>\n",
       "    <tr>\n",
       "      <th>2002.0</th>\n",
       "      <td>829</td>\n",
       "    </tr>\n",
       "    <tr>\n",
       "      <th>2003.0</th>\n",
       "      <td>775</td>\n",
       "    </tr>\n",
       "    <tr>\n",
       "      <th>2004.0</th>\n",
       "      <td>762</td>\n",
       "    </tr>\n",
       "    <tr>\n",
       "      <th>2005.0</th>\n",
       "      <td>939</td>\n",
       "    </tr>\n",
       "    <tr>\n",
       "      <th>2006.0</th>\n",
       "      <td>1006</td>\n",
       "    </tr>\n",
       "    <tr>\n",
       "      <th>2007.0</th>\n",
       "      <td>1197</td>\n",
       "    </tr>\n",
       "    <tr>\n",
       "      <th>2008.0</th>\n",
       "      <td>1425</td>\n",
       "    </tr>\n",
       "    <tr>\n",
       "      <th>2009.0</th>\n",
       "      <td>1426</td>\n",
       "    </tr>\n",
       "    <tr>\n",
       "      <th>2010.0</th>\n",
       "      <td>1255</td>\n",
       "    </tr>\n",
       "    <tr>\n",
       "      <th>2011.0</th>\n",
       "      <td>1136</td>\n",
       "    </tr>\n",
       "    <tr>\n",
       "      <th>2012.0</th>\n",
       "      <td>653</td>\n",
       "    </tr>\n",
       "    <tr>\n",
       "      <th>2013.0</th>\n",
       "      <td>544</td>\n",
       "    </tr>\n",
       "    <tr>\n",
       "      <th>2014.0</th>\n",
       "      <td>581</td>\n",
       "    </tr>\n",
       "    <tr>\n",
       "      <th>2015.0</th>\n",
       "      <td>606</td>\n",
       "    </tr>\n",
       "    <tr>\n",
       "      <th>2016.0</th>\n",
       "      <td>502</td>\n",
       "    </tr>\n",
       "  </tbody>\n",
       "</table>\n",
       "</div>"
      ],
      "text/plain": [
       "                 name\n",
       "year_of_release      \n",
       "1980.0              9\n",
       "1981.0             46\n",
       "1982.0             36\n",
       "1983.0             17\n",
       "1984.0             14\n",
       "1985.0             14\n",
       "1986.0             21\n",
       "1987.0             16\n",
       "1988.0             15\n",
       "1989.0             17\n",
       "1990.0             16\n",
       "1991.0             41\n",
       "1992.0             43\n",
       "1993.0             60\n",
       "1994.0            121\n",
       "1995.0            219\n",
       "1996.0            263\n",
       "1997.0            289\n",
       "1998.0            379\n",
       "1999.0            338\n",
       "2000.0            350\n",
       "2001.0            482\n",
       "2002.0            829\n",
       "2003.0            775\n",
       "2004.0            762\n",
       "2005.0            939\n",
       "2006.0           1006\n",
       "2007.0           1197\n",
       "2008.0           1425\n",
       "2009.0           1426\n",
       "2010.0           1255\n",
       "2011.0           1136\n",
       "2012.0            653\n",
       "2013.0            544\n",
       "2014.0            581\n",
       "2015.0            606\n",
       "2016.0            502"
      ]
     },
     "execution_count": 11,
     "metadata": {},
     "output_type": "execute_result"
    }
   ],
   "source": [
    "years_releas = pd.pivot_table(data,values = 'name',index ='year_of_release', aggfunc='count')\n",
    "years_releas"
   ]
  },
  {
   "cell_type": "markdown",
   "metadata": {},
   "source": [
    " "
   ]
  },
  {
   "cell_type": "markdown",
   "metadata": {},
   "source": [
    "\n",
    "\n",
    "<br> По таблице виден постепенный рост выпущенных игр за год, игры до 1994 могут быть проигнорированы.\n",
    "</font> \n"
   ]
  },
  {
   "cell_type": "markdown",
   "metadata": {},
   "source": [
    "Посмотрите, как менялись продажи по платформам. Выберите платформы с наибольшими суммарными продажами и постройте распределение по годам. За какой характерный срок появляются новые и исчезают старые платформы?\n"
   ]
  },
  {
   "cell_type": "code",
   "execution_count": 12,
   "metadata": {},
   "outputs": [
    {
     "data": {
      "image/png": "[encoded data removed]",
      "text/plain": [
       "<Figure size 432x288 with 1 Axes>"
      ]
     },
     "metadata": {
      "needs_background": "light"
     },
     "output_type": "display_data"
    },
    {
     "data": {
      "image/png": "[encoded data removed]",
      "text/plain": [
       "<Figure size 432x288 with 1 Axes>"
      ]
     },
     "metadata": {
      "needs_background": "light"
     },
     "output_type": "display_data"
    },
    {
     "data": {
      "image/png": "[encoded data removed]",
      "text/plain": [
       "<Figure size 432x288 with 1 Axes>"
      ]
     },
     "metadata": {
      "needs_background": "light"
     },
     "output_type": "display_data"
    },
    {
     "data": {
      "image/png": "[encoded data removed]",
      "text/plain": [
       "<Figure size 432x288 with 1 Axes>"
      ]
     },
     "metadata": {
      "needs_background": "light"
     },
     "output_type": "display_data"
    },
    {
     "data": {
      "image/png": "[encoded data removed]",
      "text/plain": [
       "<Figure size 432x288 with 1 Axes>"
      ]
     },
     "metadata": {
      "needs_background": "light"
     },
     "output_type": "display_data"
    }
   ],
   "source": [
    "platform_sales = pd.pivot_table(data,values = 'total_sales',index ='year_of_release',columns = 'platform', aggfunc='sum')\n",
    "sales_per_platform = pd.pivot_table(data,values = 'total_sales',index ='platform', aggfunc='sum')\n",
    "sales_per_platform.sort_values(by ='total_sales',ascending = False)\n",
    "top_sale_list = sales_per_platform.nlargest(5,'total_sales').index\n",
    "for pltfrm in top_sale_list:\n",
    "    data[['platform','year_of_release','total_sales']].loc[data['platform'] == pltfrm].groupby('year_of_release').sum().plot(kind='bar', title = pltfrm)"
   ]
  },
  {
   "cell_type": "markdown",
   "metadata": {},
   "source": [
    "\n",
    "<br> Средний рост популярности платформы занимает 4 года,пик приходится на 5 год жизни консоли. Потом также 4 года идет постепенный спад. Такой график наблюдается на платформах с максимальным кол-вом продаж.\n",
    "</font> "
   ]
  },
  {
   "cell_type": "markdown",
   "metadata": {},
   "source": [
    "Возьмите данные за соответствующий актуальный период. Актуальный период определите самостоятельно в результате исследования предыдущих вопросов. Основной фактор — эти данные помогут построить прогноз на 2017 год.\n",
    "Актуальный период 2013-2016\n"
   ]
  },
  {
   "cell_type": "markdown",
   "metadata": {},
   "source": [
    "Замена Nan в столбце \"rating\" на заглушку 'no_rating'\n"
   ]
  },
  {
   "cell_type": "code",
   "execution_count": 13,
   "metadata": {},
   "outputs": [],
   "source": [
    "data['rating'] = data['rating'].fillna('no_rating')"
   ]
  },
  {
   "cell_type": "code",
   "execution_count": 14,
   "metadata": {},
   "outputs": [
    {
     "data": {
      "text/plain": [
       "Index(['ps4', 'ps3', 'xone', '3ds', 'x360'], dtype='object', name='platform')"
      ]
     },
     "execution_count": 14,
     "metadata": {},
     "output_type": "execute_result"
    },
    {
     "data": {
      "image/png": "[encoded data removed]",
      "text/plain": [
       "<Figure size 432x288 with 1 Axes>"
      ]
     },
     "metadata": {
      "needs_background": "light"
     },
     "output_type": "display_data"
    },
    {
     "data": {
      "image/png": "[encoded data removed]",
      "text/plain": [
       "<Figure size 432x288 with 1 Axes>"
      ]
     },
     "metadata": {
      "needs_background": "light"
     },
     "output_type": "display_data"
    },
    {
     "data": {
      "image/png": "[encoded data removed]",
      "text/plain": [
       "<Figure size 432x288 with 1 Axes>"
      ]
     },
     "metadata": {
      "needs_background": "light"
     },
     "output_type": "display_data"
    },
    {
     "data": {
      "image/png": "[encoded data removed]",
      "text/plain": [
       "<Figure size 432x288 with 1 Axes>"
      ]
     },
     "metadata": {
      "needs_background": "light"
     },
     "output_type": "display_data"
    },
    {
     "data": {
      "image/png": "[encoded data removed]",
      "text/plain": [
       "<Figure size 432x288 with 1 Axes>"
      ]
     },
     "metadata": {
      "needs_background": "light"
     },
     "output_type": "display_data"
    }
   ],
   "source": [
    "actual_data = data.loc[data['year_of_release']>2012]\n",
    "\n",
    "actual_data_piv = pd.pivot_table(actual_data,values = 'total_sales',index ='platform', aggfunc='sum')\n",
    "actual_data_piv.sort_values(by ='total_sales',ascending = False)\n",
    "\n",
    "for pltfrm in actual_data_piv.nlargest(5,'total_sales').index:\n",
    "    actual_data[['platform','year_of_release','total_sales']].loc[actual_data['platform'] == pltfrm].groupby('year_of_release').sum().plot(kind='bar', title = pltfrm)\n",
    "actual_data_piv.nlargest(5,'total_sales').index"
   ]
  },
  {
   "cell_type": "markdown",
   "metadata": {},
   "source": [
    "Какие платформы лидируют по продажам, растут или падают? Выберите несколько потенциально прибыльных платформ.\n"
   ]
  },
  {
   "cell_type": "markdown",
   "metadata": {},
   "source": [
    "\n",
    "<br> Лидеры по продажам за актуальный период:'ps4', 'ps3', 'xone', '3ds', 'x360'\n",
    "Рост за актуальный период:'ps4', 'xone'(учитывая неполные данные за 2016)\n",
    "Падениеза актуальный период:'ps3', '3ds', 'x360'\n",
    "потенциально прибыльные:'ps4', 'xone'\n",
    "</font> "
   ]
  },
  {
   "cell_type": "code",
   "execution_count": 15,
   "metadata": {},
   "outputs": [
    {
     "data": {
      "image/png": "[encoded data removed]",
      "text/plain": [
       "<Figure size 2250x900 with 1 Axes>"
      ]
     },
     "metadata": {
      "needs_background": "light"
     },
     "output_type": "display_data"
    }
   ],
   "source": [
    "\n",
    "\n",
    "import matplotlib.ticker as ticker\n",
    "\n",
    "ax = actual_data.astype({'year_of_release' : 'int'}).pivot_table(index='year_of_release',\n",
    "                                                                 columns='platform',\n",
    "                                                                 values='total_sales',\n",
    "                                                                 aggfunc='sum').plot(figsize=(15,6), cmap='tab20')\n",
    "plt.gcf().set_dpi(150)\n",
    "\n",
    "ax.xaxis.set_major_locator(ticker.MultipleLocator(1))"
   ]
  },
  {
   "cell_type": "markdown",
   "metadata": {},
   "source": [
    "Постройте график «ящик с усами» по глобальным продажам игр в разбивке по платформам. Опишите результат.\n"
   ]
  },
  {
   "cell_type": "code",
   "execution_count": 16,
   "metadata": {},
   "outputs": [
    {
     "data": {
      "image/png": "[encoded data removed]",
      "text/plain": [
       "<Figure size 432x288 with 1 Axes>"
      ]
     },
     "metadata": {
      "needs_background": "light"
     },
     "output_type": "display_data"
    },
    {
     "name": "stdout",
     "output_type": "stream",
     "text": [
      "       total_sales\n",
      "count   392.000000\n",
      "mean      0.801378\n",
      "std       1.609456\n",
      "min       0.010000\n",
      "25%       0.060000\n",
      "50%       0.200000\n",
      "75%       0.730000\n",
      "max      14.630000\n",
      "------------------------------------------\n"
     ]
    },
    {
     "data": {
      "image/png": "[encoded data removed]",
      "text/plain": [
       "<Figure size 432x288 with 1 Axes>"
      ]
     },
     "metadata": {
      "needs_background": "light"
     },
     "output_type": "display_data"
    },
    {
     "name": "stdout",
     "output_type": "stream",
     "text": [
      "       total_sales\n",
      "count  1305.000000\n",
      "mean      0.713670\n",
      "std       1.403463\n",
      "min       0.010000\n",
      "25%       0.110000\n",
      "50%       0.280000\n",
      "75%       0.760000\n",
      "max      21.050000\n",
      "------------------------------------------\n"
     ]
    },
    {
     "data": {
      "image/png": "[encoded data removed]",
      "text/plain": [
       "<Figure size 432x288 with 1 Axes>"
      ]
     },
     "metadata": {
      "needs_background": "light"
     },
     "output_type": "display_data"
    },
    {
     "name": "stdout",
     "output_type": "stream",
     "text": [
      "       total_sales\n",
      "count   247.000000\n",
      "mean      0.645020\n",
      "std       1.036139\n",
      "min       0.010000\n",
      "25%       0.060000\n",
      "50%       0.220000\n",
      "75%       0.685000\n",
      "max       7.390000\n",
      "------------------------------------------\n"
     ]
    },
    {
     "data": {
      "image/png": "[encoded data removed]",
      "text/plain": [
       "<Figure size 432x288 with 1 Axes>"
      ]
     },
     "metadata": {
      "needs_background": "light"
     },
     "output_type": "display_data"
    },
    {
     "name": "stdout",
     "output_type": "stream",
     "text": [
      "       total_sales\n",
      "count   512.000000\n",
      "mean      0.503535\n",
      "std       1.441271\n",
      "min       0.010000\n",
      "25%       0.050000\n",
      "50%       0.120000\n",
      "75%       0.332500\n",
      "max      14.600000\n",
      "------------------------------------------\n"
     ]
    },
    {
     "data": {
      "image/png": "[encoded data removed]",
      "text/plain": [
       "<Figure size 432x288 with 1 Axes>"
      ]
     },
     "metadata": {
      "needs_background": "light"
     },
     "output_type": "display_data"
    },
    {
     "name": "stdout",
     "output_type": "stream",
     "text": [
      "       total_sales\n",
      "count  1232.000000\n",
      "mean      0.780227\n",
      "std       1.632122\n",
      "min       0.010000\n",
      "25%       0.110000\n",
      "50%       0.280000\n",
      "75%       0.770000\n",
      "max      21.820000\n",
      "------------------------------------------\n"
     ]
    }
   ],
   "source": [
    "for pltfrm in actual_data_piv.nlargest(5,'total_sales').index:\n",
    "    sb.boxplot(data=data[['platform','total_sales']].loc[data['platform'] == pltfrm], x=\"total_sales\", y=\"platform\")\n",
    "    plt.show()\n",
    "    print(data[['platform','total_sales']].loc[data['platform'] == pltfrm].describe())\n",
    "    print('------------------------------------------')"
   ]
  },
  {
   "cell_type": "code",
   "execution_count": 17,
   "metadata": {},
   "outputs": [
    {
     "data": {
      "image/png": "[encoded data removed]",
      "text/plain": [
       "<Figure size 2250x900 with 1 Axes>"
      ]
     },
     "metadata": {
      "needs_background": "light"
     },
     "output_type": "display_data"
    }
   ],
   "source": [
    "\n",
    "\n",
    "plt.figure(figsize=(15,6))\n",
    "sb.boxplot(data=actual_data, y='total_sales', x='platform')\n",
    "plt.gcf().set_dpi(150)"
   ]
  },
  {
   "cell_type": "markdown",
   "metadata": {},
   "source": [
    "\n",
    "\n",
    "<br> Графики показвают, что для каждой платформы можно найти определнное кол-во хитов которые и собирают основные продажи. При этот игры не поповшие в шорт-лист показывают слабые показатели.Средние продажи по интересующих нас платформ составляют 0.6 млн проданых копий.\n",
    "</font> "
   ]
  },
  {
   "cell_type": "code",
   "execution_count": 18,
   "metadata": {},
   "outputs": [
    {
     "name": "stdout",
     "output_type": "stream",
     "text": [
      "<class 'pandas.core.frame.DataFrame'>\n",
      "Int64Index: 16442 entries, 0 to 16714\n",
      "Data columns (total 12 columns):\n",
      " #   Column           Non-Null Count  Dtype  \n",
      "---  ------           --------------  -----  \n",
      " 0   name             16442 non-null  object \n",
      " 1   platform         16442 non-null  object \n",
      " 2   year_of_release  16442 non-null  float64\n",
      " 3   genre            16442 non-null  object \n",
      " 4   na_sales         16442 non-null  float64\n",
      " 5   eu_sales         16442 non-null  float64\n",
      " 6   jp_sales         16442 non-null  float64\n",
      " 7   other_sales      16442 non-null  float64\n",
      " 8   critic_score     7983 non-null   float64\n",
      " 9   user_score       7463 non-null   float64\n",
      " 10  rating           16442 non-null  object \n",
      " 11  total_sales      16442 non-null  float64\n",
      "dtypes: float64(8), object(4)\n",
      "memory usage: 1.6+ MB\n"
     ]
    }
   ],
   "source": [
    "data.info()\n"
   ]
  },
  {
   "cell_type": "markdown",
   "metadata": {},
   "source": [
    "Посмотрите, как влияют на продажи внутри одной популярной платформы отзывы пользователей и критиков. Постройте диаграмму рассеяния и посчитайте корреляцию между отзывами и продажами.\n"
   ]
  },
  {
   "cell_type": "code",
   "execution_count": 19,
   "metadata": {},
   "outputs": [
    {
     "data": {
      "image/png": "[encoded data removed]",
      "text/plain": [
       "<Figure size 432x288 with 1 Axes>"
      ]
     },
     "metadata": {
      "needs_background": "light"
     },
     "output_type": "display_data"
    },
    {
     "data": {
      "text/plain": [
       "<AxesSubplot:xlabel='critic_score', ylabel='total_sales'>"
      ]
     },
     "execution_count": 19,
     "metadata": {},
     "output_type": "execute_result"
    },
    {
     "data": {
      "image/png": "[encoded data removed]",
      "text/plain": [
       "<Figure size 432x288 with 1 Axes>"
      ]
     },
     "metadata": {
      "needs_background": "light"
     },
     "output_type": "display_data"
    }
   ],
   "source": [
    "ps4_sales = data[['critic_score','user_score','total_sales']].loc[data['platform']=='ps4']\n",
    "#ps4_sales_stat = ps4_sales.pivot_table(index = 'name',values =['user_score','critic_score','total_sales'])\n",
    "ps4_sales.plot(x='user_score',y='total_sales',kind='scatter')\n",
    "plt.show()\n",
    "ps4_sales.plot(x='critic_score',y='total_sales',kind='scatter')\n",
    "#ps4_sales[['critic_score','total_sales']]\n",
    "#pd.plotting.scatter_matrix(ps4_sales[['user_score','total_sales']], figsize=(9,9))"
   ]
  },
  {
   "cell_type": "code",
   "execution_count": 20,
   "metadata": {},
   "outputs": [
    {
     "name": "stdout",
     "output_type": "stream",
     "text": [
      "              critic_score  user_score  total_sales\n",
      "critic_score      1.000000    0.557654     0.406568\n",
      "user_score        0.557654    1.000000    -0.031957\n",
      "total_sales       0.406568   -0.031957     1.000000\n"
     ]
    }
   ],
   "source": [
    "print(ps4_sales.corr())"
   ]
  },
  {
   "cell_type": "markdown",
   "metadata": {},
   "source": [
    "\n",
    "<br> Графики показвают, что чем выше оценка тем больше продаж.Наиболее ярко это выражено для оценок критиков. Оценки пользователей мене влиятельны на продажи, однако лидеры все равно находятся в секторе с высокими оценками.\n",
    "</font> "
   ]
  },
  {
   "cell_type": "code",
   "execution_count": 21,
   "metadata": {},
   "outputs": [
    {
     "name": "stdout",
     "output_type": "stream",
     "text": [
      "Матрица корреляций для: ps4\n",
      "              critic_score  user_score  total_sales\n",
      "critic_score      1.000000    0.557654     0.406568\n",
      "user_score        0.557654    1.000000    -0.031957\n",
      "total_sales       0.406568   -0.031957     1.000000\n",
      "Матрица корреляций для: ps3\n",
      "              critic_score  user_score  total_sales\n",
      "critic_score      1.000000    0.631154     0.432759\n",
      "user_score        0.631154    1.000000     0.128416\n",
      "total_sales       0.432759    0.128416     1.000000\n",
      "Матрица корреляций для: xone\n",
      "              critic_score  user_score  total_sales\n",
      "critic_score      1.000000    0.472462     0.416998\n",
      "user_score        0.472462    1.000000    -0.068925\n",
      "total_sales       0.416998   -0.068925     1.000000\n",
      "Матрица корреляций для: 3ds\n",
      "              critic_score  user_score  total_sales\n",
      "critic_score      1.000000    0.745222     0.348740\n",
      "user_score        0.745222    1.000000     0.222078\n",
      "total_sales       0.348740    0.222078     1.000000\n",
      "Матрица корреляций для: x360\n",
      "              critic_score  user_score  total_sales\n",
      "critic_score      1.000000    0.625020     0.392866\n",
      "user_score        0.625020    1.000000     0.114187\n",
      "total_sales       0.392866    0.114187     1.000000\n"
     ]
    }
   ],
   "source": [
    "\n",
    "for pltfrm in actual_data_piv.nlargest(5,'total_sales').index:\n",
    "    print('Матрица корреляций для:',pltfrm)\n",
    "    print(data[['critic_score','user_score','total_sales']].loc[data['platform']== pltfrm].corr())"
   ]
  },
  {
   "cell_type": "markdown",
   "metadata": {},
   "source": [
    "Соотнесите выводы с продажами игр на других платформах.\n"
   ]
  },
  {
   "cell_type": "markdown",
   "metadata": {},
   "source": [
    "\n",
    "<br> Продажи на других платформах имеют схожие зависимости. Это доказывают таблицы выше. От платформы к платформе меняется интенсивость зависимости однако, она сохраняется.\n",
    "</font> "
   ]
  },
  {
   "cell_type": "code",
   "execution_count": 22,
   "metadata": {},
   "outputs": [
    {
     "name": "stderr",
     "output_type": "stream",
     "text": [
      "/opt/conda/lib/python3.9/site-packages/numpy/lib/function_base.py:2683: RuntimeWarning: Degrees of freedom <= 0 for slice\n",
      "  c = cov(x, y, rowvar, dtype=dtype)\n",
      "/opt/conda/lib/python3.9/site-packages/numpy/lib/function_base.py:2542: RuntimeWarning: divide by zero encountered in true_divide\n",
      "  c *= np.true_divide(1, fact)\n"
     ]
    },
    {
     "data": {
      "text/html": [
       "<div>\n",
       "<style scoped>\n",
       "    .dataframe tbody tr th:only-of-type {\n",
       "        vertical-align: middle;\n",
       "    }\n",
       "\n",
       "    .dataframe tbody tr th {\n",
       "        vertical-align: top;\n",
       "    }\n",
       "\n",
       "    .dataframe thead th {\n",
       "        text-align: right;\n",
       "    }\n",
       "</style>\n",
       "<table border=\"1\" class=\"dataframe\">\n",
       "  <thead>\n",
       "    <tr style=\"text-align: right;\">\n",
       "      <th></th>\n",
       "      <th>user_score</th>\n",
       "      <th>critic_score</th>\n",
       "    </tr>\n",
       "    <tr>\n",
       "      <th>platform</th>\n",
       "      <th></th>\n",
       "      <th></th>\n",
       "    </tr>\n",
       "  </thead>\n",
       "  <tbody>\n",
       "    <tr>\n",
       "      <th>3ds</th>\n",
       "      <td>0.24</td>\n",
       "      <td>0.36</td>\n",
       "    </tr>\n",
       "    <tr>\n",
       "      <th>ds</th>\n",
       "      <td>NaN</td>\n",
       "      <td>NaN</td>\n",
       "    </tr>\n",
       "    <tr>\n",
       "      <th>pc</th>\n",
       "      <td>-0.09</td>\n",
       "      <td>0.20</td>\n",
       "    </tr>\n",
       "    <tr>\n",
       "      <th>ps3</th>\n",
       "      <td>0.00</td>\n",
       "      <td>0.33</td>\n",
       "    </tr>\n",
       "    <tr>\n",
       "      <th>ps4</th>\n",
       "      <td>-0.03</td>\n",
       "      <td>0.41</td>\n",
       "    </tr>\n",
       "    <tr>\n",
       "      <th>psp</th>\n",
       "      <td>-1.00</td>\n",
       "      <td>NaN</td>\n",
       "    </tr>\n",
       "    <tr>\n",
       "      <th>psv</th>\n",
       "      <td>0.00</td>\n",
       "      <td>0.25</td>\n",
       "    </tr>\n",
       "    <tr>\n",
       "      <th>wii</th>\n",
       "      <td>0.68</td>\n",
       "      <td>NaN</td>\n",
       "    </tr>\n",
       "    <tr>\n",
       "      <th>wiiu</th>\n",
       "      <td>0.42</td>\n",
       "      <td>0.38</td>\n",
       "    </tr>\n",
       "    <tr>\n",
       "      <th>x360</th>\n",
       "      <td>-0.01</td>\n",
       "      <td>0.35</td>\n",
       "    </tr>\n",
       "    <tr>\n",
       "      <th>xone</th>\n",
       "      <td>-0.07</td>\n",
       "      <td>0.42</td>\n",
       "    </tr>\n",
       "  </tbody>\n",
       "</table>\n",
       "</div>"
      ],
      "text/plain": [
       "          user_score  critic_score\n",
       "platform                          \n",
       "3ds             0.24          0.36\n",
       "ds               NaN           NaN\n",
       "pc             -0.09          0.20\n",
       "ps3             0.00          0.33\n",
       "ps4            -0.03          0.41\n",
       "psp            -1.00           NaN\n",
       "psv             0.00          0.25\n",
       "wii             0.68           NaN\n",
       "wiiu            0.42          0.38\n",
       "x360           -0.01          0.35\n",
       "xone           -0.07          0.42"
      ]
     },
     "execution_count": 22,
     "metadata": {},
     "output_type": "execute_result"
    }
   ],
   "source": [
    "actual_data.groupby('platform')[['user_score','critic_score']].corrwith(actual_data['total_sales']).round(2)"
   ]
  },
  {
   "cell_type": "markdown",
   "metadata": {},
   "source": [
    "Посмотрите на общее распределение игр по жанрам. Что можно сказать о самых прибыльных жанрах? Выделяются ли жанры с высокими и низкими продажами?\n"
   ]
  },
  {
   "cell_type": "code",
   "execution_count": 23,
   "metadata": {},
   "outputs": [
    {
     "name": "stdout",
     "output_type": "stream",
     "text": [
      "              count  median\n",
      "genre                      \n",
      "action          766   0.110\n",
      "role-playing    292   0.125\n",
      "adventure       245   0.030\n",
      "sports          214   0.240\n",
      "shooter         187   0.450\n",
      "misc            155   0.100\n",
      "racing           85   0.120\n",
      "fighting         80   0.125\n",
      "platform         74   0.225\n",
      "simulation       62   0.100\n",
      "strategy         56   0.080\n",
      "puzzle           17   0.060\n"
     ]
    },
    {
     "data": {
      "text/html": [
       "<div>\n",
       "<style scoped>\n",
       "    .dataframe tbody tr th:only-of-type {\n",
       "        vertical-align: middle;\n",
       "    }\n",
       "\n",
       "    .dataframe tbody tr th {\n",
       "        vertical-align: top;\n",
       "    }\n",
       "\n",
       "    .dataframe thead th {\n",
       "        text-align: right;\n",
       "    }\n",
       "</style>\n",
       "<table border=\"1\" class=\"dataframe\">\n",
       "  <thead>\n",
       "    <tr style=\"text-align: right;\">\n",
       "      <th></th>\n",
       "      <th>name</th>\n",
       "      <th>platform</th>\n",
       "      <th>year_of_release</th>\n",
       "      <th>genre</th>\n",
       "      <th>na_sales</th>\n",
       "      <th>eu_sales</th>\n",
       "      <th>jp_sales</th>\n",
       "      <th>other_sales</th>\n",
       "      <th>critic_score</th>\n",
       "      <th>user_score</th>\n",
       "      <th>rating</th>\n",
       "      <th>total_sales</th>\n",
       "    </tr>\n",
       "  </thead>\n",
       "  <tbody>\n",
       "    <tr>\n",
       "      <th>16</th>\n",
       "      <td>grand theft auto v</td>\n",
       "      <td>ps3</td>\n",
       "      <td>2013.0</td>\n",
       "      <td>action</td>\n",
       "      <td>7.02</td>\n",
       "      <td>9.09</td>\n",
       "      <td>0.98</td>\n",
       "      <td>3.96</td>\n",
       "      <td>97.0</td>\n",
       "      <td>8.2</td>\n",
       "      <td>M</td>\n",
       "      <td>21.05</td>\n",
       "    </tr>\n",
       "    <tr>\n",
       "      <th>23</th>\n",
       "      <td>grand theft auto v</td>\n",
       "      <td>x360</td>\n",
       "      <td>2013.0</td>\n",
       "      <td>action</td>\n",
       "      <td>9.66</td>\n",
       "      <td>5.14</td>\n",
       "      <td>0.06</td>\n",
       "      <td>1.41</td>\n",
       "      <td>97.0</td>\n",
       "      <td>8.1</td>\n",
       "      <td>M</td>\n",
       "      <td>16.27</td>\n",
       "    </tr>\n",
       "    <tr>\n",
       "      <th>31</th>\n",
       "      <td>call of duty: black ops 3</td>\n",
       "      <td>ps4</td>\n",
       "      <td>2015.0</td>\n",
       "      <td>shooter</td>\n",
       "      <td>6.03</td>\n",
       "      <td>5.86</td>\n",
       "      <td>0.36</td>\n",
       "      <td>2.38</td>\n",
       "      <td>NaN</td>\n",
       "      <td>NaN</td>\n",
       "      <td>no_rating</td>\n",
       "      <td>14.63</td>\n",
       "    </tr>\n",
       "    <tr>\n",
       "      <th>33</th>\n",
       "      <td>pokemon x/pokemon y</td>\n",
       "      <td>3ds</td>\n",
       "      <td>2013.0</td>\n",
       "      <td>role-playing</td>\n",
       "      <td>5.28</td>\n",
       "      <td>4.19</td>\n",
       "      <td>4.35</td>\n",
       "      <td>0.78</td>\n",
       "      <td>NaN</td>\n",
       "      <td>NaN</td>\n",
       "      <td>no_rating</td>\n",
       "      <td>14.60</td>\n",
       "    </tr>\n",
       "    <tr>\n",
       "      <th>42</th>\n",
       "      <td>grand theft auto v</td>\n",
       "      <td>ps4</td>\n",
       "      <td>2014.0</td>\n",
       "      <td>action</td>\n",
       "      <td>3.96</td>\n",
       "      <td>6.31</td>\n",
       "      <td>0.38</td>\n",
       "      <td>1.97</td>\n",
       "      <td>97.0</td>\n",
       "      <td>8.3</td>\n",
       "      <td>M</td>\n",
       "      <td>12.62</td>\n",
       "    </tr>\n",
       "    <tr>\n",
       "      <th>...</th>\n",
       "      <td>...</td>\n",
       "      <td>...</td>\n",
       "      <td>...</td>\n",
       "      <td>...</td>\n",
       "      <td>...</td>\n",
       "      <td>...</td>\n",
       "      <td>...</td>\n",
       "      <td>...</td>\n",
       "      <td>...</td>\n",
       "      <td>...</td>\n",
       "      <td>...</td>\n",
       "      <td>...</td>\n",
       "    </tr>\n",
       "    <tr>\n",
       "      <th>16703</th>\n",
       "      <td>strawberry nauts</td>\n",
       "      <td>psv</td>\n",
       "      <td>2016.0</td>\n",
       "      <td>adventure</td>\n",
       "      <td>0.00</td>\n",
       "      <td>0.00</td>\n",
       "      <td>0.01</td>\n",
       "      <td>0.00</td>\n",
       "      <td>NaN</td>\n",
       "      <td>NaN</td>\n",
       "      <td>no_rating</td>\n",
       "      <td>0.01</td>\n",
       "    </tr>\n",
       "    <tr>\n",
       "      <th>16707</th>\n",
       "      <td>aiyoku no eustia</td>\n",
       "      <td>psv</td>\n",
       "      <td>2014.0</td>\n",
       "      <td>misc</td>\n",
       "      <td>0.00</td>\n",
       "      <td>0.00</td>\n",
       "      <td>0.01</td>\n",
       "      <td>0.00</td>\n",
       "      <td>NaN</td>\n",
       "      <td>NaN</td>\n",
       "      <td>no_rating</td>\n",
       "      <td>0.01</td>\n",
       "    </tr>\n",
       "    <tr>\n",
       "      <th>16710</th>\n",
       "      <td>samurai warriors: sanada maru</td>\n",
       "      <td>ps3</td>\n",
       "      <td>2016.0</td>\n",
       "      <td>action</td>\n",
       "      <td>0.00</td>\n",
       "      <td>0.00</td>\n",
       "      <td>0.01</td>\n",
       "      <td>0.00</td>\n",
       "      <td>NaN</td>\n",
       "      <td>NaN</td>\n",
       "      <td>no_rating</td>\n",
       "      <td>0.01</td>\n",
       "    </tr>\n",
       "    <tr>\n",
       "      <th>16712</th>\n",
       "      <td>haitaka no psychedelica</td>\n",
       "      <td>psv</td>\n",
       "      <td>2016.0</td>\n",
       "      <td>adventure</td>\n",
       "      <td>0.00</td>\n",
       "      <td>0.00</td>\n",
       "      <td>0.01</td>\n",
       "      <td>0.00</td>\n",
       "      <td>NaN</td>\n",
       "      <td>NaN</td>\n",
       "      <td>no_rating</td>\n",
       "      <td>0.01</td>\n",
       "    </tr>\n",
       "    <tr>\n",
       "      <th>16714</th>\n",
       "      <td>winning post 8 2016</td>\n",
       "      <td>psv</td>\n",
       "      <td>2016.0</td>\n",
       "      <td>simulation</td>\n",
       "      <td>0.00</td>\n",
       "      <td>0.00</td>\n",
       "      <td>0.01</td>\n",
       "      <td>0.00</td>\n",
       "      <td>NaN</td>\n",
       "      <td>NaN</td>\n",
       "      <td>no_rating</td>\n",
       "      <td>0.01</td>\n",
       "    </tr>\n",
       "  </tbody>\n",
       "</table>\n",
       "<p>2233 rows × 12 columns</p>\n",
       "</div>"
      ],
      "text/plain": [
       "                                name platform  year_of_release         genre  \\\n",
       "16                grand theft auto v      ps3           2013.0        action   \n",
       "23                grand theft auto v     x360           2013.0        action   \n",
       "31         call of duty: black ops 3      ps4           2015.0       shooter   \n",
       "33               pokemon x/pokemon y      3ds           2013.0  role-playing   \n",
       "42                grand theft auto v      ps4           2014.0        action   \n",
       "...                              ...      ...              ...           ...   \n",
       "16703               strawberry nauts      psv           2016.0     adventure   \n",
       "16707               aiyoku no eustia      psv           2014.0          misc   \n",
       "16710  samurai warriors: sanada maru      ps3           2016.0        action   \n",
       "16712        haitaka no psychedelica      psv           2016.0     adventure   \n",
       "16714            winning post 8 2016      psv           2016.0    simulation   \n",
       "\n",
       "       na_sales  eu_sales  jp_sales  other_sales  critic_score  user_score  \\\n",
       "16         7.02      9.09      0.98         3.96          97.0         8.2   \n",
       "23         9.66      5.14      0.06         1.41          97.0         8.1   \n",
       "31         6.03      5.86      0.36         2.38           NaN         NaN   \n",
       "33         5.28      4.19      4.35         0.78           NaN         NaN   \n",
       "42         3.96      6.31      0.38         1.97          97.0         8.3   \n",
       "...         ...       ...       ...          ...           ...         ...   \n",
       "16703      0.00      0.00      0.01         0.00           NaN         NaN   \n",
       "16707      0.00      0.00      0.01         0.00           NaN         NaN   \n",
       "16710      0.00      0.00      0.01         0.00           NaN         NaN   \n",
       "16712      0.00      0.00      0.01         0.00           NaN         NaN   \n",
       "16714      0.00      0.00      0.01         0.00           NaN         NaN   \n",
       "\n",
       "          rating  total_sales  \n",
       "16             M        21.05  \n",
       "23             M        16.27  \n",
       "31     no_rating        14.63  \n",
       "33     no_rating        14.60  \n",
       "42             M        12.62  \n",
       "...          ...          ...  \n",
       "16703  no_rating         0.01  \n",
       "16707  no_rating         0.01  \n",
       "16710  no_rating         0.01  \n",
       "16712  no_rating         0.01  \n",
       "16714  no_rating         0.01  \n",
       "\n",
       "[2233 rows x 12 columns]"
      ]
     },
     "execution_count": 23,
     "metadata": {},
     "output_type": "execute_result"
    }
   ],
   "source": [
    "genger_piv = actual_data.pivot_table(index='genre', values='total_sales',aggfunc=['count','median'])\n",
    "genger_piv = genger_piv.set_axis(['count', 'median'], axis=1)\n",
    "print(genger_piv.sort_values(by='count', ascending=False))\n",
    "\n",
    "#actual_data.pivot_table(index='genre', values='total_sales',aggfunc=['sum','median']).sort_values(by='total_sales', ascending=False).nlargest(5,'total_sales').index\n",
    "actual_data"
   ]
  },
  {
   "cell_type": "markdown",
   "metadata": {},
   "source": [
    "\n",
    "<br> Продажи по жанрам распределены с относительно равноменым уменьшением от игры в жанре action с 1716.52 млн продаж до игр в жанре strategy с 172.57 млн продаж. \n",
    "\n",
    "Наиболее интересные для продажи игры жанров:'action', 'sports', 'shooter', 'role-playing', 'platform'\n",
    "\n",
    "Игры с наиболее низкими продажами:strategy,adventure, puzzle.\n",
    "\n",
    "Возможно игры с более сложными решениями и в целом заставляющие принимать решения в процессе игры, менее интересны так как не позволяют сразу после запуска начать получать удовольствие от процесса.\n",
    "    \n",
    "    \n",
    "</font> "
   ]
  },
  {
   "cell_type": "markdown",
   "metadata": {},
   "source": [
    "### Выводы по шагу 3\n",
    "\n",
    "<br> \n",
    "Цикл жизни платформы составляет около 9 лет, с пиком продаж на 5 год. Также на продажи влияет оценка критиков, выше оценка выше продажи. Наиболее перспективные для разработки в 2017 являются PS4 и XboxOne.Игру стоит выбирать из наиболее популярных жанров таких как: 'action', 'sports', 'shooter', 'role-playing', 'platform'\n",
    "\n",
    "Выросла конкуренция, это видно по постепенному росту кол-ва уникальных тайтлов и их постепенное снижение после 2010. \n",
    "\n",
    "Стратегия поведения завсити от бюджета на игру, возможно имеет смысл потратить бюджет на игры в секторе с низкой конкуренцией.\n",
    "    \n",
    "    \n",
    "</font> "
   ]
  },
  {
   "cell_type": "markdown",
   "metadata": {},
   "source": [
    "## Шаг 4. Составьте портрет пользователя каждого региона\n"
   ]
  },
  {
   "cell_type": "markdown",
   "metadata": {},
   "source": [
    "Определите для пользователя каждого региона (NA, EU, JP):\n",
    "Самые популярные платформы (топ-5). Опишите различия в долях продаж."
   ]
  },
  {
   "cell_type": "code",
   "execution_count": 24,
   "metadata": {},
   "outputs": [
    {
     "data": {
      "text/html": [
       "<div>\n",
       "<style scoped>\n",
       "    .dataframe tbody tr th:only-of-type {\n",
       "        vertical-align: middle;\n",
       "    }\n",
       "\n",
       "    .dataframe tbody tr th {\n",
       "        vertical-align: top;\n",
       "    }\n",
       "\n",
       "    .dataframe thead th {\n",
       "        text-align: right;\n",
       "    }\n",
       "</style>\n",
       "<table border=\"1\" class=\"dataframe\">\n",
       "  <thead>\n",
       "    <tr style=\"text-align: right;\">\n",
       "      <th></th>\n",
       "      <th>name</th>\n",
       "      <th>platform</th>\n",
       "      <th>year_of_release</th>\n",
       "      <th>genre</th>\n",
       "      <th>na_sales</th>\n",
       "      <th>eu_sales</th>\n",
       "      <th>jp_sales</th>\n",
       "      <th>other_sales</th>\n",
       "      <th>critic_score</th>\n",
       "      <th>user_score</th>\n",
       "      <th>rating</th>\n",
       "      <th>total_sales</th>\n",
       "    </tr>\n",
       "  </thead>\n",
       "  <tbody>\n",
       "    <tr>\n",
       "      <th>16</th>\n",
       "      <td>grand theft auto v</td>\n",
       "      <td>ps3</td>\n",
       "      <td>2013.0</td>\n",
       "      <td>action</td>\n",
       "      <td>7.02</td>\n",
       "      <td>9.09</td>\n",
       "      <td>0.98</td>\n",
       "      <td>3.96</td>\n",
       "      <td>97.0</td>\n",
       "      <td>8.2</td>\n",
       "      <td>M</td>\n",
       "      <td>21.05</td>\n",
       "    </tr>\n",
       "  </tbody>\n",
       "</table>\n",
       "</div>"
      ],
      "text/plain": [
       "                  name platform  year_of_release   genre  na_sales  eu_sales  \\\n",
       "16  grand theft auto v      ps3           2013.0  action      7.02      9.09   \n",
       "\n",
       "    jp_sales  other_sales  critic_score  user_score rating  total_sales  \n",
       "16      0.98         3.96          97.0         8.2      M        21.05  "
      ]
     },
     "execution_count": 24,
     "metadata": {},
     "output_type": "execute_result"
    }
   ],
   "source": [
    "actual_data.head(1)"
   ]
  },
  {
   "cell_type": "code",
   "execution_count": 25,
   "metadata": {},
   "outputs": [
    {
     "name": "stdout",
     "output_type": "stream",
     "text": [
      "          na_sales  sale_share\n",
      "platform                      \n",
      "ps4         108.74        24.0\n",
      "xone         93.12        21.0\n",
      "x360         81.66        18.0\n",
      "ps3          63.50        14.0\n",
      "3ds          38.20         8.0\n",
      "          eu_sales  sale_share\n",
      "platform                      \n",
      "ps4         141.09        35.0\n",
      "ps3          67.81        17.0\n",
      "xone         51.59        13.0\n",
      "x360         42.52        10.0\n",
      "3ds          30.96         7.0\n",
      "          jp_sales  sale_share\n",
      "platform                      \n",
      "3ds          67.81        48.0\n",
      "ps3          23.35        16.0\n",
      "psv          18.59        13.0\n",
      "ps4          15.96        11.0\n",
      "wiiu         10.88         7.0\n"
     ]
    }
   ],
   "source": [
    "top_plat_na = pd.pivot_table(actual_data,values = 'na_sales',index ='platform', aggfunc='sum')\n",
    "top_plat_na_ttl = top_plat_na\n",
    "top_plat_na = top_plat_na.nlargest(5,'na_sales')\n",
    "top_plat_na['sale_share'] = top_plat_na['na_sales']/top_plat_na_ttl['na_sales'].sum()//0.01\n",
    "print(top_plat_na)\n",
    "\n",
    "top_plat_eu = pd.pivot_table(actual_data,values = 'eu_sales',index ='platform', aggfunc='sum')\n",
    "top_plat_eu_ttl = top_plat_eu\n",
    "top_plat_eu = top_plat_eu.nlargest(5,'eu_sales')\n",
    "top_plat_eu['sale_share'] = top_plat_eu['eu_sales']/top_plat_eu_ttl['eu_sales'].sum()//0.01\n",
    "print(top_plat_eu)\n",
    "\n",
    "top_plat_jp = pd.pivot_table(actual_data,values = 'jp_sales',index ='platform', aggfunc='sum')\n",
    "top_plat_jp_ttl = top_plat_jp\n",
    "top_plat_jp = top_plat_jp.nlargest(5,'jp_sales')\n",
    "top_plat_jp['sale_share'] = top_plat_jp['jp_sales']/top_plat_jp_ttl['jp_sales'].sum()//0.01\n",
    "print(top_plat_jp)"
   ]
  },
  {
   "cell_type": "markdown",
   "metadata": {},
   "source": [
    "\n",
    "<br> \n",
    "\n",
    "В северной америке продажи в пятерке распеределились более равномерно между ведущими платформами playstation и xbox обеих поколений.\n",
    "\n",
    "В европе явным лидером является playstation с двумя третями рынка, при этом 40% приходится на playstation 4. но xbox также вхолит в лидеры со своими дмумя поколенямии консолей\n",
    "\n",
    "В японии лидером является 3ДС с половиной продаж, при этом дальнейшее распределение оказалось относительно равным.\n",
    "</font>"
   ]
  },
  {
   "cell_type": "markdown",
   "metadata": {},
   "source": [
    "Определите для пользователя каждого региона (NA, EU, JP):\n",
    "Самые популярные жанры (топ-5). Поясните разницу."
   ]
  },
  {
   "cell_type": "code",
   "execution_count": 26,
   "metadata": {},
   "outputs": [
    {
     "name": "stdout",
     "output_type": "stream",
     "text": [
      "              na_sales  sale_share\n",
      "genre                             \n",
      "action          126.05        33.0\n",
      "shooter         109.74        29.0\n",
      "sports           65.27        17.0\n",
      "role-playing     46.40        12.0\n",
      "misc             27.49         7.0\n",
      "              eu_sales  sale_share\n",
      "genre                             \n",
      "action          118.13        36.0\n",
      "shooter          87.86        27.0\n",
      "sports           60.52        18.0\n",
      "role-playing     36.97        11.0\n",
      "racing           20.19         6.0\n",
      "              jp_sales  sale_share\n",
      "genre                             \n",
      "role-playing     51.04        44.0\n",
      "action           40.49        35.0\n",
      "misc              9.20         8.0\n",
      "fighting          7.65         6.0\n",
      "shooter           6.61         5.0\n"
     ]
    }
   ],
   "source": [
    "top_genre_na = pd.pivot_table(actual_data,values = 'na_sales',index ='genre', aggfunc='sum')\n",
    "top_genre_na = top_genre_na.nlargest(5,'na_sales')\n",
    "top_genre_na['sale_share'] = top_genre_na['na_sales']/top_genre_na['na_sales'].sum()//0.01\n",
    "print(top_genre_na)\n",
    "top_genre_eu = pd.pivot_table(actual_data,values = 'eu_sales',index ='genre', aggfunc='sum')\n",
    "top_genre_eu = top_genre_eu.nlargest(5,'eu_sales')\n",
    "top_genre_eu['sale_share'] = top_genre_eu['eu_sales']/top_genre_eu['eu_sales'].sum()//0.01\n",
    "print(top_genre_eu)\n",
    "top_genre_jp = pd.pivot_table(actual_data,values = 'jp_sales',index ='genre', aggfunc='sum')\n",
    "top_genre_jp = top_genre_jp.nlargest(5,'jp_sales')\n",
    "top_genre_jp['sale_share'] = top_genre_jp['jp_sales']/top_genre_jp['jp_sales'].sum()//0.01\n",
    "print(top_genre_jp)"
   ]
  },
  {
   "cell_type": "markdown",
   "metadata": {},
   "source": [
    "\n",
    "<br> \n",
    "\n",
    "В северной америке action и shooter забирают на себя 2/3 рынка. затем идут в относительно паритетных долях спортивные и ролевые игры.\n",
    "\n",
    "В европе картина схожая как в америке, единсветнное 5 место приходится на гонки,а не на аркады.\n",
    "\n",
    "В японии снова все отличается, первое место(40%) приходится на ролевые игры,затем идут игры в жанре экшон(30%) и затем в относительно равных долях идут аркады, файтинги и шутеры.\n",
    "</font>"
   ]
  },
  {
   "cell_type": "markdown",
   "metadata": {},
   "source": [
    "Определите для пользователя каждого региона (NA, EU, JP):\n",
    "Влияет ли рейтинг ESRB на продажи в отдельном регионе?"
   ]
  },
  {
   "cell_type": "markdown",
   "metadata": {},
   "source": [
    "Замена Nan на заглушку 'no_rating'\n",
    "actual_data['rating'] = actual_data['rating'].fillna('no_rating')"
   ]
  },
  {
   "cell_type": "code",
   "execution_count": 27,
   "metadata": {},
   "outputs": [
    {
     "name": "stdout",
     "output_type": "stream",
     "text": [
      "           na_sales  sale_share\n",
      "rating                         \n",
      "M            165.21        37.0\n",
      "no_rating     89.42        20.0\n",
      "E             79.05        18.0\n",
      "E10+          54.24        12.0\n",
      "T             49.79        11.0\n",
      "           eu_sales  sale_share\n",
      "rating                         \n",
      "M            145.32        37.0\n",
      "E             83.36        21.0\n",
      "no_rating     78.91        20.0\n",
      "E10+          42.69        10.0\n",
      "T             41.95        10.0\n",
      "           jp_sales  sale_share\n",
      "rating                         \n",
      "no_rating     85.05        60.0\n",
      "T             20.59        14.0\n",
      "E             15.14        10.0\n",
      "M             14.11        10.0\n",
      "E10+           5.89         4.0\n"
     ]
    }
   ],
   "source": [
    "top_rating_na = pd.pivot_table(actual_data,values = 'na_sales',index ='rating', aggfunc='sum')\n",
    "top_rating_na_ttl = pd.pivot_table(actual_data,values = 'na_sales',index ='rating', aggfunc='sum')\n",
    "top_rating_na = top_rating_na.nlargest(5,'na_sales')\n",
    "top_rating_na['sale_share'] = top_rating_na['na_sales']/top_rating_na_ttl['na_sales'].sum()//0.01\n",
    "print(top_rating_na)\n",
    "top_rating_eu = pd.pivot_table(actual_data,values = 'eu_sales',index ='rating', aggfunc='sum')\n",
    "top_rating_eu_ttl = top_rating_eu\n",
    "top_rating_eu = top_rating_eu.nlargest(5,'eu_sales')\n",
    "top_rating_eu['sale_share'] = top_rating_eu['eu_sales']/top_rating_eu_ttl['eu_sales'].sum()//0.01\n",
    "print(top_rating_eu)\n",
    "top_rating_jp = pd.pivot_table(actual_data,values = 'jp_sales',index ='rating', aggfunc='sum')\n",
    "top_rating_jp_ttl = top_rating_jp\n",
    "top_rating_jp = top_rating_jp.nlargest(5,'jp_sales')\n",
    "top_rating_jp['sale_share'] = top_rating_jp['jp_sales']/top_rating_jp_ttl['jp_sales'].sum()//0.01\n",
    "print(top_rating_jp)"
   ]
  },
  {
   "cell_type": "markdown",
   "metadata": {},
   "source": [
    "\n",
    "<br> \n",
    "    \n",
    "Игры без рейтинга заняли относительно равную долю рынка для северной америки и европы, при этом в японии они зяняли лидирующую позицию, около 60% проданных игр не имели рейтинга.\n",
    "    \n",
    "В америке и европе идентично распределились продажи по рейтингам. Основная доля продаж приходится на рейтинг 17+, около 37 процентов.Затем по популярности игры для всех возрастов. от 10+ и для подростоков раздели по 15% в америке и по 13% в европе.\n",
    "\n",
    "Однако в японии продажи распределились равномернее. большая часть пришлась на подросток(14%), относительно равно распределились продажи среди игр для всех возрастов и игр для 17+\n",
    "</font>"
   ]
  },
  {
   "cell_type": "markdown",
   "metadata": {},
   "source": [
    "### Выводы по шагу 4\n",
    "\n",
    "<br> \n",
    "\n",
    "Аудитории северной америки и европы имеют похожий потребительский паттерн, чего нельзя сказать о японии. В западном мире жанры, платформы а также возрастные ограничения иммеют схожее распределение продаж. Япония по платформам и по жанрам стоит особняком. Это стоит учитывать при разарботке своего проект и его локализации.\n",
    "</font>"
   ]
  },
  {
   "cell_type": "markdown",
   "metadata": {},
   "source": [
    "## Шаг 5. Проверьте гипотезы\n"
   ]
  },
  {
   "cell_type": "markdown",
   "metadata": {},
   "source": [
    "H_0:Средние пользовательские рейтинги платформ Xbox One и PC одинаковые;\n",
    "\n",
    "H_1:Средние пользовательские рейтинги платформ Xbox One и PC неодинаковые;"
   ]
  },
  {
   "cell_type": "code",
   "execution_count": 28,
   "metadata": {},
   "outputs": [
    {
     "name": "stdout",
     "output_type": "stream",
     "text": [
      "0.14012658403611503\n",
      "Не получилось отвергнуть нулевую гипотезу\n"
     ]
    }
   ],
   "source": [
    "xbox_one = actual_data.loc[actual_data['platform'] == 'xone']['user_score']\n",
    "pc = actual_data.loc[actual_data['platform'] == 'pc']['user_score']\n",
    "alpha = 0.05\n",
    "results = st.ttest_ind(xbox_one,pc,nan_policy='omit',equal_var = True)\n",
    "# вывод значения p-value на экран \n",
    "print(results.pvalue)\n",
    "# условный оператор с выводом строки с ответом\n",
    "if results.pvalue < alpha:\n",
    "    print('Отвергаем нулевую гипотезу')\n",
    "else:\n",
    "    print('Не получилось отвергнуть нулевую гипотезу')"
   ]
  },
  {
   "cell_type": "markdown",
   "metadata": {},
   "source": [
    "H_0:Средние пользовательские рейтинги жанров Action (англ. «действие», экшен-игры) и Sports (англ. «спортивные соревнования») одинаковые\n",
    "\n",
    "H_1:Средние пользовательские рейтинги жанров Action (англ. «действие», экшен-игры) и Sports (англ. «спортивные соревнования») разные.\n"
   ]
  },
  {
   "cell_type": "code",
   "execution_count": 29,
   "metadata": {},
   "outputs": [
    {
     "name": "stdout",
     "output_type": "stream",
     "text": [
      "1.0517832389139422e-27\n",
      "Отвергаем нулевую гипотезу\n"
     ]
    }
   ],
   "source": [
    "action = actual_data.loc[actual_data['genre'] == 'action']['user_score']\n",
    "sports = actual_data.loc[actual_data['genre'] == 'sports']['user_score']\n",
    "alpha = 0.01\n",
    "results_2 = st.ttest_ind(action,sports,nan_policy='omit',equal_var = True)\n",
    "# вывод значения p-value на экран \n",
    "print(results_2.pvalue)\n",
    "# условный оператор с выводом строки с ответом\n",
    "if results_2.pvalue < alpha:\n",
    "    print('Отвергаем нулевую гипотезу')\n",
    "else:\n",
    "    print('Не получилось отвергнуть нулевую гипотезу')\n",
    "    "
   ]
  },
  {
   "cell_type": "markdown",
   "metadata": {},
   "source": [
    "### Выводы по шагу 5\n",
    "\n",
    "<br>\n",
    "    Средние пользовательские рейтинги платформ Xbox One и PC неодинаковые, \n",
    "    Что говорит о не похожести пользовательского опыта данных платформ среди пользовательй попавших в выборку.\n",
    "    Средние пользовательские рейтинги жанров Action (англ. «действие», экшен-игры) и Sports (англ. «спортивные соревнования») разные. Это дает нам понять, что как и в кино, оценки пользователей сильно отличаются от жанра к жанру, чем популярнее жанр тем выше там средний бал. \n",
    "    \n",
    "</font>"
   ]
  },
  {
   "cell_type": "code",
   "execution_count": 30,
   "metadata": {},
   "outputs": [
    {
     "data": {
      "text/plain": [
       "'30.53%'"
      ]
     },
     "execution_count": 30,
     "metadata": {},
     "output_type": "execute_result"
    }
   ],
   "source": [
    "\n",
    "'{:.2%}'.format(action.mean() / sports.mean() - 1)"
   ]
  },
  {
   "cell_type": "markdown",
   "metadata": {},
   "source": [
    "## Шаг 6. Напишите общий вывод"
   ]
  },
  {
   "cell_type": "markdown",
   "metadata": {},
   "source": [
    "Удалены пропуски где не представлялось возможным их как-то заменить. Остальные пропуски были заменены на медиану.\n",
    "Возможные причины позникновения пропусков:\n",
    "1)ошибки при заведение данных в таблицу, в названии и годе выпуска.\n",
    "2)малая известность игры причина почему никто не стал ставить оценки.\n",
    "Добавлен столбец для отображения общего числа продаж.\n",
    "\n",
    "Цикл жизни платформы составляет около 9 лет, с пиком продаж на 5 год.\n",
    "Это важно учесть при рассчете времени разработки игры, чтобы она не была опубликована на излете популярности. \n",
    "Также на продажи влияет оценка критиков, выше оценка выше продажи. \n",
    "Наиболее перспективные для разработки в 2017 являются PS4 и XboxOne.\n",
    "Игру стоит выбирать из наиболее популярных жанров таких как: 'action', 'shooter'\n",
    "При этом очень важно определиться с целевым рынком сбыта, так как исслодование показало схлжесть аудиторий северной америки и европы, при этом японию можно отнести к самобытному рынку со своей спецификой которую нужно учесть при локалиции и маркетинге.\n",
    "Стратегия поведения завсити от бюджета на игру, возможно имеет смысл потратить бюджет на игры в секторе с низкой конкуренцией.\n",
    "\n",
    "\n",
    "Также важно понимать различия аудиторий в разрезе платформ и жанорв, так на пример среднии оценки среди пользователей компьютеров и Xbox, а также среди любителей жанров экшн и спорт были различны.\n",
    "Поэтому при выборе игры для дистрибьюции каждая платформа на которую будет портирована игра должна быть изучена отдельно, чтобы маркетинг понимал своего потребителя."
   ]
  }
 ],
 "metadata": {
  "ExecuteTimeLog": [
   {
    "duration": 1268,
    "start_time": "2022-09-05T10:16:48.074Z"
   },
   {
    "duration": 96,
    "start_time": "2022-09-05T10:16:49.344Z"
   },
   {
    "duration": 1131,
    "start_time": "2022-09-05T10:30:58.247Z"
   },
   {
    "duration": 53,
    "start_time": "2022-09-05T10:30:59.380Z"
   },
   {
    "duration": 1083,
    "start_time": "2022-09-05T10:31:47.679Z"
   },
   {
    "duration": 50,
    "start_time": "2022-09-05T10:31:48.764Z"
   },
   {
    "duration": 3,
    "start_time": "2022-09-05T10:32:14.879Z"
   },
   {
    "duration": 59,
    "start_time": "2022-09-05T10:32:15.333Z"
   },
   {
    "duration": 1108,
    "start_time": "2022-09-05T10:32:20.370Z"
   },
   {
    "duration": 54,
    "start_time": "2022-09-05T10:32:21.479Z"
   },
   {
    "duration": 14,
    "start_time": "2022-09-05T10:34:47.303Z"
   },
   {
    "duration": 16,
    "start_time": "2022-09-05T10:35:07.838Z"
   },
   {
    "duration": 15,
    "start_time": "2022-09-05T10:35:29.202Z"
   },
   {
    "duration": 5,
    "start_time": "2022-09-05T11:35:22.349Z"
   },
   {
    "duration": 13,
    "start_time": "2022-09-05T11:37:00.548Z"
   },
   {
    "duration": 14,
    "start_time": "2022-09-05T11:38:23.137Z"
   },
   {
    "duration": 1293,
    "start_time": "2022-09-05T11:38:25.644Z"
   },
   {
    "duration": 5,
    "start_time": "2022-09-05T11:38:46.497Z"
   },
   {
    "duration": 1110,
    "start_time": "2022-09-05T11:39:29.680Z"
   },
   {
    "duration": 52,
    "start_time": "2022-09-05T11:39:30.792Z"
   },
   {
    "duration": 14,
    "start_time": "2022-09-05T11:39:30.846Z"
   },
   {
    "duration": 17,
    "start_time": "2022-09-05T11:39:30.862Z"
   },
   {
    "duration": 13,
    "start_time": "2022-09-05T11:39:30.880Z"
   },
   {
    "duration": 13,
    "start_time": "2022-09-05T11:39:45.128Z"
   },
   {
    "duration": 1229,
    "start_time": "2022-09-06T03:20:47.797Z"
   },
   {
    "duration": 107,
    "start_time": "2022-09-06T03:20:49.028Z"
   },
   {
    "duration": 101,
    "start_time": "2022-09-06T03:20:49.137Z"
   },
   {
    "duration": 0,
    "start_time": "2022-09-06T03:20:49.240Z"
   },
   {
    "duration": 0,
    "start_time": "2022-09-06T03:20:49.241Z"
   },
   {
    "duration": 0,
    "start_time": "2022-09-06T03:20:49.242Z"
   },
   {
    "duration": 16,
    "start_time": "2022-09-06T03:20:53.411Z"
   },
   {
    "duration": 25,
    "start_time": "2022-09-06T03:21:14.371Z"
   },
   {
    "duration": 34,
    "start_time": "2022-09-06T03:22:30.401Z"
   },
   {
    "duration": 14,
    "start_time": "2022-09-06T03:23:03.496Z"
   },
   {
    "duration": 22,
    "start_time": "2022-09-06T03:23:07.271Z"
   },
   {
    "duration": 944,
    "start_time": "2022-09-06T03:24:13.231Z"
   },
   {
    "duration": 11,
    "start_time": "2022-09-06T03:24:15.020Z"
   },
   {
    "duration": 14,
    "start_time": "2022-09-06T03:24:47.750Z"
   },
   {
    "duration": 12,
    "start_time": "2022-09-06T03:24:56.560Z"
   },
   {
    "duration": 12,
    "start_time": "2022-09-06T03:24:59.020Z"
   },
   {
    "duration": 14,
    "start_time": "2022-09-06T03:25:19.580Z"
   },
   {
    "duration": 11,
    "start_time": "2022-09-06T03:25:21.660Z"
   },
   {
    "duration": 16,
    "start_time": "2022-09-06T03:25:24.180Z"
   },
   {
    "duration": 12,
    "start_time": "2022-09-06T03:30:03.844Z"
   },
   {
    "duration": 12,
    "start_time": "2022-09-06T03:30:16.380Z"
   },
   {
    "duration": 12,
    "start_time": "2022-09-06T03:34:35.820Z"
   },
   {
    "duration": 17,
    "start_time": "2022-09-06T03:42:16.288Z"
   },
   {
    "duration": 20,
    "start_time": "2022-09-06T03:43:50.888Z"
   },
   {
    "duration": 21,
    "start_time": "2022-09-06T03:44:07.323Z"
   },
   {
    "duration": 53,
    "start_time": "2022-09-06T03:45:45.938Z"
   },
   {
    "duration": 23,
    "start_time": "2022-09-06T03:46:32.827Z"
   },
   {
    "duration": 10,
    "start_time": "2022-09-06T04:00:36.876Z"
   },
   {
    "duration": 13,
    "start_time": "2022-09-06T04:00:45.012Z"
   },
   {
    "duration": 13,
    "start_time": "2022-09-06T04:00:55.135Z"
   },
   {
    "duration": 45,
    "start_time": "2022-09-06T04:06:45.399Z"
   },
   {
    "duration": 311,
    "start_time": "2022-09-06T04:29:17.509Z"
   },
   {
    "duration": 33,
    "start_time": "2022-09-06T04:29:49.900Z"
   },
   {
    "duration": 31,
    "start_time": "2022-09-06T04:30:45.430Z"
   },
   {
    "duration": 33,
    "start_time": "2022-09-06T04:31:42.139Z"
   },
   {
    "duration": 33,
    "start_time": "2022-09-06T04:32:32.469Z"
   },
   {
    "duration": 128,
    "start_time": "2022-09-06T04:33:09.649Z"
   },
   {
    "duration": 35,
    "start_time": "2022-09-06T04:33:28.443Z"
   },
   {
    "duration": 59,
    "start_time": "2022-09-06T04:39:21.023Z"
   },
   {
    "duration": 1387,
    "start_time": "2022-09-06T04:41:14.291Z"
   },
   {
    "duration": 4,
    "start_time": "2022-09-06T04:42:25.118Z"
   },
   {
    "duration": 32,
    "start_time": "2022-09-06T04:51:13.197Z"
   },
   {
    "duration": 29,
    "start_time": "2022-09-06T04:52:04.149Z"
   },
   {
    "duration": 24,
    "start_time": "2022-09-06T04:52:15.617Z"
   },
   {
    "duration": 16,
    "start_time": "2022-09-06T04:53:53.497Z"
   },
   {
    "duration": 4,
    "start_time": "2022-09-06T04:55:40.737Z"
   },
   {
    "duration": 5,
    "start_time": "2022-09-06T04:55:58.456Z"
   },
   {
    "duration": 6,
    "start_time": "2022-09-06T04:57:12.675Z"
   },
   {
    "duration": 10,
    "start_time": "2022-09-06T04:57:26.615Z"
   },
   {
    "duration": 5,
    "start_time": "2022-09-06T04:57:40.813Z"
   },
   {
    "duration": 8,
    "start_time": "2022-09-06T05:04:24.704Z"
   },
   {
    "duration": 8,
    "start_time": "2022-09-06T05:04:32.254Z"
   },
   {
    "duration": 15,
    "start_time": "2022-09-06T05:04:41.424Z"
   },
   {
    "duration": 29,
    "start_time": "2022-09-06T05:04:47.175Z"
   },
   {
    "duration": 50,
    "start_time": "2022-09-06T05:06:50.398Z"
   },
   {
    "duration": 133,
    "start_time": "2022-09-06T05:07:04.544Z"
   },
   {
    "duration": 16,
    "start_time": "2022-09-06T05:07:30.824Z"
   },
   {
    "duration": 1082,
    "start_time": "2022-09-06T05:07:58.198Z"
   },
   {
    "duration": 51,
    "start_time": "2022-09-06T05:07:59.283Z"
   },
   {
    "duration": 28,
    "start_time": "2022-09-06T05:07:59.335Z"
   },
   {
    "duration": 18,
    "start_time": "2022-09-06T05:07:59.365Z"
   },
   {
    "duration": 16,
    "start_time": "2022-09-06T05:07:59.385Z"
   },
   {
    "duration": 15,
    "start_time": "2022-09-06T05:07:59.403Z"
   },
   {
    "duration": 125,
    "start_time": "2022-09-06T05:07:59.420Z"
   },
   {
    "duration": 0,
    "start_time": "2022-09-06T05:07:59.547Z"
   },
   {
    "duration": 0,
    "start_time": "2022-09-06T05:07:59.548Z"
   },
   {
    "duration": 0,
    "start_time": "2022-09-06T05:07:59.550Z"
   },
   {
    "duration": 0,
    "start_time": "2022-09-06T05:07:59.551Z"
   },
   {
    "duration": 16,
    "start_time": "2022-09-06T05:12:00.053Z"
   },
   {
    "duration": 17,
    "start_time": "2022-09-06T05:12:13.449Z"
   },
   {
    "duration": 3,
    "start_time": "2022-09-06T05:12:41.373Z"
   },
   {
    "duration": 33,
    "start_time": "2022-09-06T05:12:46.184Z"
   },
   {
    "duration": 28,
    "start_time": "2022-09-06T05:13:20.433Z"
   },
   {
    "duration": 128,
    "start_time": "2022-09-06T05:13:38.533Z"
   },
   {
    "duration": 9,
    "start_time": "2022-09-06T05:15:46.000Z"
   },
   {
    "duration": 18,
    "start_time": "2022-09-06T05:16:18.683Z"
   },
   {
    "duration": 20,
    "start_time": "2022-09-06T05:16:23.483Z"
   },
   {
    "duration": 1057,
    "start_time": "2022-09-06T05:16:46.443Z"
   },
   {
    "duration": 49,
    "start_time": "2022-09-06T05:16:47.502Z"
   },
   {
    "duration": 26,
    "start_time": "2022-09-06T05:16:47.553Z"
   },
   {
    "duration": 23,
    "start_time": "2022-09-06T05:16:47.580Z"
   },
   {
    "duration": 12,
    "start_time": "2022-09-06T05:16:47.605Z"
   },
   {
    "duration": 13,
    "start_time": "2022-09-06T05:16:47.618Z"
   },
   {
    "duration": 132,
    "start_time": "2022-09-06T05:16:47.633Z"
   },
   {
    "duration": 4,
    "start_time": "2022-09-06T05:16:47.767Z"
   },
   {
    "duration": 24,
    "start_time": "2022-09-06T05:16:47.773Z"
   },
   {
    "duration": 15,
    "start_time": "2022-09-06T05:16:47.799Z"
   },
   {
    "duration": 110,
    "start_time": "2022-09-06T05:16:47.816Z"
   },
   {
    "duration": 18,
    "start_time": "2022-09-06T05:17:12.043Z"
   },
   {
    "duration": 15,
    "start_time": "2022-09-06T05:17:38.220Z"
   },
   {
    "duration": 17,
    "start_time": "2022-09-06T05:17:53.881Z"
   },
   {
    "duration": 24,
    "start_time": "2022-09-06T05:17:58.175Z"
   },
   {
    "duration": 1096,
    "start_time": "2022-09-06T05:19:17.601Z"
   },
   {
    "duration": 53,
    "start_time": "2022-09-06T05:19:18.698Z"
   },
   {
    "duration": 28,
    "start_time": "2022-09-06T05:19:18.753Z"
   },
   {
    "duration": 26,
    "start_time": "2022-09-06T05:19:18.783Z"
   },
   {
    "duration": 14,
    "start_time": "2022-09-06T05:19:18.811Z"
   },
   {
    "duration": 16,
    "start_time": "2022-09-06T05:19:18.827Z"
   },
   {
    "duration": 162,
    "start_time": "2022-09-06T05:19:18.845Z"
   },
   {
    "duration": 5,
    "start_time": "2022-09-06T05:19:19.008Z"
   },
   {
    "duration": 9,
    "start_time": "2022-09-06T05:19:19.015Z"
   },
   {
    "duration": 17,
    "start_time": "2022-09-06T05:19:19.025Z"
   },
   {
    "duration": 14,
    "start_time": "2022-09-06T05:19:19.043Z"
   },
   {
    "duration": 14,
    "start_time": "2022-09-06T05:19:57.624Z"
   },
   {
    "duration": 50,
    "start_time": "2022-09-06T08:03:29.133Z"
   },
   {
    "duration": 1342,
    "start_time": "2022-09-06T08:03:34.353Z"
   },
   {
    "duration": 187,
    "start_time": "2022-09-06T08:03:35.698Z"
   },
   {
    "duration": 31,
    "start_time": "2022-09-06T08:03:35.887Z"
   },
   {
    "duration": 18,
    "start_time": "2022-09-06T08:03:35.920Z"
   },
   {
    "duration": 15,
    "start_time": "2022-09-06T08:03:35.940Z"
   },
   {
    "duration": 22,
    "start_time": "2022-09-06T08:03:35.956Z"
   },
   {
    "duration": 140,
    "start_time": "2022-09-06T08:03:35.980Z"
   },
   {
    "duration": 4,
    "start_time": "2022-09-06T08:03:36.122Z"
   },
   {
    "duration": 13,
    "start_time": "2022-09-06T08:03:36.128Z"
   },
   {
    "duration": 26,
    "start_time": "2022-09-06T08:03:36.143Z"
   },
   {
    "duration": 16,
    "start_time": "2022-09-06T08:03:46.653Z"
   },
   {
    "duration": 160,
    "start_time": "2022-09-06T08:08:42.665Z"
   },
   {
    "duration": 84,
    "start_time": "2022-09-06T08:09:13.482Z"
   },
   {
    "duration": 115,
    "start_time": "2022-09-06T08:10:31.928Z"
   },
   {
    "duration": 85,
    "start_time": "2022-09-06T08:10:44.526Z"
   },
   {
    "duration": 26,
    "start_time": "2022-09-06T08:12:25.625Z"
   },
   {
    "duration": 25,
    "start_time": "2022-09-06T08:12:37.428Z"
   },
   {
    "duration": 27,
    "start_time": "2022-09-06T08:13:00.372Z"
   },
   {
    "duration": 26,
    "start_time": "2022-09-06T08:13:12.063Z"
   },
   {
    "duration": 25,
    "start_time": "2022-09-06T08:13:26.082Z"
   },
   {
    "duration": 26,
    "start_time": "2022-09-06T08:13:41.932Z"
   },
   {
    "duration": 27,
    "start_time": "2022-09-06T08:13:48.939Z"
   },
   {
    "duration": 31,
    "start_time": "2022-09-06T08:19:05.814Z"
   },
   {
    "duration": 34,
    "start_time": "2022-09-06T08:19:14.949Z"
   },
   {
    "duration": 38,
    "start_time": "2022-09-06T08:19:35.299Z"
   },
   {
    "duration": 34,
    "start_time": "2022-09-06T08:20:52.483Z"
   },
   {
    "duration": 754,
    "start_time": "2022-09-06T08:21:41.750Z"
   },
   {
    "duration": 778,
    "start_time": "2022-09-06T08:23:08.622Z"
   },
   {
    "duration": 706,
    "start_time": "2022-09-06T08:23:20.338Z"
   },
   {
    "duration": 23,
    "start_time": "2022-09-06T08:24:21.529Z"
   },
   {
    "duration": 32,
    "start_time": "2022-09-06T08:24:37.125Z"
   },
   {
    "duration": 237,
    "start_time": "2022-09-06T08:25:07.079Z"
   },
   {
    "duration": 32,
    "start_time": "2022-09-06T08:28:43.225Z"
   },
   {
    "duration": 40,
    "start_time": "2022-09-06T08:29:06.499Z"
   },
   {
    "duration": 219,
    "start_time": "2022-09-06T08:29:38.369Z"
   },
   {
    "duration": 206,
    "start_time": "2022-09-06T08:31:41.725Z"
   },
   {
    "duration": 231,
    "start_time": "2022-09-06T08:31:51.460Z"
   },
   {
    "duration": 190,
    "start_time": "2022-09-06T08:32:06.839Z"
   },
   {
    "duration": 907,
    "start_time": "2022-09-06T08:33:04.285Z"
   },
   {
    "duration": 995,
    "start_time": "2022-09-06T08:33:40.225Z"
   },
   {
    "duration": 18,
    "start_time": "2022-09-06T08:42:02.367Z"
   },
   {
    "duration": 16,
    "start_time": "2022-09-06T08:50:29.083Z"
   },
   {
    "duration": 17,
    "start_time": "2022-09-06T08:50:53.046Z"
   },
   {
    "duration": 18,
    "start_time": "2022-09-06T08:52:00.327Z"
   },
   {
    "duration": 185,
    "start_time": "2022-09-06T08:52:06.456Z"
   },
   {
    "duration": 837,
    "start_time": "2022-09-06T08:52:30.769Z"
   },
   {
    "duration": 633,
    "start_time": "2022-09-06T08:53:08.226Z"
   },
   {
    "duration": 771,
    "start_time": "2022-09-06T08:57:47.763Z"
   },
   {
    "duration": 180,
    "start_time": "2022-09-06T09:06:50.684Z"
   },
   {
    "duration": 509,
    "start_time": "2022-09-06T09:07:14.683Z"
   },
   {
    "duration": 100,
    "start_time": "2022-09-06T09:07:41.633Z"
   },
   {
    "duration": 124,
    "start_time": "2022-09-06T09:08:51.853Z"
   },
   {
    "duration": 11,
    "start_time": "2022-09-06T09:09:04.054Z"
   },
   {
    "duration": 17,
    "start_time": "2022-09-06T09:09:11.333Z"
   },
   {
    "duration": 14,
    "start_time": "2022-09-06T09:10:24.519Z"
   },
   {
    "duration": 98,
    "start_time": "2022-09-06T09:10:41.100Z"
   },
   {
    "duration": 16,
    "start_time": "2022-09-06T09:10:53.306Z"
   },
   {
    "duration": 340,
    "start_time": "2022-09-06T09:11:22.483Z"
   },
   {
    "duration": 148,
    "start_time": "2022-09-06T09:12:57.617Z"
   },
   {
    "duration": 109,
    "start_time": "2022-09-06T09:13:12.098Z"
   },
   {
    "duration": 503,
    "start_time": "2022-09-06T09:13:18.393Z"
   },
   {
    "duration": 49,
    "start_time": "2022-09-06T09:17:50.892Z"
   },
   {
    "duration": 42,
    "start_time": "2022-09-06T09:18:50.541Z"
   },
   {
    "duration": 1363,
    "start_time": "2022-09-06T09:19:25.640Z"
   },
   {
    "duration": 3,
    "start_time": "2022-09-06T09:19:38.863Z"
   },
   {
    "duration": 67,
    "start_time": "2022-09-06T09:19:38.869Z"
   },
   {
    "duration": 30,
    "start_time": "2022-09-06T09:19:38.938Z"
   },
   {
    "duration": 114,
    "start_time": "2022-09-06T09:21:14.618Z"
   },
   {
    "duration": 6,
    "start_time": "2022-09-06T09:21:29.581Z"
   },
   {
    "duration": 17,
    "start_time": "2022-09-06T09:22:16.480Z"
   },
   {
    "duration": 10,
    "start_time": "2022-09-06T09:22:32.782Z"
   },
   {
    "duration": 1137,
    "start_time": "2022-09-06T09:22:39.421Z"
   },
   {
    "duration": 51,
    "start_time": "2022-09-06T09:22:40.560Z"
   },
   {
    "duration": 31,
    "start_time": "2022-09-06T09:22:40.613Z"
   },
   {
    "duration": 2633,
    "start_time": "2022-09-06T09:22:40.645Z"
   },
   {
    "duration": 0,
    "start_time": "2022-09-06T09:22:43.281Z"
   },
   {
    "duration": 0,
    "start_time": "2022-09-06T09:22:43.282Z"
   },
   {
    "duration": 0,
    "start_time": "2022-09-06T09:22:43.283Z"
   },
   {
    "duration": 0,
    "start_time": "2022-09-06T09:22:43.284Z"
   },
   {
    "duration": 0,
    "start_time": "2022-09-06T09:22:43.285Z"
   },
   {
    "duration": 0,
    "start_time": "2022-09-06T09:22:43.286Z"
   },
   {
    "duration": 0,
    "start_time": "2022-09-06T09:22:43.287Z"
   },
   {
    "duration": 0,
    "start_time": "2022-09-06T09:22:43.288Z"
   },
   {
    "duration": 0,
    "start_time": "2022-09-06T09:22:43.289Z"
   },
   {
    "duration": 1098,
    "start_time": "2022-09-06T09:23:01.715Z"
   },
   {
    "duration": 53,
    "start_time": "2022-09-06T09:23:02.815Z"
   },
   {
    "duration": 32,
    "start_time": "2022-09-06T09:23:02.870Z"
   },
   {
    "duration": 65,
    "start_time": "2022-09-06T09:23:02.903Z"
   },
   {
    "duration": 14,
    "start_time": "2022-09-06T09:23:02.971Z"
   },
   {
    "duration": 16,
    "start_time": "2022-09-06T09:23:02.987Z"
   },
   {
    "duration": 170,
    "start_time": "2022-09-06T09:23:03.005Z"
   },
   {
    "duration": 10,
    "start_time": "2022-09-06T09:23:03.177Z"
   },
   {
    "duration": 9,
    "start_time": "2022-09-06T09:23:03.189Z"
   },
   {
    "duration": 19,
    "start_time": "2022-09-06T09:23:03.200Z"
   },
   {
    "duration": 988,
    "start_time": "2022-09-06T09:23:03.221Z"
   },
   {
    "duration": 699,
    "start_time": "2022-09-06T09:23:04.211Z"
   },
   {
    "duration": 649,
    "start_time": "2022-09-06T09:23:04.912Z"
   },
   {
    "duration": 40,
    "start_time": "2022-09-06T09:23:38.372Z"
   },
   {
    "duration": 40,
    "start_time": "2022-09-06T09:24:19.351Z"
   },
   {
    "duration": 32,
    "start_time": "2022-09-06T09:24:31.601Z"
   },
   {
    "duration": 533,
    "start_time": "2022-09-06T09:27:04.498Z"
   },
   {
    "duration": 223,
    "start_time": "2022-09-06T09:32:03.770Z"
   },
   {
    "duration": 130,
    "start_time": "2022-09-06T09:32:11.032Z"
   },
   {
    "duration": 13,
    "start_time": "2022-09-06T09:32:33.626Z"
   },
   {
    "duration": 1219,
    "start_time": "2022-09-06T09:32:40.469Z"
   },
   {
    "duration": 54,
    "start_time": "2022-09-06T09:32:41.690Z"
   },
   {
    "duration": 31,
    "start_time": "2022-09-06T09:32:41.746Z"
   },
   {
    "duration": 46,
    "start_time": "2022-09-06T09:32:41.779Z"
   },
   {
    "duration": 12,
    "start_time": "2022-09-06T09:32:41.828Z"
   },
   {
    "duration": 35,
    "start_time": "2022-09-06T09:32:41.842Z"
   },
   {
    "duration": 185,
    "start_time": "2022-09-06T09:32:41.879Z"
   },
   {
    "duration": 10,
    "start_time": "2022-09-06T09:32:42.068Z"
   },
   {
    "duration": 6,
    "start_time": "2022-09-06T09:32:42.080Z"
   },
   {
    "duration": 15,
    "start_time": "2022-09-06T09:32:42.088Z"
   },
   {
    "duration": 985,
    "start_time": "2022-09-06T09:32:42.104Z"
   },
   {
    "duration": 1184,
    "start_time": "2022-09-06T09:32:43.091Z"
   },
   {
    "duration": 1054,
    "start_time": "2022-09-06T09:32:44.276Z"
   },
   {
    "duration": 37,
    "start_time": "2022-09-06T09:32:45.333Z"
   },
   {
    "duration": 564,
    "start_time": "2022-09-06T09:33:09.441Z"
   },
   {
    "duration": 574,
    "start_time": "2022-09-06T09:35:46.037Z"
   },
   {
    "duration": 6,
    "start_time": "2022-09-06T09:41:58.509Z"
   },
   {
    "duration": 16,
    "start_time": "2022-09-06T09:47:10.126Z"
   },
   {
    "duration": 20,
    "start_time": "2022-09-06T09:47:14.352Z"
   },
   {
    "duration": 18,
    "start_time": "2022-09-06T09:48:06.982Z"
   },
   {
    "duration": 23,
    "start_time": "2022-09-06T09:49:50.941Z"
   },
   {
    "duration": 730,
    "start_time": "2022-09-06T09:52:54.722Z"
   },
   {
    "duration": 112,
    "start_time": "2022-09-06T09:53:41.841Z"
   },
   {
    "duration": 588,
    "start_time": "2022-09-06T09:54:07.472Z"
   },
   {
    "duration": 257,
    "start_time": "2022-09-06T09:55:34.672Z"
   },
   {
    "duration": 234,
    "start_time": "2022-09-06T09:56:11.892Z"
   },
   {
    "duration": 19,
    "start_time": "2022-09-06T09:56:31.931Z"
   },
   {
    "duration": 17,
    "start_time": "2022-09-06T09:58:13.791Z"
   },
   {
    "duration": 1155,
    "start_time": "2022-09-06T10:01:26.559Z"
   },
   {
    "duration": 54,
    "start_time": "2022-09-06T10:01:27.717Z"
   },
   {
    "duration": 32,
    "start_time": "2022-09-06T10:01:27.773Z"
   },
   {
    "duration": 62,
    "start_time": "2022-09-06T10:01:27.807Z"
   },
   {
    "duration": 17,
    "start_time": "2022-09-06T10:01:27.873Z"
   },
   {
    "duration": 18,
    "start_time": "2022-09-06T10:01:27.892Z"
   },
   {
    "duration": 163,
    "start_time": "2022-09-06T10:01:27.912Z"
   },
   {
    "duration": 12,
    "start_time": "2022-09-06T10:01:28.077Z"
   },
   {
    "duration": 7,
    "start_time": "2022-09-06T10:01:28.091Z"
   },
   {
    "duration": 24,
    "start_time": "2022-09-06T10:01:28.101Z"
   },
   {
    "duration": 975,
    "start_time": "2022-09-06T10:01:28.127Z"
   },
   {
    "duration": 676,
    "start_time": "2022-09-06T10:01:29.103Z"
   },
   {
    "duration": 702,
    "start_time": "2022-09-06T10:01:29.781Z"
   },
   {
    "duration": 39,
    "start_time": "2022-09-06T10:01:30.486Z"
   },
   {
    "duration": 40,
    "start_time": "2022-09-06T10:01:30.527Z"
   },
   {
    "duration": 14,
    "start_time": "2022-09-06T10:01:57.838Z"
   },
   {
    "duration": 121,
    "start_time": "2022-09-06T10:02:11.621Z"
   },
   {
    "duration": 6,
    "start_time": "2022-09-06T10:02:16.261Z"
   },
   {
    "duration": 22,
    "start_time": "2022-09-06T10:02:28.435Z"
   },
   {
    "duration": 23,
    "start_time": "2022-09-06T10:02:40.361Z"
   },
   {
    "duration": 15,
    "start_time": "2022-09-06T10:02:55.941Z"
   },
   {
    "duration": 105,
    "start_time": "2022-09-06T10:06:04.454Z"
   },
   {
    "duration": 20,
    "start_time": "2022-09-06T10:07:29.291Z"
   },
   {
    "duration": 14,
    "start_time": "2022-09-06T10:07:33.790Z"
   },
   {
    "duration": 1175,
    "start_time": "2022-09-06T10:07:49.499Z"
   },
   {
    "duration": 55,
    "start_time": "2022-09-06T10:07:50.676Z"
   },
   {
    "duration": 35,
    "start_time": "2022-09-06T10:07:50.733Z"
   },
   {
    "duration": 49,
    "start_time": "2022-09-06T10:07:50.771Z"
   },
   {
    "duration": 123,
    "start_time": "2022-09-06T10:07:50.821Z"
   },
   {
    "duration": 0,
    "start_time": "2022-09-06T10:07:50.946Z"
   },
   {
    "duration": 0,
    "start_time": "2022-09-06T10:07:50.947Z"
   },
   {
    "duration": 0,
    "start_time": "2022-09-06T10:07:50.949Z"
   },
   {
    "duration": 0,
    "start_time": "2022-09-06T10:07:50.950Z"
   },
   {
    "duration": 0,
    "start_time": "2022-09-06T10:07:50.951Z"
   },
   {
    "duration": 0,
    "start_time": "2022-09-06T10:07:50.952Z"
   },
   {
    "duration": 0,
    "start_time": "2022-09-06T10:07:50.968Z"
   },
   {
    "duration": 0,
    "start_time": "2022-09-06T10:07:50.970Z"
   },
   {
    "duration": 0,
    "start_time": "2022-09-06T10:07:50.972Z"
   },
   {
    "duration": 0,
    "start_time": "2022-09-06T10:07:50.973Z"
   },
   {
    "duration": 1185,
    "start_time": "2022-09-06T10:09:38.118Z"
   },
   {
    "duration": 53,
    "start_time": "2022-09-06T10:09:39.305Z"
   },
   {
    "duration": 41,
    "start_time": "2022-09-06T10:09:39.361Z"
   },
   {
    "duration": 46,
    "start_time": "2022-09-06T10:09:39.405Z"
   },
   {
    "duration": 30,
    "start_time": "2022-09-06T10:09:39.454Z"
   },
   {
    "duration": 16,
    "start_time": "2022-09-06T10:09:39.486Z"
   },
   {
    "duration": 163,
    "start_time": "2022-09-06T10:09:39.505Z"
   },
   {
    "duration": 11,
    "start_time": "2022-09-06T10:09:39.670Z"
   },
   {
    "duration": 6,
    "start_time": "2022-09-06T10:09:39.683Z"
   },
   {
    "duration": 22,
    "start_time": "2022-09-06T10:09:39.691Z"
   },
   {
    "duration": 1017,
    "start_time": "2022-09-06T10:09:39.715Z"
   },
   {
    "duration": 694,
    "start_time": "2022-09-06T10:09:40.736Z"
   },
   {
    "duration": 738,
    "start_time": "2022-09-06T10:09:41.433Z"
   },
   {
    "duration": 15,
    "start_time": "2022-09-06T10:09:42.173Z"
   },
   {
    "duration": 25,
    "start_time": "2022-09-06T10:09:42.190Z"
   },
   {
    "duration": 268,
    "start_time": "2022-09-06T10:11:41.583Z"
   },
   {
    "duration": 17,
    "start_time": "2022-09-06T10:12:29.823Z"
   },
   {
    "duration": 126,
    "start_time": "2022-09-06T10:13:09.843Z"
   },
   {
    "duration": 23,
    "start_time": "2022-09-06T10:13:23.984Z"
   },
   {
    "duration": 1376,
    "start_time": "2022-09-06T10:13:58.517Z"
   },
   {
    "duration": 18,
    "start_time": "2022-09-06T10:14:50.824Z"
   },
   {
    "duration": 12,
    "start_time": "2022-09-06T10:15:07.373Z"
   },
   {
    "duration": 13,
    "start_time": "2022-09-06T10:17:51.074Z"
   },
   {
    "duration": 13,
    "start_time": "2022-09-06T10:18:02.684Z"
   },
   {
    "duration": 360,
    "start_time": "2022-09-06T10:18:12.198Z"
   },
   {
    "duration": 158,
    "start_time": "2022-09-06T10:20:50.196Z"
   },
   {
    "duration": 320,
    "start_time": "2022-09-06T10:21:21.083Z"
   },
   {
    "duration": 365,
    "start_time": "2022-09-06T10:21:40.133Z"
   },
   {
    "duration": 386,
    "start_time": "2022-09-06T10:21:48.643Z"
   },
   {
    "duration": 7,
    "start_time": "2022-09-06T10:22:04.819Z"
   },
   {
    "duration": 6,
    "start_time": "2022-09-06T10:35:47.557Z"
   },
   {
    "duration": 7,
    "start_time": "2022-09-06T10:37:59.575Z"
   },
   {
    "duration": 29,
    "start_time": "2022-09-06T10:38:02.822Z"
   },
   {
    "duration": 28,
    "start_time": "2022-09-06T10:38:43.988Z"
   },
   {
    "duration": 15,
    "start_time": "2022-09-06T10:46:38.488Z"
   },
   {
    "duration": 16,
    "start_time": "2022-09-06T10:46:58.489Z"
   },
   {
    "duration": 17,
    "start_time": "2022-09-06T10:47:26.199Z"
   },
   {
    "duration": 16,
    "start_time": "2022-09-06T10:47:37.319Z"
   },
   {
    "duration": 16,
    "start_time": "2022-09-06T10:47:45.266Z"
   },
   {
    "duration": 27,
    "start_time": "2022-09-06T10:50:34.994Z"
   },
   {
    "duration": 23,
    "start_time": "2022-09-06T10:50:45.732Z"
   },
   {
    "duration": 23,
    "start_time": "2022-09-06T10:51:27.829Z"
   },
   {
    "duration": 15,
    "start_time": "2022-09-06T10:59:19.759Z"
   },
   {
    "duration": 1237,
    "start_time": "2022-09-06T11:06:00.780Z"
   },
   {
    "duration": 56,
    "start_time": "2022-09-06T11:06:02.020Z"
   },
   {
    "duration": 35,
    "start_time": "2022-09-06T11:06:02.078Z"
   },
   {
    "duration": 63,
    "start_time": "2022-09-06T11:06:02.115Z"
   },
   {
    "duration": 18,
    "start_time": "2022-09-06T11:06:02.180Z"
   },
   {
    "duration": 49,
    "start_time": "2022-09-06T11:06:02.200Z"
   },
   {
    "duration": 162,
    "start_time": "2022-09-06T11:06:02.251Z"
   },
   {
    "duration": 10,
    "start_time": "2022-09-06T11:06:02.415Z"
   },
   {
    "duration": 36,
    "start_time": "2022-09-06T11:06:02.427Z"
   },
   {
    "duration": 51,
    "start_time": "2022-09-06T11:06:02.465Z"
   },
   {
    "duration": 1040,
    "start_time": "2022-09-06T11:06:02.517Z"
   },
   {
    "duration": 700,
    "start_time": "2022-09-06T11:06:03.559Z"
   },
   {
    "duration": 698,
    "start_time": "2022-09-06T11:06:04.261Z"
   },
   {
    "duration": 14,
    "start_time": "2022-09-06T11:06:04.970Z"
   },
   {
    "duration": 331,
    "start_time": "2022-09-06T11:06:04.986Z"
   },
   {
    "duration": 7,
    "start_time": "2022-09-06T11:06:05.319Z"
   },
   {
    "duration": 43,
    "start_time": "2022-09-06T11:06:05.328Z"
   },
   {
    "duration": 22,
    "start_time": "2022-09-06T11:06:05.373Z"
   },
   {
    "duration": 59,
    "start_time": "2022-09-06T13:35:00.145Z"
   },
   {
    "duration": 1315,
    "start_time": "2022-09-06T13:35:07.289Z"
   },
   {
    "duration": 177,
    "start_time": "2022-09-06T13:35:08.606Z"
   },
   {
    "duration": 33,
    "start_time": "2022-09-06T13:35:08.785Z"
   },
   {
    "duration": 63,
    "start_time": "2022-09-06T13:35:08.820Z"
   },
   {
    "duration": 16,
    "start_time": "2022-09-06T13:35:08.888Z"
   },
   {
    "duration": 30,
    "start_time": "2022-09-06T13:35:08.905Z"
   },
   {
    "duration": 144,
    "start_time": "2022-09-06T13:35:08.936Z"
   },
   {
    "duration": 14,
    "start_time": "2022-09-06T13:35:09.091Z"
   },
   {
    "duration": 12,
    "start_time": "2022-09-06T13:35:09.106Z"
   },
   {
    "duration": 24,
    "start_time": "2022-09-06T13:35:09.119Z"
   },
   {
    "duration": 1001,
    "start_time": "2022-09-06T13:35:09.145Z"
   },
   {
    "duration": 699,
    "start_time": "2022-09-06T13:35:10.147Z"
   },
   {
    "duration": 739,
    "start_time": "2022-09-06T13:35:10.848Z"
   },
   {
    "duration": 17,
    "start_time": "2022-09-06T13:35:11.590Z"
   },
   {
    "duration": 335,
    "start_time": "2022-09-06T13:35:11.608Z"
   },
   {
    "duration": 17,
    "start_time": "2022-09-06T13:35:11.945Z"
   },
   {
    "duration": 54,
    "start_time": "2022-09-06T13:35:11.966Z"
   },
   {
    "duration": 20,
    "start_time": "2022-09-06T13:35:12.022Z"
   },
   {
    "duration": 16,
    "start_time": "2022-09-06T13:35:12.044Z"
   },
   {
    "duration": 55,
    "start_time": "2022-09-06T13:35:12.061Z"
   },
   {
    "duration": 17,
    "start_time": "2022-09-06T13:36:05.544Z"
   },
   {
    "duration": 1231,
    "start_time": "2022-09-06T13:37:44.389Z"
   },
   {
    "duration": 22,
    "start_time": "2022-09-06T13:39:36.480Z"
   },
   {
    "duration": 30,
    "start_time": "2022-09-06T13:39:59.583Z"
   },
   {
    "duration": 1045,
    "start_time": "2022-09-06T13:45:39.390Z"
   },
   {
    "duration": 1201,
    "start_time": "2022-09-06T13:45:50.817Z"
   },
   {
    "duration": 31,
    "start_time": "2022-09-06T13:46:11.686Z"
   },
   {
    "duration": 33,
    "start_time": "2022-09-06T13:58:03.687Z"
   },
   {
    "duration": 32,
    "start_time": "2022-09-06T13:59:45.510Z"
   },
   {
    "duration": 32,
    "start_time": "2022-09-06T14:00:46.785Z"
   },
   {
    "duration": 39,
    "start_time": "2022-09-06T14:07:01.227Z"
   },
   {
    "duration": 50,
    "start_time": "2022-09-06T14:07:29.768Z"
   },
   {
    "duration": 33,
    "start_time": "2022-09-06T14:07:57.473Z"
   },
   {
    "duration": 9,
    "start_time": "2022-09-06T14:13:40.965Z"
   },
   {
    "duration": 32,
    "start_time": "2022-09-06T14:13:45.914Z"
   },
   {
    "duration": 15,
    "start_time": "2022-09-06T14:19:26.382Z"
   },
   {
    "duration": 13,
    "start_time": "2022-09-06T14:19:30.505Z"
   },
   {
    "duration": 5,
    "start_time": "2022-09-06T14:34:11.313Z"
   },
   {
    "duration": 4,
    "start_time": "2022-09-06T14:34:17.112Z"
   },
   {
    "duration": 14,
    "start_time": "2022-09-06T14:34:38.602Z"
   },
   {
    "duration": 11,
    "start_time": "2022-09-06T14:34:50.503Z"
   },
   {
    "duration": 19,
    "start_time": "2022-09-06T14:35:01.809Z"
   },
   {
    "duration": 20,
    "start_time": "2022-09-06T14:35:17.105Z"
   },
   {
    "duration": 13,
    "start_time": "2022-09-06T14:38:43.639Z"
   },
   {
    "duration": 14,
    "start_time": "2022-09-06T14:40:01.208Z"
   },
   {
    "duration": 3,
    "start_time": "2022-09-06T14:41:08.645Z"
   },
   {
    "duration": 10,
    "start_time": "2022-09-06T14:41:13.516Z"
   },
   {
    "duration": 9,
    "start_time": "2022-09-06T14:45:04.176Z"
   },
   {
    "duration": 13,
    "start_time": "2022-09-06T14:45:14.864Z"
   },
   {
    "duration": 13,
    "start_time": "2022-09-06T14:45:50.346Z"
   },
   {
    "duration": 18,
    "start_time": "2022-09-06T14:46:42.361Z"
   },
   {
    "duration": 14,
    "start_time": "2022-09-06T14:47:22.906Z"
   },
   {
    "duration": 13,
    "start_time": "2022-09-06T14:47:41.320Z"
   },
   {
    "duration": 14,
    "start_time": "2022-09-06T14:52:46.332Z"
   },
   {
    "duration": 14,
    "start_time": "2022-09-06T14:53:00.490Z"
   },
   {
    "duration": 13,
    "start_time": "2022-09-06T14:53:21.186Z"
   },
   {
    "duration": 14,
    "start_time": "2022-09-06T14:54:33.382Z"
   },
   {
    "duration": 12,
    "start_time": "2022-09-06T14:54:53.517Z"
   },
   {
    "duration": 15,
    "start_time": "2022-09-06T14:55:20.687Z"
   },
   {
    "duration": 13,
    "start_time": "2022-09-06T14:55:32.721Z"
   },
   {
    "duration": 1097,
    "start_time": "2022-09-06T15:01:43.706Z"
   },
   {
    "duration": 51,
    "start_time": "2022-09-06T15:01:44.805Z"
   },
   {
    "duration": 38,
    "start_time": "2022-09-06T15:01:44.864Z"
   },
   {
    "duration": 45,
    "start_time": "2022-09-06T15:01:44.903Z"
   },
   {
    "duration": 25,
    "start_time": "2022-09-06T15:01:44.950Z"
   },
   {
    "duration": 21,
    "start_time": "2022-09-06T15:01:44.986Z"
   },
   {
    "duration": 148,
    "start_time": "2022-09-06T15:01:45.009Z"
   },
   {
    "duration": 22,
    "start_time": "2022-09-06T15:01:45.161Z"
   },
   {
    "duration": 19,
    "start_time": "2022-09-06T15:01:45.185Z"
   },
   {
    "duration": 16,
    "start_time": "2022-09-06T15:01:45.205Z"
   },
   {
    "duration": 1070,
    "start_time": "2022-09-06T15:01:45.222Z"
   },
   {
    "duration": 686,
    "start_time": "2022-09-06T15:01:46.294Z"
   },
   {
    "duration": 650,
    "start_time": "2022-09-06T15:01:46.981Z"
   },
   {
    "duration": 12,
    "start_time": "2022-09-06T15:01:47.633Z"
   },
   {
    "duration": 322,
    "start_time": "2022-09-06T15:01:47.656Z"
   },
   {
    "duration": 9,
    "start_time": "2022-09-06T15:01:47.984Z"
   },
   {
    "duration": 40,
    "start_time": "2022-09-06T15:01:47.994Z"
   },
   {
    "duration": 21,
    "start_time": "2022-09-06T15:01:48.035Z"
   },
   {
    "duration": 16,
    "start_time": "2022-09-06T15:01:48.061Z"
   },
   {
    "duration": 50,
    "start_time": "2022-09-06T15:01:48.079Z"
   },
   {
    "duration": 47,
    "start_time": "2022-09-06T15:01:48.131Z"
   },
   {
    "duration": 34,
    "start_time": "2022-09-06T15:01:48.181Z"
   },
   {
    "duration": 14,
    "start_time": "2022-09-06T15:01:48.217Z"
   },
   {
    "duration": 12,
    "start_time": "2022-09-06T15:01:48.232Z"
   },
   {
    "duration": 64,
    "start_time": "2022-09-06T15:01:48.246Z"
   },
   {
    "duration": 14,
    "start_time": "2022-09-06T15:14:40.717Z"
   },
   {
    "duration": 10,
    "start_time": "2022-09-06T15:20:33.785Z"
   },
   {
    "duration": 9,
    "start_time": "2022-09-06T15:23:04.925Z"
   },
   {
    "duration": 9,
    "start_time": "2022-09-06T15:23:20.542Z"
   },
   {
    "duration": 10,
    "start_time": "2022-09-06T15:32:57.405Z"
   },
   {
    "duration": 1166,
    "start_time": "2022-09-06T15:35:12.552Z"
   },
   {
    "duration": 60,
    "start_time": "2022-09-06T15:35:13.720Z"
   },
   {
    "duration": 29,
    "start_time": "2022-09-06T15:35:13.789Z"
   },
   {
    "duration": 64,
    "start_time": "2022-09-06T15:35:13.820Z"
   },
   {
    "duration": 16,
    "start_time": "2022-09-06T15:35:13.887Z"
   },
   {
    "duration": 15,
    "start_time": "2022-09-06T15:35:13.905Z"
   },
   {
    "duration": 134,
    "start_time": "2022-09-06T15:35:13.922Z"
   },
   {
    "duration": 15,
    "start_time": "2022-09-06T15:35:14.062Z"
   },
   {
    "duration": 38,
    "start_time": "2022-09-06T15:35:14.079Z"
   },
   {
    "duration": 19,
    "start_time": "2022-09-06T15:35:14.119Z"
   },
   {
    "duration": 972,
    "start_time": "2022-09-06T15:35:14.140Z"
   },
   {
    "duration": 781,
    "start_time": "2022-09-06T15:35:15.114Z"
   },
   {
    "duration": 685,
    "start_time": "2022-09-06T15:35:15.899Z"
   },
   {
    "duration": 13,
    "start_time": "2022-09-06T15:35:16.587Z"
   },
   {
    "duration": 309,
    "start_time": "2022-09-06T15:35:16.601Z"
   },
   {
    "duration": 5,
    "start_time": "2022-09-06T15:35:16.912Z"
   },
   {
    "duration": 40,
    "start_time": "2022-09-06T15:35:16.919Z"
   },
   {
    "duration": 32,
    "start_time": "2022-09-06T15:35:16.961Z"
   },
   {
    "duration": 13,
    "start_time": "2022-09-06T15:35:16.995Z"
   },
   {
    "duration": 32,
    "start_time": "2022-09-06T15:35:17.009Z"
   },
   {
    "duration": 58,
    "start_time": "2022-09-06T15:35:17.043Z"
   },
   {
    "duration": 39,
    "start_time": "2022-09-06T15:35:17.102Z"
   },
   {
    "duration": 23,
    "start_time": "2022-09-06T15:35:17.142Z"
   },
   {
    "duration": 57,
    "start_time": "2022-09-06T15:35:17.167Z"
   },
   {
    "duration": 88,
    "start_time": "2022-09-06T15:35:17.226Z"
   },
   {
    "duration": 84,
    "start_time": "2022-09-06T18:28:44.141Z"
   },
   {
    "duration": 42,
    "start_time": "2022-09-06T18:44:48.899Z"
   },
   {
    "duration": 1274,
    "start_time": "2022-09-06T18:44:52.428Z"
   },
   {
    "duration": 194,
    "start_time": "2022-09-06T18:44:53.704Z"
   },
   {
    "duration": 99,
    "start_time": "2022-09-06T18:44:53.900Z"
   },
   {
    "duration": 167,
    "start_time": "2022-09-06T18:44:54.002Z"
   },
   {
    "duration": 22,
    "start_time": "2022-09-06T18:44:54.173Z"
   },
   {
    "duration": 13,
    "start_time": "2022-09-06T18:44:54.197Z"
   },
   {
    "duration": 276,
    "start_time": "2022-09-06T18:44:54.211Z"
   },
   {
    "duration": 11,
    "start_time": "2022-09-06T18:44:54.489Z"
   },
   {
    "duration": 7,
    "start_time": "2022-09-06T18:44:54.502Z"
   },
   {
    "duration": 72,
    "start_time": "2022-09-06T18:44:54.510Z"
   },
   {
    "duration": 1365,
    "start_time": "2022-09-06T18:44:54.585Z"
   },
   {
    "duration": 780,
    "start_time": "2022-09-06T18:44:55.952Z"
   },
   {
    "duration": 45,
    "start_time": "2022-09-06T18:44:56.734Z"
   },
   {
    "duration": 742,
    "start_time": "2022-09-06T18:44:56.782Z"
   },
   {
    "duration": 15,
    "start_time": "2022-09-06T18:44:57.526Z"
   },
   {
    "duration": 319,
    "start_time": "2022-09-06T18:44:57.543Z"
   },
   {
    "duration": 7,
    "start_time": "2022-09-06T18:44:57.867Z"
   },
   {
    "duration": 34,
    "start_time": "2022-09-06T18:44:57.876Z"
   },
   {
    "duration": 24,
    "start_time": "2022-09-06T18:44:57.911Z"
   },
   {
    "duration": 36,
    "start_time": "2022-09-06T18:44:57.937Z"
   },
   {
    "duration": 35,
    "start_time": "2022-09-06T18:44:57.975Z"
   },
   {
    "duration": 60,
    "start_time": "2022-09-06T18:44:58.012Z"
   },
   {
    "duration": 34,
    "start_time": "2022-09-06T18:44:58.073Z"
   },
   {
    "duration": 12,
    "start_time": "2022-09-06T18:44:58.110Z"
   },
   {
    "duration": 13,
    "start_time": "2022-09-06T18:44:58.124Z"
   },
   {
    "duration": 275,
    "start_time": "2022-09-06T18:47:17.543Z"
   },
   {
    "duration": 247,
    "start_time": "2022-09-06T18:47:32.036Z"
   },
   {
    "duration": 269,
    "start_time": "2022-09-06T18:47:39.081Z"
   },
   {
    "duration": 396,
    "start_time": "2022-09-06T18:47:49.353Z"
   },
   {
    "duration": 421,
    "start_time": "2022-09-06T18:48:24.786Z"
   },
   {
    "duration": 379,
    "start_time": "2022-09-06T18:48:39.602Z"
   },
   {
    "duration": 66,
    "start_time": "2022-09-06T18:49:35.688Z"
   },
   {
    "duration": 14,
    "start_time": "2022-09-06T18:49:48.103Z"
   },
   {
    "duration": 20,
    "start_time": "2022-09-06T18:50:00.781Z"
   },
   {
    "duration": 178,
    "start_time": "2022-09-06T18:50:08.610Z"
   },
   {
    "duration": 96,
    "start_time": "2022-09-06T18:50:15.342Z"
   },
   {
    "duration": 234,
    "start_time": "2022-09-06T18:50:23.075Z"
   },
   {
    "duration": 293,
    "start_time": "2022-09-06T18:50:31.500Z"
   },
   {
    "duration": 390,
    "start_time": "2022-09-06T18:50:39.539Z"
   },
   {
    "duration": 16,
    "start_time": "2022-09-06T18:53:53.590Z"
   },
   {
    "duration": 38,
    "start_time": "2022-09-06T18:54:11.873Z"
   },
   {
    "duration": 81,
    "start_time": "2022-09-06T18:55:27.437Z"
   },
   {
    "duration": 4,
    "start_time": "2022-09-06T19:04:37.572Z"
   },
   {
    "duration": 8,
    "start_time": "2022-09-06T19:04:40.013Z"
   },
   {
    "duration": 4,
    "start_time": "2022-09-06T19:05:37.233Z"
   },
   {
    "duration": 9,
    "start_time": "2022-09-06T19:05:53.760Z"
   },
   {
    "duration": 12,
    "start_time": "2022-09-06T19:06:00.138Z"
   },
   {
    "duration": 8,
    "start_time": "2022-09-06T19:06:02.508Z"
   },
   {
    "duration": 10,
    "start_time": "2022-09-06T19:06:13.182Z"
   },
   {
    "duration": 44,
    "start_time": "2022-09-08T04:15:23.634Z"
   },
   {
    "duration": 1288,
    "start_time": "2022-09-08T04:15:32.450Z"
   },
   {
    "duration": 92,
    "start_time": "2022-09-08T04:15:33.740Z"
   },
   {
    "duration": 30,
    "start_time": "2022-09-08T04:15:33.834Z"
   },
   {
    "duration": 42,
    "start_time": "2022-09-08T04:15:33.867Z"
   },
   {
    "duration": 14,
    "start_time": "2022-09-08T04:15:33.910Z"
   },
   {
    "duration": 15,
    "start_time": "2022-09-08T04:15:33.925Z"
   },
   {
    "duration": 11,
    "start_time": "2022-09-08T04:15:33.957Z"
   },
   {
    "duration": 10,
    "start_time": "2022-09-08T04:15:33.970Z"
   },
   {
    "duration": 6,
    "start_time": "2022-09-08T04:15:33.982Z"
   },
   {
    "duration": 4,
    "start_time": "2022-09-08T04:15:41.727Z"
   },
   {
    "duration": 4,
    "start_time": "2022-09-08T04:15:56.695Z"
   },
   {
    "duration": 26,
    "start_time": "2022-09-08T04:16:07.175Z"
   },
   {
    "duration": 21,
    "start_time": "2022-09-08T04:19:25.980Z"
   },
   {
    "duration": 15,
    "start_time": "2022-09-08T04:19:42.040Z"
   },
   {
    "duration": 62,
    "start_time": "2022-09-08T04:20:12.632Z"
   },
   {
    "duration": 19,
    "start_time": "2022-09-08T04:20:23.821Z"
   },
   {
    "duration": 29,
    "start_time": "2022-09-08T04:23:10.158Z"
   },
   {
    "duration": 17,
    "start_time": "2022-09-08T04:23:18.091Z"
   },
   {
    "duration": 11,
    "start_time": "2022-09-08T04:23:32.923Z"
   },
   {
    "duration": 10,
    "start_time": "2022-09-08T04:23:40.641Z"
   },
   {
    "duration": 13,
    "start_time": "2022-09-08T04:23:49.503Z"
   },
   {
    "duration": 20,
    "start_time": "2022-09-08T04:24:13.733Z"
   },
   {
    "duration": 12,
    "start_time": "2022-09-08T04:24:25.118Z"
   },
   {
    "duration": 16,
    "start_time": "2022-09-08T04:24:46.835Z"
   },
   {
    "duration": 17,
    "start_time": "2022-09-08T04:27:59.992Z"
   },
   {
    "duration": 15,
    "start_time": "2022-09-08T04:30:24.302Z"
   },
   {
    "duration": 19,
    "start_time": "2022-09-08T04:30:35.280Z"
   },
   {
    "duration": 16,
    "start_time": "2022-09-08T04:30:43.243Z"
   },
   {
    "duration": 14,
    "start_time": "2022-09-08T04:32:40.631Z"
   },
   {
    "duration": 794,
    "start_time": "2022-09-08T04:33:45.948Z"
   },
   {
    "duration": 14,
    "start_time": "2022-09-08T04:34:00.892Z"
   },
   {
    "duration": 20,
    "start_time": "2022-09-08T04:34:24.512Z"
   },
   {
    "duration": 5,
    "start_time": "2022-09-08T04:43:33.141Z"
   },
   {
    "duration": 3,
    "start_time": "2022-09-08T04:43:43.093Z"
   },
   {
    "duration": 38,
    "start_time": "2022-09-08T04:44:46.162Z"
   },
   {
    "duration": 49,
    "start_time": "2022-09-08T04:45:16.802Z"
   },
   {
    "duration": 12,
    "start_time": "2022-09-08T04:45:33.042Z"
   },
   {
    "duration": 12,
    "start_time": "2022-09-08T04:45:49.350Z"
   },
   {
    "duration": 20,
    "start_time": "2022-09-08T04:50:19.168Z"
   },
   {
    "duration": 27,
    "start_time": "2022-09-08T04:50:31.668Z"
   },
   {
    "duration": 18,
    "start_time": "2022-09-08T04:51:00.484Z"
   },
   {
    "duration": 11,
    "start_time": "2022-09-08T04:51:21.728Z"
   },
   {
    "duration": 16,
    "start_time": "2022-09-08T04:51:36.104Z"
   },
   {
    "duration": 10,
    "start_time": "2022-09-08T04:52:55.779Z"
   },
   {
    "duration": 24,
    "start_time": "2022-09-08T04:55:13.730Z"
   },
   {
    "duration": 695,
    "start_time": "2022-09-08T04:55:33.927Z"
   },
   {
    "duration": 18,
    "start_time": "2022-09-08T04:55:49.578Z"
   },
   {
    "duration": 30,
    "start_time": "2022-09-08T04:58:00.208Z"
   },
   {
    "duration": 1188,
    "start_time": "2022-09-08T05:05:24.446Z"
   },
   {
    "duration": 55,
    "start_time": "2022-09-08T05:05:25.635Z"
   },
   {
    "duration": 35,
    "start_time": "2022-09-08T05:05:25.691Z"
   },
   {
    "duration": 55,
    "start_time": "2022-09-08T05:05:25.729Z"
   },
   {
    "duration": 15,
    "start_time": "2022-09-08T05:05:25.785Z"
   },
   {
    "duration": 13,
    "start_time": "2022-09-08T05:05:25.802Z"
   },
   {
    "duration": 13,
    "start_time": "2022-09-08T05:05:25.816Z"
   },
   {
    "duration": 35,
    "start_time": "2022-09-08T05:05:25.830Z"
   },
   {
    "duration": 7,
    "start_time": "2022-09-08T05:05:25.867Z"
   },
   {
    "duration": 33,
    "start_time": "2022-09-08T05:05:25.877Z"
   },
   {
    "duration": 45,
    "start_time": "2022-09-08T05:05:25.912Z"
   },
   {
    "duration": 867,
    "start_time": "2022-09-08T05:05:25.959Z"
   },
   {
    "duration": 614,
    "start_time": "2022-09-08T05:05:26.828Z"
   },
   {
    "duration": 417,
    "start_time": "2022-09-08T05:05:27.444Z"
   },
   {
    "duration": 575,
    "start_time": "2022-09-08T05:05:27.863Z"
   },
   {
    "duration": 355,
    "start_time": "2022-09-08T05:05:28.439Z"
   },
   {
    "duration": 12,
    "start_time": "2022-09-08T05:05:28.796Z"
   },
   {
    "duration": 302,
    "start_time": "2022-09-08T05:05:28.810Z"
   },
   {
    "duration": 7,
    "start_time": "2022-09-08T05:05:29.115Z"
   },
   {
    "duration": 42,
    "start_time": "2022-09-08T05:05:29.124Z"
   },
   {
    "duration": 34,
    "start_time": "2022-09-08T05:05:29.167Z"
   },
   {
    "duration": 51,
    "start_time": "2022-09-08T05:05:29.203Z"
   },
   {
    "duration": 0,
    "start_time": "2022-09-08T05:05:29.255Z"
   },
   {
    "duration": 0,
    "start_time": "2022-09-08T05:05:29.257Z"
   },
   {
    "duration": 0,
    "start_time": "2022-09-08T05:05:29.258Z"
   },
   {
    "duration": 0,
    "start_time": "2022-09-08T05:05:29.260Z"
   },
   {
    "duration": 0,
    "start_time": "2022-09-08T05:05:29.261Z"
   },
   {
    "duration": 0,
    "start_time": "2022-09-08T05:05:29.263Z"
   },
   {
    "duration": 115,
    "start_time": "2022-09-08T05:07:24.007Z"
   },
   {
    "duration": 21,
    "start_time": "2022-09-08T05:08:04.508Z"
   },
   {
    "duration": 90,
    "start_time": "2022-09-08T05:08:25.316Z"
   },
   {
    "duration": 47,
    "start_time": "2022-09-08T05:08:34.076Z"
   },
   {
    "duration": 22,
    "start_time": "2022-09-08T05:08:58.476Z"
   },
   {
    "duration": 137,
    "start_time": "2022-09-08T05:09:09.117Z"
   },
   {
    "duration": 22,
    "start_time": "2022-09-08T05:09:17.800Z"
   },
   {
    "duration": 1121,
    "start_time": "2022-09-08T05:10:23.136Z"
   },
   {
    "duration": 51,
    "start_time": "2022-09-08T05:10:24.259Z"
   },
   {
    "duration": 28,
    "start_time": "2022-09-08T05:10:24.312Z"
   },
   {
    "duration": 45,
    "start_time": "2022-09-08T05:10:24.342Z"
   },
   {
    "duration": 14,
    "start_time": "2022-09-08T05:10:24.389Z"
   },
   {
    "duration": 12,
    "start_time": "2022-09-08T05:10:24.404Z"
   },
   {
    "duration": 13,
    "start_time": "2022-09-08T05:10:24.417Z"
   },
   {
    "duration": 26,
    "start_time": "2022-09-08T05:10:24.431Z"
   },
   {
    "duration": 5,
    "start_time": "2022-09-08T05:10:24.459Z"
   },
   {
    "duration": 33,
    "start_time": "2022-09-08T05:10:24.466Z"
   },
   {
    "duration": 15,
    "start_time": "2022-09-08T05:10:24.500Z"
   },
   {
    "duration": 941,
    "start_time": "2022-09-08T05:10:24.517Z"
   },
   {
    "duration": 625,
    "start_time": "2022-09-08T05:10:25.461Z"
   },
   {
    "duration": 421,
    "start_time": "2022-09-08T05:10:26.088Z"
   },
   {
    "duration": 582,
    "start_time": "2022-09-08T05:10:26.511Z"
   },
   {
    "duration": 394,
    "start_time": "2022-09-08T05:10:27.095Z"
   },
   {
    "duration": 13,
    "start_time": "2022-09-08T05:10:27.491Z"
   },
   {
    "duration": 286,
    "start_time": "2022-09-08T05:10:27.506Z"
   },
   {
    "duration": 7,
    "start_time": "2022-09-08T05:10:27.794Z"
   },
   {
    "duration": 29,
    "start_time": "2022-09-08T05:10:27.802Z"
   },
   {
    "duration": 56,
    "start_time": "2022-09-08T05:10:27.833Z"
   },
   {
    "duration": 119,
    "start_time": "2022-09-08T05:10:27.890Z"
   },
   {
    "duration": 0,
    "start_time": "2022-09-08T05:10:28.011Z"
   },
   {
    "duration": 0,
    "start_time": "2022-09-08T05:10:28.013Z"
   },
   {
    "duration": 0,
    "start_time": "2022-09-08T05:10:28.014Z"
   },
   {
    "duration": 0,
    "start_time": "2022-09-08T05:10:28.016Z"
   },
   {
    "duration": 0,
    "start_time": "2022-09-08T05:10:28.017Z"
   },
   {
    "duration": 0,
    "start_time": "2022-09-08T05:10:28.018Z"
   },
   {
    "duration": 21,
    "start_time": "2022-09-08T05:11:22.978Z"
   },
   {
    "duration": 23,
    "start_time": "2022-09-08T05:11:30.956Z"
   },
   {
    "duration": 33,
    "start_time": "2022-09-08T05:12:12.297Z"
   },
   {
    "duration": 54,
    "start_time": "2022-09-08T05:12:36.678Z"
   },
   {
    "duration": 46,
    "start_time": "2022-09-08T05:12:42.257Z"
   },
   {
    "duration": 54,
    "start_time": "2022-09-08T05:12:50.727Z"
   },
   {
    "duration": 65,
    "start_time": "2022-09-08T05:13:06.393Z"
   },
   {
    "duration": 122,
    "start_time": "2022-09-08T05:13:15.457Z"
   },
   {
    "duration": 35,
    "start_time": "2022-09-08T05:13:23.785Z"
   },
   {
    "duration": 4,
    "start_time": "2022-09-08T05:13:39.678Z"
   },
   {
    "duration": 23,
    "start_time": "2022-09-08T05:13:47.398Z"
   },
   {
    "duration": 38,
    "start_time": "2022-09-08T05:14:05.406Z"
   },
   {
    "duration": 34,
    "start_time": "2022-09-08T05:15:28.309Z"
   },
   {
    "duration": 21,
    "start_time": "2022-09-08T05:19:05.825Z"
   },
   {
    "duration": 43,
    "start_time": "2022-09-08T05:21:09.410Z"
   },
   {
    "duration": 29,
    "start_time": "2022-09-08T05:21:23.050Z"
   },
   {
    "duration": 69,
    "start_time": "2022-09-08T05:23:08.746Z"
   },
   {
    "duration": 52,
    "start_time": "2022-09-08T05:23:24.947Z"
   },
   {
    "duration": 46,
    "start_time": "2022-09-08T05:23:51.179Z"
   },
   {
    "duration": 1121,
    "start_time": "2022-09-08T05:28:00.219Z"
   },
   {
    "duration": 62,
    "start_time": "2022-09-08T05:28:01.343Z"
   },
   {
    "duration": 34,
    "start_time": "2022-09-08T05:28:01.407Z"
   },
   {
    "duration": 73,
    "start_time": "2022-09-08T05:28:01.443Z"
   },
   {
    "duration": 52,
    "start_time": "2022-09-08T05:28:01.518Z"
   },
   {
    "duration": 51,
    "start_time": "2022-09-08T05:28:01.573Z"
   },
   {
    "duration": 37,
    "start_time": "2022-09-08T05:28:01.626Z"
   },
   {
    "duration": 32,
    "start_time": "2022-09-08T05:28:01.665Z"
   },
   {
    "duration": 44,
    "start_time": "2022-09-08T05:28:01.698Z"
   },
   {
    "duration": 65,
    "start_time": "2022-09-08T05:28:01.746Z"
   },
   {
    "duration": 36,
    "start_time": "2022-09-08T05:28:01.813Z"
   },
   {
    "duration": 967,
    "start_time": "2022-09-08T05:28:01.850Z"
   },
   {
    "duration": 668,
    "start_time": "2022-09-08T05:28:02.819Z"
   },
   {
    "duration": 482,
    "start_time": "2022-09-08T05:28:03.489Z"
   },
   {
    "duration": 626,
    "start_time": "2022-09-08T05:28:03.973Z"
   },
   {
    "duration": 387,
    "start_time": "2022-09-08T05:28:04.600Z"
   },
   {
    "duration": 13,
    "start_time": "2022-09-08T05:28:04.989Z"
   },
   {
    "duration": 362,
    "start_time": "2022-09-08T05:28:05.004Z"
   },
   {
    "duration": 9,
    "start_time": "2022-09-08T05:28:05.368Z"
   },
   {
    "duration": 49,
    "start_time": "2022-09-08T05:28:05.380Z"
   },
   {
    "duration": 54,
    "start_time": "2022-09-08T05:28:05.431Z"
   },
   {
    "duration": 42,
    "start_time": "2022-09-08T05:28:05.488Z"
   },
   {
    "duration": 28,
    "start_time": "2022-09-08T05:28:05.533Z"
   },
   {
    "duration": 68,
    "start_time": "2022-09-08T05:28:05.569Z"
   },
   {
    "duration": 48,
    "start_time": "2022-09-08T05:28:05.639Z"
   },
   {
    "duration": 34,
    "start_time": "2022-09-08T05:28:05.690Z"
   },
   {
    "duration": 14,
    "start_time": "2022-09-08T05:28:05.726Z"
   },
   {
    "duration": 34,
    "start_time": "2022-09-08T05:28:05.743Z"
   },
   {
    "duration": 12,
    "start_time": "2022-09-08T15:02:04.986Z"
   },
   {
    "duration": 1391,
    "start_time": "2022-09-09T03:23:28.292Z"
   },
   {
    "duration": 210,
    "start_time": "2022-09-09T03:23:29.684Z"
   },
   {
    "duration": 35,
    "start_time": "2022-09-09T03:23:29.896Z"
   },
   {
    "duration": 60,
    "start_time": "2022-09-09T03:23:29.933Z"
   },
   {
    "duration": 18,
    "start_time": "2022-09-09T03:23:29.994Z"
   },
   {
    "duration": 13,
    "start_time": "2022-09-09T03:23:30.014Z"
   },
   {
    "duration": 14,
    "start_time": "2022-09-09T03:23:30.029Z"
   },
   {
    "duration": 12,
    "start_time": "2022-09-09T03:23:30.045Z"
   },
   {
    "duration": 36,
    "start_time": "2022-09-09T03:23:30.059Z"
   },
   {
    "duration": 49,
    "start_time": "2022-09-09T03:23:30.098Z"
   },
   {
    "duration": 18,
    "start_time": "2022-09-09T03:23:30.148Z"
   },
   {
    "duration": 980,
    "start_time": "2022-09-09T03:23:30.168Z"
   },
   {
    "duration": 1068,
    "start_time": "2022-09-09T03:23:31.150Z"
   },
   {
    "duration": 912,
    "start_time": "2022-09-09T03:23:32.219Z"
   },
   {
    "duration": 825,
    "start_time": "2022-09-09T03:23:33.134Z"
   },
   {
    "duration": 401,
    "start_time": "2022-09-09T03:23:33.961Z"
   },
   {
    "duration": 14,
    "start_time": "2022-09-09T03:23:34.364Z"
   },
   {
    "duration": 312,
    "start_time": "2022-09-09T03:23:34.392Z"
   },
   {
    "duration": 7,
    "start_time": "2022-09-09T03:23:34.706Z"
   },
   {
    "duration": 62,
    "start_time": "2022-09-09T03:23:34.714Z"
   },
   {
    "duration": 77,
    "start_time": "2022-09-09T03:23:34.777Z"
   },
   {
    "duration": 39,
    "start_time": "2022-09-09T03:23:34.855Z"
   },
   {
    "duration": 14,
    "start_time": "2022-09-09T03:23:34.895Z"
   },
   {
    "duration": 45,
    "start_time": "2022-09-09T03:23:34.911Z"
   },
   {
    "duration": 53,
    "start_time": "2022-09-09T03:23:34.958Z"
   },
   {
    "duration": 36,
    "start_time": "2022-09-09T03:23:35.012Z"
   },
   {
    "duration": 27,
    "start_time": "2022-09-09T03:23:35.050Z"
   },
   {
    "duration": 16,
    "start_time": "2022-09-09T03:23:35.080Z"
   },
   {
    "duration": 30,
    "start_time": "2022-09-09T03:23:35.098Z"
   },
   {
    "duration": 13,
    "start_time": "2022-09-09T03:25:49.285Z"
   },
   {
    "duration": 6,
    "start_time": "2022-09-09T03:26:39.813Z"
   },
   {
    "duration": 6,
    "start_time": "2022-09-09T03:27:23.589Z"
   },
   {
    "duration": 11,
    "start_time": "2022-09-09T03:27:29.850Z"
   },
   {
    "duration": 1189,
    "start_time": "2022-09-09T03:28:08.735Z"
   },
   {
    "duration": 63,
    "start_time": "2022-09-09T03:28:09.926Z"
   },
   {
    "duration": 35,
    "start_time": "2022-09-09T03:28:09.990Z"
   },
   {
    "duration": 70,
    "start_time": "2022-09-09T03:28:10.027Z"
   },
   {
    "duration": 17,
    "start_time": "2022-09-09T03:28:10.099Z"
   },
   {
    "duration": 15,
    "start_time": "2022-09-09T03:28:10.118Z"
   },
   {
    "duration": 14,
    "start_time": "2022-09-09T03:28:10.135Z"
   },
   {
    "duration": 42,
    "start_time": "2022-09-09T03:28:10.150Z"
   },
   {
    "duration": 9,
    "start_time": "2022-09-09T03:28:10.194Z"
   },
   {
    "duration": 40,
    "start_time": "2022-09-09T03:28:10.206Z"
   },
   {
    "duration": 45,
    "start_time": "2022-09-09T03:28:10.248Z"
   },
   {
    "duration": 1013,
    "start_time": "2022-09-09T03:28:10.295Z"
   },
   {
    "duration": 732,
    "start_time": "2022-09-09T03:28:11.309Z"
   },
   {
    "duration": 456,
    "start_time": "2022-09-09T03:28:12.043Z"
   },
   {
    "duration": 991,
    "start_time": "2022-09-09T03:28:12.501Z"
   },
   {
    "duration": 724,
    "start_time": "2022-09-09T03:28:13.494Z"
   },
   {
    "duration": 14,
    "start_time": "2022-09-09T03:28:14.220Z"
   },
   {
    "duration": 573,
    "start_time": "2022-09-09T03:28:14.236Z"
   },
   {
    "duration": 6,
    "start_time": "2022-09-09T03:28:14.811Z"
   },
   {
    "duration": 38,
    "start_time": "2022-09-09T03:28:14.819Z"
   },
   {
    "duration": 49,
    "start_time": "2022-09-09T03:28:14.859Z"
   },
   {
    "duration": 38,
    "start_time": "2022-09-09T03:28:14.910Z"
   },
   {
    "duration": 13,
    "start_time": "2022-09-09T03:28:14.949Z"
   },
   {
    "duration": 55,
    "start_time": "2022-09-09T03:28:14.964Z"
   },
   {
    "duration": 49,
    "start_time": "2022-09-09T03:28:15.021Z"
   },
   {
    "duration": 7,
    "start_time": "2022-09-09T03:28:15.072Z"
   },
   {
    "duration": 45,
    "start_time": "2022-09-09T03:28:15.080Z"
   },
   {
    "duration": 10,
    "start_time": "2022-09-09T03:28:15.128Z"
   },
   {
    "duration": 8,
    "start_time": "2022-09-09T03:28:15.139Z"
   },
   {
    "duration": 15,
    "start_time": "2022-09-09T03:28:15.149Z"
   },
   {
    "duration": 35,
    "start_time": "2022-09-09T03:29:22.992Z"
   },
   {
    "duration": 39,
    "start_time": "2022-09-09T03:30:11.477Z"
   },
   {
    "duration": 34,
    "start_time": "2022-09-09T03:30:23.960Z"
   },
   {
    "duration": 7,
    "start_time": "2022-09-09T03:31:21.285Z"
   },
   {
    "duration": 40,
    "start_time": "2022-09-09T03:32:09.049Z"
   },
   {
    "duration": 8,
    "start_time": "2022-09-09T03:32:12.133Z"
   },
   {
    "duration": 8,
    "start_time": "2022-09-09T03:32:58.557Z"
   },
   {
    "duration": 10,
    "start_time": "2022-09-09T03:33:19.358Z"
   },
   {
    "duration": 8,
    "start_time": "2022-09-09T03:33:28.073Z"
   },
   {
    "duration": 16,
    "start_time": "2022-09-09T03:33:42.162Z"
   },
   {
    "duration": 10,
    "start_time": "2022-09-09T03:35:13.150Z"
   },
   {
    "duration": 4,
    "start_time": "2022-09-09T03:36:10.871Z"
   },
   {
    "duration": 4,
    "start_time": "2022-09-09T03:36:24.693Z"
   },
   {
    "duration": 1193,
    "start_time": "2022-09-09T03:36:40.258Z"
   },
   {
    "duration": 56,
    "start_time": "2022-09-09T03:36:41.453Z"
   },
   {
    "duration": 34,
    "start_time": "2022-09-09T03:36:41.510Z"
   },
   {
    "duration": 61,
    "start_time": "2022-09-09T03:36:41.547Z"
   },
   {
    "duration": 17,
    "start_time": "2022-09-09T03:36:41.610Z"
   },
   {
    "duration": 15,
    "start_time": "2022-09-09T03:36:41.629Z"
   },
   {
    "duration": 14,
    "start_time": "2022-09-09T03:36:41.646Z"
   },
   {
    "duration": 41,
    "start_time": "2022-09-09T03:36:41.661Z"
   },
   {
    "duration": 7,
    "start_time": "2022-09-09T03:36:41.704Z"
   },
   {
    "duration": 41,
    "start_time": "2022-09-09T03:36:41.714Z"
   },
   {
    "duration": 38,
    "start_time": "2022-09-09T03:36:41.757Z"
   },
   {
    "duration": 1028,
    "start_time": "2022-09-09T03:36:41.798Z"
   },
   {
    "duration": 1302,
    "start_time": "2022-09-09T03:36:42.828Z"
   },
   {
    "duration": 727,
    "start_time": "2022-09-09T03:36:44.132Z"
   },
   {
    "duration": 679,
    "start_time": "2022-09-09T03:36:44.861Z"
   },
   {
    "duration": 398,
    "start_time": "2022-09-09T03:36:45.543Z"
   },
   {
    "duration": 14,
    "start_time": "2022-09-09T03:36:45.943Z"
   },
   {
    "duration": 310,
    "start_time": "2022-09-09T03:36:45.959Z"
   },
   {
    "duration": 6,
    "start_time": "2022-09-09T03:36:46.271Z"
   },
   {
    "duration": 71,
    "start_time": "2022-09-09T03:36:46.279Z"
   },
   {
    "duration": 39,
    "start_time": "2022-09-09T03:36:46.352Z"
   },
   {
    "duration": 38,
    "start_time": "2022-09-09T03:36:46.394Z"
   },
   {
    "duration": 14,
    "start_time": "2022-09-09T03:36:46.434Z"
   },
   {
    "duration": 62,
    "start_time": "2022-09-09T03:36:46.450Z"
   },
   {
    "duration": 35,
    "start_time": "2022-09-09T03:36:46.514Z"
   },
   {
    "duration": 4,
    "start_time": "2022-09-09T03:36:46.551Z"
   },
   {
    "duration": 68,
    "start_time": "2022-09-09T03:36:46.557Z"
   },
   {
    "duration": 8,
    "start_time": "2022-09-09T03:36:46.628Z"
   },
   {
    "duration": 17,
    "start_time": "2022-09-09T03:36:46.638Z"
   },
   {
    "duration": 25,
    "start_time": "2022-09-09T03:36:46.657Z"
   },
   {
    "duration": 25,
    "start_time": "2022-09-09T03:36:46.684Z"
   },
   {
    "duration": 1180,
    "start_time": "2022-09-09T03:39:55.273Z"
   },
   {
    "duration": 56,
    "start_time": "2022-09-09T03:39:56.455Z"
   },
   {
    "duration": 33,
    "start_time": "2022-09-09T03:39:56.513Z"
   },
   {
    "duration": 59,
    "start_time": "2022-09-09T03:39:56.548Z"
   },
   {
    "duration": 17,
    "start_time": "2022-09-09T03:39:56.609Z"
   },
   {
    "duration": 15,
    "start_time": "2022-09-09T03:39:56.627Z"
   },
   {
    "duration": 13,
    "start_time": "2022-09-09T03:39:56.643Z"
   },
   {
    "duration": 40,
    "start_time": "2022-09-09T03:39:56.658Z"
   },
   {
    "duration": 6,
    "start_time": "2022-09-09T03:39:56.699Z"
   },
   {
    "duration": 40,
    "start_time": "2022-09-09T03:39:56.708Z"
   },
   {
    "duration": 17,
    "start_time": "2022-09-09T03:39:56.750Z"
   },
   {
    "duration": 1060,
    "start_time": "2022-09-09T03:39:56.768Z"
   },
   {
    "duration": 5,
    "start_time": "2022-09-09T03:39:57.830Z"
   },
   {
    "duration": 723,
    "start_time": "2022-09-09T03:39:57.837Z"
   },
   {
    "duration": 469,
    "start_time": "2022-09-09T03:39:58.562Z"
   },
   {
    "duration": 681,
    "start_time": "2022-09-09T03:39:59.033Z"
   },
   {
    "duration": 414,
    "start_time": "2022-09-09T03:39:59.716Z"
   },
   {
    "duration": 14,
    "start_time": "2022-09-09T03:40:00.132Z"
   },
   {
    "duration": 315,
    "start_time": "2022-09-09T03:40:00.148Z"
   },
   {
    "duration": 7,
    "start_time": "2022-09-09T03:40:00.465Z"
   },
   {
    "duration": 45,
    "start_time": "2022-09-09T03:40:00.474Z"
   },
   {
    "duration": 37,
    "start_time": "2022-09-09T03:40:00.521Z"
   },
   {
    "duration": 56,
    "start_time": "2022-09-09T03:40:00.560Z"
   },
   {
    "duration": 13,
    "start_time": "2022-09-09T03:40:00.618Z"
   },
   {
    "duration": 63,
    "start_time": "2022-09-09T03:40:00.633Z"
   },
   {
    "duration": 36,
    "start_time": "2022-09-09T03:40:00.698Z"
   },
   {
    "duration": 61,
    "start_time": "2022-09-09T03:40:00.736Z"
   },
   {
    "duration": 8,
    "start_time": "2022-09-09T03:40:00.801Z"
   },
   {
    "duration": 20,
    "start_time": "2022-09-09T03:40:00.811Z"
   },
   {
    "duration": 15,
    "start_time": "2022-09-09T03:40:00.833Z"
   },
   {
    "duration": 13,
    "start_time": "2022-09-09T03:40:00.850Z"
   },
   {
    "duration": 1305,
    "start_time": "2022-09-09T03:49:41.155Z"
   },
   {
    "duration": 58,
    "start_time": "2022-09-09T03:49:42.462Z"
   },
   {
    "duration": 36,
    "start_time": "2022-09-09T03:49:42.522Z"
   },
   {
    "duration": 61,
    "start_time": "2022-09-09T03:49:42.559Z"
   },
   {
    "duration": 17,
    "start_time": "2022-09-09T03:49:42.623Z"
   },
   {
    "duration": 14,
    "start_time": "2022-09-09T03:49:42.642Z"
   },
   {
    "duration": 36,
    "start_time": "2022-09-09T03:49:42.658Z"
   },
   {
    "duration": 12,
    "start_time": "2022-09-09T03:49:42.696Z"
   },
   {
    "duration": 7,
    "start_time": "2022-09-09T03:49:42.709Z"
   },
   {
    "duration": 40,
    "start_time": "2022-09-09T03:49:42.717Z"
   },
   {
    "duration": 48,
    "start_time": "2022-09-09T03:49:42.759Z"
   },
   {
    "duration": 1021,
    "start_time": "2022-09-09T03:49:42.809Z"
   },
   {
    "duration": 5,
    "start_time": "2022-09-09T03:49:43.831Z"
   },
   {
    "duration": 725,
    "start_time": "2022-09-09T03:49:43.839Z"
   },
   {
    "duration": 486,
    "start_time": "2022-09-09T03:49:44.566Z"
   },
   {
    "duration": 688,
    "start_time": "2022-09-09T03:49:45.054Z"
   },
   {
    "duration": 421,
    "start_time": "2022-09-09T03:49:45.745Z"
   },
   {
    "duration": 25,
    "start_time": "2022-09-09T03:49:46.168Z"
   },
   {
    "duration": 310,
    "start_time": "2022-09-09T03:49:46.195Z"
   },
   {
    "duration": 9,
    "start_time": "2022-09-09T03:49:46.507Z"
   },
   {
    "duration": 32,
    "start_time": "2022-09-09T03:49:46.518Z"
   },
   {
    "duration": 68,
    "start_time": "2022-09-09T03:49:46.552Z"
   },
   {
    "duration": 40,
    "start_time": "2022-09-09T03:49:46.622Z"
   },
   {
    "duration": 36,
    "start_time": "2022-09-09T03:49:46.664Z"
   },
   {
    "duration": 38,
    "start_time": "2022-09-09T03:49:46.701Z"
   },
   {
    "duration": 66,
    "start_time": "2022-09-09T03:49:46.741Z"
   },
   {
    "duration": 47,
    "start_time": "2022-09-09T03:49:46.809Z"
   },
   {
    "duration": 8,
    "start_time": "2022-09-09T03:49:46.858Z"
   },
   {
    "duration": 15,
    "start_time": "2022-09-09T03:49:46.891Z"
   },
   {
    "duration": 18,
    "start_time": "2022-09-09T03:49:46.908Z"
   },
   {
    "duration": 73,
    "start_time": "2022-09-09T03:50:32.127Z"
   },
   {
    "duration": 121,
    "start_time": "2022-09-09T03:50:51.750Z"
   },
   {
    "duration": 1240,
    "start_time": "2022-09-09T03:51:09.652Z"
   },
   {
    "duration": 70,
    "start_time": "2022-09-09T03:51:10.894Z"
   },
   {
    "duration": 40,
    "start_time": "2022-09-09T03:51:10.966Z"
   },
   {
    "duration": 55,
    "start_time": "2022-09-09T03:51:11.009Z"
   },
   {
    "duration": 34,
    "start_time": "2022-09-09T03:51:11.067Z"
   },
   {
    "duration": 15,
    "start_time": "2022-09-09T03:51:11.102Z"
   },
   {
    "duration": 13,
    "start_time": "2022-09-09T03:51:11.119Z"
   },
   {
    "duration": 10,
    "start_time": "2022-09-09T03:51:11.134Z"
   },
   {
    "duration": 7,
    "start_time": "2022-09-09T03:51:11.146Z"
   },
   {
    "duration": 69,
    "start_time": "2022-09-09T03:51:11.155Z"
   },
   {
    "duration": 15,
    "start_time": "2022-09-09T03:51:11.225Z"
   },
   {
    "duration": 1025,
    "start_time": "2022-09-09T03:51:11.242Z"
   },
   {
    "duration": 4,
    "start_time": "2022-09-09T03:51:12.269Z"
   },
   {
    "duration": 707,
    "start_time": "2022-09-09T03:51:12.275Z"
   },
   {
    "duration": 452,
    "start_time": "2022-09-09T03:51:12.983Z"
   },
   {
    "duration": 666,
    "start_time": "2022-09-09T03:51:13.437Z"
   },
   {
    "duration": 386,
    "start_time": "2022-09-09T03:51:14.105Z"
   },
   {
    "duration": 14,
    "start_time": "2022-09-09T03:51:14.493Z"
   },
   {
    "duration": 321,
    "start_time": "2022-09-09T03:51:14.509Z"
   },
   {
    "duration": 7,
    "start_time": "2022-09-09T03:51:14.832Z"
   },
   {
    "duration": 51,
    "start_time": "2022-09-09T03:51:14.841Z"
   },
   {
    "duration": 41,
    "start_time": "2022-09-09T03:51:14.893Z"
   },
   {
    "duration": 61,
    "start_time": "2022-09-09T03:51:14.937Z"
   },
   {
    "duration": 13,
    "start_time": "2022-09-09T03:51:15.000Z"
   },
   {
    "duration": 41,
    "start_time": "2022-09-09T03:51:15.015Z"
   },
   {
    "duration": 63,
    "start_time": "2022-09-09T03:51:15.058Z"
   },
   {
    "duration": 42,
    "start_time": "2022-09-09T03:51:15.122Z"
   },
   {
    "duration": 10,
    "start_time": "2022-09-09T03:51:15.168Z"
   },
   {
    "duration": 80,
    "start_time": "2022-09-09T03:51:15.179Z"
   },
   {
    "duration": 0,
    "start_time": "2022-09-09T03:51:15.261Z"
   },
   {
    "duration": 0,
    "start_time": "2022-09-09T03:51:15.262Z"
   },
   {
    "duration": 1151,
    "start_time": "2022-09-09T03:51:27.906Z"
   },
   {
    "duration": 57,
    "start_time": "2022-09-09T03:51:29.059Z"
   },
   {
    "duration": 33,
    "start_time": "2022-09-09T03:51:29.117Z"
   },
   {
    "duration": 62,
    "start_time": "2022-09-09T03:51:29.152Z"
   },
   {
    "duration": 16,
    "start_time": "2022-09-09T03:51:29.215Z"
   },
   {
    "duration": 13,
    "start_time": "2022-09-09T03:51:29.233Z"
   },
   {
    "duration": 13,
    "start_time": "2022-09-09T03:51:29.248Z"
   },
   {
    "duration": 38,
    "start_time": "2022-09-09T03:51:29.262Z"
   },
   {
    "duration": 5,
    "start_time": "2022-09-09T03:51:29.302Z"
   },
   {
    "duration": 38,
    "start_time": "2022-09-09T03:51:29.310Z"
   },
   {
    "duration": 17,
    "start_time": "2022-09-09T03:51:29.349Z"
   },
   {
    "duration": 992,
    "start_time": "2022-09-09T03:51:29.368Z"
   },
   {
    "duration": 5,
    "start_time": "2022-09-09T03:51:30.362Z"
   },
   {
    "duration": 682,
    "start_time": "2022-09-09T03:51:30.368Z"
   },
   {
    "duration": 467,
    "start_time": "2022-09-09T03:51:31.052Z"
   },
   {
    "duration": 751,
    "start_time": "2022-09-09T03:51:31.521Z"
   },
   {
    "duration": 400,
    "start_time": "2022-09-09T03:51:32.274Z"
   },
   {
    "duration": 19,
    "start_time": "2022-09-09T03:51:32.675Z"
   },
   {
    "duration": 304,
    "start_time": "2022-09-09T03:51:32.696Z"
   },
   {
    "duration": 7,
    "start_time": "2022-09-09T03:51:33.002Z"
   },
   {
    "duration": 38,
    "start_time": "2022-09-09T03:51:33.010Z"
   },
   {
    "duration": 47,
    "start_time": "2022-09-09T03:51:33.049Z"
   },
   {
    "duration": 43,
    "start_time": "2022-09-09T03:51:33.098Z"
   },
   {
    "duration": 13,
    "start_time": "2022-09-09T03:51:33.142Z"
   },
   {
    "duration": 68,
    "start_time": "2022-09-09T03:51:33.158Z"
   },
   {
    "duration": 36,
    "start_time": "2022-09-09T03:51:33.227Z"
   },
   {
    "duration": 63,
    "start_time": "2022-09-09T03:51:33.265Z"
   },
   {
    "duration": 9,
    "start_time": "2022-09-09T03:51:33.332Z"
   },
   {
    "duration": 71,
    "start_time": "2022-09-09T03:51:33.343Z"
   },
   {
    "duration": 0,
    "start_time": "2022-09-09T03:51:33.415Z"
   },
   {
    "duration": 1182,
    "start_time": "2022-09-09T03:51:53.369Z"
   },
   {
    "duration": 56,
    "start_time": "2022-09-09T03:51:54.553Z"
   },
   {
    "duration": 33,
    "start_time": "2022-09-09T03:51:54.610Z"
   },
   {
    "duration": 57,
    "start_time": "2022-09-09T03:51:54.645Z"
   },
   {
    "duration": 17,
    "start_time": "2022-09-09T03:51:54.703Z"
   },
   {
    "duration": 14,
    "start_time": "2022-09-09T03:51:54.721Z"
   },
   {
    "duration": 14,
    "start_time": "2022-09-09T03:51:54.737Z"
   },
   {
    "duration": 42,
    "start_time": "2022-09-09T03:51:54.753Z"
   },
   {
    "duration": 8,
    "start_time": "2022-09-09T03:51:54.797Z"
   },
   {
    "duration": 37,
    "start_time": "2022-09-09T03:51:54.809Z"
   },
   {
    "duration": 54,
    "start_time": "2022-09-09T03:51:54.848Z"
   },
   {
    "duration": 1002,
    "start_time": "2022-09-09T03:51:54.904Z"
   },
   {
    "duration": 6,
    "start_time": "2022-09-09T03:51:55.908Z"
   },
   {
    "duration": 677,
    "start_time": "2022-09-09T03:51:55.916Z"
   },
   {
    "duration": 516,
    "start_time": "2022-09-09T03:51:56.596Z"
   },
   {
    "duration": 656,
    "start_time": "2022-09-09T03:51:57.113Z"
   },
   {
    "duration": 406,
    "start_time": "2022-09-09T03:51:57.771Z"
   },
   {
    "duration": 21,
    "start_time": "2022-09-09T03:51:58.178Z"
   },
   {
    "duration": 303,
    "start_time": "2022-09-09T03:51:58.200Z"
   },
   {
    "duration": 7,
    "start_time": "2022-09-09T03:51:58.505Z"
   },
   {
    "duration": 33,
    "start_time": "2022-09-09T03:51:58.513Z"
   },
   {
    "duration": 59,
    "start_time": "2022-09-09T03:51:58.548Z"
   },
   {
    "duration": 38,
    "start_time": "2022-09-09T03:51:58.608Z"
   },
   {
    "duration": 13,
    "start_time": "2022-09-09T03:51:58.647Z"
   },
   {
    "duration": 59,
    "start_time": "2022-09-09T03:51:58.662Z"
   },
   {
    "duration": 34,
    "start_time": "2022-09-09T03:51:58.723Z"
   },
   {
    "duration": 66,
    "start_time": "2022-09-09T03:51:58.759Z"
   },
   {
    "duration": 8,
    "start_time": "2022-09-09T03:51:58.829Z"
   },
   {
    "duration": 15,
    "start_time": "2022-09-09T03:51:58.839Z"
   },
   {
    "duration": 1228,
    "start_time": "2022-09-09T03:52:18.463Z"
   },
   {
    "duration": 55,
    "start_time": "2022-09-09T03:52:19.693Z"
   },
   {
    "duration": 34,
    "start_time": "2022-09-09T03:52:19.750Z"
   },
   {
    "duration": 47,
    "start_time": "2022-09-09T03:52:19.786Z"
   },
   {
    "duration": 16,
    "start_time": "2022-09-09T03:52:19.835Z"
   },
   {
    "duration": 14,
    "start_time": "2022-09-09T03:52:19.852Z"
   },
   {
    "duration": 31,
    "start_time": "2022-09-09T03:52:19.867Z"
   },
   {
    "duration": 10,
    "start_time": "2022-09-09T03:52:19.900Z"
   },
   {
    "duration": 6,
    "start_time": "2022-09-09T03:52:19.912Z"
   },
   {
    "duration": 44,
    "start_time": "2022-09-09T03:52:19.920Z"
   },
   {
    "duration": 49,
    "start_time": "2022-09-09T03:52:19.966Z"
   },
   {
    "duration": 1078,
    "start_time": "2022-09-09T03:52:20.017Z"
   },
   {
    "duration": 5,
    "start_time": "2022-09-09T03:52:21.096Z"
   },
   {
    "duration": 699,
    "start_time": "2022-09-09T03:52:21.102Z"
   },
   {
    "duration": 560,
    "start_time": "2022-09-09T03:52:21.803Z"
   },
   {
    "duration": 696,
    "start_time": "2022-09-09T03:52:22.366Z"
   },
   {
    "duration": 418,
    "start_time": "2022-09-09T03:52:23.064Z"
   },
   {
    "duration": 17,
    "start_time": "2022-09-09T03:52:23.485Z"
   },
   {
    "duration": 320,
    "start_time": "2022-09-09T03:52:23.503Z"
   },
   {
    "duration": 8,
    "start_time": "2022-09-09T03:52:23.825Z"
   },
   {
    "duration": 41,
    "start_time": "2022-09-09T03:52:23.834Z"
   },
   {
    "duration": 48,
    "start_time": "2022-09-09T03:52:23.876Z"
   },
   {
    "duration": 39,
    "start_time": "2022-09-09T03:52:23.925Z"
   },
   {
    "duration": 37,
    "start_time": "2022-09-09T03:52:23.966Z"
   },
   {
    "duration": 38,
    "start_time": "2022-09-09T03:52:24.005Z"
   },
   {
    "duration": 62,
    "start_time": "2022-09-09T03:52:24.045Z"
   },
   {
    "duration": 42,
    "start_time": "2022-09-09T03:52:24.108Z"
   },
   {
    "duration": 10,
    "start_time": "2022-09-09T03:52:24.155Z"
   },
   {
    "duration": 16,
    "start_time": "2022-09-09T03:52:24.191Z"
   },
   {
    "duration": 20,
    "start_time": "2022-09-09T03:52:24.209Z"
   },
   {
    "duration": 52,
    "start_time": "2022-09-09T11:02:46.896Z"
   },
   {
    "duration": 1107,
    "start_time": "2022-09-09T11:02:49.394Z"
   },
   {
    "duration": 95,
    "start_time": "2022-09-09T11:02:50.503Z"
   },
   {
    "duration": 29,
    "start_time": "2022-09-09T11:02:50.600Z"
   },
   {
    "duration": 46,
    "start_time": "2022-09-09T11:02:50.631Z"
   },
   {
    "duration": 15,
    "start_time": "2022-09-09T11:02:50.679Z"
   },
   {
    "duration": 13,
    "start_time": "2022-09-09T11:02:50.695Z"
   },
   {
    "duration": 11,
    "start_time": "2022-09-09T11:02:50.710Z"
   },
   {
    "duration": 9,
    "start_time": "2022-09-09T11:02:50.723Z"
   },
   {
    "duration": 6,
    "start_time": "2022-09-09T11:02:50.734Z"
   },
   {
    "duration": 65,
    "start_time": "2022-09-09T11:02:50.742Z"
   },
   {
    "duration": 15,
    "start_time": "2022-09-09T11:02:50.809Z"
   },
   {
    "duration": 894,
    "start_time": "2022-09-09T11:02:50.825Z"
   },
   {
    "duration": 5,
    "start_time": "2022-09-09T11:02:51.721Z"
   },
   {
    "duration": 637,
    "start_time": "2022-09-09T11:02:51.728Z"
   },
   {
    "duration": 453,
    "start_time": "2022-09-09T11:02:52.367Z"
   },
   {
    "duration": 618,
    "start_time": "2022-09-09T11:02:52.822Z"
   },
   {
    "duration": 392,
    "start_time": "2022-09-09T11:02:53.442Z"
   },
   {
    "duration": 13,
    "start_time": "2022-09-09T11:02:53.836Z"
   },
   {
    "duration": 291,
    "start_time": "2022-09-09T11:02:53.851Z"
   },
   {
    "duration": 7,
    "start_time": "2022-09-09T11:02:54.144Z"
   },
   {
    "duration": 41,
    "start_time": "2022-09-09T11:02:54.153Z"
   },
   {
    "duration": 35,
    "start_time": "2022-09-09T11:02:54.196Z"
   },
   {
    "duration": 60,
    "start_time": "2022-09-09T11:02:54.232Z"
   },
   {
    "duration": 14,
    "start_time": "2022-09-09T11:02:54.294Z"
   },
   {
    "duration": 34,
    "start_time": "2022-09-09T11:02:54.309Z"
   },
   {
    "duration": 56,
    "start_time": "2022-09-09T11:02:54.345Z"
   },
   {
    "duration": 36,
    "start_time": "2022-09-09T11:02:54.403Z"
   },
   {
    "duration": 8,
    "start_time": "2022-09-09T11:02:54.442Z"
   },
   {
    "duration": 9,
    "start_time": "2022-09-09T11:02:54.477Z"
   },
   {
    "duration": 10,
    "start_time": "2022-09-09T11:02:54.488Z"
   },
   {
    "duration": 55,
    "start_time": "2022-12-16T16:56:36.097Z"
   },
   {
    "duration": 8,
    "start_time": "2022-12-16T16:56:54.273Z"
   },
   {
    "duration": 455,
    "start_time": "2022-12-16T16:57:03.689Z"
   },
   {
    "duration": 14,
    "start_time": "2022-12-16T16:57:23.122Z"
   },
   {
    "duration": 6,
    "start_time": "2022-12-16T16:57:42.143Z"
   },
   {
    "duration": 1432,
    "start_time": "2023-01-20T15:57:20.328Z"
   },
   {
    "duration": 103,
    "start_time": "2023-01-20T15:57:21.763Z"
   },
   {
    "duration": 41,
    "start_time": "2023-01-20T15:57:21.868Z"
   },
   {
    "duration": 72,
    "start_time": "2023-01-20T15:57:21.912Z"
   },
   {
    "duration": 20,
    "start_time": "2023-01-20T15:57:21.987Z"
   },
   {
    "duration": 24,
    "start_time": "2023-01-20T15:57:22.008Z"
   },
   {
    "duration": 17,
    "start_time": "2023-01-20T15:57:22.035Z"
   },
   {
    "duration": 40,
    "start_time": "2023-01-20T15:57:22.060Z"
   },
   {
    "duration": 26,
    "start_time": "2023-01-20T15:57:22.102Z"
   },
   {
    "duration": 53,
    "start_time": "2023-01-20T15:57:22.132Z"
   },
   {
    "duration": 26,
    "start_time": "2023-01-20T15:57:22.188Z"
   },
   {
    "duration": 1083,
    "start_time": "2023-01-20T15:57:22.216Z"
   },
   {
    "duration": 6,
    "start_time": "2023-01-20T15:57:23.301Z"
   },
   {
    "duration": 717,
    "start_time": "2023-01-20T15:57:23.310Z"
   },
   {
    "duration": 467,
    "start_time": "2023-01-20T15:57:24.029Z"
   },
   {
    "duration": 723,
    "start_time": "2023-01-20T15:57:24.498Z"
   },
   {
    "duration": 438,
    "start_time": "2023-01-20T15:57:25.222Z"
   },
   {
    "duration": 23,
    "start_time": "2023-01-20T15:57:25.661Z"
   },
   {
    "duration": 306,
    "start_time": "2023-01-20T15:57:25.686Z"
   },
   {
    "duration": 7,
    "start_time": "2023-01-20T15:57:25.994Z"
   },
   {
    "duration": 39,
    "start_time": "2023-01-20T15:57:26.002Z"
   },
   {
    "duration": 59,
    "start_time": "2023-01-20T15:57:26.042Z"
   },
   {
    "duration": 39,
    "start_time": "2023-01-20T15:57:26.103Z"
   },
   {
    "duration": 14,
    "start_time": "2023-01-20T15:57:26.143Z"
   },
   {
    "duration": 64,
    "start_time": "2023-01-20T15:57:26.159Z"
   },
   {
    "duration": 60,
    "start_time": "2023-01-20T15:57:26.225Z"
   },
   {
    "duration": 43,
    "start_time": "2023-01-20T15:57:26.287Z"
   },
   {
    "duration": 10,
    "start_time": "2023-01-20T15:57:26.334Z"
   },
   {
    "duration": 25,
    "start_time": "2023-01-20T15:57:26.345Z"
   },
   {
    "duration": 6,
    "start_time": "2023-01-20T15:57:26.384Z"
   }
  ],
  "kernelspec": {
   "display_name": "Python 3 (ipykernel)",
   "language": "python",
   "name": "python3"
  },
  "language_info": {
   "codemirror_mode": {
    "name": "ipython",
    "version": 3
   },
   "file_extension": ".py",
   "mimetype": "text/x-python",
   "name": "python",
   "nbconvert_exporter": "python",
   "pygments_lexer": "ipython3",
   "version": "3.9.5"
  },
  "toc": {
   "base_numbering": 1,
   "nav_menu": {},
   "number_sections": true,
   "sideBar": true,
   "skip_h1_title": true,
   "title_cell": "Table of Contents",
   "title_sidebar": "Contents",
   "toc_cell": false,
   "toc_position": {
    "height": "calc(100% - 180px)",
    "left": "10px",
    "top": "150px",
    "width": "252.949px"
   },
   "toc_section_display": true,
   "toc_window_display": true
  }
 },
 "nbformat": 4,
 "nbformat_minor": 2
}
